{
  "nbformat": 4,
  "nbformat_minor": 0,
  "metadata": {
    "colab": {
      "provenance": [],
      "authorship_tag": "ABX9TyM/kEJcgUgsbipSmWWWkT9+"
    },
    "kernelspec": {
      "name": "python3",
      "display_name": "Python 3"
    },
    "language_info": {
      "name": "python"
    }
  },
  "cells": [
    {
      "cell_type": "markdown",
      "source": [
        "# Задание 1 (рандомный классификатор)\n",
        "\n",
        "Самостоятельное задание: постройте бейзлайн в виде рандомного предсказания классов. Выбор класса должен делаться случайным образом, но вероятность класса $1$ возьмите такую же, как в исходном датасете."
      ],
      "metadata": {
        "id": "lC9aYOQQomC-"
      }
    },
    {
      "cell_type": "code",
      "source": [
        "# загрузка библиотек\n",
        "import logging\n",
        "import os\n",
        "import shutil\n",
        "import numpy as np\n",
        "import pandas as pd\n",
        "import random\n",
        "import sklearn.metrics as metrics\n",
        "from scipy.spatial import distance\n",
        "import numpy as np\n",
        "import matplotlib.pyplot as plt\n",
        "from sklearn.model_selection import train_test_split\n",
        "%matplotlib inline\n",
        "from sklearn.linear_model import LogisticRegression, SGDClassifier\n",
        "from sklearn.svm import SVC\n",
        "import scipy"
      ],
      "metadata": {
        "id": "Pc7AeomGe57G"
      },
      "execution_count": 1,
      "outputs": []
    },
    {
      "cell_type": "code",
      "execution_count": 2,
      "metadata": {
        "colab": {
          "base_uri": "https://localhost:8080/"
        },
        "id": "fNqs5LKjj0VW",
        "outputId": "a5e1c110-b1df-4496-daf8-eb6865b43c0b"
      },
      "outputs": [
        {
          "output_type": "stream",
          "name": "stderr",
          "text": [
            "INFO:__main__:Инициализировали логгер\n"
          ]
        }
      ],
      "source": [
        "# загрузка данных\n",
        "\n",
        "RANDOM_SEED = 42\n",
        "np.random.seed(RANDOM_SEED)  # гарантируем воспроизводимость\n",
        "\n",
        "logging.getLogger().setLevel(logging.INFO)\n",
        "logging.basicConfig(format='%(asctime)s : %(levelname)s : %(message)s', level=logging.INFO)\n",
        "logger = logging.getLogger(__name__)\n",
        "logger.info('Инициализировали логгер')\n",
        "\n",
        "\n",
        "sharing_url = \"https://drive.google.com/file/d/15_YokQyNcfP8IlsOVc7uxgxOYDIKwB0q/view?usp=sharing\"\n",
        "download_url = \"https://drive.google.com/uc?id=\" + sharing_url.split(\"/\")[-2]\n",
        "\n",
        "df_source = pd.read_csv(\n",
        "    download_url,\n",
        "    dtype={\n",
        "        'call_diff': np.float32,\n",
        "        'call_diff': np.float32,\n",
        "        'traffic_diff': np.float32,\n",
        "        'customes_class': np.uint16\n",
        "    }\n",
        "    )\n",
        "\n",
        "# разбиение классов на 0 и 1\n",
        "df_source[(df_source.customes_class==2) & (df_source.call_diff>1.1)] = 0\n",
        "df_source[(df_source.customes_class==2) & (df_source.call_diff<=1.1)] = 1\n",
        "\n",
        "X = df_source[['call_diff','sms_diff','traffic_diff']].values\n",
        "y = df_source.customes_class.values\n",
        "\n",
        "X_train, X_test, y_train, y_test = train_test_split(X, y, test_size=0.33,\n",
        "                                                    random_state=RANDOM_SEED)"
      ]
    },
    {
      "cell_type": "code",
      "source": [
        "df_source.head()"
      ],
      "metadata": {
        "id": "RyTRFsb3qwwd",
        "outputId": "e8ada57e-537e-4040-b42e-53161ed259d8",
        "colab": {
          "base_uri": "https://localhost:8080/",
          "height": 206
        }
      },
      "execution_count": 3,
      "outputs": [
        {
          "output_type": "execute_result",
          "data": {
            "text/plain": [
              "   call_diff  sms_diff  traffic_diff  customes_class\n",
              "0  -0.666421  0.444911     -0.273538               0\n",
              "1   1.000000  1.000000      1.000000               1\n",
              "2  -0.841503  0.846665      0.727606               0\n",
              "3   1.389749  0.390911      1.789246               1\n",
              "4   1.000000  1.000000      1.000000               1"
            ],
            "text/html": [
              "\n",
              "  <div id=\"df-5c157fda-bbbe-4827-a65a-9f0385d02ab5\" class=\"colab-df-container\">\n",
              "    <div>\n",
              "<style scoped>\n",
              "    .dataframe tbody tr th:only-of-type {\n",
              "        vertical-align: middle;\n",
              "    }\n",
              "\n",
              "    .dataframe tbody tr th {\n",
              "        vertical-align: top;\n",
              "    }\n",
              "\n",
              "    .dataframe thead th {\n",
              "        text-align: right;\n",
              "    }\n",
              "</style>\n",
              "<table border=\"1\" class=\"dataframe\">\n",
              "  <thead>\n",
              "    <tr style=\"text-align: right;\">\n",
              "      <th></th>\n",
              "      <th>call_diff</th>\n",
              "      <th>sms_diff</th>\n",
              "      <th>traffic_diff</th>\n",
              "      <th>customes_class</th>\n",
              "    </tr>\n",
              "  </thead>\n",
              "  <tbody>\n",
              "    <tr>\n",
              "      <th>0</th>\n",
              "      <td>-0.666421</td>\n",
              "      <td>0.444911</td>\n",
              "      <td>-0.273538</td>\n",
              "      <td>0</td>\n",
              "    </tr>\n",
              "    <tr>\n",
              "      <th>1</th>\n",
              "      <td>1.000000</td>\n",
              "      <td>1.000000</td>\n",
              "      <td>1.000000</td>\n",
              "      <td>1</td>\n",
              "    </tr>\n",
              "    <tr>\n",
              "      <th>2</th>\n",
              "      <td>-0.841503</td>\n",
              "      <td>0.846665</td>\n",
              "      <td>0.727606</td>\n",
              "      <td>0</td>\n",
              "    </tr>\n",
              "    <tr>\n",
              "      <th>3</th>\n",
              "      <td>1.389749</td>\n",
              "      <td>0.390911</td>\n",
              "      <td>1.789246</td>\n",
              "      <td>1</td>\n",
              "    </tr>\n",
              "    <tr>\n",
              "      <th>4</th>\n",
              "      <td>1.000000</td>\n",
              "      <td>1.000000</td>\n",
              "      <td>1.000000</td>\n",
              "      <td>1</td>\n",
              "    </tr>\n",
              "  </tbody>\n",
              "</table>\n",
              "</div>\n",
              "    <div class=\"colab-df-buttons\">\n",
              "\n",
              "  <div class=\"colab-df-container\">\n",
              "    <button class=\"colab-df-convert\" onclick=\"convertToInteractive('df-5c157fda-bbbe-4827-a65a-9f0385d02ab5')\"\n",
              "            title=\"Convert this dataframe to an interactive table.\"\n",
              "            style=\"display:none;\">\n",
              "\n",
              "  <svg xmlns=\"http://www.w3.org/2000/svg\" height=\"24px\" viewBox=\"0 -960 960 960\">\n",
              "    <path d=\"M120-120v-720h720v720H120Zm60-500h600v-160H180v160Zm220 220h160v-160H400v160Zm0 220h160v-160H400v160ZM180-400h160v-160H180v160Zm440 0h160v-160H620v160ZM180-180h160v-160H180v160Zm440 0h160v-160H620v160Z\"/>\n",
              "  </svg>\n",
              "    </button>\n",
              "\n",
              "  <style>\n",
              "    .colab-df-container {\n",
              "      display:flex;\n",
              "      gap: 12px;\n",
              "    }\n",
              "\n",
              "    .colab-df-convert {\n",
              "      background-color: #E8F0FE;\n",
              "      border: none;\n",
              "      border-radius: 50%;\n",
              "      cursor: pointer;\n",
              "      display: none;\n",
              "      fill: #1967D2;\n",
              "      height: 32px;\n",
              "      padding: 0 0 0 0;\n",
              "      width: 32px;\n",
              "    }\n",
              "\n",
              "    .colab-df-convert:hover {\n",
              "      background-color: #E2EBFA;\n",
              "      box-shadow: 0px 1px 2px rgba(60, 64, 67, 0.3), 0px 1px 3px 1px rgba(60, 64, 67, 0.15);\n",
              "      fill: #174EA6;\n",
              "    }\n",
              "\n",
              "    .colab-df-buttons div {\n",
              "      margin-bottom: 4px;\n",
              "    }\n",
              "\n",
              "    [theme=dark] .colab-df-convert {\n",
              "      background-color: #3B4455;\n",
              "      fill: #D2E3FC;\n",
              "    }\n",
              "\n",
              "    [theme=dark] .colab-df-convert:hover {\n",
              "      background-color: #434B5C;\n",
              "      box-shadow: 0px 1px 3px 1px rgba(0, 0, 0, 0.15);\n",
              "      filter: drop-shadow(0px 1px 2px rgba(0, 0, 0, 0.3));\n",
              "      fill: #FFFFFF;\n",
              "    }\n",
              "  </style>\n",
              "\n",
              "    <script>\n",
              "      const buttonEl =\n",
              "        document.querySelector('#df-5c157fda-bbbe-4827-a65a-9f0385d02ab5 button.colab-df-convert');\n",
              "      buttonEl.style.display =\n",
              "        google.colab.kernel.accessAllowed ? 'block' : 'none';\n",
              "\n",
              "      async function convertToInteractive(key) {\n",
              "        const element = document.querySelector('#df-5c157fda-bbbe-4827-a65a-9f0385d02ab5');\n",
              "        const dataTable =\n",
              "          await google.colab.kernel.invokeFunction('convertToInteractive',\n",
              "                                                    [key], {});\n",
              "        if (!dataTable) return;\n",
              "\n",
              "        const docLinkHtml = 'Like what you see? Visit the ' +\n",
              "          '<a target=\"_blank\" href=https://colab.research.google.com/notebooks/data_table.ipynb>data table notebook</a>'\n",
              "          + ' to learn more about interactive tables.';\n",
              "        element.innerHTML = '';\n",
              "        dataTable['output_type'] = 'display_data';\n",
              "        await google.colab.output.renderOutput(dataTable, element);\n",
              "        const docLink = document.createElement('div');\n",
              "        docLink.innerHTML = docLinkHtml;\n",
              "        element.appendChild(docLink);\n",
              "      }\n",
              "    </script>\n",
              "  </div>\n",
              "\n",
              "\n",
              "<div id=\"df-2b60c691-e800-4cf8-bb12-7a261c7d2f56\">\n",
              "  <button class=\"colab-df-quickchart\" onclick=\"quickchart('df-2b60c691-e800-4cf8-bb12-7a261c7d2f56')\"\n",
              "            title=\"Suggest charts\"\n",
              "            style=\"display:none;\">\n",
              "\n",
              "<svg xmlns=\"http://www.w3.org/2000/svg\" height=\"24px\"viewBox=\"0 0 24 24\"\n",
              "     width=\"24px\">\n",
              "    <g>\n",
              "        <path d=\"M19 3H5c-1.1 0-2 .9-2 2v14c0 1.1.9 2 2 2h14c1.1 0 2-.9 2-2V5c0-1.1-.9-2-2-2zM9 17H7v-7h2v7zm4 0h-2V7h2v10zm4 0h-2v-4h2v4z\"/>\n",
              "    </g>\n",
              "</svg>\n",
              "  </button>\n",
              "\n",
              "<style>\n",
              "  .colab-df-quickchart {\n",
              "      --bg-color: #E8F0FE;\n",
              "      --fill-color: #1967D2;\n",
              "      --hover-bg-color: #E2EBFA;\n",
              "      --hover-fill-color: #174EA6;\n",
              "      --disabled-fill-color: #AAA;\n",
              "      --disabled-bg-color: #DDD;\n",
              "  }\n",
              "\n",
              "  [theme=dark] .colab-df-quickchart {\n",
              "      --bg-color: #3B4455;\n",
              "      --fill-color: #D2E3FC;\n",
              "      --hover-bg-color: #434B5C;\n",
              "      --hover-fill-color: #FFFFFF;\n",
              "      --disabled-bg-color: #3B4455;\n",
              "      --disabled-fill-color: #666;\n",
              "  }\n",
              "\n",
              "  .colab-df-quickchart {\n",
              "    background-color: var(--bg-color);\n",
              "    border: none;\n",
              "    border-radius: 50%;\n",
              "    cursor: pointer;\n",
              "    display: none;\n",
              "    fill: var(--fill-color);\n",
              "    height: 32px;\n",
              "    padding: 0;\n",
              "    width: 32px;\n",
              "  }\n",
              "\n",
              "  .colab-df-quickchart:hover {\n",
              "    background-color: var(--hover-bg-color);\n",
              "    box-shadow: 0 1px 2px rgba(60, 64, 67, 0.3), 0 1px 3px 1px rgba(60, 64, 67, 0.15);\n",
              "    fill: var(--button-hover-fill-color);\n",
              "  }\n",
              "\n",
              "  .colab-df-quickchart-complete:disabled,\n",
              "  .colab-df-quickchart-complete:disabled:hover {\n",
              "    background-color: var(--disabled-bg-color);\n",
              "    fill: var(--disabled-fill-color);\n",
              "    box-shadow: none;\n",
              "  }\n",
              "\n",
              "  .colab-df-spinner {\n",
              "    border: 2px solid var(--fill-color);\n",
              "    border-color: transparent;\n",
              "    border-bottom-color: var(--fill-color);\n",
              "    animation:\n",
              "      spin 1s steps(1) infinite;\n",
              "  }\n",
              "\n",
              "  @keyframes spin {\n",
              "    0% {\n",
              "      border-color: transparent;\n",
              "      border-bottom-color: var(--fill-color);\n",
              "      border-left-color: var(--fill-color);\n",
              "    }\n",
              "    20% {\n",
              "      border-color: transparent;\n",
              "      border-left-color: var(--fill-color);\n",
              "      border-top-color: var(--fill-color);\n",
              "    }\n",
              "    30% {\n",
              "      border-color: transparent;\n",
              "      border-left-color: var(--fill-color);\n",
              "      border-top-color: var(--fill-color);\n",
              "      border-right-color: var(--fill-color);\n",
              "    }\n",
              "    40% {\n",
              "      border-color: transparent;\n",
              "      border-right-color: var(--fill-color);\n",
              "      border-top-color: var(--fill-color);\n",
              "    }\n",
              "    60% {\n",
              "      border-color: transparent;\n",
              "      border-right-color: var(--fill-color);\n",
              "    }\n",
              "    80% {\n",
              "      border-color: transparent;\n",
              "      border-right-color: var(--fill-color);\n",
              "      border-bottom-color: var(--fill-color);\n",
              "    }\n",
              "    90% {\n",
              "      border-color: transparent;\n",
              "      border-bottom-color: var(--fill-color);\n",
              "    }\n",
              "  }\n",
              "</style>\n",
              "\n",
              "  <script>\n",
              "    async function quickchart(key) {\n",
              "      const quickchartButtonEl =\n",
              "        document.querySelector('#' + key + ' button');\n",
              "      quickchartButtonEl.disabled = true;  // To prevent multiple clicks.\n",
              "      quickchartButtonEl.classList.add('colab-df-spinner');\n",
              "      try {\n",
              "        const charts = await google.colab.kernel.invokeFunction(\n",
              "            'suggestCharts', [key], {});\n",
              "      } catch (error) {\n",
              "        console.error('Error during call to suggestCharts:', error);\n",
              "      }\n",
              "      quickchartButtonEl.classList.remove('colab-df-spinner');\n",
              "      quickchartButtonEl.classList.add('colab-df-quickchart-complete');\n",
              "    }\n",
              "    (() => {\n",
              "      let quickchartButtonEl =\n",
              "        document.querySelector('#df-2b60c691-e800-4cf8-bb12-7a261c7d2f56 button');\n",
              "      quickchartButtonEl.style.display =\n",
              "        google.colab.kernel.accessAllowed ? 'block' : 'none';\n",
              "    })();\n",
              "  </script>\n",
              "</div>\n",
              "    </div>\n",
              "  </div>\n"
            ],
            "application/vnd.google.colaboratory.intrinsic+json": {
              "type": "dataframe",
              "variable_name": "df_source",
              "summary": "{\n  \"name\": \"df_source\",\n  \"rows\": 100,\n  \"fields\": [\n    {\n      \"column\": \"call_diff\",\n      \"properties\": {\n        \"dtype\": \"float32\",\n        \"num_unique_values\": 68,\n        \"samples\": [\n          -1.0067052841186523,\n          1.6108192205429077,\n          -0.11931996047496796\n        ],\n        \"semantic_type\": \"\",\n        \"description\": \"\"\n      }\n    },\n    {\n      \"column\": \"sms_diff\",\n      \"properties\": {\n        \"dtype\": \"number\",\n        \"std\": 0.7288297585740136,\n        \"min\": -1.2016961367546632,\n        \"max\": 3.788035770527541,\n        \"num_unique_values\": 68,\n        \"samples\": [\n          0.6400531650194821,\n          1.4854505678629235,\n          0.2895753104063301\n        ],\n        \"semantic_type\": \"\",\n        \"description\": \"\"\n      }\n    },\n    {\n      \"column\": \"traffic_diff\",\n      \"properties\": {\n        \"dtype\": \"float32\",\n        \"num_unique_values\": 68,\n        \"samples\": [\n          0.7968039512634277,\n          1.9722093343734741,\n          1.3561619520187378\n        ],\n        \"semantic_type\": \"\",\n        \"description\": \"\"\n      }\n    },\n    {\n      \"column\": \"customes_class\",\n      \"properties\": {\n        \"dtype\": \"uint16\",\n        \"num_unique_values\": 2,\n        \"samples\": [\n          1,\n          0\n        ],\n        \"semantic_type\": \"\",\n        \"description\": \"\"\n      }\n    }\n  ]\n}"
            }
          },
          "metadata": {},
          "execution_count": 3
        }
      ]
    },
    {
      "cell_type": "code",
      "source": [
        "# для красоты\n",
        "class color:\n",
        "   PURPLE = '\\033[95m'\n",
        "   CYAN = '\\033[96m'\n",
        "   DARKCYAN = '\\033[36m'\n",
        "   BLUE = '\\033[94m'\n",
        "   GREEN = '\\033[92m'\n",
        "   YELLOW = '\\033[93m'\n",
        "   RED = '\\033[91m'\n",
        "   BOLD = '\\033[1m'\n",
        "   UNDERLINE = '\\033[4m'\n",
        "   END = '\\033[0m'"
      ],
      "metadata": {
        "id": "W0TPv7WhguAo"
      },
      "execution_count": 4,
      "outputs": []
    },
    {
      "cell_type": "code",
      "source": [
        "np.random.seed(RANDOM_SEED)\n",
        "prob_1 = (df_source['customes_class'] == 1).sum()/len(df_source['customes_class'])\n",
        "prob_0 = (df_source['customes_class'] == 0).sum()/len(df_source['customes_class'])\n",
        "\n",
        "df_source['predictions'] = np.random.choice([1, 0],\n",
        "                                            size=len(df_source['customes_class']),\n",
        "                                            p=[prob_1, prob_0])\n",
        "\n",
        "\n",
        "# оценим качество наших случайных предсказаний\n",
        "print(color.BOLD, 'RANDOM CLASSIFIER', color.END)\n",
        "print(metrics.classification_report(df_source['customes_class'],\n",
        "                                    df_source['predictions']))\n",
        "print('The ROC-AUC score is', metrics.roc_auc_score(df_source['customes_class'],\n",
        "                                               df_source['predictions']))"
      ],
      "metadata": {
        "colab": {
          "base_uri": "https://localhost:8080/"
        },
        "id": "73rBPkrwd1qp",
        "outputId": "d46b0d9f-12d7-4576-b065-7e6b16b9d05c"
      },
      "execution_count": 5,
      "outputs": [
        {
          "output_type": "stream",
          "name": "stdout",
          "text": [
            "\u001b[1m RANDOM CLASSIFIER \u001b[0m\n",
            "              precision    recall  f1-score   support\n",
            "\n",
            "           0       0.50      0.47      0.48        34\n",
            "           1       0.74      0.76      0.75        66\n",
            "\n",
            "    accuracy                           0.66       100\n",
            "   macro avg       0.62      0.61      0.62       100\n",
            "weighted avg       0.66      0.66      0.66       100\n",
            "\n",
            "The ROC-AUC score is 0.6140819964349375\n"
          ]
        }
      ]
    },
    {
      "cell_type": "markdown",
      "source": [
        "# Задание 2 (ROC-AUC)\n",
        "\n",
        "Самостоятельное задание: посчитать используя библиотеку sklearn и визуализировать ROC-AUC для двух логистических регрессий выше."
      ],
      "metadata": {
        "id": "pVIO-dgao7aO"
      }
    },
    {
      "cell_type": "code",
      "source": [
        "# логистическая регрессия руками\n",
        "\n",
        "def sigmoid(z):\n",
        "  return 1 / ( 1. + np.exp(-z))\n",
        "\n",
        "x = np.array([1, 2, 3, 5])\n",
        "sigmoid(x)\n",
        "\n",
        "def gradient(X, y, w, alpha=0) -> np.array:\n",
        "    \"\"\"Вычисляем градиент в точке\"\"\"\n",
        "    # количество обучающих примеров в выборке\n",
        "    n = X.shape[0]\n",
        "    # считаем прогноз\n",
        "    y_hat = sigmoid(X.dot(w.T))\n",
        "    # вычисляем ошибку прогноза\n",
        "    error = (y - y_hat).reshape(1, -1)\n",
        "    # дальше pointwise перемножение - умножаем каждую из координат на ошибку\n",
        "    grad = (-1.) * error.dot(X) / n\n",
        "    return grad, error\n",
        "\n",
        "def eval_w_next(X, y, eta, w_current):\n",
        "    \"\"\"Делаем шаг градиентного спуска\"\"\"\n",
        "    # вычисляем градиент\n",
        "    grad, error = gradient(X, y, w_current)\n",
        "    # делаем шаг градиентного спуска\n",
        "    w_next = w_current - eta*grad\n",
        "    # проверяем условие сходимости\n",
        "    weight_evolution = distance.euclidean(w_current[0], w_next[0])\n",
        "    return (w_next, weight_evolution, grad)\n",
        "\n",
        "def gradient_descent(X: np.array, y: np.array, eta=0.01, epsilon=0.001) -> np.array:\n",
        "    m = X.shape[1] # количество фичей\n",
        "    # инициализируем рандомом веса\n",
        "    w = np.random.random(m).reshape(1, -1)\n",
        "    w_next, weight_evolution, grad = eval_w_next(X, y, eta, w)\n",
        "    step = 0\n",
        "    # повторяем до сходимости вектора весов\n",
        "    while weight_evolution > epsilon:\n",
        "        w = w_next\n",
        "        w_next, weight_evolution, grad = eval_w_next(X, y, eta, w)\n",
        "        step += 1\n",
        "        if step % 100 == 0:\n",
        "            print(\"step %s |w-w_next|=%.5f, grad=%s\" % (step, weight_evolution, grad))\n",
        "    return w\n",
        "\n",
        "# обучающие данные\n",
        "X_train_extended = np.hstack([\n",
        "    np.ones(X_train.shape[0]).reshape(-1,1),\n",
        "    X_train\n",
        "])\n",
        "w = gradient_descent(\n",
        "    X_train_extended,\n",
        "    y_train.reshape(-1, 1),\n",
        "    eta=0.008\n",
        ")\n",
        "\n",
        "# тестовые данные\n",
        "X_test_extended = np.hstack([\n",
        "    np.ones(X_test.shape[0]).reshape(-1,1),\n",
        "    X_test\n",
        "])\n",
        "\n",
        "\n",
        "def predict(X, w):\n",
        "  y_probas = sigmoid(X.dot(w.T))\n",
        "  y_hat = np.zeros_like(y_probas)\n",
        "  y_hat[np.where(y_probas >= 0.5)] = 1\n",
        "  y_hat[np.where(y_probas < 0.5)] = 0\n",
        "  y_hat = y_hat.flatten().astype(np.uint16)\n",
        "\n",
        "  return y_hat\n",
        "\n",
        "predicted_classes = predict(X_test_extended, w)\n",
        "accuracy = (predicted_classes == y_test).sum() / len(y_test)\n",
        "print('Предсказания построены, accuracy = %.2f' % accuracy)\n"
      ],
      "metadata": {
        "colab": {
          "base_uri": "https://localhost:8080/"
        },
        "id": "bYUlYBdco6lV",
        "outputId": "24061dcb-64e3-43bd-8b04-56c660095d4f"
      },
      "execution_count": 6,
      "outputs": [
        {
          "output_type": "stream",
          "name": "stdout",
          "text": [
            "step 100 |w-w_next|=0.00227, grad=[[ 0.055051   -0.25045085  0.06597664  0.10081882]]\n",
            "step 200 |w-w_next|=0.00183, grad=[[ 0.03224997 -0.21170413  0.03675719  0.07143145]]\n",
            "step 300 |w-w_next|=0.00154, grad=[[ 0.01944017 -0.18337704  0.01982304  0.05384442]]\n",
            "step 400 |w-w_next|=0.00135, grad=[[ 0.01219204 -0.16185175  0.00986096  0.04317997]]\n",
            "step 500 |w-w_next|=0.00120, grad=[[ 0.00800676 -0.14493692  0.00382613  0.03644717]]\n",
            "step 600 |w-w_next|=0.00108, grad=[[ 5.53873612e-03 -1.31290345e-01  5.56476168e-05  3.19785566e-02]]\n",
            "Предсказания построены, accuracy = 0.91\n"
          ]
        }
      ]
    },
    {
      "cell_type": "code",
      "source": [
        "# ROC-AUC для ручной модели\n",
        "\n",
        "y_probas_mlr = sigmoid(X_test_extended.dot(w.T)).flatten()\n",
        "fpr_mlr, tpr_mlr, thresholds = metrics.roc_curve(y_test, y_probas_mlr)\n",
        "roc_auc_score_mlr = metrics.roc_auc_score(y_test, y_probas_mlr)\n",
        "print('AUC: %.2f' % roc_auc_score_mlr)"
      ],
      "metadata": {
        "colab": {
          "base_uri": "https://localhost:8080/"
        },
        "id": "-k6Jg86ROjqM",
        "outputId": "bae32191-8624-4d24-d7dd-64f93d20b677"
      },
      "execution_count": 7,
      "outputs": [
        {
          "output_type": "stream",
          "name": "stdout",
          "text": [
            "AUC: 0.98\n"
          ]
        }
      ]
    },
    {
      "cell_type": "code",
      "source": [
        "# функция для дальнейших визуализаций ROC-AUC\n",
        "def roc_auc_plot(title: str, fpr, tpr, label: str, roc_auc_score):\n",
        "    plt.title(title)\n",
        "    plt.plot(fpr, tpr, label=label % roc_auc_score)\n",
        "    plt.legend(loc = 'lower right')\n",
        "    plt.plot([0, 1], [0, 1],'r--')\n",
        "    plt.xlim([-0.1, 1])\n",
        "    plt.ylim([0, 1.1])\n",
        "    plt.ylabel('True Positive Rate')\n",
        "    plt.xlabel('False Positive Rate')\n",
        "    plt.show()"
      ],
      "metadata": {
        "id": "dEXvNTgAg6RN"
      },
      "execution_count": 8,
      "outputs": []
    },
    {
      "cell_type": "code",
      "source": [
        "# визуализация\n",
        "roc_auc_plot('ROC-AUC curve: manual LR', fpr_mlr, tpr_mlr,\n",
        "             'AUC = %0.2f', roc_auc_score_mlr)"
      ],
      "metadata": {
        "colab": {
          "base_uri": "https://localhost:8080/",
          "height": 472
        },
        "id": "Js8AjnW-PUkQ",
        "outputId": "2a4d9b61-db3f-4ced-ab4f-1e4712509c15"
      },
      "execution_count": 9,
      "outputs": [
        {
          "output_type": "display_data",
          "data": {
            "text/plain": [
              "<Figure size 640x480 with 1 Axes>"
            ],
            "image/png": "[encoded data removed]"
          },
          "metadata": {}
        }
      ]
    },
    {
      "cell_type": "code",
      "source": [
        "# реализация из коробки\n",
        "log_reg = LogisticRegression().fit(X_train, y_train)\n",
        "\n",
        "predicted_classes_lr = log_reg.predict(X_test)\n",
        "accuracy = (predicted_classes_lr == y_test).sum() / len(y_test)\n",
        "logger.info('Предсказания построены, accuracy = %.2f', accuracy)"
      ],
      "metadata": {
        "colab": {
          "base_uri": "https://localhost:8080/"
        },
        "id": "cwQsVUoatN0u",
        "outputId": "d9bb0abc-337e-4879-9672-0a349d05651c"
      },
      "execution_count": 10,
      "outputs": [
        {
          "output_type": "stream",
          "name": "stderr",
          "text": [
            "INFO:__main__:Предсказания построены, accuracy = 0.94\n"
          ]
        }
      ]
    },
    {
      "cell_type": "code",
      "source": [
        "# ROC-AUC для модели из коробки\n",
        "y_probas_sk = log_reg.predict_proba(X_test)[:, 1]\n",
        "fpr_sk, tpr_sk, thresholds_sk = metrics.roc_curve(y_test, y_probas_sk)\n",
        "roc_auc_score_sk = metrics.roc_auc_score(y_test, y_probas_sk)\n",
        "print('AUC: %.2f' % roc_auc_score_sk)"
      ],
      "metadata": {
        "colab": {
          "base_uri": "https://localhost:8080/"
        },
        "id": "ZNPWa6hdRht3",
        "outputId": "bc26963e-0496-4f99-97b5-ba0b44d16d3e"
      },
      "execution_count": 11,
      "outputs": [
        {
          "output_type": "stream",
          "name": "stdout",
          "text": [
            "AUC: 0.99\n"
          ]
        }
      ]
    },
    {
      "cell_type": "code",
      "source": [
        "# визуализация\n",
        "roc_auc_plot('ROC-AUC curve: sklearn LR', fpr_sk, tpr_sk,\n",
        "             'AUC = %0.2f', roc_auc_score_sk)"
      ],
      "metadata": {
        "id": "KStSjnn1tX8b",
        "colab": {
          "base_uri": "https://localhost:8080/",
          "height": 472
        },
        "outputId": "76157ffb-97df-4083-f11c-2b999d11ba1c"
      },
      "execution_count": 12,
      "outputs": [
        {
          "output_type": "display_data",
          "data": {
            "text/plain": [
              "<Figure size 640x480 with 1 Axes>"
            ],
            "image/png": "[encoded data removed]"
          },
          "metadata": {}
        }
      ]
    },
    {
      "cell_type": "markdown",
      "source": [
        "Из интереса посмотрим на другие метрики обеих моделей."
      ],
      "metadata": {
        "id": "XarzTNt8ccuc"
      }
    },
    {
      "cell_type": "code",
      "source": [
        "print(color.BOLD + 'MANUAL LR' + color.END)\n",
        "print(metrics.classification_report(y_test, predicted_classes))\n",
        "print('_____________________________________________________')\n",
        "print(color.BOLD + 'SKLEARN LR' + color.END)\n",
        "print(metrics.classification_report(y_test, predicted_classes_lr))\n"
      ],
      "metadata": {
        "colab": {
          "base_uri": "https://localhost:8080/"
        },
        "id": "D6VoOe0RccWt",
        "outputId": "95c0afbb-ff9a-4d1f-d0f5-f4f999bd521d"
      },
      "execution_count": 13,
      "outputs": [
        {
          "output_type": "stream",
          "name": "stdout",
          "text": [
            "\u001b[1mMANUAL LR\u001b[0m\n",
            "              precision    recall  f1-score   support\n",
            "\n",
            "           0       0.88      0.78      0.82         9\n",
            "           1       0.92      0.96      0.94        24\n",
            "\n",
            "    accuracy                           0.91        33\n",
            "   macro avg       0.90      0.87      0.88        33\n",
            "weighted avg       0.91      0.91      0.91        33\n",
            "\n",
            "_____________________________________________________\n",
            "\u001b[1mSKLEARN LR\u001b[0m\n",
            "              precision    recall  f1-score   support\n",
            "\n",
            "           0       0.89      0.89      0.89         9\n",
            "           1       0.96      0.96      0.96        24\n",
            "\n",
            "    accuracy                           0.94        33\n",
            "   macro avg       0.92      0.92      0.92        33\n",
            "weighted avg       0.94      0.94      0.94        33\n",
            "\n"
          ]
        }
      ]
    },
    {
      "cell_type": "markdown",
      "source": [
        "# Задание 3 (ручное ROC-AUC)\n",
        "Самостоятельно реализовать функцию roc_auc_score и сравнить ее с результатами выше."
      ],
      "metadata": {
        "id": "CBnwF2GKzUoT"
      }
    },
    {
      "cell_type": "code",
      "source": [
        "def manual_roc_auc(fpr, tpr):\n",
        "\n",
        "    # т. к. мы считаем определенный интеграл, добавим точку в начало\n",
        "    tpr = np.array(tpr+[0])\n",
        "    fpr = np.array(fpr+[0])\n",
        "\n",
        "    # метод трапеций; btw, смешной пост про его переоткрытие в 1994:\n",
        "    # https://academia.stackexchange.com/questions/9602/rediscovery-of-calculus-in-1994-what-should-have-happened-to-that-paper\n",
        "    roc_auc_score = 0\n",
        "    for i in range(1, len(fpr)):\n",
        "        roc_auc_score += (fpr[i] - fpr[i - 1]) * (tpr[i] + tpr[i - 1]) / 2\n",
        "\n",
        "    return roc_auc_score"
      ],
      "metadata": {
        "id": "O8ij6E_K8V1P"
      },
      "execution_count": 14,
      "outputs": []
    },
    {
      "cell_type": "code",
      "source": [
        "# сравниваем раз\n",
        "mal_ra_mlr = manual_roc_auc(fpr_mlr, tpr_mlr)\n",
        "\n",
        "print('The ROC-AUC score using sklearn, manual LR: ', roc_auc_score_mlr)\n",
        "print('The manual ROC-AUC score, manual LR: ', mal_ra_mlr)"
      ],
      "metadata": {
        "colab": {
          "base_uri": "https://localhost:8080/"
        },
        "id": "ifAYeoniXIMh",
        "outputId": "54f21c3e-32f3-4687-8552-f9c47a8bad55"
      },
      "execution_count": 17,
      "outputs": [
        {
          "output_type": "stream",
          "name": "stdout",
          "text": [
            "The ROC-AUC score using sklearn, manual LR:  0.976851851851852\n",
            "The manual ROC-AUC score, manual LR:  0.9768518518518519\n"
          ]
        }
      ]
    },
    {
      "cell_type": "code",
      "source": [
        "# сравниваем два\n",
        "mal_ra_sk = manual_roc_auc(fpr_sk, tpr_sk)\n",
        "\n",
        "print('The ROC-AUC score using sklearn, manual LR: ', roc_auc_score_sk)\n",
        "print('The manual ROC-AUC score, manual LR: ', mal_ra_sk)"
      ],
      "metadata": {
        "colab": {
          "base_uri": "https://localhost:8080/"
        },
        "id": "bwqK_lJuVqPs",
        "outputId": "5d05036a-2613-4222-93b7-261c4bb4688a"
      },
      "execution_count": 16,
      "outputs": [
        {
          "output_type": "stream",
          "name": "stdout",
          "text": [
            "The ROC-AUC score using sklearn, manual LR:  0.986111111111111\n",
            "The manual ROC-AUC score, manual LR:  0.986111111111111\n"
          ]
        }
      ]
    },
    {
      "cell_type": "code",
      "source": [
        "mal_ra_sk == roc_auc_score_sk"
      ],
      "metadata": {
        "colab": {
          "base_uri": "https://localhost:8080/"
        },
        "id": "1DzdmLLfbcYn",
        "outputId": "cb824e28-ca0a-4d57-eb35-c67a86dbc07f"
      },
      "execution_count": 18,
      "outputs": [
        {
          "output_type": "execute_result",
          "data": {
            "text/plain": [
              "True"
            ]
          },
          "metadata": {},
          "execution_count": 18
        }
      ]
    },
    {
      "cell_type": "markdown",
      "source": [
        "Возможно, я что-то сделала не так, но в последнем прям совпало до последней цифры. Либо я где-то накосячила, либо наоборот."
      ],
      "metadata": {
        "id": "839CK6_NbKnl"
      }
    },
    {
      "cell_type": "markdown",
      "source": [
        "# Задание 4 (SVM)\n",
        "Попробуйте применить классификатор SVM."
      ],
      "metadata": {
        "id": "5F2Qywu28WNN"
      }
    },
    {
      "cell_type": "code",
      "source": [
        "SVM_model = SVC(probability=True).fit(X_train, y_train)\n",
        "predicted_classes_svc = log_reg.predict(X_test)\n",
        "\n",
        "print(color.BOLD + 'SVC MODEL' + color.END)\n",
        "print(metrics.classification_report(y_test, predicted_classes_svc))"
      ],
      "metadata": {
        "id": "ISZdjeyV8emH",
        "colab": {
          "base_uri": "https://localhost:8080/"
        },
        "outputId": "db2e769a-5af3-4255-f0b1-83e4b78619d2"
      },
      "execution_count": 19,
      "outputs": [
        {
          "output_type": "stream",
          "name": "stdout",
          "text": [
            "\u001b[1mSVC MODEL\u001b[0m\n",
            "              precision    recall  f1-score   support\n",
            "\n",
            "           0       0.89      0.89      0.89         9\n",
            "           1       0.96      0.96      0.96        24\n",
            "\n",
            "    accuracy                           0.94        33\n",
            "   macro avg       0.92      0.92      0.92        33\n",
            "weighted avg       0.94      0.94      0.94        33\n",
            "\n"
          ]
        }
      ]
    },
    {
      "cell_type": "code",
      "source": [
        "y_probas_svc = SVM_model.predict_proba(X_test)[:, 1]\n",
        "fpr_svc, tpr_svc, thresholds_svc = metrics.roc_curve(y_test, y_probas_svc)\n",
        "roc_auc_score_svc = metrics.roc_auc_score(y_test, y_probas_svc)\n",
        "\n",
        "roc_auc_plot('ROC-AUC curve: SVC', fpr_svc, tpr_svc,\n",
        "             'AUC = %0.2f', roc_auc_score_svc)"
      ],
      "metadata": {
        "colab": {
          "base_uri": "https://localhost:8080/",
          "height": 472
        },
        "id": "WzolXXADi8sc",
        "outputId": "8cbdd7cf-4f82-4846-cd9b-23c9324c1883"
      },
      "execution_count": 20,
      "outputs": [
        {
          "output_type": "display_data",
          "data": {
            "text/plain": [
              "<Figure size 640x480 with 1 Axes>"
            ],
            "image/png": "[encoded data removed]"
          },
          "metadata": {}
        }
      ]
    },
    {
      "cell_type": "markdown",
      "source": [
        "# Задание 5 (SGD)\n",
        "Попробуйте применить классификатор SGDClassifier.\n"
      ],
      "metadata": {
        "id": "q5wx7fLd8e8G"
      }
    },
    {
      "cell_type": "code",
      "source": [
        "SGD_model = SGDClassifier(loss='log_loss').fit(X_train, y_train)\n",
        "predicted_classes_sgd = log_reg.predict(X_test)\n",
        "\n",
        "print(color.BOLD + 'SGD MODEL' + color.END)\n",
        "print(metrics.classification_report(y_test, predicted_classes_sgd))"
      ],
      "metadata": {
        "id": "R-tjCuDC8mAX",
        "colab": {
          "base_uri": "https://localhost:8080/"
        },
        "outputId": "f98c998d-6ea4-40e8-9855-ddb382ad6693"
      },
      "execution_count": 21,
      "outputs": [
        {
          "output_type": "stream",
          "name": "stdout",
          "text": [
            "\u001b[1mSGD MODEL\u001b[0m\n",
            "              precision    recall  f1-score   support\n",
            "\n",
            "           0       0.89      0.89      0.89         9\n",
            "           1       0.96      0.96      0.96        24\n",
            "\n",
            "    accuracy                           0.94        33\n",
            "   macro avg       0.92      0.92      0.92        33\n",
            "weighted avg       0.94      0.94      0.94        33\n",
            "\n"
          ]
        }
      ]
    },
    {
      "cell_type": "code",
      "source": [
        "y_probas_sgd = SGD_model.predict_proba(X_test)[:, 1]\n",
        "fpr_sgd, tpr_sgd, thresholds_sgd = metrics.roc_curve(y_test, y_probas_sgd)\n",
        "roc_auc_score_sgd = metrics.roc_auc_score(y_test, y_probas_sgd)\n",
        "\n",
        "roc_auc_plot('ROC-AUC curve: SVC', fpr_sgd, tpr_sgd,\n",
        "             'AUC = %0.2f', roc_auc_score_sgd)"
      ],
      "metadata": {
        "colab": {
          "base_uri": "https://localhost:8080/",
          "height": 472
        },
        "id": "3RMUd1TZjnQG",
        "outputId": "f0573327-544f-4b6a-c4f7-9ea706232cf4"
      },
      "execution_count": 22,
      "outputs": [
        {
          "output_type": "display_data",
          "data": {
            "text/plain": [
              "<Figure size 640x480 with 1 Axes>"
            ],
            "image/png": "[encoded data removed]"
          },
          "metadata": {}
        }
      ]
    }
  ]
}