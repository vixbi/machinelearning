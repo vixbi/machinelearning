{
  "cells": [
    {
      "cell_type": "markdown",
      "metadata": {
        "id": "Ertg8Rrf9D-V"
      },
      "source": [
        "# Подготовка"
      ]
    },
    {
      "cell_type": "code",
      "source": [
        "!pip uninstall numpy -y\n",
        "!pip install numpy==1.24.4 gensim"
      ],
      "metadata": {
        "colab": {
          "base_uri": "https://localhost:8080/",
          "height": 530
        },
        "id": "gdg11FLAuJsU",
        "outputId": "6772c93b-78b1-4021-ceaa-dbd530ad40c3"
      },
      "execution_count": null,
      "outputs": [
        {
          "output_type": "stream",
          "name": "stdout",
          "text": [
            "Found existing installation: numpy 1.24.4\n",
            "Uninstalling numpy-1.24.4:\n",
            "  Successfully uninstalled numpy-1.24.4\n",
            "Collecting numpy==1.24.4\n",
            "  Using cached numpy-1.24.4-cp311-cp311-manylinux_2_17_x86_64.manylinux2014_x86_64.whl.metadata (5.6 kB)\n",
            "Requirement already satisfied: gensim in /usr/local/lib/python3.11/dist-packages (4.3.3)\n",
            "Requirement already satisfied: scipy<1.14.0,>=1.7.0 in /usr/local/lib/python3.11/dist-packages (from gensim) (1.13.1)\n",
            "Requirement already satisfied: smart-open>=1.8.1 in /usr/local/lib/python3.11/dist-packages (from gensim) (7.1.0)\n",
            "Requirement already satisfied: wrapt in /usr/local/lib/python3.11/dist-packages (from smart-open>=1.8.1->gensim) (1.17.2)\n",
            "Using cached numpy-1.24.4-cp311-cp311-manylinux_2_17_x86_64.manylinux2014_x86_64.whl (17.3 MB)\n",
            "Installing collected packages: numpy\n",
            "\u001b[31mERROR: pip's dependency resolver does not currently take into account all the packages that are installed. This behaviour is the source of the following dependency conflicts.\n",
            "oldest-supported-numpy 2023.12.21 requires numpy==1.23.2; python_version == \"3.11\", but you have numpy 1.24.4 which is incompatible.\n",
            "jaxlib 0.5.1 requires numpy>=1.25, but you have numpy 1.24.4 which is incompatible.\n",
            "jax 0.5.2 requires numpy>=1.25, but you have numpy 1.24.4 which is incompatible.\n",
            "tensorflow 2.18.0 requires numpy<2.1.0,>=1.26.0, but you have numpy 1.24.4 which is incompatible.\n",
            "blosc2 3.3.2 requires numpy>=1.26, but you have numpy 1.24.4 which is incompatible.\n",
            "treescope 0.1.9 requires numpy>=1.25.2, but you have numpy 1.24.4 which is incompatible.\n",
            "pymc 5.22.0 requires numpy>=1.25.0, but you have numpy 1.24.4 which is incompatible.\n",
            "thinc 8.3.6 requires numpy<3.0.0,>=2.0.0, but you have numpy 1.24.4 which is incompatible.\n",
            "tsfresh 0.21.0 requires scipy>=1.14.0; python_version >= \"3.10\", but you have scipy 1.13.1 which is incompatible.\u001b[0m\u001b[31m\n",
            "\u001b[0mSuccessfully installed numpy-1.24.4\n"
          ]
        },
        {
          "output_type": "display_data",
          "data": {
            "application/vnd.colab-display-data+json": {
              "pip_warning": {
                "packages": [
                  "numpy"
                ]
              },
              "id": "b3f877bcaab0410291b29e2939b5d41d"
            }
          },
          "metadata": {}
        }
      ]
    },
    {
      "cell_type": "code",
      "execution_count": null,
      "metadata": {
        "id": "J4_TTGYf7ee_"
      },
      "outputs": [],
      "source": [
        "# импорт необходимых библиотек\n",
        "import pandas as pd\n",
        "\n",
        "import sklearn.cluster as cluster\n",
        "from sklearn.cluster import KMeans, DBSCAN\n",
        "from sklearn.feature_extraction.text import CountVectorizer, TfidfVectorizer\n",
        "from sklearn.decomposition import PCA\n",
        "from sklearn.metrics import silhouette_score\n",
        "from sklearn.metrics.pairwise import euclidean_distances\n",
        "from sklearn.preprocessing import StandardScaler\n",
        "\n",
        "import nltk\n",
        "from nltk.stem import WordNetLemmatizer\n",
        "from nltk.tag import pos_tag\n",
        "from nltk.tokenize import word_tokenize\n",
        "from nltk.corpus import stopwords\n",
        "\n",
        "from gensim.models import KeyedVectors\n",
        "from gensim.scripts.glove2word2vec import glove2word2vec\n",
        "\n",
        "import numpy as np\n",
        "\n",
        "import matplotlib.pyplot as plt\n",
        "import seaborn as sns\n",
        "\n",
        "import ast\n",
        "from tqdm import tqdm\n",
        "import re\n",
        "from collections import Counter\n",
        "from itertools import chain\n",
        "from IPython.display import Image, display"
      ]
    },
    {
      "cell_type": "code",
      "source": [
        "# необходимые файлы для работы с nltk\n",
        "nltk.download(\"punkt_tab\")\n",
        "nltk.download(\"wordnet\")\n",
        "nltk.download(\"averaged_perceptron_tagger_eng\")\n",
        "nltk.download(\"universal_tagset\")\n",
        "nltk.download(\"stopwords\")"
      ],
      "metadata": {
        "colab": {
          "base_uri": "https://localhost:8080/"
        },
        "id": "y9oe6IeDLtS8",
        "outputId": "38e1f8f2-d8f2-40fc-a2c5-f60c3e15b831"
      },
      "execution_count": null,
      "outputs": [
        {
          "output_type": "stream",
          "name": "stderr",
          "text": [
            "[nltk_data] Downloading package punkt_tab to /root/nltk_data...\n",
            "[nltk_data]   Package punkt_tab is already up-to-date!\n",
            "[nltk_data] Downloading package wordnet to /root/nltk_data...\n",
            "[nltk_data]   Package wordnet is already up-to-date!\n",
            "[nltk_data] Downloading package averaged_perceptron_tagger_eng to\n",
            "[nltk_data]     /root/nltk_data...\n",
            "[nltk_data]   Package averaged_perceptron_tagger_eng is already up-to-\n",
            "[nltk_data]       date!\n",
            "[nltk_data] Downloading package universal_tagset to /root/nltk_data...\n",
            "[nltk_data]   Package universal_tagset is already up-to-date!\n",
            "[nltk_data] Downloading package stopwords to /root/nltk_data...\n",
            "[nltk_data]   Package stopwords is already up-to-date!\n"
          ]
        },
        {
          "output_type": "execute_result",
          "data": {
            "text/plain": [
              "True"
            ]
          },
          "metadata": {},
          "execution_count": 3
        }
      ]
    },
    {
      "cell_type": "code",
      "execution_count": null,
      "metadata": {
        "colab": {
          "base_uri": "https://localhost:8080/",
          "height": 609
        },
        "id": "8MEt_1-F8DLE",
        "outputId": "92fec39e-54ce-449d-e16f-0c3518885462"
      },
      "outputs": [
        {
          "output_type": "stream",
          "name": "stderr",
          "text": [
            "<ipython-input-4-30a86395b97c>:4: ParserWarning: Falling back to the 'python' engine because the 'c' engine does not support sep=None with delim_whitespace=False; you can avoid this warning by specifying engine='python'.\n",
            "  dataframe = pd.read_csv(download_url, sep=sep, usecols=usecols, header=header)\n"
          ]
        },
        {
          "output_type": "execute_result",
          "data": {
            "text/plain": [
              "                                               Title  ...                                         Categories\n",
              "0  your browser version is not supported using sy...  ...                 ['php', 'symfony', 'web-scraping']\n",
              "1               how to get button text value in java  ...                                 ['java', 'button']\n",
              "2  How to make sure communication is stable when ...  ...          ['javascript', 'node.js', 'go', 'zeromq']\n",
              "3                       Cubical Agda Inclusion Order  ...                                           ['agda']\n",
              "4  How to convert depth map to image(.png) format...  ...  ['3d', 'computer-vision', 'point-clouds', 'vis...\n",
              "5  Spring Security for Mobile Application with 3r...  ...  ['java', 'spring', 'spring-security', 'oauth-2...\n",
              "6  {C#, UNITY} Currently working on a flight scri...  ...                                             ['c#']\n",
              "7  Overlay a transparent button over each radio o...  ...                      ['javascript', 'html', 'css']\n",
              "8  Vue list scrolling will affect external scroll...  ...                                 ['html', 'vue.js']\n",
              "9       How to list all resource to secret mappings?  ...    ['kubernetes', 'kubectl', 'kubernetes-secrets']\n",
              "\n",
              "[10 rows x 4 columns]"
            ],
            "text/html": [
              "\n",
              "  <div id=\"df-ed0b3ef1-dd2b-446c-af53-cc1da3e13be7\" class=\"colab-df-container\">\n",
              "    <div>\n",
              "<style scoped>\n",
              "    .dataframe tbody tr th:only-of-type {\n",
              "        vertical-align: middle;\n",
              "    }\n",
              "\n",
              "    .dataframe tbody tr th {\n",
              "        vertical-align: top;\n",
              "    }\n",
              "\n",
              "    .dataframe thead th {\n",
              "        text-align: right;\n",
              "    }\n",
              "</style>\n",
              "<table border=\"1\" class=\"dataframe\">\n",
              "  <thead>\n",
              "    <tr style=\"text-align: right;\">\n",
              "      <th></th>\n",
              "      <th>Title</th>\n",
              "      <th>URL</th>\n",
              "      <th>Question</th>\n",
              "      <th>Categories</th>\n",
              "    </tr>\n",
              "  </thead>\n",
              "  <tbody>\n",
              "    <tr>\n",
              "      <th>0</th>\n",
              "      <td>your browser version is not supported using sy...</td>\n",
              "      <td>https://stackoverflow.com/questions/76981459/y...</td>\n",
              "      <td>I'm trying to automate some features and I nee...</td>\n",
              "      <td>['php', 'symfony', 'web-scraping']</td>\n",
              "    </tr>\n",
              "    <tr>\n",
              "      <th>1</th>\n",
              "      <td>how to get button text value in java</td>\n",
              "      <td>https://stackoverflow.com/questions/76981456/h...</td>\n",
              "      <td>I want to get button text value to do the on c...</td>\n",
              "      <td>['java', 'button']</td>\n",
              "    </tr>\n",
              "    <tr>\n",
              "      <th>2</th>\n",
              "      <td>How to make sure communication is stable when ...</td>\n",
              "      <td>https://stackoverflow.com/questions/76981455/h...</td>\n",
              "      <td>This is my Node codeasync function runClient()...</td>\n",
              "      <td>['javascript', 'node.js', 'go', 'zeromq']</td>\n",
              "    </tr>\n",
              "    <tr>\n",
              "      <th>3</th>\n",
              "      <td>Cubical Agda Inclusion Order</td>\n",
              "      <td>https://stackoverflow.com/questions/76981453/c...</td>\n",
              "      <td>I'm almost finished defining an Inclusion Orde...</td>\n",
              "      <td>['agda']</td>\n",
              "    </tr>\n",
              "    <tr>\n",
              "      <th>4</th>\n",
              "      <td>How to convert depth map to image(.png) format...</td>\n",
              "      <td>https://stackoverflow.com/questions/76981450/h...</td>\n",
              "      <td>I am using a depth camera which captures a 500...</td>\n",
              "      <td>['3d', 'computer-vision', 'point-clouds', 'vis...</td>\n",
              "    </tr>\n",
              "    <tr>\n",
              "      <th>5</th>\n",
              "      <td>Spring Security for Mobile Application with 3r...</td>\n",
              "      <td>https://stackoverflow.com/questions/76981449/s...</td>\n",
              "      <td>I want to allow SSO (single sign-on) via Googl...</td>\n",
              "      <td>['java', 'spring', 'spring-security', 'oauth-2...</td>\n",
              "    </tr>\n",
              "    <tr>\n",
              "      <th>6</th>\n",
              "      <td>{C#, UNITY} Currently working on a flight scri...</td>\n",
              "      <td>https://stackoverflow.com/questions/76981448/c...</td>\n",
              "      <td>[EDIT ONE: THE FLIGHT CODE IS COMMENTED BECAUS...</td>\n",
              "      <td>['c#']</td>\n",
              "    </tr>\n",
              "    <tr>\n",
              "      <th>7</th>\n",
              "      <td>Overlay a transparent button over each radio o...</td>\n",
              "      <td>https://stackoverflow.com/questions/76981447/o...</td>\n",
              "      <td>I need to overlay a transparent button over ea...</td>\n",
              "      <td>['javascript', 'html', 'css']</td>\n",
              "    </tr>\n",
              "    <tr>\n",
              "      <th>8</th>\n",
              "      <td>Vue list scrolling will affect external scroll...</td>\n",
              "      <td>https://stackoverflow.com/questions/76981446/v...</td>\n",
              "      <td>By setting the height, the effect of scrolling...</td>\n",
              "      <td>['html', 'vue.js']</td>\n",
              "    </tr>\n",
              "    <tr>\n",
              "      <th>9</th>\n",
              "      <td>How to list all resource to secret mappings?</td>\n",
              "      <td>https://stackoverflow.com/questions/76981442/h...</td>\n",
              "      <td>I am looking for a kubectl command that will l...</td>\n",
              "      <td>['kubernetes', 'kubectl', 'kubernetes-secrets']</td>\n",
              "    </tr>\n",
              "  </tbody>\n",
              "</table>\n",
              "</div>\n",
              "    <div class=\"colab-df-buttons\">\n",
              "\n",
              "  <div class=\"colab-df-container\">\n",
              "    <button class=\"colab-df-convert\" onclick=\"convertToInteractive('df-ed0b3ef1-dd2b-446c-af53-cc1da3e13be7')\"\n",
              "            title=\"Convert this dataframe to an interactive table.\"\n",
              "            style=\"display:none;\">\n",
              "\n",
              "  <svg xmlns=\"http://www.w3.org/2000/svg\" height=\"24px\" viewBox=\"0 -960 960 960\">\n",
              "    <path d=\"M120-120v-720h720v720H120Zm60-500h600v-160H180v160Zm220 220h160v-160H400v160Zm0 220h160v-160H400v160ZM180-400h160v-160H180v160Zm440 0h160v-160H620v160ZM180-180h160v-160H180v160Zm440 0h160v-160H620v160Z\"/>\n",
              "  </svg>\n",
              "    </button>\n",
              "\n",
              "  <style>\n",
              "    .colab-df-container {\n",
              "      display:flex;\n",
              "      gap: 12px;\n",
              "    }\n",
              "\n",
              "    .colab-df-convert {\n",
              "      background-color: #E8F0FE;\n",
              "      border: none;\n",
              "      border-radius: 50%;\n",
              "      cursor: pointer;\n",
              "      display: none;\n",
              "      fill: #1967D2;\n",
              "      height: 32px;\n",
              "      padding: 0 0 0 0;\n",
              "      width: 32px;\n",
              "    }\n",
              "\n",
              "    .colab-df-convert:hover {\n",
              "      background-color: #E2EBFA;\n",
              "      box-shadow: 0px 1px 2px rgba(60, 64, 67, 0.3), 0px 1px 3px 1px rgba(60, 64, 67, 0.15);\n",
              "      fill: #174EA6;\n",
              "    }\n",
              "\n",
              "    .colab-df-buttons div {\n",
              "      margin-bottom: 4px;\n",
              "    }\n",
              "\n",
              "    [theme=dark] .colab-df-convert {\n",
              "      background-color: #3B4455;\n",
              "      fill: #D2E3FC;\n",
              "    }\n",
              "\n",
              "    [theme=dark] .colab-df-convert:hover {\n",
              "      background-color: #434B5C;\n",
              "      box-shadow: 0px 1px 3px 1px rgba(0, 0, 0, 0.15);\n",
              "      filter: drop-shadow(0px 1px 2px rgba(0, 0, 0, 0.3));\n",
              "      fill: #FFFFFF;\n",
              "    }\n",
              "  </style>\n",
              "\n",
              "    <script>\n",
              "      const buttonEl =\n",
              "        document.querySelector('#df-ed0b3ef1-dd2b-446c-af53-cc1da3e13be7 button.colab-df-convert');\n",
              "      buttonEl.style.display =\n",
              "        google.colab.kernel.accessAllowed ? 'block' : 'none';\n",
              "\n",
              "      async function convertToInteractive(key) {\n",
              "        const element = document.querySelector('#df-ed0b3ef1-dd2b-446c-af53-cc1da3e13be7');\n",
              "        const dataTable =\n",
              "          await google.colab.kernel.invokeFunction('convertToInteractive',\n",
              "                                                    [key], {});\n",
              "        if (!dataTable) return;\n",
              "\n",
              "        const docLinkHtml = 'Like what you see? Visit the ' +\n",
              "          '<a target=\"_blank\" href=https://colab.research.google.com/notebooks/data_table.ipynb>data table notebook</a>'\n",
              "          + ' to learn more about interactive tables.';\n",
              "        element.innerHTML = '';\n",
              "        dataTable['output_type'] = 'display_data';\n",
              "        await google.colab.output.renderOutput(dataTable, element);\n",
              "        const docLink = document.createElement('div');\n",
              "        docLink.innerHTML = docLinkHtml;\n",
              "        element.appendChild(docLink);\n",
              "      }\n",
              "    </script>\n",
              "  </div>\n",
              "\n",
              "\n",
              "    <div id=\"df-5018d795-fb88-4711-a9d7-84b351fd43f8\">\n",
              "      <button class=\"colab-df-quickchart\" onclick=\"quickchart('df-5018d795-fb88-4711-a9d7-84b351fd43f8')\"\n",
              "                title=\"Suggest charts\"\n",
              "                style=\"display:none;\">\n",
              "\n",
              "<svg xmlns=\"http://www.w3.org/2000/svg\" height=\"24px\"viewBox=\"0 0 24 24\"\n",
              "     width=\"24px\">\n",
              "    <g>\n",
              "        <path d=\"M19 3H5c-1.1 0-2 .9-2 2v14c0 1.1.9 2 2 2h14c1.1 0 2-.9 2-2V5c0-1.1-.9-2-2-2zM9 17H7v-7h2v7zm4 0h-2V7h2v10zm4 0h-2v-4h2v4z\"/>\n",
              "    </g>\n",
              "</svg>\n",
              "      </button>\n",
              "\n",
              "<style>\n",
              "  .colab-df-quickchart {\n",
              "      --bg-color: #E8F0FE;\n",
              "      --fill-color: #1967D2;\n",
              "      --hover-bg-color: #E2EBFA;\n",
              "      --hover-fill-color: #174EA6;\n",
              "      --disabled-fill-color: #AAA;\n",
              "      --disabled-bg-color: #DDD;\n",
              "  }\n",
              "\n",
              "  [theme=dark] .colab-df-quickchart {\n",
              "      --bg-color: #3B4455;\n",
              "      --fill-color: #D2E3FC;\n",
              "      --hover-bg-color: #434B5C;\n",
              "      --hover-fill-color: #FFFFFF;\n",
              "      --disabled-bg-color: #3B4455;\n",
              "      --disabled-fill-color: #666;\n",
              "  }\n",
              "\n",
              "  .colab-df-quickchart {\n",
              "    background-color: var(--bg-color);\n",
              "    border: none;\n",
              "    border-radius: 50%;\n",
              "    cursor: pointer;\n",
              "    display: none;\n",
              "    fill: var(--fill-color);\n",
              "    height: 32px;\n",
              "    padding: 0;\n",
              "    width: 32px;\n",
              "  }\n",
              "\n",
              "  .colab-df-quickchart:hover {\n",
              "    background-color: var(--hover-bg-color);\n",
              "    box-shadow: 0 1px 2px rgba(60, 64, 67, 0.3), 0 1px 3px 1px rgba(60, 64, 67, 0.15);\n",
              "    fill: var(--button-hover-fill-color);\n",
              "  }\n",
              "\n",
              "  .colab-df-quickchart-complete:disabled,\n",
              "  .colab-df-quickchart-complete:disabled:hover {\n",
              "    background-color: var(--disabled-bg-color);\n",
              "    fill: var(--disabled-fill-color);\n",
              "    box-shadow: none;\n",
              "  }\n",
              "\n",
              "  .colab-df-spinner {\n",
              "    border: 2px solid var(--fill-color);\n",
              "    border-color: transparent;\n",
              "    border-bottom-color: var(--fill-color);\n",
              "    animation:\n",
              "      spin 1s steps(1) infinite;\n",
              "  }\n",
              "\n",
              "  @keyframes spin {\n",
              "    0% {\n",
              "      border-color: transparent;\n",
              "      border-bottom-color: var(--fill-color);\n",
              "      border-left-color: var(--fill-color);\n",
              "    }\n",
              "    20% {\n",
              "      border-color: transparent;\n",
              "      border-left-color: var(--fill-color);\n",
              "      border-top-color: var(--fill-color);\n",
              "    }\n",
              "    30% {\n",
              "      border-color: transparent;\n",
              "      border-left-color: var(--fill-color);\n",
              "      border-top-color: var(--fill-color);\n",
              "      border-right-color: var(--fill-color);\n",
              "    }\n",
              "    40% {\n",
              "      border-color: transparent;\n",
              "      border-right-color: var(--fill-color);\n",
              "      border-top-color: var(--fill-color);\n",
              "    }\n",
              "    60% {\n",
              "      border-color: transparent;\n",
              "      border-right-color: var(--fill-color);\n",
              "    }\n",
              "    80% {\n",
              "      border-color: transparent;\n",
              "      border-right-color: var(--fill-color);\n",
              "      border-bottom-color: var(--fill-color);\n",
              "    }\n",
              "    90% {\n",
              "      border-color: transparent;\n",
              "      border-bottom-color: var(--fill-color);\n",
              "    }\n",
              "  }\n",
              "</style>\n",
              "\n",
              "      <script>\n",
              "        async function quickchart(key) {\n",
              "          const quickchartButtonEl =\n",
              "            document.querySelector('#' + key + ' button');\n",
              "          quickchartButtonEl.disabled = true;  // To prevent multiple clicks.\n",
              "          quickchartButtonEl.classList.add('colab-df-spinner');\n",
              "          try {\n",
              "            const charts = await google.colab.kernel.invokeFunction(\n",
              "                'suggestCharts', [key], {});\n",
              "          } catch (error) {\n",
              "            console.error('Error during call to suggestCharts:', error);\n",
              "          }\n",
              "          quickchartButtonEl.classList.remove('colab-df-spinner');\n",
              "          quickchartButtonEl.classList.add('colab-df-quickchart-complete');\n",
              "        }\n",
              "        (() => {\n",
              "          let quickchartButtonEl =\n",
              "            document.querySelector('#df-5018d795-fb88-4711-a9d7-84b351fd43f8 button');\n",
              "          quickchartButtonEl.style.display =\n",
              "            google.colab.kernel.accessAllowed ? 'block' : 'none';\n",
              "        })();\n",
              "      </script>\n",
              "    </div>\n",
              "    </div>\n",
              "  </div>\n"
            ],
            "application/vnd.google.colaboratory.intrinsic+json": {
              "type": "dataframe",
              "variable_name": "stckover_df",
              "summary": "{\n  \"name\": \"stckover_df\",\n  \"rows\": 22123,\n  \"fields\": [\n    {\n      \"column\": \"Title\",\n      \"properties\": {\n        \"dtype\": \"string\",\n        \"num_unique_values\": 22122,\n        \"samples\": [\n          \"How can I record and replay MongoDB requests?\",\n          \"Dataflow Flex template while running throwing error for all default parameters\",\n          \"Trying to use multiple alias to create a new column [duplicate]\"\n        ],\n        \"semantic_type\": \"\",\n        \"description\": \"\"\n      }\n    },\n    {\n      \"column\": \"URL\",\n      \"properties\": {\n        \"dtype\": \"string\",\n        \"num_unique_values\": 22123,\n        \"samples\": [\n          \"https://stackoverflow.com/questions/76975806/how-can-i-record-and-replay-mongodb-requests\",\n          \"https://stackoverflow.com/questions/76940189/dataflow-flex-template-while-running-throwing-error-for-all-default-parameters\",\n          \"https://stackoverflow.com/questions/76950125/trying-to-use-multiple-alias-to-create-a-new-column\"\n        ],\n        \"semantic_type\": \"\",\n        \"description\": \"\"\n      }\n    },\n    {\n      \"column\": \"Question\",\n      \"properties\": {\n        \"dtype\": \"string\",\n        \"num_unique_values\": 22083,\n        \"samples\": [\n          \"I'm using QgsQuick in one of my development projects.I use QGIS Desktop to setup my map environment(.qgs file). When running my project using QgsQuick, it seems that the raster image layers are always rendered on top of the vector layers. Even though I've set the rendering order in QGIS Desktop so that the vector layers should show on top.Has anyone had this issue?I've seen this issue with qgis 3.4.4 and version 3.22. Same issue on Windows and Linux.Is the QgsQuick tool still being maintained by QGIS?Do anyone know if the QgsQuick qml tool is widely used?I've tried it on windows and Linux.When opening my development project without making use of the QgsQuick, It runs correctly.Any help would be appreciated.Pieter\",\n          \"I am working on an Orbeon form where the user needs to confirm the values of some input fields before being allowed to send in the form. The confirmation uses single checkboxes to allow different error messages.The number formatting throughout the form is with comma as decimal separator and point as thousands separator.Now, when I add the needed cell names as template parameters to a label to a single checkbox, the number from the cell is shown with point as decimal separator and no thousands separator, even though it is shown correctly in the original field and in the pdf?So, how can I change this formatting of the number in a template parameter?I tried format-number(//cell,\\\"99.999,00\\\") in the template parameter.I also tried converting the number to a string and replace the point with a comma. It just seems like there must be a simpler solution\",\n          \"Closed. This question is not written in English. It is not currently accepting answers.Stack Overflow is an English-only site. The author must be able to communicate in English to understand and engage with any comments and/or answers their question receives. Don't translate this post for the author; machine translations can be inaccurate, and even human translations can alter the intended meaning of the post.Closed 16 hours ago.Improve this questionSalut, j'utilise GPT-4 et depuis 4 jours voici le probl\\u00e8me que je rencontre:Erreur d'application : une exception c\\u00f4t\\u00e9 client s'est produite (voir la console du navigateur pour plus d'informations)en consultant la console de mon navigateur qui est google chrome, voici les premi\\u00e8res lignes d'erreur qui s'affichent :\\\"general.js:102 Only one LaunchDarklyClient can exist at a time, but another client already exists. This probably means something has gone wrong with our DI system, or we're using it incorrectly. d @ general.js:102 Show 1 more frame Show less 24_app-ddf4d3f1671bd1f5.js:28 DOMException: Failed to execute 'insertBefore' on 'Node': The node before which the new node is to be inserted is not a child of this node. at e (https://chat.openai.com/_next/static/chunks/framework-10a404587b40544b.js:9:89708)\\\"que faire dans ce cas?j'ai tout essay\\u00e9 rien a abouti. aidez moi \\u00e0 r\\u00e9soudre ce probl\\u00e8me\"\n        ],\n        \"semantic_type\": \"\",\n        \"description\": \"\"\n      }\n    },\n    {\n      \"column\": \"Categories\",\n      \"properties\": {\n        \"dtype\": \"string\",\n        \"num_unique_values\": 18106,\n        \"samples\": [\n          \"['java', 'elasticsearch']\",\n          \"['css', 'msbuild', 'blazor', 'isolation']\",\n          \"['powershell', 'go', 'exec']\"\n        ],\n        \"semantic_type\": \"\",\n        \"description\": \"\"\n      }\n    }\n  ]\n}"
            }
          },
          "metadata": {},
          "execution_count": 4
        }
      ],
      "source": [
        "# чтобы было проще скачивать\n",
        "def link_download(sharing_url, sep='\\t', usecols=None, header=None):\n",
        "    download_url = \"https://drive.google.com/uc?id=\" + sharing_url.split(\"/\")[-2]\n",
        "    dataframe = pd.read_csv(download_url, sep=sep, usecols=usecols, header=header)\n",
        "    return dataframe\n",
        "\n",
        "stckover_df = link_download(\"https://drive.google.com/file/d/1zLs02TTxbt1Htk1RdIJM5AaBacs6Y39K/view?usp=sharing\",\n",
        "                           sep=None, header='infer')\n",
        "stckover_df.head(10)"
      ]
    },
    {
      "cell_type": "code",
      "execution_count": null,
      "metadata": {
        "colab": {
          "base_uri": "https://localhost:8080/",
          "height": 209
        },
        "id": "wKw_eaLJjwp2",
        "outputId": "c43aa4b2-a8a7-4d45-d60d-143087ab0241"
      },
      "outputs": [
        {
          "output_type": "execute_result",
          "data": {
            "text/plain": [
              "Title         False\n",
              "URL           False\n",
              "Question      False\n",
              "Categories    False\n",
              "dtype: bool"
            ],
            "text/html": [
              "<div>\n",
              "<style scoped>\n",
              "    .dataframe tbody tr th:only-of-type {\n",
              "        vertical-align: middle;\n",
              "    }\n",
              "\n",
              "    .dataframe tbody tr th {\n",
              "        vertical-align: top;\n",
              "    }\n",
              "\n",
              "    .dataframe thead th {\n",
              "        text-align: right;\n",
              "    }\n",
              "</style>\n",
              "<table border=\"1\" class=\"dataframe\">\n",
              "  <thead>\n",
              "    <tr style=\"text-align: right;\">\n",
              "      <th></th>\n",
              "      <th>0</th>\n",
              "    </tr>\n",
              "  </thead>\n",
              "  <tbody>\n",
              "    <tr>\n",
              "      <th>Title</th>\n",
              "      <td>False</td>\n",
              "    </tr>\n",
              "    <tr>\n",
              "      <th>URL</th>\n",
              "      <td>False</td>\n",
              "    </tr>\n",
              "    <tr>\n",
              "      <th>Question</th>\n",
              "      <td>False</td>\n",
              "    </tr>\n",
              "    <tr>\n",
              "      <th>Categories</th>\n",
              "      <td>False</td>\n",
              "    </tr>\n",
              "  </tbody>\n",
              "</table>\n",
              "</div><br><label><b>dtype:</b> bool</label>"
            ]
          },
          "metadata": {},
          "execution_count": 5
        }
      ],
      "source": [
        "# проверка на пропущенные значения\n",
        "stckover_df.isna().any()"
      ]
    },
    {
      "cell_type": "markdown",
      "source": [
        "# Тексты без предобработки"
      ],
      "metadata": {
        "id": "RI3BhixQDyd_"
      }
    },
    {
      "cell_type": "markdown",
      "metadata": {
        "id": "sbUSw1A8_SEE"
      },
      "source": [
        "## CountVectorizer: K-means"
      ]
    },
    {
      "cell_type": "code",
      "execution_count": null,
      "metadata": {
        "collapsed": true,
        "id": "0AC-aSlkixQt"
      },
      "outputs": [],
      "source": [
        "# поскольку у меня крашится память при попытке векторизовать текст, давайте\n",
        "# я немного посмотрю на частотность отдельных токенов, используя токенизацию\n",
        "# через регулярку r\"(?u)\\b\\w\\w+\\b\" (она указана у них в документации как дефолтная\n",
        "# для параметра token_pattern)\n",
        "\n",
        "natural_texts = [text.lower() for text in list(stckover_df.Question)]\n",
        "tokens = [re.findall(r\"(?u)\\b\\w\\w+\\b\", text) for text in natural_texts]\n",
        "# у меня там получился список списков, зафлаттеним это\n",
        "tokens = list(chain.from_iterable(tokens))"
      ]
    },
    {
      "cell_type": "code",
      "execution_count": null,
      "metadata": {
        "id": "8kxJ5CCHyMrd",
        "colab": {
          "base_uri": "https://localhost:8080/"
        },
        "outputId": "63a288a5-630d-49a7-dd2b-c03549929ef0"
      },
      "outputs": [
        {
          "output_type": "execute_result",
          "data": {
            "text/plain": [
              "249841"
            ]
          },
          "metadata": {},
          "execution_count": 11
        }
      ],
      "source": [
        "token_freq = Counter(tokens)\n",
        "len(token_freq)"
      ]
    },
    {
      "cell_type": "code",
      "source": [
        "# ну, мы же не хотим векторы в 249841мерном пространстве, да?\n",
        "display(Image(\"https://memepedia.ru/wp-content/uploads/2021/06/mem-k-luchshemu-verno.jpg\"))"
      ],
      "metadata": {
        "colab": {
          "base_uri": "https://localhost:8080/",
          "height": 419
        },
        "id": "hk1QBRV00ZIu",
        "outputId": "8dc5d2ca-a65f-4a64-e6c3-8c277d17036a"
      },
      "execution_count": null,
      "outputs": [
        {
          "output_type": "display_data",
          "data": {
            "image/jpeg": "[encoded data removed]",
            "text/plain": [
              "<IPython.core.display.Image object>"
            ]
          },
          "metadata": {}
        }
      ]
    },
    {
      "cell_type": "code",
      "execution_count": null,
      "metadata": {
        "colab": {
          "base_uri": "https://localhost:8080/"
        },
        "id": "MI-KN_0wu0bt",
        "outputId": "7b82554b-c45c-40ad-97e1-10d698434b82"
      },
      "outputs": [
        {
          "output_type": "stream",
          "name": "stdout",
          "text": [
            "Если оставить слова с частотой не меньше 0, то останется столько уникальных слов:  249841\n",
            "Если оставить слова с частотой не меньше 1, то останется столько уникальных слов:  249841\n",
            "Если оставить слова с частотой не меньше 2, то останется столько уникальных слов:  122855\n",
            "Если оставить слова с частотой не меньше 3, то останется столько уникальных слов:  77256\n",
            "Если оставить слова с частотой не меньше 4, то останется столько уникальных слов:  57603\n",
            "Если оставить слова с частотой не меньше 5, то останется столько уникальных слов:  44358\n",
            "Если оставить слова с частотой не меньше 6, то останется столько уникальных слов:  37195\n",
            "Если оставить слова с частотой не меньше 7, то останется столько уникальных слов:  31290\n",
            "Если оставить слова с частотой не меньше 8, то останется столько уникальных слов:  27597\n",
            "Если оставить слова с частотой не меньше 9, то останется столько уникальных слов:  24465\n",
            "Если оставить слова с частотой не меньше 10, то останется столько уникальных слов:  22177\n"
          ]
        }
      ],
      "source": [
        "# попробуем взять на борт не всех\n",
        "for i in range(11):\n",
        "    print(f'Если оставить слова с частотой не меньше {i}, то останется столько уникальных слов: ',\n",
        "          len([word for word, freq in token_freq.items() if token_freq[word] >= i]))"
      ]
    },
    {
      "cell_type": "code",
      "execution_count": null,
      "metadata": {
        "id": "6IFKjJOK9JNn",
        "colab": {
          "base_uri": "https://localhost:8080/"
        },
        "outputId": "ae2a0fdf-b704-4046-b5e2-1ce4e1f770b6"
      },
      "outputs": [
        {
          "output_type": "execute_result",
          "data": {
            "text/plain": [
              "(22123, 27597)"
            ]
          },
          "metadata": {},
          "execution_count": 13
        }
      ],
      "source": [
        "# давайте заберем в лучший мир слова, которые встретились хотя бы 8 раз\n",
        "voc = {word: idx for idx, word in enumerate({word for word, freq in token_freq.items() if freq >= 8})}\n",
        "count_vec = CountVectorizer(vocabulary=voc)\n",
        "embeddings = count_vec.fit_transform(stckover_df.Question)\n",
        "embeddings.shape"
      ]
    },
    {
      "cell_type": "markdown",
      "source": [
        "### Функции для дальнейшей работы\n",
        "\n",
        "Я пропишу все это дело уже после того, как сделала один раз кластеризацию. Чтобы не повторять лишний раз код, обернем его в функции"
      ],
      "metadata": {
        "id": "AnHkbxFXDpOJ"
      }
    },
    {
      "cell_type": "code",
      "source": [
        "def get_pca_results(embeddings, n_dim):\n",
        "    decompose = PCA(n_dim)\n",
        "    pca_res = decompose.fit_transform(embeddings)\n",
        "    return pca_res\n",
        "\n",
        "\n",
        "def eval_clusters(pca_res, n_clusters=20):\n",
        "    inertia, silhouette = [], {}\n",
        "    for i in tqdm(range(2,n_clusters)):\n",
        "\n",
        "        kmeans = cluster.KMeans(n_clusters=i,\n",
        "                                init='k-means++',\n",
        "                                n_init=15,\n",
        "                                max_iter=500,\n",
        "                                random_state=17)\n",
        "\n",
        "\n",
        "        kmeans.fit(pca_res)\n",
        "        inertia.append(kmeans.inertia_)\n",
        "        silhouette[i] = silhouette_score(pca_res,\n",
        "                                         kmeans.labels_,\n",
        "                                         metric='euclidean')\n",
        "\n",
        "    return inertia, silhouette\n",
        "\n",
        "\n",
        "def plot_metrics(inertia, silhouette):\n",
        "    sns.set(font_scale=1, rc={'figure.figsize':(10,4)})\n",
        "\n",
        "    plt.subplot(1, 2, 1)\n",
        "\n",
        "    plt.plot(range(2,len(inertia)+2), inertia, marker='x',color='blue')\n",
        "\n",
        "    plt.xlabel('Число кластеров')\n",
        "    plt.title('K-means Inertia',fontweight='bold')\n",
        "    plt.grid(True)\n",
        "\n",
        "    plt.xticks(range(2, len(inertia)+2), fontsize=10)\n",
        "    plt.yticks(fontsize=10)\n",
        "\n",
        "    plt.subplot(1, 2, 2)\n",
        "\n",
        "    plt.bar(range(len(silhouette)), list(silhouette.values()), align='center',color= 'blue')\n",
        "    plt.xticks(range(len(silhouette)), list(silhouette.keys()))\n",
        "    plt.grid(True)\n",
        "    plt.title('Silhouette Score',fontweight='bold')\n",
        "    plt.xlabel('Число кластеров')\n",
        "\n",
        "    plt.show()\n",
        "\n",
        "\n",
        "def get_nearest_texts(model, pca_res, texts=stckover_df.Question, display=True, ret=False):\n",
        "    centroids = model.cluster_centers_\n",
        "    clusters = model.labels_\n",
        "    texts = list(stckover_df.Question)\n",
        "\n",
        "    nearest_texts = {}\n",
        "\n",
        "    for cluster_id in range(model.n_clusters):\n",
        "\n",
        "        cluster_indices = [i for i, label in enumerate(clusters) if label == cluster_id]\n",
        "\n",
        "        distances = euclidean_distances(centroids[cluster_id].reshape(1, -1),\n",
        "                                    pca_res[cluster_indices])\n",
        "\n",
        "        nearest_idx = cluster_indices[distances.argmin()]\n",
        "        nearest_texts[cluster_id] = texts[nearest_idx]\n",
        "\n",
        "    if display == True:\n",
        "        for cluster_id, text in nearest_texts.items():\n",
        "            print(f\"Кластер {cluster_id}: ближайший текст - {text}...\")\n",
        "    if ret == True:\n",
        "        return nearest_texts"
      ],
      "metadata": {
        "id": "iS9aK6GiEEpt"
      },
      "execution_count": null,
      "outputs": []
    },
    {
      "cell_type": "code",
      "execution_count": null,
      "metadata": {
        "id": "qr7bXAzclEBp",
        "colab": {
          "base_uri": "https://localhost:8080/"
        },
        "outputId": "340c2973-635b-407d-ff75-61c3a77aa567"
      },
      "outputs": [
        {
          "output_type": "execute_result",
          "data": {
            "text/plain": [
              "(22123, 3)"
            ]
          },
          "metadata": {},
          "execution_count": 15
        }
      ],
      "source": [
        "# теперь давайте сделаем для всего этого дела PCA, чтобы снизить размерность\n",
        "# нашей... весьма впечатляющей матрицы c 27597мерными эмбеддингами\n",
        "\n",
        "# так уж и быть, обойдемся без визуализации, но сохраним побольше фичей,\n",
        "# это же текст\n",
        "\n",
        "pca_3_result = get_pca_results(embeddings, 3)\n",
        "pca_3_result.shape"
      ]
    },
    {
      "cell_type": "code",
      "execution_count": null,
      "metadata": {
        "colab": {
          "base_uri": "https://localhost:8080/"
        },
        "id": "keV7K0UilZMG",
        "outputId": "bd9a7686-cf61-4c96-d12f-80f4ccb48778"
      },
      "outputs": [
        {
          "output_type": "stream",
          "name": "stderr",
          "text": [
            "\r  0%|          | 0/18 [00:00<?, ?it/s]Exception ignored on calling ctypes callback function: <function ThreadpoolController._find_libraries_with_dl_iterate_phdr.<locals>.match_library_callback at 0x7ce981aefb00>\n",
            "Traceback (most recent call last):\n",
            "  File \"/usr/local/lib/python3.11/dist-packages/threadpoolctl.py\", line 1005, in match_library_callback\n",
            "    self._make_controller_from_path(filepath)\n",
            "  File \"/usr/local/lib/python3.11/dist-packages/threadpoolctl.py\", line 1187, in _make_controller_from_path\n",
            "    lib_controller = controller_class(\n",
            "                     ^^^^^^^^^^^^^^^^^\n",
            "  File \"/usr/local/lib/python3.11/dist-packages/threadpoolctl.py\", line 114, in __init__\n",
            "    self.dynlib = ctypes.CDLL(filepath, mode=_RTLD_NOLOAD)\n",
            "                  ^^^^^^^^^^^^^^^^^^^^^^^^^^^^^^^^^^^^^^^^\n",
            "  File \"/usr/lib/python3.11/ctypes/__init__.py\", line 376, in __init__\n",
            "    self._handle = _dlopen(self._name, mode)\n",
            "                   ^^^^^^^^^^^^^^^^^^^^^^^^^\n",
            "OSError: dlopen() error\n",
            "100%|██████████| 18/18 [02:12<00:00,  7.34s/it]\n"
          ]
        }
      ],
      "source": [
        "# ну все, живем, давайте подбирать оптимальное количество кластеров сначала\n",
        "# через инерцию, а потом через силуэты\n",
        "\n",
        "inertia, silhouette = eval_clusters(pca_3_result)"
      ]
    },
    {
      "cell_type": "code",
      "source": [
        "# визуализируем\n",
        "plot_metrics(inertia, silhouette)"
      ],
      "metadata": {
        "colab": {
          "base_uri": "https://localhost:8080/",
          "height": 419
        },
        "id": "ylErLv_M83q8",
        "outputId": "4fa1a25f-6659-4f21-e489-714aa6abd569"
      },
      "execution_count": null,
      "outputs": [
        {
          "output_type": "display_data",
          "data": {
            "text/plain": [
              "<Figure size 1000x400 with 2 Axes>"
            ],
            "image/png": "[encoded data removed]"
          },
          "metadata": {}
        }
      ]
    },
    {
      "cell_type": "code",
      "source": [
        "# давайте сделаем кластеризацию с числом кластеров равным 3\n",
        "kmeans_cv = cluster.KMeans(n_clusters=3,\n",
        "                        random_state=17,\n",
        "                        init='k-means++')\n",
        "\n",
        "kmeans_cv_labels = kmeans_cv.fit_predict(pca_3_result)\n",
        "\n",
        "display(pd.Series(kmeans_cv_labels).value_counts())"
      ],
      "metadata": {
        "colab": {
          "base_uri": "https://localhost:8080/",
          "height": 178
        },
        "id": "uwHrZm0K9lPN",
        "outputId": "aed45030-9655-42eb-bb92-84fe764c99fb"
      },
      "execution_count": null,
      "outputs": [
        {
          "output_type": "display_data",
          "data": {
            "text/plain": [
              "0    22099\n",
              "2       23\n",
              "1        1\n",
              "Name: count, dtype: int64"
            ],
            "text/html": [
              "<div>\n",
              "<style scoped>\n",
              "    .dataframe tbody tr th:only-of-type {\n",
              "        vertical-align: middle;\n",
              "    }\n",
              "\n",
              "    .dataframe tbody tr th {\n",
              "        vertical-align: top;\n",
              "    }\n",
              "\n",
              "    .dataframe thead th {\n",
              "        text-align: right;\n",
              "    }\n",
              "</style>\n",
              "<table border=\"1\" class=\"dataframe\">\n",
              "  <thead>\n",
              "    <tr style=\"text-align: right;\">\n",
              "      <th></th>\n",
              "      <th>count</th>\n",
              "    </tr>\n",
              "  </thead>\n",
              "  <tbody>\n",
              "    <tr>\n",
              "      <th>0</th>\n",
              "      <td>22099</td>\n",
              "    </tr>\n",
              "    <tr>\n",
              "      <th>2</th>\n",
              "      <td>23</td>\n",
              "    </tr>\n",
              "    <tr>\n",
              "      <th>1</th>\n",
              "      <td>1</td>\n",
              "    </tr>\n",
              "  </tbody>\n",
              "</table>\n",
              "</div><br><label><b>dtype:</b> int64</label>"
            ]
          },
          "metadata": {}
        }
      ]
    },
    {
      "cell_type": "code",
      "source": [
        "# ищем центроиды\n",
        "get_nearest_texts(kmeans_cv, pca_3_result, display=True)"
      ],
      "metadata": {
        "id": "Sis0TFq7J_b2",
        "colab": {
          "base_uri": "https://localhost:8080/"
        },
        "outputId": "a94040c8-4525-4d75-a9ce-213631370f98"
      },
      "execution_count": null,
      "outputs": [
        {
          "output_type": "stream",
          "name": "stdout",
          "text": [
            "Кластер 0: ближайший текст - The bounty expires in 4 days. Answers to this question are eligible for a +400 reputation bounty. Basj is looking for a canonical answer.I am sending 10 HTTP requests per second between Python Bottle server and a browser client with JS:import bottle, timeapp = bottle.Bottle()@bottle.route('/')def index():    return \"\"\"<script>var i = 0;setInterval(() => {    i += 1;    let i2 = i;    console.log(\"sending request\", i2);    fetch(\"/data\")        .then((r) => r.text())        .then((arr) => {            console.log(\"finished processing\", i2);        });}, 100);</script>\"\"\"@bottle.route('/data')def data():    return \"abcd\"bottle.run(port=80)The result is rather poor:sending request 1sending request 2sending request 3sending request 4finished processing 1sending request 5sending request 6sending request 7finished processing 2sending request 8sending request 9sending request 10finished processing 3sending request 11sending request 12Why does it fail to process 10 requests per second successfully (on an average i5 computer): is there a known bottleneck in my code?Where are the 100 ms lost per request, that prevent the program to keep a normal pace like:sending request 1finished processing 1sending request 2finished processing 2sending request 3finished processing 3?Notes:Tested with Flask instead of Bottle and the problem is similarIs there a simple way to get this working:without having to either monkey patch the Python stdlib (with from gevent import monkey; monkey.patch_all()),and without using a much more complex setup with Gunicorn or similar (not easy at all on Windows)??...\n",
            "Кластер 1: ближайший текст - I want to find the mean (for numerical variables) and mode (for character variables) for each of the variables under column \"trait_name\" for each unique \"taxon_name\". I would then like to tabulate these values.This is what my dataframe looks like currently (I also have a wide version):This is my desired output:I've written code that manually calculates the mean and mode for each \"trait_name\" per \"taxon_name\" as follows:# create mode functionfind.mode <- function(x, na.rm = TRUE) {    if(na.rm){     x = x[!is.na(x)]  }    val <- unique(x)  return(val[which.max(tabulate(match(x, val)))])}# MEAN AND MODE OF TRAITS## Acacia implexa acacia_mass <- mean(species_traits_wide$seed_dry_mass[species_traits_wide$taxon_name == \"Acacia implexa\"], na.rm = TRUE)acacia_length <- mean(species_traits_wide$seed_length[species_traits_wide$taxon_name == \"Acacia implexa\"], na.rm = TRUE)acacia_form <- find.mode(species_traits_wide$plant_growth_form[species_traits_wide$taxon_name == \"Acacia implexa\"])acacia_dormancy <- find.mode(species_traits_wide$seed_dormancy_class[species_traits_wide$taxon_name == \"Acacia implexa\"])acacia_treatment <- find.mode(species_traits_wide$seed_germination_treatment[species_traits_wide$taxon_name == \"Acacia implexa\"])But I need to automate the process for all species in the dataframe/any new species I wish to adddf <- structure(list(...1 = c(1, 2, 3, 4, 5, 6, 7, 8, 9, 10, 11, 12, 13, 14, 15, 16, 17, 18, 19, 20, 21, 22, 23, 24, 25, 26, 27, 28, 29, 30, 31, 32, 33, 34, 35, 36, 37, 38, 39, 40, 41, 42, 43, 44, 45, 46, 47, 48, 49, 50, 51, 52, 53, 54, 55, 56, 57, 58, 59, 60, 61, 62, 63, 64, 65, 66, 67, 68, 69, 70, 71, 72, 73, 74, 75, 76, 77, 78, 79, 80, 81, 82, 83, 84, 85, 86, 87, 88, 89, 90, 91, 92, 93, 94, 95, 96, 97, 98, 99, 100, 101, 102, 103, 104, 105, 106, 107, 108, 109, 110, 111, 112, 113, 114, 115, 116, 117, 118, 119, 120, 121, 122, 123, 124, 125, 126, 127, 128, 129, 130, 131, 132, 133, 134, 135, 136, 137, 138, 139, 140, 141, 142, 143, 144, 145, 146, 147, 148, 149, 150, 151, 152, 153, 154, 155, 156, 157, 158, 159, 160, 161, 162, 163, 164, 165, 166, 167, 168, 169, 170, 171, 172, 173, 174, 175, 176, 177, 178, 179, 180, 181, 182, 183, 184, 185, 186, 187, 188, 189, 190, 191, 192, 193, 194, 195, 196, 197, 198, 199, 200, 201, 202, 203, 204, 205, 206, 207, 208, 209, 210, 211, 212, 213, 214, 215, 216, 217, 218, 219, 220, 221, 222, 223, 224, 225, 226, 227, 228, 229, 230, 231, 232, 233, 234, 235, 236, 237, 238, 239, 240, 241, 242, 243, 244, 245, 246, 247, 248, 249, 250, 251, 252, 253, 254, 255, 256, 257, 258, 259, 260, 261, 262, 263, 264, 265, 266, 267, 268, 269, 270, 271, 272, 273, 274, 275, 276, 277, 278, 279, 280, 281, 282, 283, 284, 285, 286, 287, 288, 289, 290, 291, 292, 293, 294, 295, 296, 297, 298, 299, 300, 301, 302, 303, 304, 305, 306, 307, 308, 309, 310, 311, 312, 313, 314, 315, 316, 317, 318, 319, 320, 321, 322, 323, 324, 325, 326, 327, 328, 329, 330, 331, 332, 333, 334, 335, 336, 337, 338, 339, 340, 341, 342, 343, 344, 345, 346, 347, 348, 349, 350, 351, 352, 353, 354, 355, 356, 357, 358, 359, 360, 361, 362, 363, 364, 365, 366, 367, 368, 369, 370, 371, 372, 373, 374, 375, 376, 377, 378, 379, 380, 381, 382, 383, 384, 385, 386, 387, 388, 389, 390, 391, 392, 393, 394, 395, 396, 397, 398, 399, 400, 401, 402, 403, 404, 405, 406, 407, 408, 409, 410, 411, 412, 413, 414, 415, 416, 417, 418, 419, 420, 421, 422, 423, 424, 425, 426, 427, 428, 429, 430, 431, 432, 433, 434, 435, 436, 437, 438, 439, 440, 441, 442, 443, 444, 445, 446, 447, 448, 449, 450, 451), taxon_name = c(\"Acacia implexa\", \"Acacia implexa\", \"Acacia implexa\", \"Acacia implexa\", \"Acacia implexa\", \"Acacia implexa\", \"Acacia implexa\", \"Acacia implexa\", \"Acacia implexa\", \"Acacia implexa\", \"Acacia implexa\", \"Acacia implexa\", \"Acacia implexa\", \"Acacia implexa\", \"Acacia implexa\", \"Acacia implexa\", \"Acacia implexa\", \"Acacia implexa\", \"Acacia implexa\", \"Acacia implexa\", \"Acacia implexa\", \"Acacia implexa\", \"Acacia implexa\", \"Acacia implexa\", \"Acacia implexa\", \"Acacia implexa\", \"Acacia implexa\", \"Acacia implexa\", \"Acacia implexa\", \"Acacia implexa\", \"Acacia implexa\", \"Acacia implexa\", \"Acacia implexa\", \"Acacia implexa\", \"Acacia implexa\", \"Acacia implexa\", \"Acacia implexa\", \"Acacia implexa\", \"Acacia implexa\", \"Acacia implexa\", \"Acacia implexa\", \"Acacia implexa\", \"Acacia implexa\", \"Acacia implexa\", \"Acacia implexa\", \"Acacia implexa\", \"Acacia implexa\", \"Acacia implexa\", \"Acacia implexa\", \"Acacia implexa\", \"Acacia implexa\", \"Acacia implexa\", \"Acacia implexa\", \"Acacia implexa\", \"Acacia implexa\", \"Acacia implexa\", \"Acacia implexa\", \"Acacia implexa\", \"Acacia implexa\", \"Acacia implexa\", \"Acacia implexa\", \"Acacia implexa\", \"Acacia implexa\", \"Acacia implexa\", \"Acacia implexa\", \"Acacia implexa\", \"Acacia implexa\", \"Acacia implexa\", \"Acacia implexa\", \"Acacia implexa\", \"Acacia implexa\", \"Acacia implexa\", \"Acacia implexa\", \"Acacia implexa\", \"Acacia implexa\", \"Acacia implexa\", \"Acacia implexa\", \"Acacia implexa\", \"Acacia implexa\", \"Acacia implexa\", \"Acacia implexa\", \"Acacia implexa\", \"Acacia implexa\", \"Acacia implexa\", \"Acacia implexa\", \"Acacia implexa\", \"Acacia implexa\", \"Acacia implexa\", \"Acacia implexa\", \"Acacia implexa\", \"Acacia implexa\", \"Acacia implexa\", \"Acacia implexa\", \"Acacia implexa\", \"Acacia implexa\", \"Acacia implexa\", \"Acacia implexa\", \"Acacia implexa\", \"Acacia implexa\", \"Acacia implexa\", \"Acacia implexa\", \"Acacia implexa\", \"Acacia implexa\", \"Acacia implexa\", \"Acacia implexa\", \"Acacia implexa\", \"Acacia implexa\", \"Acacia implexa\", \"Acacia implexa\", \"Acacia implexa\", \"Acacia implexa\", \"Acacia implexa\", \"Acacia implexa\", \"Acacia implexa\", \"Acacia implexa\", \"Acacia implexa\", \"Acacia implexa\", \"Acacia implexa\", \"Acacia implexa\", \"Acacia implexa\", \"Acacia implexa\", \"Acacia implexa\", \"Acacia implexa\", \"Acacia implexa\", \"Acacia implexa\", \"Casuarina cunninghamiana\", \"Casuarina cunninghamiana\", \"Casuarina cunninghamiana\", \"Casuarina cunninghamiana\", \"Casuarina cunninghamiana\", \"Casuarina cunninghamiana\", \"Casuarina cunninghamiana\", \"Casuarina cunninghamiana\", \"Casuarina cunninghamiana\", \"Casuarina cunninghamiana\", \"Casuarina cunninghamiana\", \"Casuarina cunninghamiana\", \"Casuarina cunninghamiana\", \"Casuarina cunninghamiana\", \"Casuarina cunninghamiana\", \"Casuarina cunninghamiana\", \"Casuarina cunninghamiana\", \"Casuarina cunninghamiana\", \"Casuarina cunninghamiana\", \"Casuarina cunninghamiana\", \"Casuarina cunninghamiana\", \"Casuarina cunninghamiana\", \"Casuarina cunninghamiana\", \"Casuarina cunninghamiana\", \"Casuarina cunninghamiana\", \"Casuarina cunninghamiana\", \"Casuarina cunninghamiana\", \"Casuarina cunninghamiana\", \"Casuarina cunninghamiana\", \"Casuarina cunninghamiana\", \"Casuarina cunninghamiana\", \"Casuarina cunninghamiana\", \"Casuarina cunninghamiana\", \"Casuarina cunninghamiana\", \"Casuarina cunninghamiana\", \"Casuarina cunninghamiana\", \"Casuarina cunninghamiana\", \"Casuarina cunninghamiana\", \"Casuarina cunninghamiana\", \"Casuarina cunninghamiana\", \"Casuarina cunninghamiana\", \"Casuarina cunninghamiana\", \"Casuarina cunninghamiana\", \"Casuarina cunninghamiana\", \"Casuarina cunninghamiana\", \"Casuarina cunninghamiana\", \"Casuarina cunninghamiana\", \"Casuarina cunninghamiana\", \"Casuarina cunninghamiana\", \"Casuarina cunninghamiana\", \"Casuarina cunninghamiana\", \"Casuarina cunninghamiana\", \"Casuarina cunninghamiana\", \"Casuarina cunninghamiana\", \"Casuarina cunninghamiana\", \"Casuarina cunninghamiana\", \"Casuarina cunninghamiana\", \"Casuarina cunninghamiana\", \"Casuarina cunninghamiana\", \"Casuarina cunninghamiana\", \"Casuarina cunninghamiana\", \"Casuarina cunninghamiana\", \"Casuarina cunninghamiana\", \"Casuarina cunninghamiana\", \"Casuarina cunninghamiana\", \"Casuarina cunninghamiana\", \"Casuarina cunninghamiana\", \"Casuarina cunninghamiana\", \"Casuarina cunninghamiana\", \"Casuarina cunninghamiana\", \"Casuarina cunninghamiana\", \"Casuarina cunninghamiana\", \"Casuarina cunninghamiana\", \"Casuarina cunninghamiana\", \"Casuarina cunninghamiana\", \"Casuarina cunninghamiana\", \"Casuarina cunninghamiana\", \"Casuarina cunninghamiana\", \"Casuarina cunninghamiana\", \"Casuarina cunninghamiana\", \"Casuarina cunninghamiana\", \"Casuarina cunninghamiana\", \"Casuarina cunninghamiana\", \"Casuarina cunninghamiana\", \"Casuarina cunninghamiana\", \"Casuarina cunninghamiana\", \"Casuarina cunninghamiana\", \"Casuarina cunninghamiana\", \"Casuarina cunninghamiana\", \"Casuarina cunninghamiana\", \"Casuarina cunninghamiana\", \"Casuarina cunninghamiana\", \"Casuarina cunninghamiana\", \"Casuarina cunninghamiana\", \"Casuarina cunninghamiana\", \"Casuarina cunninghamiana\", \"Casuarina cunninghamiana\", \"Casuarina cunninghamiana\", \"Casuarina cunninghamiana\", \"Casuarina cunninghamiana\", \"Casuarina cunninghamiana\", \"Casuarina cunninghamiana\", \"Casuarina cunninghamiana\", \"Casuarina cunninghamiana\", \"Casuarina cunninghamiana\", \"Casuarina cunninghamiana\", \"Casuarina cunninghamiana\", \"Casuarina cunninghamiana\", \"Casuarina cunninghamiana\", \"Casuarina cunninghamiana\", \"Casuarina cunninghamiana\", \"Casuarina cunninghamiana\", \"Casuarina cunninghamiana\", \"Casuarina cunninghamiana\", \"Casuarina cunninghamiana\", \"Casuarina cunninghamiana\", \"Casuarina cunninghamiana\", \"Casuarina cunninghamiana\", \"Casuarina cunninghamiana\", \"Casuarina cunninghamiana\", \"Casuarina cunninghamiana\", \"Eucalyptus viminalis\", \"Eucalyptus viminalis\", \"Eucalyptus viminalis\", \"Eucalyptus viminalis\", \"Eucalyptus viminalis\", \"Eucalyptus viminalis\", \"Eucalyptus viminalis\", \"Eucalyptus viminalis\", \"Eucalyptus viminalis\", \"Eucalyptus viminalis\", \"Eucalyptus viminalis\", \"Eucalyptus viminalis\", \"Eucalyptus viminalis\", \"Eucalyptus viminalis\", \"Eucalyptus viminalis\", \"Eucalyptus viminalis\", \"Eucalyptus viminalis\", \"Eucalyptus viminalis\", \"Eucalyptus viminalis\", \"Eucalyptus viminalis\", \"Eucalyptus viminalis\", \"Eucalyptus viminalis\", \"Eucalyptus viminalis\", \"Eucalyptus viminalis\", \"Eucalyptus viminalis\", \"Eucalyptus viminalis\", \"Eucalyptus viminalis\", \"Eucalyptus viminalis\", \"Hardenbergia violacea\", \"Hardenbergia violacea\", \"Hardenbergia violacea\", \"Hardenbergia violacea\", \"Hardenbergia violacea\", \"Hardenbergia violacea\", \"Hardenbergia violacea\", \"Hardenbergia violacea\", \"Hardenbergia violacea\", \"Hardenbergia violacea\", \"Hardenbergia violacea\", \"Hardenbergia violacea\", \"Hardenbergia violacea\", \"Hardenbergia violacea\", \"Hardenbergia violacea\", \"Hardenbergia violacea\", \"Hardenbergia violacea\", \"Hardenbergia violacea\", \"Hardenbergia violacea\", \"Hardenbergia violacea\", \"Hardenbergia violacea\", \"Hardenbergia violacea\", \"Hardenbergia violacea\", \"Hardenbergia violacea\", \"Hardenbergia violacea\", \"Hardenbergia violacea\", \"Hardenbergia violacea\", \"Hardenbergia violacea\", \"Hardenbergia violacea\", \"Hardenbergia violacea\", \"Hardenbergia violacea\", \"Hardenbergia violacea\", \"Hardenbergia violacea\", \"Hardenbergia violacea\", \"Hardenbergia violacea\", \"Hardenbergia violacea\", \"Hardenbergia violacea\", \"Hardenbergia violacea\", \"Hardenbergia violacea\", \"Hardenbergia violacea\", \"Hardenbergia violacea\", \"Hardenbergia violacea\", \"Hardenbergia violacea\", \"Hardenbergia violacea\", \"Hardenbergia violacea\", \"Hardenbergia violacea\", \"Hardenbergia violacea\", \"Hardenbergia violacea\", \"Hardenbergia violacea\", \"Hardenbergia violacea\", \"Hardenbergia violacea\", \"Hardenbergia violacea\", \"Hardenbergia violacea\", \"Hardenbergia violacea\", \"Hardenbergia violacea\", \"Hardenbergia violacea\", \"Hardenbergia violacea\", \"Hardenbergia violacea\", \"Hardenbergia violacea\", \"Hardenbergia violacea\", \"Hardenbergia violacea\", \"Hardenbergia violacea\", \"Hardenbergia violacea\", \"Hardenbergia violacea\", \"Hardenbergia violacea\", \"Hardenbergia violacea\", \"Hardenbergia violacea\", \"Hardenbergia violacea\", \"Hardenbergia violacea\", \"Hardenbergia violacea\", \"Hardenbergia violacea\", \"Hardenbergia violacea\", \"Hardenbergia violacea\", \"Hardenbergia violacea\", \"Hardenbergia violacea\", \"Hardenbergia violacea\", \"Hardenbergia violacea\", \"Hardenbergia violacea\", \"Hardenbergia violacea\", \"Hardenbergia violacea\", \"Hardenbergia violacea\", \"Hardenbergia violacea\", \"Hardenbergia violacea\", \"Hardenbergia violacea\", \"Hardenbergia violacea\", \"Hardenbergia violacea\", \"Hardenbergia violacea\", \"Hardenbergia violacea\", \"Hardenbergia violacea\", \"Hardenbergia violacea\", \"Hardenbergia violacea\", \"Hardenbergia violacea\", \"Hardenbergia violacea\", \"Hardenbergia violacea\", \"Hardenbergia violacea\", \"Hardenbergia violacea\", \"Hardenbergia violacea\", \"Hardenbergia violacea\", \"Hardenbergia violacea\", \"Hardenbergia violacea\", \"Hardenbergia violacea\", \"Hardenbergia violacea\", \"Hardenbergia violacea\", \"Hardenbergia violacea\", \"Hardenbergia violacea\", \"Hardenbergia violacea\", \"Hardenbergia violacea\", \"Hardenbergia violacea\", \"Hardenbergia violacea\", \"Hardenbergia violacea\", \"Hardenbergia violacea\", \"Hardenbergia violacea\", \"Hardenbergia violacea\", \"Hardenbergia violacea\", \"Hardenbergia violacea\", \"Hardenbergia violacea\", \"Hardenbergia violacea\", \"Hardenbergia violacea\", \"Hardenbergia violacea\", \"Hardenbergia violacea\", \"Hardenbergia violacea\", \"Hardenbergia violacea\", \"Hardenbergia violacea\", \"Themeda triandra\", \"Themeda triandra\", \"Themeda triandra\", \"Themeda triandra\", \"Themeda triandra\", \"Themeda triandra\", \"Themeda triandra\", \"Themeda triandra\", \"Themeda triandra\", \"Themeda triandra\", \"Themeda triandra\", \"Themeda triandra\", \"Themeda triandra\", \"Themeda triandra\", \"Themeda triandra\", \"Themeda triandra\", \"Themeda triandra\", \"Themeda triandra\", \"Themeda triandra\", \"Themeda triandra\", \"Themeda triandra\", \"Themeda triandra\", \"Themeda triandra\", \"Themeda triandra\", \"Themeda triandra\", \"Themeda triandra\", \"Themeda triandra\", \"Themeda triandra\", \"Themeda triandra\", \"Themeda triandra\", \"Themeda triandra\", \"Themeda triandra\", \"Themeda triandra\", \"Themeda triandra\", \"Themeda triandra\", \"Themeda triandra\", \"Themeda triandra\", \"Themeda triandra\", \"Themeda triandra\", \"Themeda triandra\", \"Themeda triandra\", \"Themeda triandra\", \"Themeda triandra\", \"Themeda triandra\", \"Themeda triandra\", \"Themeda triandra\", \"Themeda triandra\", \"Themeda triandra\", \"Themeda triandra\", \"Themeda triandra\", \"Themeda triandra\", \"Themeda triandra\", \"Themeda triandra\", \"Themeda triandra\"), plant_growth_form = c(\"tree\", \"shrub\", \"tree\", NA, NA, \"tree\", NA, NA, NA, NA, \"tree\", NA, NA, \"shrub tree\", NA, \"tree\", NA, \"tree\", \"tree\", NA, NA, NA, NA, NA, NA, NA, NA, NA, NA, NA, NA, NA, NA, NA, NA, NA, NA, NA, NA, NA, NA, NA, NA, NA, NA, NA, NA, NA, NA, NA, NA, NA, NA, NA, NA, NA, NA, NA, NA, NA, NA, NA, NA, NA, NA, NA, NA, NA, NA, NA, NA, NA, NA, NA, NA, NA, NA, NA, NA, NA, NA, NA, NA, NA, NA, NA, NA, NA, NA, NA, NA, NA, NA, NA, NA, NA, NA, NA, NA, NA, NA, NA, NA, NA, NA, NA, NA, NA, NA, NA, NA, NA, NA, NA, NA, NA, NA, NA, NA, NA, NA, \"shrub tree\", \"shrub tree\", \"tree\", \"tree\", \"tree\", \"tree\", \"tree\", \"tree\", \"tree\", \"tree\", NA, NA, NA, NA, \"tree\", NA, NA, \"tree\", \"tree\", \"tree\", NA, NA, NA, NA, NA, NA, NA, NA, NA, NA, NA, NA, NA, NA, NA, NA, NA, NA, NA, NA, NA, NA, NA, NA, NA, NA, NA, NA, NA, NA, NA, NA, NA, NA, NA, NA, NA, NA, NA, NA, NA, NA, NA, NA, NA, NA, NA, NA, NA, NA, NA, NA, NA, NA, NA, NA, NA, NA, NA, NA, NA, NA, NA, NA, NA, NA, NA, NA, NA, NA, NA, NA, NA, NA, NA, NA, NA, NA, NA, NA, NA, NA, NA, NA, NA, NA, NA, NA, NA, NA, NA, NA, NA, NA, NA, NA, NA, NA, NA, NA, NA, \"tree\", \"tree\", \"tree\", \"tree\", \"tree\", NA, \"tree\", \"tree\", NA, NA, NA, NA, NA, NA, NA, NA, NA, NA, NA, NA, NA, \"tree\", NA, \"tree\", \"tree\", \"tree\", \"tree\", \"tree\", \"tree\", \"tree\", \"tree\", \"tree\", NA, NA, \"climber_herbaceous\", \"climber\", \"climber\", \"climber_herbaceous\", \"climber\", NA, NA, NA, NA, NA, NA, NA, \"climber_herbaceous\", NA, NA, \"climber\", \"shrub\", NA, \"subshrub\", \"shrub\", \"shrub\", NA, NA, NA, NA, NA, NA, NA, NA, NA, NA, NA, NA, NA, NA, NA, NA, NA, NA, NA, NA, NA, NA, NA, NA, NA, NA, NA, NA, NA, NA, NA, NA, NA, NA, NA, NA, NA, NA, NA, NA, NA, NA, NA, NA, NA, NA, NA, NA, NA, NA, NA, NA, NA, NA, NA, NA, NA, NA, NA, NA, NA, NA, NA, NA, NA, NA, NA, NA, NA, NA, NA, NA, NA, NA, NA, NA, NA, NA, NA, NA, NA, NA, NA, NA, NA, NA, NA, NA, NA, NA, NA, NA, \"subshrub\", \"subshrub\", \"climber_woody\", \"climber_herbaceous herb subshrub\", \"climber\", \"climber\", NA, \"climber\", NA, NA, NA, NA, NA, NA, NA, NA, NA, \"tussock\", NA, NA, NA, NA, NA, NA, NA, NA, NA, NA, NA, NA, NA, NA, NA, NA, NA, NA, NA, NA, NA, NA, NA, NA, NA, NA, \"graminoid\", \"tussock\", NA, \"herb\", \"graminoid herb\", \"herb\", NA, \"graminoid herb\", \"graminoid herb\", \"graminoid\", \"herb\", \"graminoid\", \"graminoid\", \"graminoid herb\", \"tussock\", \"graminoid\", \"tussock\", \"tussock\"), seed_dormancy_class = c(NA, NA, NA, NA, NA, NA, NA, NA, NA, NA, NA, NA, NA, NA, NA, NA, NA, NA, NA, NA, NA, NA, NA, NA, NA, NA, NA, NA, NA, NA, NA, NA, NA, NA, NA, NA, NA, NA, NA, NA, NA, NA, NA, NA, NA, NA, NA, NA, NA, NA, NA, NA, NA, NA, NA, NA, NA, NA, NA, NA, NA, NA, NA, NA, NA, NA, NA, NA, NA, NA, NA, NA, NA, NA, NA, NA, NA, NA, NA, NA, NA, NA, NA, NA, NA, NA, NA, NA, NA, NA, NA, NA, NA, NA, NA, NA, NA, NA, NA, NA, NA, NA, NA, NA, NA, NA, NA, NA, NA, NA, NA, NA, NA, NA, NA, NA, NA, NA, NA, NA, \"physical_dormancy\", NA, NA, NA, NA, NA, NA, NA, NA, NA, NA, NA, NA, NA, NA, NA, NA, NA, NA, NA, NA, NA, NA, NA, NA, NA, NA, NA, NA, NA, NA, NA, NA, NA, NA, NA, NA, NA, NA, NA, NA, NA, NA, NA, NA, NA, NA, NA, NA, NA, NA, NA, NA, NA, NA, NA, NA, NA, NA, NA, NA, NA, NA, NA, NA, NA, NA, NA, NA, NA, NA, NA, NA, NA, NA, NA, NA, NA, NA, NA, NA, NA, NA, NA, NA, NA, NA, NA, NA, NA, NA, NA, NA, NA, NA, NA, NA, NA, NA, NA, NA, NA, NA, NA, NA, NA, NA, NA, NA, NA, NA, NA, NA, NA, NA, NA, NA, NA, NA, NA, NA, \"non_dormant\", NA, NA, NA, NA, NA, NA, NA, NA, NA, NA, NA, NA, NA, NA, NA, NA, NA, NA, NA, NA, NA, NA, NA, NA, NA, NA, NA, NA, NA, NA, NA, NA, NA, NA, NA, NA, NA, NA, NA, NA, NA, NA, NA, NA, NA, NA, NA, NA, NA, NA, NA, NA, NA, NA, NA, NA, NA, NA, NA, NA, NA, NA, NA, NA, NA, NA, NA, NA, NA, NA, NA, NA, NA, NA, NA, NA, NA, NA, NA, NA, NA, NA, NA, NA, NA, NA, NA, NA, NA, NA, NA, NA, NA, NA, NA, NA, NA, NA, NA, NA, NA, NA, NA, NA, NA, NA, NA, NA, NA, NA, NA, NA, NA, NA, NA, NA, NA, NA, NA, NA, NA, NA, NA, NA, NA, NA, NA, NA, NA, NA, NA, NA, NA, NA, NA, NA, NA, NA, NA, NA, NA, NA, NA, NA, NA, NA, \"physical_dormancy\", NA, NA, NA, NA, NA, NA, NA, NA, NA, NA, NA, NA, NA, NA, NA, NA, NA, NA, NA, NA, NA, NA, NA, NA, NA, NA, NA, NA, NA, NA, NA, NA, NA, NA, NA, NA, NA, NA, NA, NA, NA, NA, NA, NA, NA, NA, NA, NA, NA, NA, NA, NA, NA, NA, NA, NA, NA, NA, NA, NA, NA, NA), seed_dry_mass = c(NA, NA, NA, NA, NA, NA, 13.9712, 17.8, 19.84, 22.86, NA, NA, NA, NA, NA, NA, 28.39, NA, NA, NA, 11.14, 10.14, 11.12, 9.92, 9.78, 11.2, 8.816, 11.012, 8.72, 10.428, 6.088, 9.164, 10.14, 9.876, 8.632, 9.068, 9.86, 8.328, 8.196, 5, 9.36, 9.104, 9.504, 8.76, 9.152, 9.036, 8.276, 9.744, 9.296, 10.04, 10.232, 10.616, 8.712, 9.364, 8.608, 10.736, 6.164, 7.672, 7.98, 6.564, 7.644, 9.552, 10.344, 10.976, 7.376, 8.924, 8.484, 7.812, 7.172, 8.268, 7.012, 9.416, 5.904, 10.14, 7.66, 7.92, 9.688, 10.2, 6.008, 8.872, 7.788, 6.448, 7.416, 10.612, 6.808, 8.4, 7.716, 8.268, 10.12, 7.92, 7.84, 5.78, 8.956, 7.852, 9.644, 7.296, 7.484, 6.832, 5.752, 7.064, 10.268, 6.752, 9.276, 4.82, 7.284, 8.304, 7.944, 6.936, 7.148, 7.864, 8.172, 6.22, 8.372, 8.6, 8.932, 6.592, 6.54, 5.784, 5.88, 6.164, NA, NA, NA, NA, NA, NA, NA, NA, NA, NA, NA, 0.26, 0.631, 1.59, 3.81, NA, NA, NA, NA, NA, NA, 0.6698, 0.7136, 0.8638, 0.6398, 0.6592, 0.738, 0.5688, 0.89, 0.8054, 0.5736, 0.9084, 0.7104, 0.735, 0.7226, 0.6748, 0.742, 0.8002, 0.916, 0.7606, 0.5774, 0.595, 0.6756, 0.7222, 0.9476, 0.8242, 0.6502, 0.4944, 0.6392, 0.8068, 0.6578, 0.6546, 0.5928, 0.7562, 0.7618, 0.6378, 0.7154, 0.8028, 0.3886, 0.7974, 0.6492, 0.5052, 0.7518, 0.7036, 0.5704, 0.8062, 0.777, 0.7558, 0.6666, 0.6418, 0.848, 0.5736, 0.3088, 0.7134, 0.5522, 0.7382, 0.9686, 0.3278, 0.718, 0.5976, 0.5234, 0.4762, 0.456, 0.5732, 0.3338, 0.523, 0.8498, 0.3254, 0.4948, 0.514, 0.256, 0.5336, 0.3958, 0.5152, 0.4308, 0.409, 0.552, 0.466, 0.4842, 0.5292, 0.339, 0.2946, 0.4286, 0.2836, 0.3872, 0.2828, 0.5202, 0.3278, 0.4602, 0.349, 0.3206, 0.471, 0.2248, 0.3384, 0.49, 0.6982, 0.3084, 0.3388, 0.4416, 0.7154, 0.8142, NA, NA, NA, NA, NA, NA, NA, NA, NA, 0.55, 0.6036, 0.6352, 0.67, 0.7312, 1.06, 1.1, 2.79, 2.86, 7.83, 150, 173, 600, NA, 0.731, NA, NA, NA, NA, NA, NA, NA, NA, NA, 22.303, NA, NA, NA, NA, NA, NA, NA, 12.371, 12.728, 13.3904, 22, 26.3788, 29.6068, NA, NA, NA, NA, NA, 35.03, NA, NA, NA, NA, 25.4, 20, 20.6, 11.4, 24.8, 18.8, 25.8, 9, 18.2, 19.8, 15.4, 16.7, 17.1, 10.8, 22.6, 18.1, 15.1, 19.7, 9.5, 8.7, 11.7, 22.4, 15.5, 22.5, 18.4, 16.1, 15.7, 20.8, 19.7, 19.4, 24.2, 19.4, 23.8, 17, 14.5, 24.9, 14.2, 21.8, 9.9, 20.1, 20.1, 19.4, 23.6, 18.2, 14, 11.4, 18.7, 14.8, 10.7, 19.5, 18.6, 19.1, 21, 25, 24, 19, 17.8, 17.2, 22.9, 16.6, 17.9, 16.5, 13.9, 12.6, 20.6, 15.6, 18.3, 20.6, 18.1, 5, 5.7, 18.8, 19.9, 18, 19.9, 17.4, 18.1, 22.1, 12.4, 23.5, 18.9, 8.4, 16, 17.7, 16.2, 19.6, 23.5, 9.6, 10.9, 6.5, NA, NA, NA, NA, NA, NA, NA, 39.64, NA, 3.36, 39, 3.2, NA, 4.11, 4.5879, 2.1436, 3.79, 2.9, NA, 3.85, NA, 1.6, 1.8, 1.975, 2, 2.2, 2.4, 2.8, 3, 3.2, 3.4, 4, 5.6, 2.4, 2.5, 2.63625, 2.7, 3.136, 3.4544, 4.0384, 4.3856, 4.5108, 4.7688, 5.1824, 5.25, NA, NA, 2.9, NA, NA, NA, NA, NA, NA, NA, NA, NA, NA, NA, NA, NA, NA, NA), seed_germination_treatment = c(NA, NA, NA, NA, NA, NA, NA, NA, NA, NA, NA, NA, NA, NA, NA, NA, NA, NA, NA, \"heat scarify\", NA, NA, NA, NA, NA, NA, NA, NA, NA, NA, NA, NA, NA, NA, NA, NA, NA, NA, NA, NA, NA, NA, NA, NA, NA, NA, NA, NA, NA, NA, NA, NA, NA, NA, NA, NA, NA, NA, NA, NA, NA, NA, NA, NA, NA, NA, NA, NA, NA, NA, NA, NA, NA, NA, NA, NA, NA, NA, NA, NA, NA, NA, NA, NA, NA, NA, NA, NA, NA, NA, NA, NA, NA, NA, NA, NA, NA, NA, NA, NA, NA, NA, NA, NA, NA, NA, NA, NA, NA, NA, NA, NA, NA, NA, NA, NA, NA, NA, NA, NA, NA, NA, NA, NA, NA, NA, NA, NA, NA, NA, NA, NA, NA, NA, NA, NA, NA, NA, NA, NA, NA, NA, NA, NA, NA, NA, NA, NA, NA, NA, NA, NA, NA, NA, NA, NA, NA, NA, NA, NA, NA, NA, NA, NA, NA, NA, NA, NA, NA, NA, NA, NA, NA, NA, NA, NA, NA, NA, NA, NA, NA, NA, NA, NA, NA, NA, NA, NA, NA, NA, NA, NA, NA, NA, NA, NA, NA, NA, NA, NA, NA, NA, NA, NA, NA, NA, NA, NA, NA, NA, NA, NA, NA, NA, NA, NA, NA, NA, NA, NA, NA, NA, NA, NA, NA, NA, NA, NA, NA, NA, NA, NA, NA, NA, NA, NA, NA, NA, NA, NA, NA, NA, NA, NA, NA, NA, NA, NA, NA, NA, NA, NA, NA, NA, NA, NA, NA, NA, NA, NA, NA, NA, NA, NA, NA, NA, NA, NA, NA, NA, NA, NA, NA, NA, NA, NA, NA, NA, NA, NA, NA, NA, NA, NA, NA, NA, NA, NA, NA, NA, NA, NA, NA, NA, NA, NA, NA, \"heat\", NA, NA, NA, NA, NA, NA, NA, NA, NA, NA, NA, NA, NA, NA, NA, NA, NA, NA, NA, NA, NA, NA, NA, NA, NA, NA, NA, NA, NA, NA, NA, NA, NA, NA, NA, NA, NA, NA, NA, NA, NA, NA, NA, NA, NA, NA, NA, NA, NA, NA, NA, NA, NA, NA, NA, NA, NA, NA, NA, NA, NA, NA, NA, NA, NA, NA, NA, NA, NA, NA, NA, NA, NA, NA, NA, NA, NA, NA, NA, NA, NA, NA, NA, NA, NA, NA, NA, NA, NA, NA, NA, NA, NA, NA, NA, NA, NA, NA, NA, NA, NA, NA, NA, NA, NA, NA, NA, NA, NA, NA, NA, NA, NA, NA, NA, NA, NA, NA, NA, NA, NA, NA, NA, NA, NA, NA, NA, NA, NA, NA, NA, NA, NA, NA, NA, NA, NA, NA, NA, NA, NA, \"smoke\", NA, NA, NA, NA, NA, NA, NA, NA, NA, NA, NA), seed_length = c(NA, NA, NA, 4, 5, NA, NA, NA, NA, NA, NA, 4, 5, NA, 5, NA, NA, NA, NA, NA, NA, NA, NA, NA, NA, NA, NA, NA, NA, NA, NA, NA, NA, NA, NA, NA, NA, NA, NA, NA, NA, NA, NA, NA, NA, NA, NA, NA, NA, NA, NA, NA, NA, NA, NA, NA, NA, NA, NA, NA, NA, NA, NA, NA, NA, NA, NA, NA, NA, NA, NA, NA, NA, NA, NA, NA, NA, NA, NA, NA, NA, NA, NA, NA, NA, NA, NA, NA, NA, NA, NA, NA, NA, NA, NA, NA, NA, NA, NA, NA, NA, NA, NA, NA, NA, NA, NA, NA, NA, NA, NA, NA, NA, NA, NA, NA, NA, NA, NA, NA, NA, NA, NA, NA, NA, NA, NA, NA, NA, NA, NA, NA, NA, NA, NA, NA, 3, 4, NA, NA, NA, NA, NA, NA, NA, NA, NA, NA, NA, NA, NA, NA, NA, NA, NA, NA, NA, NA, NA, NA, NA, NA, NA, NA, NA, NA, NA, NA, NA, NA, NA, NA, NA, NA, NA, NA, NA, NA, NA, NA, NA, NA, NA, NA, NA, NA, NA, NA, NA, NA, NA, NA, NA, NA, NA, NA, NA, NA, NA, NA, NA, NA, NA, NA, NA, NA, NA, NA, NA, NA, NA, NA, NA, NA, NA, NA, NA, NA, NA, NA, NA, NA, NA, NA, NA, NA, NA, NA, NA, NA, NA, NA, NA, NA, NA, NA, NA, NA, NA, NA, NA, NA, NA, NA, NA, NA, NA, 1.97, NA, NA, NA, NA, NA, NA, NA, NA, NA, NA, NA, NA, NA, NA, NA, NA, NA, NA, NA, NA, NA, NA, NA, NA, NA, NA, NA, 5.15, NA, NA, NA, NA, NA, 4.71, NA, NA, NA, NA, NA, NA, NA, 4, 5, NA, NA, NA, NA, NA, NA, NA, NA, NA, NA, NA, NA, NA, NA, NA, NA, NA, NA, NA, NA, NA, NA, NA, NA, NA, NA, NA, NA, NA, NA, NA, NA, NA, NA, NA, NA, NA, NA, NA, NA, NA, NA, NA, NA, NA, NA, NA, NA, NA, NA, NA, NA, NA, NA, NA, NA, NA, NA, NA, NA, NA, NA, NA, NA, NA, NA, NA, NA, NA, NA, NA, NA, NA, NA, NA, NA, NA, NA, NA, NA, NA, NA, NA, NA, NA, NA, NA, NA, NA, NA, NA, NA, NA, NA, NA, NA, NA, NA, NA, NA, NA, NA, NA, NA, NA, NA, NA, NA, NA, 1.99, NA, NA, NA, NA, NA, NA, NA, 16, NA, NA, NA, NA, NA, NA, NA, NA, NA, NA, NA, NA, NA, NA, NA, NA, NA, NA, NA, NA, NA, NA, NA, NA, NA, NA, NA, NA, NA, NA, NA, NA, NA, NA, NA, NA, NA, NA, NA, NA, NA, NA)), row.names = c(NA, -451L), spec = structure(list(cols = list(    ...1 = structure(list(), class = c(\"collector_double\", \"collector\"    )), taxon_name = structure(list(), class = c(\"collector_character\",     \"collector\")), plant_growth_form = structure(list(), class = c(\"collector_character\",     \"collector\")), seed_dormancy_class = structure(list(), class = c(\"collector_character\",     \"collector\")), seed_dry_mass = structure(list(), class = c(\"collector_double\",     \"collector\")), seed_germination_treatment = structure(list(), class = c(\"collector_character\",     \"collector\")), seed_length = structure(list(), class = c(\"collector_double\",     \"collector\"))), default = structure(list(), class = c(\"collector_guess\", \"collector\")), delim = \",\"), class = \"col_spec\"), problems = <pointer: 0x136a0dac0>, class = c(\"spec_tbl_df\", \"tbl_df\", \"tbl\", \"data.frame\"))...\n",
            "Кластер 2: ближайший текст - I have built a simple microservice using Spring Boot 3.0.9 and Spring Cloud 2022.0.4. A REST controller that accepts JSON payload POSTed to it works until I add the com.fasterxml.jackson.dataformat:jackson-dataformat-xml dependency. When I add this dependency, I receive the following error:java.lang.Exception: org.springframework.http.converter.HttpMessageNotReadableException: JSON parse error: Unexpected character '{' (code 123) in prolog; expected '<' at [row,col {unknown-source}]: [1,1]        at com.example.web.exception.response.RestResponseEntityExceptionHandler.handle(RestResponseEntityExceptionHandler.java:283)        at java.base/jdk.internal.reflect.NativeMethodAccessorImpl.invoke0(Native Method)        at java.base/jdk.internal.reflect.NativeMethodAccessorImpl.invoke(Unknown Source)        at java.base/jdk.internal.reflect.DelegatingMethodAccessorImpl.invoke(Unknown Source)        at java.base/java.lang.reflect.Method.invoke(Unknown Source)        at org.springframework.web.method.support.InvocableHandlerMethod.doInvoke(InvocableHandlerMethod.java:205)        at org.springframework.web.method.support.InvocableHandlerMethod.invokeForRequest(InvocableHandlerMethod.java:150)        at org.springframework.web.servlet.mvc.method.annotation.ServletInvocableHandlerMethod.invokeAndHandle(ServletInvocableHandlerMethod.java:118)        at org.springframework.web.servlet.mvc.method.annotation.ExceptionHandlerExceptionResolver.doResolveHandlerMethodException(ExceptionHandlerExceptionResolver.java:413)        at org.springframework.web.servlet.handler.AbstractHandlerMethodExceptionResolver.doResolveException(AbstractHandlerMethodExceptionResolver.java:74)        at org.springframework.web.servlet.handler.AbstractHandlerExceptionResolver.resolveException(AbstractHandlerExceptionResolver.java:141)        at org.springframework.web.servlet.handler.HandlerExceptionResolverComposite.resolveException(HandlerExceptionResolverComposite.java:80)        at org.springframework.web.servlet.DispatcherServlet.processHandlerException(DispatcherServlet.java:1341)        at org.springframework.web.servlet.DispatcherServlet.processDispatchResult(DispatcherServlet.java:1152)        at org.springframework.web.servlet.DispatcherServlet.doDispatch(DispatcherServlet.java:1098)        at org.springframework.web.servlet.DispatcherServlet.doService(DispatcherServlet.java:974)        at org.springframework.web.servlet.FrameworkServlet.processRequest(FrameworkServlet.java:1011)        at org.springframework.web.servlet.FrameworkServlet.doPost(FrameworkServlet.java:914)        at jakarta.servlet.http.HttpServlet.service(HttpServlet.java:547)        at org.springframework.web.servlet.FrameworkServlet.service(FrameworkServlet.java:885)        at jakarta.servlet.http.HttpServlet.service(HttpServlet.java:614)        at io.undertow.servlet.handlers.ServletHandler.handleRequest(ServletHandler.java:74)        at io.undertow.servlet.handlers.FilterHandler$FilterChainImpl.doFilter(FilterHandler.java:129)        at com.example.security.filter.JwtHttpRequestInterceptorFilter.doFilter(JwtHttpRequestInterceptorFilter.java:43)        at io.undertow.servlet.core.ManagedFilter.doFilter(ManagedFilter.java:67)        at io.undertow.servlet.handlers.FilterHandler$FilterChainImpl.doFilter(FilterHandler.java:131)        at org.springframework.security.web.FilterChainProxy.lambda$doFilterInternal$3(FilterChainProxy.java:231)        at org.springframework.security.web.ObservationFilterChainDecorator$FilterObservation$SimpleFilterObservation.lambda$wrap$1(ObservationFilterChainDecorator.java:426)        at org.springframework.security.web.ObservationFilterChainDecorator$AroundFilterObservation$SimpleAroundFilterObservation.lambda$wrap$1(ObservationFilterChainDecorator.java:287)        at org.springframework.security.web.ObservationFilterChainDecorator.lambda$wrapSecured$0(ObservationFilterChainDecorator.java:80)        at org.springframework.security.web.ObservationFilterChainDecorator$VirtualFilterChain.doFilter(ObservationFilterChainDecorator.java:126)        at org.springframework.security.web.access.intercept.AuthorizationFilter.doFilter(AuthorizationFilter.java:100)        at org.springframework.security.web.ObservationFilterChainDecorator$ObservationFilter.wrapFilter(ObservationFilterChainDecorator.java:187)        at org.springframework.security.web.ObservationFilterChainDecorator$ObservationFilter.doFilter(ObservationFilterChainDecorator.java:174)        at org.springframework.security.web.ObservationFilterChainDecorator$VirtualFilterChain.doFilter(ObservationFilterChainDecorator.java:135)        at org.springframework.security.web.access.ExceptionTranslationFilter.doFilter(ExceptionTranslationFilter.java:126)        at org.springframework.security.web.access.ExceptionTranslationFilter.doFilter(ExceptionTranslationFilter.java:120)        at org.springframework.security.web.ObservationFilterChainDecorator$ObservationFilter.wrapFilter(ObservationFilterChainDecorator.java:187)        at org.springframework.security.web.ObservationFilterChainDecorator$ObservationFilter.doFilter(ObservationFilterChainDecorator.java:174)        at org.springframework.security.web.ObservationFilterChainDecorator$VirtualFilterChain.doFilter(ObservationFilterChainDecorator.java:135)        at org.springframework.security.web.session.SessionManagementFilter.doFilter(SessionManagementFilter.java:131)        at org.springframework.security.web.session.SessionManagementFilter.doFilter(SessionManagementFilter.java:85)        at org.springframework.security.web.ObservationFilterChainDecorator$ObservationFilter.wrapFilter(ObservationFilterChainDecorator.java:187)        at org.springframework.security.web.ObservationFilterChainDecorator$ObservationFilter.doFilter(ObservationFilterChainDecorator.java:174)        at org.springframework.security.web.ObservationFilterChainDecorator$VirtualFilterChain.doFilter(ObservationFilterChainDecorator.java:135)        at org.springframework.security.web.authentication.AnonymousAuthenticationFilter.doFilter(AnonymousAuthenticationFilter.java:100)        at org.springframework.security.web.ObservationFilterChainDecorator$ObservationFilter.wrapFilter(ObservationFilterChainDecorator.java:187)        at org.springframework.security.web.ObservationFilterChainDecorator$ObservationFilter.doFilter(ObservationFilterChainDecorator.java:174)        at org.springframework.security.web.ObservationFilterChainDecorator$VirtualFilterChain.doFilter(ObservationFilterChainDecorator.java:135)        at org.springframework.security.web.servletapi.SecurityContextHolderAwareRequestFilter.doFilter(SecurityContextHolderAwareRequestFilter.java:179)        at org.springframework.security.web.ObservationFilterChainDecorator$ObservationFilter.wrapFilter(ObservationFilterChainDecorator.java:187)        at org.springframework.security.web.ObservationFilterChainDecorator$ObservationFilter.doFilter(ObservationFilterChainDecorator.java:174)        at org.springframework.security.web.ObservationFilterChainDecorator$VirtualFilterChain.doFilter(ObservationFilterChainDecorator.java:135)        at org.springframework.security.web.savedrequest.RequestCacheAwareFilter.doFilter(RequestCacheAwareFilter.java:63)        at org.springframework.security.web.ObservationFilterChainDecorator$ObservationFilter.wrapFilter(ObservationFilterChainDecorator.java:187)        at org.springframework.security.web.ObservationFilterChainDecorator$ObservationFilter.doFilter(ObservationFilterChainDecorator.java:174)        at org.springframework.security.web.ObservationFilterChainDecorator$VirtualFilterChain.doFilter(ObservationFilterChainDecorator.java:135)        at org.springframework.security.oauth2.server.resource.web.authentication.BearerTokenAuthenticationFilter.doFilterInternal(BearerTokenAuthenticationFilter.java:145)        at org.springframework.web.filter.OncePerRequestFilter.doFilter(OncePerRequestFilter.java:116)        at org.springframework.security.web.ObservationFilterChainDecorator$ObservationFilter.wrapFilter(ObservationFilterChainDecorator.java:187)        at org.springframework.security.web.ObservationFilterChainDecorator$ObservationFilter.doFilter(ObservationFilterChainDecorator.java:174)        at org.springframework.security.web.ObservationFilterChainDecorator$VirtualFilterChain.doFilter(ObservationFilterChainDecorator.java:135)        at com.example.security.filter.HttpServletResponseInspectionFilter.doFilter(HttpServletResponseInspectionFilter.java:26)        at org.springframework.security.web.ObservationFilterChainDecorator$ObservationFilter.wrapFilter(ObservationFilterChainDecorator.java:187)        at org.springframework.security.web.ObservationFilterChainDecorator$ObservationFilter.doFilter(ObservationFilterChainDecorator.java:174)        at org.springframework.security.web.ObservationFilterChainDecorator$VirtualFilterChain.doFilter(ObservationFilterChainDecorator.java:135)        at org.springframework.security.web.authentication.logout.LogoutFilter.doFilter(LogoutFilter.java:107)        at org.springframework.security.web.authentication.logout.LogoutFilter.doFilter(LogoutFilter.java:93)        at org.springframework.security.web.ObservationFilterChainDecorator$ObservationFilter.wrapFilter(ObservationFilterChainDecorator.java:187)        at org.springframework.security.web.ObservationFilterChainDecorator$ObservationFilter.doFilter(ObservationFilterChainDecorator.java:174)        at org.springframework.security.web.ObservationFilterChainDecorator$VirtualFilterChain.doFilter(ObservationFilterChainDecorator.java:135)        at org.springframework.web.filter.CorsFilter.doFilterInternal(CorsFilter.java:91)        at org.springframework.web.filter.OncePerRequestFilter.doFilter(OncePerRequestFilter.java:116)        at org.springframework.security.web.ObservationFilterChainDecorator$ObservationFilter.wrapFilter(ObservationFilterChainDecorator.java:187)        at org.springframework.security.web.ObservationFilterChainDecorator$ObservationFilter.doFilter(ObservationFilterChainDecorator.java:174)        at org.springframework.security.web.ObservationFilterChainDecorator$VirtualFilterChain.doFilter(ObservationFilterChainDecorator.java:135)        at org.springframework.security.web.header.HeaderWriterFilter.doHeadersAfter(HeaderWriterFilter.java:90)        at org.springframework.security.web.header.HeaderWriterFilter.doFilterInternal(HeaderWriterFilter.java:75)        at org.springframework.web.filter.OncePerRequestFilter.doFilter(OncePerRequestFilter.java:116)        at org.springframework.security.web.ObservationFilterChainDecorator$ObservationFilter.wrapFilter(ObservationFilterChainDecorator.java:187)        at org.springframework.security.web.ObservationFilterChainDecorator$ObservationFilter.doFilter(ObservationFilterChainDecorator.java:174)        at org.springframework.security.web.ObservationFilterChainDecorator$VirtualFilterChain.doFilter(ObservationFilterChainDecorator.java:135)        at org.springframework.security.web.context.SecurityContextHolderFilter.doFilter(SecurityContextHolderFilter.java:82)        at org.springframework.security.web.context.SecurityContextHolderFilter.doFilter(SecurityContextHolderFilter.java:69)        at org.springframework.security.web.ObservationFilterChainDecorator$ObservationFilter.wrapFilter(ObservationFilterChainDecorator.java:187)        at org.springframework.security.web.ObservationFilterChainDecorator$ObservationFilter.doFilter(ObservationFilterChainDecorator.java:174)        at org.springframework.security.web.ObservationFilterChainDecorator$VirtualFilterChain.doFilter(ObservationFilterChainDecorator.java:135)        at org.springframework.security.web.context.request.async.WebAsyncManagerIntegrationFilter.doFilterInternal(WebAsyncManagerIntegrationFilter.java:62)        at org.springframework.web.filter.OncePerRequestFilter.doFilter(OncePerRequestFilter.java:116)        at org.springframework.security.web.ObservationFilterChainDecorator$ObservationFilter.wrapFilter(ObservationFilterChainDecorator.java:187)        at org.springframework.security.web.ObservationFilterChainDecorator$ObservationFilter.doFilter(ObservationFilterChainDecorator.java:174)        at org.springframework.security.web.ObservationFilterChainDecorator$VirtualFilterChain.doFilter(ObservationFilterChainDecorator.java:135)        at org.springframework.security.web.session.DisableEncodeUrlFilter.doFilterInternal(DisableEncodeUrlFilter.java:42)        at org.springframework.web.filter.OncePerRequestFilter.doFilter(OncePerRequestFilter.java:116)        at org.springframework.security.web.ObservationFilterChainDecorator$ObservationFilter.wrapFilter(ObservationFilterChainDecorator.java:187)        at org.springframework.security.web.ObservationFilterChainDecorator$AroundFilterObservation$SimpleAroundFilterObservation.lambda$wrap$0(ObservationFilterChainDecorator.java:270)        at org.springframework.security.web.ObservationFilterChainDecorator$ObservationFilter.doFilter(ObservationFilterChainDecorator.java:171)        at org.springframework.security.web.ObservationFilterChainDecorator$VirtualFilterChain.doFilter(ObservationFilterChainDecorator.java:135)        at org.springframework.security.web.FilterChainProxy.doFilterInternal(FilterChainProxy.java:233)        at org.springframework.security.web.FilterChainProxy.doFilter(FilterChainProxy.java:191)        at org.springframework.web.filter.DelegatingFilterProxy.invokeDelegate(DelegatingFilterProxy.java:352)        at org.springframework.web.filter.DelegatingFilterProxy.doFilter(DelegatingFilterProxy.java:268)        at io.undertow.servlet.core.ManagedFilter.doFilter(ManagedFilter.java:67)        at io.undertow.servlet.handlers.FilterHandler$FilterChainImpl.doFilter(FilterHandler.java:131)        at org.springframework.web.filter.RequestContextFilter.doFilterInternal(RequestContextFilter.java:100)        at org.springframework.web.filter.OncePerRequestFilter.doFilter(OncePerRequestFilter.java:116)        at io.undertow.servlet.core.ManagedFilter.doFilter(ManagedFilter.java:67)        at io.undertow.servlet.handlers.FilterHandler$FilterChainImpl.doFilter(FilterHandler.java:131)        at org.springframework.web.filter.FormContentFilter.doFilterInternal(FormContentFilter.java:93)        at org.springframework.web.filter.OncePerRequestFilter.doFilter(OncePerRequestFilter.java:116)        at io.undertow.servlet.core.ManagedFilter.doFilter(ManagedFilter.java:67)        at io.undertow.servlet.handlers.FilterHandler$FilterChainImpl.doFilter(FilterHandler.java:131)        at org.springframework.web.filter.ServerHttpObservationFilter.doFilterInternal(ServerHttpObservationFilter.java:109)        at org.springframework.web.filter.OncePerRequestFilter.doFilter(OncePerRequestFilter.java:116)        at io.undertow.servlet.core.ManagedFilter.doFilter(ManagedFilter.java:67)        at io.undertow.servlet.handlers.FilterHandler$FilterChainImpl.doFilter(FilterHandler.java:131)        at org.springframework.web.filter.CharacterEncodingFilter.doFilterInternal(CharacterEncodingFilter.java:201)        at org.springframework.web.filter.OncePerRequestFilter.doFilter(OncePerRequestFilter.java:116)        at io.undertow.servlet.core.ManagedFilter.doFilter(ManagedFilter.java:67)        at io.undertow.servlet.handlers.FilterHandler$FilterChainImpl.doFilter(FilterHandler.java:131)        at io.undertow.servlet.handlers.FilterHandler.handleRequest(FilterHandler.java:84)        at io.undertow.servlet.handlers.security.ServletSecurityRoleHandler.handleRequest(ServletSecurityRoleHandler.java:62)        at io.undertow.servlet.handlers.ServletChain$1.handleRequest(ServletChain.java:68)        at io.undertow.servlet.handlers.ServletDispatchingHandler.handleRequest(ServletDispatchingHandler.java:36)        at io.undertow.servlet.handlers.RedirectDirHandler.handleRequest(RedirectDirHandler.java:68)        at io.undertow.servlet.handlers.security.SSLInformationAssociationHandler.handleRequest(SSLInformationAssociationHandler.java:117)        at io.undertow.servlet.handlers.security.ServletAuthenticationCallHandler.handleRequest(ServletAuthenticationCallHandler.java:57)        at io.undertow.server.handlers.PredicateHandler.handleRequest(PredicateHandler.java:43)        at io.undertow.security.handlers.AbstractConfidentialityHandler.handleRequest(AbstractConfidentialityHandler.java:46)        at io.undertow.servlet.handlers.security.ServletConfidentialityConstraintHandler.handleRequest(ServletConfidentialityConstraintHandler.java:64)        at io.undertow.security.handlers.AuthenticationMechanismsHandler.handleRequest(AuthenticationMechanismsHandler.java:60)        at io.undertow.servlet.handlers.security.CachedAuthenticatedSessionHandler.handleRequest(CachedAuthenticatedSessionHandler.java:77)        at io.undertow.security.handlers.AbstractSecurityContextAssociationHandler.handleRequest(AbstractSecurityContextAssociationHandler.java:43)        at io.undertow.server.handlers.PredicateHandler.handleRequest(PredicateHandler.java:43)        at io.undertow.servlet.handlers.SendErrorPageHandler.handleRequest(SendErrorPageHandler.java:52)        at io.undertow.server.handlers.PredicateHandler.handleRequest(PredicateHandler.java:43)        at io.undertow.servlet.handlers.ServletInitialHandler.handleFirstRequest(ServletInitialHandler.java:276)        at io.undertow.servlet.handlers.ServletInitialHandler$2.call(ServletInitialHandler.java:135)        at io.undertow.servlet.handlers.ServletInitialHandler$2.call(ServletInitialHandler.java:132)        at io.undertow.servlet.core.ServletRequestContextThreadSetupAction$1.call(ServletRequestContextThreadSetupAction.java:48)        at io.undertow.servlet.core.ContextClassLoaderSetupAction$1.call(ContextClassLoaderSetupAction.java:43)        at io.undertow.servlet.handlers.ServletInitialHandler.dispatchRequest(ServletInitialHandler.java:256)        at io.undertow.servlet.handlers.ServletInitialHandler$1.handleRequest(ServletInitialHandler.java:101)        at io.undertow.server.Connectors.executeRootHandler(Connectors.java:393)        at io.undertow.server.HttpServerExchange$1.run(HttpServerExchange.java:859)        at org.jboss.threads.ContextHandler$1.runWith(ContextHandler.java:18)        at org.jboss.threads.EnhancedQueueExecutor$Task.run(EnhancedQueueExecutor.java:2513)        at org.jboss.threads.EnhancedQueueExecutor$ThreadBody.run(EnhancedQueueExecutor.java:1538)        at org.xnio.XnioWorker$WorkerThreadFactory$1$1.run(XnioWorker.java:1282)        at java.base/java.lang.Thread.run(Unknown Source)Caused by: org.springframework.http.converter.HttpMessageNotReadableException: JSON parse error: Unexpected character '{' (code 123) in prolog; expected '<' at [row,col {unknown-source}]: [1,1]        at org.springframework.http.converter.json.AbstractJackson2HttpMessageConverter.readJavaType(AbstractJackson2HttpMessageConverter.java:406)        at org.springframework.http.converter.json.AbstractJackson2HttpMessageConverter.read(AbstractJackson2HttpMessageConverter.java:354)        at org.springframework.web.servlet.mvc.method.annotation.AbstractMessageConverterMethodArgumentResolver.readWithMessageConverters(AbstractMessageConverterMethodArgumentResolver.java:183)        at org.springframework.web.servlet.mvc.method.annotation.RequestResponseBodyMethodProcessor.readWithMessageConverters(RequestResponseBodyMethodProcessor.java:163)        at org.springframework.web.servlet.mvc.method.annotation.RequestResponseBodyMethodProcessor.resolveArgument(RequestResponseBodyMethodProcessor.java:136)        at org.springframework.web.method.support.HandlerMethodArgumentResolverComposite.resolveArgument(HandlerMethodArgumentResolverComposite.java:122)        at org.springframework.web.method.support.InvocableHandlerMethod.getMethodArgumentValues(InvocableHandlerMethod.java:179)        at org.springframework.web.method.support.InvocableHandlerMethod.invokeForRequest(InvocableHandlerMethod.java:146)        at org.springframework.web.servlet.mvc.method.annotation.ServletInvocableHandlerMethod.invokeAndHandle(ServletInvocableHandlerMethod.java:118)        at org.springframework.web.servlet.mvc.method.annotation.RequestMappingHandlerAdapter.invokeHandlerMethod(RequestMappingHandlerAdapter.java:884)        at org.springframework.web.servlet.mvc.method.annotation.RequestMappingHandlerAdapter.handleInternal(RequestMappingHandlerAdapter.java:797)        at org.springframework.web.servlet.mvc.method.AbstractHandlerMethodAdapter.handle(AbstractHandlerMethodAdapter.java:87)        at org.springframework.web.servlet.DispatcherServlet.doDispatch(DispatcherServlet.java:1081)        ... 135 common frames omittedCaused by: com.fasterxml.jackson.core.JsonParseException: Unexpected character '{' (code 123) in prolog; expected '<' at [row,col {unknown-source}]: [1,1]        at com.fasterxml.jackson.dataformat.xml.XmlFactory._initializeXmlReader(XmlFactory.java:734)        at com.fasterxml.jackson.dataformat.xml.XmlFactory._createParser(XmlFactory.java:600)        at com.fasterxml.jackson.dataformat.xml.XmlFactory._createParser(XmlFactory.java:30)        at com.fasterxml.jackson.core.JsonFactory.createParser(JsonFactory.java:1084)        at com.fasterxml.jackson.databind.ObjectReader.createParser(ObjectReader.java:1103)        at com.fasterxml.jackson.databind.ObjectReader.readValue(ObjectReader.java:1481)        at org.springframework.http.converter.json.AbstractJackson2HttpMessageConverter.readJavaType(AbstractJackson2HttpMessageConverter.java:395)        ... 147 common frames omittedCaused by: com.ctc.wstx.exc.WstxUnexpectedCharException: Unexpected character '{' (code 123) in prolog; expected '<' at [row,col {unknown-source}]: [1,1]        at com.ctc.wstx.sr.StreamScanner.throwUnexpectedChar(StreamScanner.java:666)        at com.ctc.wstx.sr.BasicStreamReader.nextFromProlog(BasicStreamReader.java:2148)        at com.ctc.wstx.sr.BasicStreamReader.next(BasicStreamReader.java:1180)        at com.fasterxml.jackson.dataformat.xml.XmlFactory._initializeXmlReader(XmlFactory.java:729)        ... 153 common frames omittedMy POST mapping is as follows:@PostMapping(      value = \"/account\",      consumes = {MediaType.APPLICATION_JSON_VALUE, MediaType.APPLICATION_XML_VALUE},      produces = {MediaType.APPLICATION_JSON_VALUE, MediaType.APPLICATION_XML_VALUE})Why is an object mapper trying to deserialize the JSON data as XML data, especially in light of the fact that I set the content-type header as application/json? Again, everything works fine until I add the com.fasterxml.jackson.dataformat:jackson-dataformat-xml dependency....\n"
          ]
        }
      ]
    },
    {
      "cell_type": "markdown",
      "source": [
        "Ну кластеризация у нас сама по себе вышла не самая удачная, ничего не могу сказать про то, описывают ли тексты какие-то кластеры."
      ],
      "metadata": {
        "id": "S6x_g3D0Nkf6"
      }
    },
    {
      "cell_type": "code",
      "source": [
        "# давайте кстати посмотрим, что там у нас в оригинальном датасете по категориям;\n",
        "# сделаем из строк списки\n",
        "\n",
        "stckover_df['Categories_lists'] = stckover_df.Categories.apply(ast.literal_eval)\n",
        "type(stckover_df['Categories_lists'][0])"
      ],
      "metadata": {
        "colab": {
          "base_uri": "https://localhost:8080/"
        },
        "id": "xO6FmaseNjyg",
        "outputId": "20f2d566-693b-4dff-a4ac-12e58405cac5"
      },
      "execution_count": null,
      "outputs": [
        {
          "output_type": "execute_result",
          "data": {
            "text/plain": [
              "list"
            ]
          },
          "metadata": {},
          "execution_count": 22
        }
      ]
    },
    {
      "cell_type": "code",
      "source": [
        "categories = set(chain.from_iterable(stckover_df.Categories_lists))\n",
        "len(categories)"
      ],
      "metadata": {
        "colab": {
          "base_uri": "https://localhost:8080/"
        },
        "id": "GrTef30yPh94",
        "outputId": "4cd38350-5c21-4886-cc5b-67e3fd61427b"
      },
      "execution_count": null,
      "outputs": [
        {
          "output_type": "execute_result",
          "data": {
            "text/plain": [
              "10634"
            ]
          },
          "metadata": {},
          "execution_count": 23
        }
      ]
    },
    {
      "cell_type": "markdown",
      "source": [
        "Так-то категорий достаточно много. Но это я так, из интереса, я не буду делать 10 тысяч кластеров :)"
      ],
      "metadata": {
        "id": "OqFsOMUfPzXm"
      }
    },
    {
      "cell_type": "markdown",
      "source": [
        "## TF-IDF: K-means\n",
        "\n",
        "Формула для TF-IDF выглядит следующим образом:\n",
        "\n",
        "$$\n",
        "\\text{TF-IDF}(t, d, D) = \\text{TF}(t, d) \\times \\text{IDF}(t, D)\n",
        "$$\n",
        "\n",
        "Введем некоторые понятия: у нас есть отдельные тексты, мы их будем называть документами, и есть корпус, это совокупность документов. Например, для нашей задачи `stckover_df.Question` будет корпусом, а отдельная строка из него - документом.\n",
        "\n",
        "Базово TF-IDF рассчитывает, насколько важно слово относительно всех слов в нашем корпусе в конкретном документе. Это все, конечно, гениально, но давайте приведем еще формулы конкретно для TF и для IDF:\n",
        "\n",
        "$$\n",
        "\\text{TF}(t, d) = \\frac{n_{t}}{\\sum_{k} n_{k}}\n",
        "$$\n",
        "\n",
        "TF - Term Frequency, частота какого-то конкретного слова относительно конкретного документа. Рассчитывется как \"число вхождений слова поделить на общее количество слов\". Тем чаще слово, тем, казалось бы, важнее оно для документа.\n",
        "\n",
        "...не совсем. Дело в том, что одни и те же слова (речь даже не о служебных) могут встречаться в нескольких документах, и их важность для конкретного нивелируется (мы не можем различить между разными документами по этому слову). И тут на помощь приходит метрика IDF (Inverse Document Frequency):\n",
        "\n",
        "$$\n",
        "   \\text{IDF}(t, D) = \\log\\left(\\frac{N}{n_t}\\right)\n",
        "$$\n",
        "\n",
        "Оно показывает, насколько редко слово относительно встречаемости в других документах. Чем оно реже, тем важнее для нашего конкретного документа. Например, если мы встретили слово \"Омск\" в 2 из 100 документах, при этом частота вхождения слова \"Омск\" для конкретного документа составляет 0.99, то это очень важное слово для этого документа.\n",
        "\n",
        "Таким образом, наше изначальное произведение помогает нам учесть оба фактора: частоту слова в конкретном документе и его редкость в корпусе.\n",
        "\n"
      ],
      "metadata": {
        "id": "YFKP1ZLlYFld"
      }
    },
    {
      "cell_type": "code",
      "source": [
        "# до этого мы работали со словами, которые встретились хотя бы 8 раз;\n",
        "# сейчас работаем со словами, которые встретились хотя бы в 8 документах\n",
        "tf_vec = TfidfVectorizer(min_df=8)\n",
        "embeddings_tfidf = tf_vec.fit_transform(stckover_df.Question)"
      ],
      "metadata": {
        "id": "LwnJUZLaYNY1"
      },
      "execution_count": null,
      "outputs": []
    },
    {
      "cell_type": "code",
      "source": [
        "embeddings_tfidf.shape"
      ],
      "metadata": {
        "colab": {
          "base_uri": "https://localhost:8080/"
        },
        "id": "JamRd-GJYkAp",
        "outputId": "e7fc4b1f-6b6c-451c-f5ae-61b3c220e0ca"
      },
      "execution_count": null,
      "outputs": [
        {
          "output_type": "execute_result",
          "data": {
            "text/plain": [
              "(22123, 13512)"
            ]
          },
          "metadata": {},
          "execution_count": 25
        }
      ]
    },
    {
      "cell_type": "code",
      "source": [
        "# неплохо, но давайте все равно поПСАшим\n",
        "pca_3_result_tfidf = get_pca_results(embeddings_tfidf, 3)\n",
        "pca_3_result_tfidf.shape"
      ],
      "metadata": {
        "colab": {
          "base_uri": "https://localhost:8080/"
        },
        "id": "NQ5keOQRZFxZ",
        "outputId": "7f9f98e8-336c-4e9e-dc80-b0d5c01e9bd5"
      },
      "execution_count": null,
      "outputs": [
        {
          "output_type": "execute_result",
          "data": {
            "text/plain": [
              "(22123, 3)"
            ]
          },
          "metadata": {},
          "execution_count": 26
        }
      ]
    },
    {
      "cell_type": "code",
      "source": [
        "# подбираем\n",
        "\n",
        "inertia, silhouette = eval_clusters(pca_3_result_tfidf)"
      ],
      "metadata": {
        "colab": {
          "base_uri": "https://localhost:8080/"
        },
        "id": "IDYrVfd0ZoV2",
        "outputId": "8f7c00f6-1c6e-4b83-9ff7-57629199c2ba"
      },
      "execution_count": null,
      "outputs": [
        {
          "output_type": "stream",
          "name": "stderr",
          "text": [
            "100%|██████████| 18/18 [01:51<00:00,  6.18s/it]\n"
          ]
        }
      ]
    },
    {
      "cell_type": "code",
      "source": [
        "# визуализируем\n",
        "plot_metrics(inertia, silhouette)"
      ],
      "metadata": {
        "colab": {
          "base_uri": "https://localhost:8080/",
          "height": 419
        },
        "id": "yV_t4qfVZ4Wr",
        "outputId": "83acd6ed-9d58-4744-8463-9eae62a059ec"
      },
      "execution_count": null,
      "outputs": [
        {
          "output_type": "display_data",
          "data": {
            "text/plain": [
              "<Figure size 1000x400 with 2 Axes>"
            ],
            "image/png": "[encoded data removed]"
          },
          "metadata": {}
        }
      ]
    },
    {
      "cell_type": "code",
      "source": [
        "# my honest reaction на значение силуэта\n",
        "display(Image(\"https://img.gazeta.ru/files3/374/21045374/okak-pic_32ratio_900x600-900x600-73058.jpg\"))"
      ],
      "metadata": {
        "colab": {
          "base_uri": "https://localhost:8080/",
          "height": 617
        },
        "id": "DFxFVjJTQNoM",
        "outputId": "5249e8b6-00b1-444e-ed16-d83485daf11d"
      },
      "execution_count": null,
      "outputs": [
        {
          "output_type": "display_data",
          "data": {
            "image/jpeg": "[encoded data removed]",
            "text/plain": [
              "<IPython.core.display.Image object>"
            ]
          },
          "metadata": {}
        }
      ]
    },
    {
      "cell_type": "code",
      "source": [
        "# давайте сделаем кластеризацию с числом кластеров равным 2...\n",
        "kmeans_tf = cluster.KMeans(n_clusters=2,\n",
        "                           random_state=17,\n",
        "                           init='k-means++')\n",
        "\n",
        "kmeans_tf_labels = kmeans_tf.fit_predict(pca_3_result_tfidf)\n",
        "\n",
        "display(pd.Series(kmeans_tf_labels).value_counts())"
      ],
      "metadata": {
        "colab": {
          "base_uri": "https://localhost:8080/",
          "height": 146
        },
        "id": "HS2V_JDxZ7Kh",
        "outputId": "63228e5b-2953-4624-f861-f9372b79554d"
      },
      "execution_count": null,
      "outputs": [
        {
          "output_type": "display_data",
          "data": {
            "text/plain": [
              "1    14771\n",
              "0     7352\n",
              "Name: count, dtype: int64"
            ],
            "text/html": [
              "<div>\n",
              "<style scoped>\n",
              "    .dataframe tbody tr th:only-of-type {\n",
              "        vertical-align: middle;\n",
              "    }\n",
              "\n",
              "    .dataframe tbody tr th {\n",
              "        vertical-align: top;\n",
              "    }\n",
              "\n",
              "    .dataframe thead th {\n",
              "        text-align: right;\n",
              "    }\n",
              "</style>\n",
              "<table border=\"1\" class=\"dataframe\">\n",
              "  <thead>\n",
              "    <tr style=\"text-align: right;\">\n",
              "      <th></th>\n",
              "      <th>count</th>\n",
              "    </tr>\n",
              "  </thead>\n",
              "  <tbody>\n",
              "    <tr>\n",
              "      <th>1</th>\n",
              "      <td>14771</td>\n",
              "    </tr>\n",
              "    <tr>\n",
              "      <th>0</th>\n",
              "      <td>7352</td>\n",
              "    </tr>\n",
              "  </tbody>\n",
              "</table>\n",
              "</div><br><label><b>dtype:</b> int64</label>"
            ]
          },
          "metadata": {}
        }
      ]
    },
    {
      "cell_type": "code",
      "source": [
        "# ищем центроиды\n",
        "get_nearest_texts(kmeans_tf, pca_3_result_tfidf, display=True)"
      ],
      "metadata": {
        "id": "uQd3ezxqac3a",
        "colab": {
          "base_uri": "https://localhost:8080/"
        },
        "outputId": "9f19b8b3-03e4-4a12-d3c7-b5d7b3e20d77"
      },
      "execution_count": null,
      "outputs": [
        {
          "output_type": "stream",
          "name": "stdout",
          "text": [
            "Кластер 0: ближайший текст - Closed. This question is opinion-based. It is not currently accepting answers.Want to improve this question? Update the question so it can be answered with facts and citations by editing this post.Closed 5 days ago.Improve this questionHoping someone might be able to help here.I have a group of Ansible Playbook Templates which I am planning to run as part of an Ansible Playbook Workflow.Each of these Ansible Workflow Templates have a survey before them prompting for the fields (as they can be launched independently outside of the Workflow) however, when I go to create them in a Workflow (e.g. a workflow with 5 Playbooks) and have a survey at the launch of the Workflow, I need to set the values of each of the Ansible Playbook Template Surveys that are within the workflow, which override the Workflow Survey's values.Is there an easy way to do this, while retaining the survey within the Workflow Templates outside of a Workflow?I have found that I can untick the Mandatory checkbox in the Template Survey options (Template), which allows the workflow to be run and inherits the values from the workflow survey, but this means the items can be skipped (if run as a Template) which need to be specified if not run within the workflow. These values are environment / application specific so need to be chosenIdeal Solution:Ansible Template (run outside of Workflow) - survey appears and prompted with fields, with the Mandatory options shown and need to be entered to be startedAnsible Workflow (made of the Templates) - Survey at the start which then makes the playbooks downstream inherit the Survey Variables...\n",
            "Кластер 1: ближайший текст - I tried to extract uploaded docx file then want to get the paragraphs to be displayed in jasper report pdf. But when i tried to read the file using apache POI it giving this error :org.apache.poi.openxml4j.exceptions.NotOfficeXmlFileException: No valid entries or contents found, this is not a valid OOXML (Office Open XML) file|Don't how to solve this.This docx file is uploaded then saved in byte array format in database. After get the data, then want to extract it, it didn't work.Here's my codefinal var docx = fromByteArray(template.getContent());// template.getContent() is the byteArray from databasethen for the fromByteArray function be like thispublic static KcDocx fromByteArray(byte[] byteArray) {    try {      ByteArrayInputStream inputStream = new ByteArrayInputStream(byteArray);      KcDocx var3;      try {        XWPFDocument doc = new XWPFDocument(inputStream);        var3 = KcDocx.buildDoc(doc);      } catch (Throwable var5) {        try {          inputStream.close();        } catch (Throwable var4) {          var5.addSuppressed(var4);        }        throw var5;      }      inputStream.close();      return var3;    } catch (IOException var6) {      log.warn(\"KcDocReaderBytes\", var6);      throw new RuntimeException(var6);    }  }then for the KCDocx class that cointain buildDoc functionpublic class KcDocx {  @Generated  private static final Logger log = LoggerFactory.getLogger(\"WORKBOOK_LOGGER\");  private final List<KcDocxParagraph> paragraphs = new ArrayList();  private final Set<KcDocxParagraph.Styling> styling = new HashSet();  private boolean hasBulletOrNumberingList = false;  public static KcDocx buildDoc(XWPFDocument document) {    KcDocx doc = new KcDocx();    doc.hasBulletOrNumberingList = document.getNumbering() != null;    Stream var10000 = document.getParagraphs().stream().filter((paragraph) -> {      return StringUtils.isNotEmpty(paragraph.getText());    });    Objects.requireNonNull(doc);    List<KcDocxParagraph> extractedParagraph = (List)var10000.map(doc::extract).collect(Collectors.toList());    doc.paragraphs.addAll(extractedParagraph);    log.debug(\"Extracted document content is empty {} or contains table {}\", doc.paragraphs.isEmpty(), !document.getTables().isEmpty());    return doc;  }}...\n"
          ]
        }
      ]
    },
    {
      "cell_type": "markdown",
      "source": [
        "Ну давайте я наугад сделаю предположение, что во втором кластере собрались любители кластеризации (прям как мы...)"
      ],
      "metadata": {
        "id": "dZ0cs0lNapVX"
      }
    },
    {
      "cell_type": "markdown",
      "source": [
        "## Glove: K-means"
      ],
      "metadata": {
        "id": "sYt2fuPrbaKR"
      }
    },
    {
      "cell_type": "code",
      "source": [
        "!wget http://nlp.stanford.edu/data/glove.6B.zip\n",
        "!unzip glove.6B.zip -d glove.6B"
      ],
      "metadata": {
        "colab": {
          "base_uri": "https://localhost:8080/"
        },
        "id": "qxNjwh00z7Mt",
        "outputId": "be8ab9a1-49d2-4eb6-cd37-4d05e510f517"
      },
      "execution_count": null,
      "outputs": [
        {
          "output_type": "stream",
          "name": "stdout",
          "text": [
            "--2025-05-21 12:27:02--  http://nlp.stanford.edu/data/glove.6B.zip\n",
            "Resolving nlp.stanford.edu (nlp.stanford.edu)... 171.64.67.140\n",
            "Connecting to nlp.stanford.edu (nlp.stanford.edu)|171.64.67.140|:80... connected.\n",
            "HTTP request sent, awaiting response... 302 Found\n",
            "Location: https://nlp.stanford.edu/data/glove.6B.zip [following]\n",
            "--2025-05-21 12:27:02--  https://nlp.stanford.edu/data/glove.6B.zip\n",
            "Connecting to nlp.stanford.edu (nlp.stanford.edu)|171.64.67.140|:443... connected.\n",
            "HTTP request sent, awaiting response... 301 Moved Permanently\n",
            "Location: https://downloads.cs.stanford.edu/nlp/data/glove.6B.zip [following]\n",
            "--2025-05-21 12:27:02--  https://downloads.cs.stanford.edu/nlp/data/glove.6B.zip\n",
            "Resolving downloads.cs.stanford.edu (downloads.cs.stanford.edu)... 171.64.64.22\n",
            "Connecting to downloads.cs.stanford.edu (downloads.cs.stanford.edu)|171.64.64.22|:443... connected.\n",
            "HTTP request sent, awaiting response... 200 OK\n",
            "Length: 862182613 (822M) [application/zip]\n",
            "Saving to: ‘glove.6B.zip’\n",
            "\n",
            "glove.6B.zip        100%[===================>] 822.24M  5.15MB/s    in 2m 39s  \n",
            "\n",
            "2025-05-21 12:29:42 (5.16 MB/s) - ‘glove.6B.zip’ saved [862182613/862182613]\n",
            "\n",
            "Archive:  glove.6B.zip\n",
            "  inflating: glove.6B/glove.6B.50d.txt  \n",
            "  inflating: glove.6B/glove.6B.100d.txt  \n",
            "  inflating: glove.6B/glove.6B.200d.txt  \n",
            "  inflating: glove.6B/glove.6B.300d.txt  \n"
          ]
        }
      ]
    },
    {
      "cell_type": "code",
      "source": [
        "glove_path = \"glove.6B/glove.6B.50d.txt\"\n",
        "glove_vectors = KeyedVectors.load_word2vec_format(glove_path, binary=False, no_header=True)\n",
        "\n",
        "glove_vectors[\"clown\"]"
      ],
      "metadata": {
        "id": "yYm7--F3biwc",
        "colab": {
          "base_uri": "https://localhost:8080/"
        },
        "outputId": "a5a6dfc4-2c21-4623-a57d-9d929372eac6"
      },
      "execution_count": null,
      "outputs": [
        {
          "output_type": "execute_result",
          "data": {
            "text/plain": [
              "array([-0.2688   , -0.51106  , -1.5253   , -0.47003  ,  0.70014  ,\n",
              "        0.26935  ,  0.65804  , -0.32918  , -0.61481  ,  0.31508  ,\n",
              "        0.31521  ,  0.30371  ,  0.083439 ,  0.62398  ,  0.55677  ,\n",
              "       -0.34168  ,  0.095104 ,  1.42     , -0.76932  , -0.70357  ,\n",
              "       -0.27782  ,  0.4151   , -0.31856  ,  0.54133  , -0.77189  ,\n",
              "       -0.68601  , -1.2825   ,  0.61394  , -0.0041612, -0.99028  ,\n",
              "        0.20969  ,  0.58265  ,  0.057365 , -0.25393  , -0.38692  ,\n",
              "        0.81728  ,  0.60669  , -0.79657  ,  0.23421  , -0.73256  ,\n",
              "       -0.44275  ,  0.36018  , -0.65617  ,  0.14341  ,  0.73866  ,\n",
              "       -0.54019  , -0.046248 , -1.6122   ,  0.20361  ,  0.73048  ],\n",
              "      dtype=float32)"
            ]
          },
          "metadata": {},
          "execution_count": 7
        }
      ]
    },
    {
      "cell_type": "code",
      "source": [
        "# проверим размерности векторов в модели\n",
        "glove_vectors.vector_size"
      ],
      "metadata": {
        "colab": {
          "base_uri": "https://localhost:8080/"
        },
        "id": "-GFg8nz016Y2",
        "outputId": "76524969-25cb-4974-b981-7a465878931e"
      },
      "execution_count": null,
      "outputs": [
        {
          "output_type": "execute_result",
          "data": {
            "text/plain": [
              "50"
            ]
          },
          "metadata": {},
          "execution_count": 8
        }
      ]
    },
    {
      "cell_type": "code",
      "source": [
        "# чтож, время векторизации\n",
        "def glove_vectorize(list_of_words):\n",
        "    vec_list = []\n",
        "    for word in list_of_words:\n",
        "        try:\n",
        "            vec_list.append(glove_vectors[word])\n",
        "        except KeyError:\n",
        "            pass\n",
        "\n",
        "    av_vec = np.mean(vec_list, axis=0)\n",
        "    return av_vec"
      ],
      "metadata": {
        "id": "dlxsnxeY3LSo"
      },
      "execution_count": null,
      "outputs": []
    },
    {
      "cell_type": "code",
      "source": [
        "# базовая предобработка (без лемматизации и удаления стоп-слов)\n",
        "# тут все же понадобится; сделаем ее примерно так же, как в прошлый раз\n",
        "# c CountVectorizer\n",
        "def base_preproc(string):\n",
        "    string = string.lower()\n",
        "    return re.findall(r\"(?u)\\b\\w\\w+\\b\", string)"
      ],
      "metadata": {
        "id": "Rf20Lswb4G3R"
      },
      "execution_count": null,
      "outputs": []
    },
    {
      "cell_type": "code",
      "source": [
        "stckover_df['base_tokenized'] = stckover_df.Question.apply(base_preproc)\n",
        "stckover_df.head(10)"
      ],
      "metadata": {
        "colab": {
          "base_uri": "https://localhost:8080/",
          "height": 692
        },
        "id": "_YPPASNs460R",
        "outputId": "3c3f5c87-f053-4be2-ed7d-544ac4d1b676"
      },
      "execution_count": null,
      "outputs": [
        {
          "output_type": "execute_result",
          "data": {
            "text/plain": [
              "                                               Title  ...                                     base_tokenized\n",
              "0  your browser version is not supported using sy...  ...  [trying, to, automate, some, features, and, ne...\n",
              "1               how to get button text value in java  ...  [want, to, get, button, text, value, to, do, t...\n",
              "2  How to make sure communication is stable when ...  ...  [this, is, my, node, codeasync, function, runc...\n",
              "3                       Cubical Agda Inclusion Order  ...  [almost, finished, defining, an, inclusion, or...\n",
              "4  How to convert depth map to image(.png) format...  ...  [am, using, depth, camera, which, captures, 50...\n",
              "5  Spring Security for Mobile Application with 3r...  ...  [want, to, allow, sso, single, sign, on, via, ...\n",
              "6  {C#, UNITY} Currently working on a flight scri...  ...  [edit, one, the, flight, code, is, commented, ...\n",
              "7  Overlay a transparent button over each radio o...  ...  [need, to, overlay, transparent, button, over,...\n",
              "8  Vue list scrolling will affect external scroll...  ...  [by, setting, the, height, the, effect, of, sc...\n",
              "9       How to list all resource to secret mappings?  ...  [am, looking, for, kubectl, command, that, wil...\n",
              "\n",
              "[10 rows x 5 columns]"
            ],
            "text/html": [
              "\n",
              "  <div id=\"df-862ded41-0ab5-4d54-9a31-014d6c4eb36a\" class=\"colab-df-container\">\n",
              "    <div>\n",
              "<style scoped>\n",
              "    .dataframe tbody tr th:only-of-type {\n",
              "        vertical-align: middle;\n",
              "    }\n",
              "\n",
              "    .dataframe tbody tr th {\n",
              "        vertical-align: top;\n",
              "    }\n",
              "\n",
              "    .dataframe thead th {\n",
              "        text-align: right;\n",
              "    }\n",
              "</style>\n",
              "<table border=\"1\" class=\"dataframe\">\n",
              "  <thead>\n",
              "    <tr style=\"text-align: right;\">\n",
              "      <th></th>\n",
              "      <th>Title</th>\n",
              "      <th>URL</th>\n",
              "      <th>Question</th>\n",
              "      <th>Categories</th>\n",
              "      <th>base_tokenized</th>\n",
              "    </tr>\n",
              "  </thead>\n",
              "  <tbody>\n",
              "    <tr>\n",
              "      <th>0</th>\n",
              "      <td>your browser version is not supported using sy...</td>\n",
              "      <td>https://stackoverflow.com/questions/76981459/y...</td>\n",
              "      <td>I'm trying to automate some features and I nee...</td>\n",
              "      <td>['php', 'symfony', 'web-scraping']</td>\n",
              "      <td>[trying, to, automate, some, features, and, ne...</td>\n",
              "    </tr>\n",
              "    <tr>\n",
              "      <th>1</th>\n",
              "      <td>how to get button text value in java</td>\n",
              "      <td>https://stackoverflow.com/questions/76981456/h...</td>\n",
              "      <td>I want to get button text value to do the on c...</td>\n",
              "      <td>['java', 'button']</td>\n",
              "      <td>[want, to, get, button, text, value, to, do, t...</td>\n",
              "    </tr>\n",
              "    <tr>\n",
              "      <th>2</th>\n",
              "      <td>How to make sure communication is stable when ...</td>\n",
              "      <td>https://stackoverflow.com/questions/76981455/h...</td>\n",
              "      <td>This is my Node codeasync function runClient()...</td>\n",
              "      <td>['javascript', 'node.js', 'go', 'zeromq']</td>\n",
              "      <td>[this, is, my, node, codeasync, function, runc...</td>\n",
              "    </tr>\n",
              "    <tr>\n",
              "      <th>3</th>\n",
              "      <td>Cubical Agda Inclusion Order</td>\n",
              "      <td>https://stackoverflow.com/questions/76981453/c...</td>\n",
              "      <td>I'm almost finished defining an Inclusion Orde...</td>\n",
              "      <td>['agda']</td>\n",
              "      <td>[almost, finished, defining, an, inclusion, or...</td>\n",
              "    </tr>\n",
              "    <tr>\n",
              "      <th>4</th>\n",
              "      <td>How to convert depth map to image(.png) format...</td>\n",
              "      <td>https://stackoverflow.com/questions/76981450/h...</td>\n",
              "      <td>I am using a depth camera which captures a 500...</td>\n",
              "      <td>['3d', 'computer-vision', 'point-clouds', 'vis...</td>\n",
              "      <td>[am, using, depth, camera, which, captures, 50...</td>\n",
              "    </tr>\n",
              "    <tr>\n",
              "      <th>5</th>\n",
              "      <td>Spring Security for Mobile Application with 3r...</td>\n",
              "      <td>https://stackoverflow.com/questions/76981449/s...</td>\n",
              "      <td>I want to allow SSO (single sign-on) via Googl...</td>\n",
              "      <td>['java', 'spring', 'spring-security', 'oauth-2...</td>\n",
              "      <td>[want, to, allow, sso, single, sign, on, via, ...</td>\n",
              "    </tr>\n",
              "    <tr>\n",
              "      <th>6</th>\n",
              "      <td>{C#, UNITY} Currently working on a flight scri...</td>\n",
              "      <td>https://stackoverflow.com/questions/76981448/c...</td>\n",
              "      <td>[EDIT ONE: THE FLIGHT CODE IS COMMENTED BECAUS...</td>\n",
              "      <td>['c#']</td>\n",
              "      <td>[edit, one, the, flight, code, is, commented, ...</td>\n",
              "    </tr>\n",
              "    <tr>\n",
              "      <th>7</th>\n",
              "      <td>Overlay a transparent button over each radio o...</td>\n",
              "      <td>https://stackoverflow.com/questions/76981447/o...</td>\n",
              "      <td>I need to overlay a transparent button over ea...</td>\n",
              "      <td>['javascript', 'html', 'css']</td>\n",
              "      <td>[need, to, overlay, transparent, button, over,...</td>\n",
              "    </tr>\n",
              "    <tr>\n",
              "      <th>8</th>\n",
              "      <td>Vue list scrolling will affect external scroll...</td>\n",
              "      <td>https://stackoverflow.com/questions/76981446/v...</td>\n",
              "      <td>By setting the height, the effect of scrolling...</td>\n",
              "      <td>['html', 'vue.js']</td>\n",
              "      <td>[by, setting, the, height, the, effect, of, sc...</td>\n",
              "    </tr>\n",
              "    <tr>\n",
              "      <th>9</th>\n",
              "      <td>How to list all resource to secret mappings?</td>\n",
              "      <td>https://stackoverflow.com/questions/76981442/h...</td>\n",
              "      <td>I am looking for a kubectl command that will l...</td>\n",
              "      <td>['kubernetes', 'kubectl', 'kubernetes-secrets']</td>\n",
              "      <td>[am, looking, for, kubectl, command, that, wil...</td>\n",
              "    </tr>\n",
              "  </tbody>\n",
              "</table>\n",
              "</div>\n",
              "    <div class=\"colab-df-buttons\">\n",
              "\n",
              "  <div class=\"colab-df-container\">\n",
              "    <button class=\"colab-df-convert\" onclick=\"convertToInteractive('df-862ded41-0ab5-4d54-9a31-014d6c4eb36a')\"\n",
              "            title=\"Convert this dataframe to an interactive table.\"\n",
              "            style=\"display:none;\">\n",
              "\n",
              "  <svg xmlns=\"http://www.w3.org/2000/svg\" height=\"24px\" viewBox=\"0 -960 960 960\">\n",
              "    <path d=\"M120-120v-720h720v720H120Zm60-500h600v-160H180v160Zm220 220h160v-160H400v160Zm0 220h160v-160H400v160ZM180-400h160v-160H180v160Zm440 0h160v-160H620v160ZM180-180h160v-160H180v160Zm440 0h160v-160H620v160Z\"/>\n",
              "  </svg>\n",
              "    </button>\n",
              "\n",
              "  <style>\n",
              "    .colab-df-container {\n",
              "      display:flex;\n",
              "      gap: 12px;\n",
              "    }\n",
              "\n",
              "    .colab-df-convert {\n",
              "      background-color: #E8F0FE;\n",
              "      border: none;\n",
              "      border-radius: 50%;\n",
              "      cursor: pointer;\n",
              "      display: none;\n",
              "      fill: #1967D2;\n",
              "      height: 32px;\n",
              "      padding: 0 0 0 0;\n",
              "      width: 32px;\n",
              "    }\n",
              "\n",
              "    .colab-df-convert:hover {\n",
              "      background-color: #E2EBFA;\n",
              "      box-shadow: 0px 1px 2px rgba(60, 64, 67, 0.3), 0px 1px 3px 1px rgba(60, 64, 67, 0.15);\n",
              "      fill: #174EA6;\n",
              "    }\n",
              "\n",
              "    .colab-df-buttons div {\n",
              "      margin-bottom: 4px;\n",
              "    }\n",
              "\n",
              "    [theme=dark] .colab-df-convert {\n",
              "      background-color: #3B4455;\n",
              "      fill: #D2E3FC;\n",
              "    }\n",
              "\n",
              "    [theme=dark] .colab-df-convert:hover {\n",
              "      background-color: #434B5C;\n",
              "      box-shadow: 0px 1px 3px 1px rgba(0, 0, 0, 0.15);\n",
              "      filter: drop-shadow(0px 1px 2px rgba(0, 0, 0, 0.3));\n",
              "      fill: #FFFFFF;\n",
              "    }\n",
              "  </style>\n",
              "\n",
              "    <script>\n",
              "      const buttonEl =\n",
              "        document.querySelector('#df-862ded41-0ab5-4d54-9a31-014d6c4eb36a button.colab-df-convert');\n",
              "      buttonEl.style.display =\n",
              "        google.colab.kernel.accessAllowed ? 'block' : 'none';\n",
              "\n",
              "      async function convertToInteractive(key) {\n",
              "        const element = document.querySelector('#df-862ded41-0ab5-4d54-9a31-014d6c4eb36a');\n",
              "        const dataTable =\n",
              "          await google.colab.kernel.invokeFunction('convertToInteractive',\n",
              "                                                    [key], {});\n",
              "        if (!dataTable) return;\n",
              "\n",
              "        const docLinkHtml = 'Like what you see? Visit the ' +\n",
              "          '<a target=\"_blank\" href=https://colab.research.google.com/notebooks/data_table.ipynb>data table notebook</a>'\n",
              "          + ' to learn more about interactive tables.';\n",
              "        element.innerHTML = '';\n",
              "        dataTable['output_type'] = 'display_data';\n",
              "        await google.colab.output.renderOutput(dataTable, element);\n",
              "        const docLink = document.createElement('div');\n",
              "        docLink.innerHTML = docLinkHtml;\n",
              "        element.appendChild(docLink);\n",
              "      }\n",
              "    </script>\n",
              "  </div>\n",
              "\n",
              "\n",
              "    <div id=\"df-841739d4-ad4a-4917-a1bd-93bb72bb777e\">\n",
              "      <button class=\"colab-df-quickchart\" onclick=\"quickchart('df-841739d4-ad4a-4917-a1bd-93bb72bb777e')\"\n",
              "                title=\"Suggest charts\"\n",
              "                style=\"display:none;\">\n",
              "\n",
              "<svg xmlns=\"http://www.w3.org/2000/svg\" height=\"24px\"viewBox=\"0 0 24 24\"\n",
              "     width=\"24px\">\n",
              "    <g>\n",
              "        <path d=\"M19 3H5c-1.1 0-2 .9-2 2v14c0 1.1.9 2 2 2h14c1.1 0 2-.9 2-2V5c0-1.1-.9-2-2-2zM9 17H7v-7h2v7zm4 0h-2V7h2v10zm4 0h-2v-4h2v4z\"/>\n",
              "    </g>\n",
              "</svg>\n",
              "      </button>\n",
              "\n",
              "<style>\n",
              "  .colab-df-quickchart {\n",
              "      --bg-color: #E8F0FE;\n",
              "      --fill-color: #1967D2;\n",
              "      --hover-bg-color: #E2EBFA;\n",
              "      --hover-fill-color: #174EA6;\n",
              "      --disabled-fill-color: #AAA;\n",
              "      --disabled-bg-color: #DDD;\n",
              "  }\n",
              "\n",
              "  [theme=dark] .colab-df-quickchart {\n",
              "      --bg-color: #3B4455;\n",
              "      --fill-color: #D2E3FC;\n",
              "      --hover-bg-color: #434B5C;\n",
              "      --hover-fill-color: #FFFFFF;\n",
              "      --disabled-bg-color: #3B4455;\n",
              "      --disabled-fill-color: #666;\n",
              "  }\n",
              "\n",
              "  .colab-df-quickchart {\n",
              "    background-color: var(--bg-color);\n",
              "    border: none;\n",
              "    border-radius: 50%;\n",
              "    cursor: pointer;\n",
              "    display: none;\n",
              "    fill: var(--fill-color);\n",
              "    height: 32px;\n",
              "    padding: 0;\n",
              "    width: 32px;\n",
              "  }\n",
              "\n",
              "  .colab-df-quickchart:hover {\n",
              "    background-color: var(--hover-bg-color);\n",
              "    box-shadow: 0 1px 2px rgba(60, 64, 67, 0.3), 0 1px 3px 1px rgba(60, 64, 67, 0.15);\n",
              "    fill: var(--button-hover-fill-color);\n",
              "  }\n",
              "\n",
              "  .colab-df-quickchart-complete:disabled,\n",
              "  .colab-df-quickchart-complete:disabled:hover {\n",
              "    background-color: var(--disabled-bg-color);\n",
              "    fill: var(--disabled-fill-color);\n",
              "    box-shadow: none;\n",
              "  }\n",
              "\n",
              "  .colab-df-spinner {\n",
              "    border: 2px solid var(--fill-color);\n",
              "    border-color: transparent;\n",
              "    border-bottom-color: var(--fill-color);\n",
              "    animation:\n",
              "      spin 1s steps(1) infinite;\n",
              "  }\n",
              "\n",
              "  @keyframes spin {\n",
              "    0% {\n",
              "      border-color: transparent;\n",
              "      border-bottom-color: var(--fill-color);\n",
              "      border-left-color: var(--fill-color);\n",
              "    }\n",
              "    20% {\n",
              "      border-color: transparent;\n",
              "      border-left-color: var(--fill-color);\n",
              "      border-top-color: var(--fill-color);\n",
              "    }\n",
              "    30% {\n",
              "      border-color: transparent;\n",
              "      border-left-color: var(--fill-color);\n",
              "      border-top-color: var(--fill-color);\n",
              "      border-right-color: var(--fill-color);\n",
              "    }\n",
              "    40% {\n",
              "      border-color: transparent;\n",
              "      border-right-color: var(--fill-color);\n",
              "      border-top-color: var(--fill-color);\n",
              "    }\n",
              "    60% {\n",
              "      border-color: transparent;\n",
              "      border-right-color: var(--fill-color);\n",
              "    }\n",
              "    80% {\n",
              "      border-color: transparent;\n",
              "      border-right-color: var(--fill-color);\n",
              "      border-bottom-color: var(--fill-color);\n",
              "    }\n",
              "    90% {\n",
              "      border-color: transparent;\n",
              "      border-bottom-color: var(--fill-color);\n",
              "    }\n",
              "  }\n",
              "</style>\n",
              "\n",
              "      <script>\n",
              "        async function quickchart(key) {\n",
              "          const quickchartButtonEl =\n",
              "            document.querySelector('#' + key + ' button');\n",
              "          quickchartButtonEl.disabled = true;  // To prevent multiple clicks.\n",
              "          quickchartButtonEl.classList.add('colab-df-spinner');\n",
              "          try {\n",
              "            const charts = await google.colab.kernel.invokeFunction(\n",
              "                'suggestCharts', [key], {});\n",
              "          } catch (error) {\n",
              "            console.error('Error during call to suggestCharts:', error);\n",
              "          }\n",
              "          quickchartButtonEl.classList.remove('colab-df-spinner');\n",
              "          quickchartButtonEl.classList.add('colab-df-quickchart-complete');\n",
              "        }\n",
              "        (() => {\n",
              "          let quickchartButtonEl =\n",
              "            document.querySelector('#df-841739d4-ad4a-4917-a1bd-93bb72bb777e button');\n",
              "          quickchartButtonEl.style.display =\n",
              "            google.colab.kernel.accessAllowed ? 'block' : 'none';\n",
              "        })();\n",
              "      </script>\n",
              "    </div>\n",
              "    </div>\n",
              "  </div>\n"
            ],
            "application/vnd.google.colaboratory.intrinsic+json": {
              "type": "dataframe",
              "variable_name": "stckover_df",
              "summary": "{\n  \"name\": \"stckover_df\",\n  \"rows\": 22123,\n  \"fields\": [\n    {\n      \"column\": \"Title\",\n      \"properties\": {\n        \"dtype\": \"string\",\n        \"num_unique_values\": 22122,\n        \"samples\": [\n          \"How can I record and replay MongoDB requests?\",\n          \"Dataflow Flex template while running throwing error for all default parameters\",\n          \"Trying to use multiple alias to create a new column [duplicate]\"\n        ],\n        \"semantic_type\": \"\",\n        \"description\": \"\"\n      }\n    },\n    {\n      \"column\": \"URL\",\n      \"properties\": {\n        \"dtype\": \"string\",\n        \"num_unique_values\": 22123,\n        \"samples\": [\n          \"https://stackoverflow.com/questions/76975806/how-can-i-record-and-replay-mongodb-requests\",\n          \"https://stackoverflow.com/questions/76940189/dataflow-flex-template-while-running-throwing-error-for-all-default-parameters\",\n          \"https://stackoverflow.com/questions/76950125/trying-to-use-multiple-alias-to-create-a-new-column\"\n        ],\n        \"semantic_type\": \"\",\n        \"description\": \"\"\n      }\n    },\n    {\n      \"column\": \"Question\",\n      \"properties\": {\n        \"dtype\": \"string\",\n        \"num_unique_values\": 22083,\n        \"samples\": [\n          \"I'm using QgsQuick in one of my development projects.I use QGIS Desktop to setup my map environment(.qgs file). When running my project using QgsQuick, it seems that the raster image layers are always rendered on top of the vector layers. Even though I've set the rendering order in QGIS Desktop so that the vector layers should show on top.Has anyone had this issue?I've seen this issue with qgis 3.4.4 and version 3.22. Same issue on Windows and Linux.Is the QgsQuick tool still being maintained by QGIS?Do anyone know if the QgsQuick qml tool is widely used?I've tried it on windows and Linux.When opening my development project without making use of the QgsQuick, It runs correctly.Any help would be appreciated.Pieter\",\n          \"I am working on an Orbeon form where the user needs to confirm the values of some input fields before being allowed to send in the form. The confirmation uses single checkboxes to allow different error messages.The number formatting throughout the form is with comma as decimal separator and point as thousands separator.Now, when I add the needed cell names as template parameters to a label to a single checkbox, the number from the cell is shown with point as decimal separator and no thousands separator, even though it is shown correctly in the original field and in the pdf?So, how can I change this formatting of the number in a template parameter?I tried format-number(//cell,\\\"99.999,00\\\") in the template parameter.I also tried converting the number to a string and replace the point with a comma. It just seems like there must be a simpler solution\",\n          \"Closed. This question is not written in English. It is not currently accepting answers.Stack Overflow is an English-only site. The author must be able to communicate in English to understand and engage with any comments and/or answers their question receives. Don't translate this post for the author; machine translations can be inaccurate, and even human translations can alter the intended meaning of the post.Closed 16 hours ago.Improve this questionSalut, j'utilise GPT-4 et depuis 4 jours voici le probl\\u00e8me que je rencontre:Erreur d'application : une exception c\\u00f4t\\u00e9 client s'est produite (voir la console du navigateur pour plus d'informations)en consultant la console de mon navigateur qui est google chrome, voici les premi\\u00e8res lignes d'erreur qui s'affichent :\\\"general.js:102 Only one LaunchDarklyClient can exist at a time, but another client already exists. This probably means something has gone wrong with our DI system, or we're using it incorrectly. d @ general.js:102 Show 1 more frame Show less 24_app-ddf4d3f1671bd1f5.js:28 DOMException: Failed to execute 'insertBefore' on 'Node': The node before which the new node is to be inserted is not a child of this node. at e (https://chat.openai.com/_next/static/chunks/framework-10a404587b40544b.js:9:89708)\\\"que faire dans ce cas?j'ai tout essay\\u00e9 rien a abouti. aidez moi \\u00e0 r\\u00e9soudre ce probl\\u00e8me\"\n        ],\n        \"semantic_type\": \"\",\n        \"description\": \"\"\n      }\n    },\n    {\n      \"column\": \"Categories\",\n      \"properties\": {\n        \"dtype\": \"string\",\n        \"num_unique_values\": 18106,\n        \"samples\": [\n          \"['java', 'elasticsearch']\",\n          \"['css', 'msbuild', 'blazor', 'isolation']\",\n          \"['powershell', 'go', 'exec']\"\n        ],\n        \"semantic_type\": \"\",\n        \"description\": \"\"\n      }\n    },\n    {\n      \"column\": \"base_tokenized\",\n      \"properties\": {\n        \"dtype\": \"object\",\n        \"semantic_type\": \"\",\n        \"description\": \"\"\n      }\n    }\n  ]\n}"
            }
          },
          "metadata": {},
          "execution_count": 11
        }
      ]
    },
    {
      "cell_type": "code",
      "source": [
        "# аккуратно экспериментируем на первом примере\n",
        "glove_vectorize(stckover_df.base_tokenized[0])"
      ],
      "metadata": {
        "colab": {
          "base_uri": "https://localhost:8080/"
        },
        "id": "-BqlyB7r5kXU",
        "outputId": "af77112f-111d-4e72-9faa-5092b9960f4d"
      },
      "execution_count": null,
      "outputs": [
        {
          "output_type": "execute_result",
          "data": {
            "text/plain": [
              "array([ 2.22542107e-01,  1.44528121e-01,  1.69234216e-01,  7.67039582e-02,\n",
              "        1.50165424e-01,  7.54922703e-02, -5.30488007e-02, -4.72270697e-01,\n",
              "       -1.12974562e-01,  1.47391260e-02,  3.68831903e-02,  2.57900387e-01,\n",
              "       -1.23132663e-02, -3.54486890e-02,  1.49075389e-01,  1.60184473e-01,\n",
              "       -2.21250951e-01, -1.62291597e-03,  1.22858144e-01, -3.27823609e-01,\n",
              "       -7.01319128e-02, -1.82033032e-01,  1.34643227e-01,  2.18643755e-01,\n",
              "        1.39313370e-01, -8.71178389e-01, -3.55543226e-01,  5.80867380e-02,\n",
              "        2.23147959e-01, -2.30792999e-01,  2.37653017e+00, -9.47884917e-02,\n",
              "       -2.73314387e-01, -1.85742617e-01, -3.35887931e-02,  1.36849239e-01,\n",
              "        1.46615654e-01, -4.24286500e-02, -1.29818782e-01, -2.41583914e-01,\n",
              "        4.07029003e-01, -3.34718227e-02, -4.38787714e-02,  1.99176431e-01,\n",
              "       -1.32878393e-01,  1.04112089e-01,  2.60055661e-01,  9.21960622e-02,\n",
              "        1.67477086e-01,  9.81650129e-02], dtype=float32)"
            ]
          },
          "metadata": {},
          "execution_count": 12
        }
      ]
    },
    {
      "cell_type": "code",
      "source": [
        "# неаккуратно выливаем на оставшийся датасет\n",
        "glove_vec = np.array(list(stckover_df.base_tokenized.apply(glove_vectorize)))"
      ],
      "metadata": {
        "id": "UrC096rK65nN"
      },
      "execution_count": null,
      "outputs": []
    },
    {
      "cell_type": "code",
      "source": [
        "# ураа все сточки на месте, а векторы по 50\n",
        "glove_vec.shape"
      ],
      "metadata": {
        "colab": {
          "base_uri": "https://localhost:8080/"
        },
        "id": "Qow2EU-a8qj8",
        "outputId": "2d321d54-3cec-4fa3-bd51-a2a28f4e102d"
      },
      "execution_count": null,
      "outputs": [
        {
          "output_type": "execute_result",
          "data": {
            "text/plain": [
              "(22123, 50)"
            ]
          },
          "metadata": {},
          "execution_count": 14
        }
      ]
    },
    {
      "cell_type": "code",
      "source": [
        "# я в этот раз даже PCA не буду делать и попробую кластеризовать на всех данных\n",
        "inertia, silhouette = eval_clusters(glove_vec)"
      ],
      "metadata": {
        "colab": {
          "base_uri": "https://localhost:8080/"
        },
        "id": "g08ihUe-9jfG",
        "outputId": "8c5f71d6-1f30-4307-f728-1a8f71f90f19"
      },
      "execution_count": null,
      "outputs": [
        {
          "output_type": "stream",
          "name": "stderr",
          "text": [
            "100%|██████████| 18/18 [05:16<00:00, 17.57s/it]\n"
          ]
        }
      ]
    },
    {
      "cell_type": "code",
      "source": [
        "plot_metrics(inertia, silhouette)"
      ],
      "metadata": {
        "colab": {
          "base_uri": "https://localhost:8080/",
          "height": 419
        },
        "id": "xizIRaWH-Zxd",
        "outputId": "050cade3-8be5-42a1-efa6-89154db6e828"
      },
      "execution_count": null,
      "outputs": [
        {
          "output_type": "display_data",
          "data": {
            "text/plain": [
              "<Figure size 1000x400 with 2 Axes>"
            ],
            "image/png": "[encoded data removed]"
          },
          "metadata": {}
        }
      ]
    },
    {
      "cell_type": "code",
      "source": [
        "# делаем на двух\n",
        "kmeans_glove = cluster.KMeans(n_clusters=2,\n",
        "                           random_state=17,\n",
        "                           init='k-means++')\n",
        "\n",
        "kmeans_glove_labels = kmeans_glove.fit_predict(glove_vec)\n",
        "\n",
        "display(pd.Series(kmeans_glove_labels).value_counts())"
      ],
      "metadata": {
        "colab": {
          "base_uri": "https://localhost:8080/",
          "height": 146
        },
        "id": "COaYrFNe-c-y",
        "outputId": "c78c9570-6a26-4695-90fd-e6fa04b10975"
      },
      "execution_count": null,
      "outputs": [
        {
          "output_type": "display_data",
          "data": {
            "text/plain": [
              "0    14055\n",
              "1     8068\n",
              "Name: count, dtype: int64"
            ],
            "text/html": [
              "<div>\n",
              "<style scoped>\n",
              "    .dataframe tbody tr th:only-of-type {\n",
              "        vertical-align: middle;\n",
              "    }\n",
              "\n",
              "    .dataframe tbody tr th {\n",
              "        vertical-align: top;\n",
              "    }\n",
              "\n",
              "    .dataframe thead th {\n",
              "        text-align: right;\n",
              "    }\n",
              "</style>\n",
              "<table border=\"1\" class=\"dataframe\">\n",
              "  <thead>\n",
              "    <tr style=\"text-align: right;\">\n",
              "      <th></th>\n",
              "      <th>count</th>\n",
              "    </tr>\n",
              "  </thead>\n",
              "  <tbody>\n",
              "    <tr>\n",
              "      <th>0</th>\n",
              "      <td>14055</td>\n",
              "    </tr>\n",
              "    <tr>\n",
              "      <th>1</th>\n",
              "      <td>8068</td>\n",
              "    </tr>\n",
              "  </tbody>\n",
              "</table>\n",
              "</div><br><label><b>dtype:</b> int64</label>"
            ]
          },
          "metadata": {}
        }
      ]
    },
    {
      "cell_type": "markdown",
      "source": [
        "Ну вообще эта штука вышла достаточно сбалансированной!"
      ],
      "metadata": {
        "id": "DtlvLDx7_s3l"
      }
    },
    {
      "cell_type": "code",
      "source": [
        "# ищем центроиды\n",
        "get_nearest_texts(kmeans_glove, glove_vec, display=True)"
      ],
      "metadata": {
        "colab": {
          "base_uri": "https://localhost:8080/"
        },
        "id": "SwDbmEkj_vfy",
        "outputId": "eddce89a-84ae-47bf-94e0-5919e934fe6c"
      },
      "execution_count": null,
      "outputs": [
        {
          "output_type": "stream",
          "name": "stdout",
          "text": [
            "Кластер 0: ближайший текст - I'm currently in the process of migrating some code inherited from my predecessor in my role that is littered with the following directives in controllers:#if DEBUG == false   [Authorize]#endifI don't really like this implementation as it creates too much noise in the file and looks messy having each method that requires auth in production decorated with this snippet. I therefore want to move the authorize attribute to the top of each controller and decorate the methods that are publicly accessible with the [AllowAnonymous] atrribute instead which makes it really clear which endpoints need auth in production and which ones don't.The issue I face is having my application remove the authorize attribute or ignore it when we are running in development / debug mode. The solution and all projects target .Net 7 but it was originally updated from .Net 5 so rather than having the single program.cs file, we are still utilising Program.cs and Startup.cs. I am not looking to change this as this is what the rest of my team are used to but any future projects will use the new style.There are a number of solutions I've looked at on here that suggest I do the following in my Startup.cs:public void Configure(IApplicationBuilder app, IWebHostEnvironment env, IApiVersionDescriptionProvider provider){  ...app.UseEndpoints(endpoints =>        {            if (env.IsDevelopment())            {                endpoints.MapControllers().AllowAnonymous();            }            else            {                endpoints.MapControllers();            }        });However, our use Endpoint declaration uses the following and if I revert to the above, our swagger page is no longer displayed upon running the application:app.UseEndpoints(endpoints =>{   endpoints.MapControllerRoute(   name: \"default\",   pattern: \"{controller}/{action=Index}/{id?}\");   });}I've also tried applying the follwoing to my Configure services method:services.AddControllers(opts =>            {                opts.Filters.Add(new AllowAnonymousFilter());            });But when I attempt to call an endpoint decorated with the [Authorize] attribute it still applies the authorization and returns a 401 unauthorized respone when making the request in Swagger. Obviously the above is not the full code for brevity as I needed to create a private variable in Startup.cs to store the IWebHostEnvironment so it could be used in configure services but you get the idea.I've confirmed that in debug mode it is going down the correct page and applying allow anonymous on startup but I'm at a loss at how to get this working whilst also being able to utilise Swagger. Any suggestions or pointers would be appreciated as I've already read about 6 or 7 SO posts relating to this and none of them work....\n",
            "Кластер 1: ближайший текст - I'm trying to connect my NestJs application to my MySql database locally. Fellowing the NestJs documentation .I get this error message:[Nest] 8696  - 24/08/2023 15:14:40   ERROR [ExceptionHandler] ER_NOT_SUPPORTED_AUTH_MODE: Client does not support authentication protocol requested by server; consider upgrading MySQL clientHere's my database provider :import { DataSource } from 'typeorm';export const databaseProviders = [  {    provide: 'DATA_SOURCE_LOCAL',    useFactory: async () => {      const dataSource = new DataSource({        type: 'mysql',        host: '127.0.0.1',        port: 3306,        username: 'root',        password: 'root',        database: 'myDb',        entities: [myEntities],        synchronize: true,        insecureAuth: true,      });      return dataSource.initialize();    },  },An example of provider (user.prividers.ts) :import { DataSource } from 'typeorm';import {User} from './user.entity';import { Profile } from './profile.entity';export const userProviders = [  {    provide: 'USER_REPOSITORY',    useFactory: (dataSource: DataSource) => dataSource.getRepository(User),    inject: ['DATA_SOURCE_LOCAL'],  }];As the documentation preconizes, I'm using \"mysql2\" and \"typeorm\" : My package.json file :{  \"name\": \"mysql-project\",  \"version\": \"0.0.1\",  \"description\": \"\",  \"author\": \"\",  \"private\": true,  \"license\": \"UNLICENSED\",  \"scripts\": {    \"build\": \"nest build\",    \"format\": \"prettier --write \\\"src/**/*.ts\\\" \\\"test/**/*.ts\\\"\",    \"start\": \"nest start\",    \"start:dev\": \"nest start --watch\",    \"start:debug\": \"nest start --debug --watch\",    \"start:prod\": \"node dist/main\",    \"lint\": \"eslint \\\"{src,apps,libs,test}/**/*.ts\\\" --fix\",    \"test\": \"jest\",    \"test:watch\": \"jest --watch\",    \"test:cov\": \"jest --coverage\",    \"test:debug\": \"node --inspect-brk -r tsconfig-paths/register -r ts-node/register node_modules/.bin/jest --runInBand\",    \"test:e2e\": \"jest --config ./test/jest-e2e.json\"  },  \"dependencies\": {    \"@nestjs/common\": \"^9.0.0\",    \"@nestjs/config\": \"^2.3.4\",    \"@nestjs/core\": \"^9.0.0\",    \"@nestjs/mapped-types\": \"*\",    \"@nestjs/platform-express\": \"^9.0.0\",    \"@nestjs/typeorm\": \"^9.0.1\",    \"class-transformer\": \"^0.5.1\",    \"class-validator\": \"^0.14.0\",    \"mysql\": \"^2.18.1\",    \"mysql2\": \"^3.6.0\",    \"reflect-metadata\": \"^0.1.13\",    \"rxjs\": \"^7.2.0\",    \"typeorm\": \"^0.3.16\"  },  \"devDependencies\": {    \"@nestjs/cli\": \"^9.0.0\",    \"@nestjs/schematics\": \"^9.0.0\",    \"@nestjs/testing\": \"^9.0.0\",    \"@types/express\": \"^4.17.13\",    \"@types/jest\": \"29.5.0\",    \"@types/node\": \"18.15.11\",    \"@types/supertest\": \"^2.0.11\",    \"@typescript-eslint/eslint-plugin\": \"^5.0.0\",    \"@typescript-eslint/parser\": \"^5.0.0\",    \"eslint\": \"^8.0.1\",    \"eslint-config-prettier\": \"^8.3.0\",    \"eslint-plugin-prettier\": \"^4.0.0\",    \"jest\": \"29.5.0\",    \"prettier\": \"^2.3.2\",    \"source-map-support\": \"^0.5.20\",    \"supertest\": \"^6.1.3\",    \"ts-jest\": \"29.0.5\",    \"ts-loader\": \"^9.2.3\",    \"ts-node\": \"^10.0.0\",    \"tsconfig-paths\": \"4.2.0\",    \"typescript\": \"^4.7.4\"  },I precise a \"funny\" thing. Each time than I run the application, I get one (and ony one) new table/entity in the database.I have 4 entities (Quiz, Question, User, Profile). Id the table \"Quiz\" is set in database, and I run the app, it will crash with the above message, but the \"Question\" table will be creatad.I've already tried this method :ALTER USER 'root'@'localhost' IDENTIFIED WITH mysql_native_password BY 'password';flush privileges;But, despite the fact than it's not working, it seems to not be a good practice (like in this topic) and no usable in every situations (cloud database for exemple).I question myself on the use of \"mysql\" type in the database provider dans the need of \"mysql2\" from the documentation (which is founded nowhere in the app).I read things about \"mysql2\" whith Node.js like add this to index.js:const mysql = require('mysql2')But I don't know how to use that with NestJs....\n"
          ]
        }
      ]
    },
    {
      "cell_type": "markdown",
      "source": [
        "Короче говоря, для какого-то более адекватного анализа на центроиды опираться я не очень могу (по крайней мере, только для одного текста). Надо смотреть на группу текстов"
      ],
      "metadata": {
        "id": "Qce9hRZjAkaE"
      }
    },
    {
      "cell_type": "markdown",
      "source": [
        "# Все то же самое для предобработанных текстов\n",
        "\n"
      ],
      "metadata": {
        "id": "q1GBjiIrMaGm"
      }
    },
    {
      "cell_type": "code",
      "source": [
        "stop_words = list(set(stopwords.words('english')))\n",
        "\n",
        "def tokenize(text):\n",
        "\n",
        "    # нижний регистр\n",
        "    text = text.lower()\n",
        "    # исключаем ненужные символы\n",
        "    text = re.sub(r'[^A-Za-z\\s]+', ' ', text)\n",
        "    # возвращаем список токенов\n",
        "    return word_tokenize(text)\n",
        "\n",
        "\n",
        "# напишем функцию для лемматизации: на вход подается список слов, на выходе\n",
        "# возвращается словарь с формами в ключах и соответствующих им леммами\n",
        "\n",
        "def get_lemmas_cache(all_words):\n",
        "    # сделаем все это дело единым списком\n",
        "    all_words = list(chain.from_iterable(list(all_words)))\n",
        "\n",
        "    # а теперь лемматизация\n",
        "    lemmatizer = WordNetLemmatizer()\n",
        "\n",
        "    cache = dict()\n",
        "    for word in all_words:\n",
        "        # чтобы разбирало не только существительные, будем парсить еще часть речи\n",
        "        pos = pos_tag([word], tagset='universal')[0][1]\n",
        "        if pos == 'NOUN':\n",
        "            lemma = lemmatizer.lemmatize(word)\n",
        "        elif pos == 'VERB':\n",
        "            lemma = lemmatizer.lemmatize(word, pos='v')\n",
        "        elif pos == 'ADV':\n",
        "            lemma = lemmatizer.lemmatize(word, pos='r')\n",
        "        elif pos == 'ADJ':\n",
        "            lemma = lemmatizer.lemmatize(word, pos='a')\n",
        "        else:\n",
        "            lemma = lemmatizer.lemmatize(word)\n",
        "\n",
        "        cache[word] = lemma\n",
        "\n",
        "    return cache\n",
        "\n",
        "def normalize_text(tokenized_text, lemmas_cache):\n",
        "    lemmatized = list()\n",
        "    for word in tokenized_text:\n",
        "        if word not in stop_words or lemmas_cache[word] not in stop_words:\n",
        "            lemmatized.append(word)\n",
        "    return lemmatized"
      ],
      "metadata": {
        "id": "4em_O_nHMTnn"
      },
      "execution_count": null,
      "outputs": []
    },
    {
      "cell_type": "code",
      "source": [
        "# проводим токенизацию\n",
        "stckover_df['tokenized'] = stckover_df.Question.apply(tokenize)\n",
        "\n",
        "# получаем словарь лемм\n",
        "stckover_lemmas_cache = get_lemmas_cache(stckover_df.tokenized)"
      ],
      "metadata": {
        "id": "KM1knt8xRkwf"
      },
      "execution_count": null,
      "outputs": []
    },
    {
      "cell_type": "code",
      "source": [
        "# получаем нормализованный текст\n",
        "stckover_df['normalized'] = stckover_df.tokenized.apply(normalize_text,\n",
        "                                                        lemmas_cache=stckover_lemmas_cache)"
      ],
      "metadata": {
        "id": "4ag0iY1NP3Mi"
      },
      "execution_count": null,
      "outputs": []
    },
    {
      "cell_type": "code",
      "source": [
        "# возвращаем это все дело в строки, потому что cv так работает\n",
        "stckover_df['str_normalized'] = stckover_df.normalized.apply(lambda x: ' '.join(x))"
      ],
      "metadata": {
        "id": "a-q-FdszQ6b5"
      },
      "execution_count": null,
      "outputs": []
    },
    {
      "cell_type": "markdown",
      "source": [
        "## CountVectorizer: K-means на предобработанных данных"
      ],
      "metadata": {
        "id": "faw6euugQSD7"
      }
    },
    {
      "cell_type": "code",
      "source": [
        "count_vec = CountVectorizer(tokenizer=lambda x: x.split(),\n",
        "                            min_df=8)\n",
        "embeddings_cv = count_vec.fit_transform(stckover_df.str_normalized)\n",
        "embeddings_cv.shape"
      ],
      "metadata": {
        "colab": {
          "base_uri": "https://localhost:8080/"
        },
        "id": "_SXrHRjvQQFf",
        "outputId": "71a869db-19f7-405e-e424-87632035c3d5"
      },
      "execution_count": null,
      "outputs": [
        {
          "output_type": "stream",
          "name": "stderr",
          "text": [
            "/usr/local/lib/python3.11/dist-packages/sklearn/feature_extraction/text.py:517: UserWarning: The parameter 'token_pattern' will not be used since 'tokenizer' is not None'\n",
            "  warnings.warn(\n"
          ]
        },
        {
          "output_type": "execute_result",
          "data": {
            "text/plain": [
              "(22123, 11963)"
            ]
          },
          "metadata": {},
          "execution_count": 57
        }
      ]
    },
    {
      "cell_type": "code",
      "source": [
        "pca_3_result_cv_norm = get_pca_results(embeddings_cv, 3)\n",
        "pca_3_result_cv_norm.shape"
      ],
      "metadata": {
        "colab": {
          "base_uri": "https://localhost:8080/"
        },
        "id": "dosdV9NbSBCH",
        "outputId": "18067cef-c6ef-419e-ebb7-845eaf78686a"
      },
      "execution_count": null,
      "outputs": [
        {
          "output_type": "execute_result",
          "data": {
            "text/plain": [
              "(22123, 3)"
            ]
          },
          "metadata": {},
          "execution_count": 60
        }
      ]
    },
    {
      "cell_type": "code",
      "source": [
        "inertia, silhouette = eval_clusters(pca_3_result_cv_norm)"
      ],
      "metadata": {
        "colab": {
          "base_uri": "https://localhost:8080/"
        },
        "id": "dIDhcwKpSPp3",
        "outputId": "e51c1558-5db1-465a-dd5a-664fbdff3b1a"
      },
      "execution_count": null,
      "outputs": [
        {
          "output_type": "stream",
          "name": "stderr",
          "text": [
            "100%|██████████| 18/18 [02:05<00:00,  6.99s/it]\n"
          ]
        }
      ]
    },
    {
      "cell_type": "code",
      "source": [
        "# визуализируем\n",
        "plot_metrics(inertia, silhouette)"
      ],
      "metadata": {
        "colab": {
          "base_uri": "https://localhost:8080/",
          "height": 419
        },
        "id": "D5wncOmCTMpt",
        "outputId": "902e36d8-1077-4958-e56e-5c6131614468"
      },
      "execution_count": null,
      "outputs": [
        {
          "output_type": "display_data",
          "data": {
            "text/plain": [
              "<Figure size 1000x400 with 2 Axes>"
            ],
            "image/png": "[encoded data removed]"
          },
          "metadata": {}
        }
      ]
    },
    {
      "cell_type": "code",
      "source": [
        "# давайте сделаем три кластера\n",
        "kmeans_cv_norm = cluster.KMeans(n_clusters=3,\n",
        "                           random_state=17,\n",
        "                           init='k-means++')\n",
        "\n",
        "kmeans_cv_norm_labels = kmeans_cv_norm.fit_predict(pca_3_result_cv_norm)\n",
        "\n",
        "display(pd.Series(kmeans_cv_norm_labels).value_counts())"
      ],
      "metadata": {
        "colab": {
          "base_uri": "https://localhost:8080/",
          "height": 178
        },
        "id": "OC2a432QTTNP",
        "outputId": "e4278b91-8c35-425f-dae3-c8a85fea5860"
      },
      "execution_count": null,
      "outputs": [
        {
          "output_type": "display_data",
          "data": {
            "text/plain": [
              "0    22100\n",
              "2       22\n",
              "1        1\n",
              "Name: count, dtype: int64"
            ],
            "text/html": [
              "<div>\n",
              "<style scoped>\n",
              "    .dataframe tbody tr th:only-of-type {\n",
              "        vertical-align: middle;\n",
              "    }\n",
              "\n",
              "    .dataframe tbody tr th {\n",
              "        vertical-align: top;\n",
              "    }\n",
              "\n",
              "    .dataframe thead th {\n",
              "        text-align: right;\n",
              "    }\n",
              "</style>\n",
              "<table border=\"1\" class=\"dataframe\">\n",
              "  <thead>\n",
              "    <tr style=\"text-align: right;\">\n",
              "      <th></th>\n",
              "      <th>count</th>\n",
              "    </tr>\n",
              "  </thead>\n",
              "  <tbody>\n",
              "    <tr>\n",
              "      <th>0</th>\n",
              "      <td>22100</td>\n",
              "    </tr>\n",
              "    <tr>\n",
              "      <th>2</th>\n",
              "      <td>22</td>\n",
              "    </tr>\n",
              "    <tr>\n",
              "      <th>1</th>\n",
              "      <td>1</td>\n",
              "    </tr>\n",
              "  </tbody>\n",
              "</table>\n",
              "</div><br><label><b>dtype:</b> int64</label>"
            ]
          },
          "metadata": {}
        }
      ]
    },
    {
      "cell_type": "markdown",
      "source": [
        "Где же ты улучшение... Ну я бы не сказала, все все равно слито в одну кучу"
      ],
      "metadata": {
        "id": "9ZzcY98XTo_V"
      }
    },
    {
      "cell_type": "code",
      "source": [
        "# ищем центроиды\n",
        "get_nearest_texts(kmeans_cv_norm, pca_3_result_cv_norm, display=True)"
      ],
      "metadata": {
        "colab": {
          "base_uri": "https://localhost:8080/"
        },
        "id": "H2bCA7_0ToFG",
        "outputId": "7640ed06-ae40-4715-f8f6-ca78edaf87c5"
      },
      "execution_count": null,
      "outputs": [
        {
          "output_type": "stream",
          "name": "stdout",
          "text": [
            "Кластер 0: ближайший текст - I'm trying to modify this code so that the actions button has a little padding that does not highlight on hover below the button.I was trying to use my action-blank class by sandwiching the button between 2 blank lines but the blank lines were getting highlighted.Ideally, the ACTIONS button is present on all sections without needing to click them to appear.vertical-menu {  width: 100%;  height: 150px;  position: relative;}.trend-button:hover {  background: linear-gradient(to right, transparent 2.5%, #f0f0f0 2.5%, #f0f0f0 97.5%, transparent 97.5%);  align-items: center;}/* Exclude blank line and blank element from hover effect */.button-label-line>div:hover,.actions-container>.action-blank {  background: none;}/* Style for the blank element */.action-blank {  height: 0.5em;  /* Adjust height as needed */}.button-label-divider {  height: 5px;}.actions-container>.action-blank {  background: none;}/* Style for the blank element */.action-blank {  height: 0.5em;  /* Adjust height as needed */}.vertical-menu input[type=\"radio\"] {  position: absolute;  left: -9999px;}.vertical-menu label {  background-color: #eee;  color: black;  display: block;  padding: 12px;  height: 100%;  margin: 0;  text-decoration: none;  cursor: pointer;}.vertical-menu label:hover {  background-color: #ccc;}.vertical-menu input[type=\"radio\"]:checked+label {  background-color: #04AA6D;  color: white;}.vertical-menu .trend-button {  display: none;  background-color: #04AA6D;}.vertical-menu input[type=\"radio\"]:checked+label+.trend-button {  display: block;  text-align: center;  margin-top: -1px;  /* Adjust the margin to remove white space */}.vertical-menu input[type=\"radio\"]:checked+label+.trend-button button {  width: 100%;  background-color: #04AA6D;  color: white;  border: none;  padding: 5px 10px;  cursor: pointer;}<div class=\"vertical-menu\" id=\"menu\">  <input type=\"radio\" id=\"option1\" name=\"menu-option\" checked>  <label for=\"option1\">#H1#<div class=\"subtitle\">#S1#</div></label>  <div class=\"trend-button\">    #ACTIONS#  </div>  <input type=\"radio\" id=\"option2\" name=\"menu-option\">  <label for=\"option2\">#H2#<div class=\"subtitle\">#S2#</div></label>  <div class=\"trend-button\">    #ACTIONS#  </div>  <input type=\"radio\" id=\"option3\" name=\"menu-option\">  <label for=\"option3\">#H3#<div class=\"subtitle\">#S3#</div></label>  <div class=\"trend-button\">    #ACTIONS#  </div>  <input type=\"radio\" id=\"option4\" name=\"menu-option\">  <label for=\"option4\">#H4#<div class=\"subtitle\">#S4#</div></label>  <div class=\"trend-button\">    #ACTIONS#  </div></div>Run code snippetExpand snippetFor context something like thisWhen one section is selected: When hovering on button:...\n",
            "Кластер 1: ближайший текст - I want to find the mean (for numerical variables) and mode (for character variables) for each of the variables under column \"trait_name\" for each unique \"taxon_name\". I would then like to tabulate these values.This is what my dataframe looks like currently (I also have a wide version):This is my desired output:I've written code that manually calculates the mean and mode for each \"trait_name\" per \"taxon_name\" as follows:# create mode functionfind.mode <- function(x, na.rm = TRUE) {    if(na.rm){     x = x[!is.na(x)]  }    val <- unique(x)  return(val[which.max(tabulate(match(x, val)))])}# MEAN AND MODE OF TRAITS## Acacia implexa acacia_mass <- mean(species_traits_wide$seed_dry_mass[species_traits_wide$taxon_name == \"Acacia implexa\"], na.rm = TRUE)acacia_length <- mean(species_traits_wide$seed_length[species_traits_wide$taxon_name == \"Acacia implexa\"], na.rm = TRUE)acacia_form <- find.mode(species_traits_wide$plant_growth_form[species_traits_wide$taxon_name == \"Acacia implexa\"])acacia_dormancy <- find.mode(species_traits_wide$seed_dormancy_class[species_traits_wide$taxon_name == \"Acacia implexa\"])acacia_treatment <- find.mode(species_traits_wide$seed_germination_treatment[species_traits_wide$taxon_name == \"Acacia implexa\"])But I need to automate the process for all species in the dataframe/any new species I wish to adddf <- structure(list(...1 = c(1, 2, 3, 4, 5, 6, 7, 8, 9, 10, 11, 12, 13, 14, 15, 16, 17, 18, 19, 20, 21, 22, 23, 24, 25, 26, 27, 28, 29, 30, 31, 32, 33, 34, 35, 36, 37, 38, 39, 40, 41, 42, 43, 44, 45, 46, 47, 48, 49, 50, 51, 52, 53, 54, 55, 56, 57, 58, 59, 60, 61, 62, 63, 64, 65, 66, 67, 68, 69, 70, 71, 72, 73, 74, 75, 76, 77, 78, 79, 80, 81, 82, 83, 84, 85, 86, 87, 88, 89, 90, 91, 92, 93, 94, 95, 96, 97, 98, 99, 100, 101, 102, 103, 104, 105, 106, 107, 108, 109, 110, 111, 112, 113, 114, 115, 116, 117, 118, 119, 120, 121, 122, 123, 124, 125, 126, 127, 128, 129, 130, 131, 132, 133, 134, 135, 136, 137, 138, 139, 140, 141, 142, 143, 144, 145, 146, 147, 148, 149, 150, 151, 152, 153, 154, 155, 156, 157, 158, 159, 160, 161, 162, 163, 164, 165, 166, 167, 168, 169, 170, 171, 172, 173, 174, 175, 176, 177, 178, 179, 180, 181, 182, 183, 184, 185, 186, 187, 188, 189, 190, 191, 192, 193, 194, 195, 196, 197, 198, 199, 200, 201, 202, 203, 204, 205, 206, 207, 208, 209, 210, 211, 212, 213, 214, 215, 216, 217, 218, 219, 220, 221, 222, 223, 224, 225, 226, 227, 228, 229, 230, 231, 232, 233, 234, 235, 236, 237, 238, 239, 240, 241, 242, 243, 244, 245, 246, 247, 248, 249, 250, 251, 252, 253, 254, 255, 256, 257, 258, 259, 260, 261, 262, 263, 264, 265, 266, 267, 268, 269, 270, 271, 272, 273, 274, 275, 276, 277, 278, 279, 280, 281, 282, 283, 284, 285, 286, 287, 288, 289, 290, 291, 292, 293, 294, 295, 296, 297, 298, 299, 300, 301, 302, 303, 304, 305, 306, 307, 308, 309, 310, 311, 312, 313, 314, 315, 316, 317, 318, 319, 320, 321, 322, 323, 324, 325, 326, 327, 328, 329, 330, 331, 332, 333, 334, 335, 336, 337, 338, 339, 340, 341, 342, 343, 344, 345, 346, 347, 348, 349, 350, 351, 352, 353, 354, 355, 356, 357, 358, 359, 360, 361, 362, 363, 364, 365, 366, 367, 368, 369, 370, 371, 372, 373, 374, 375, 376, 377, 378, 379, 380, 381, 382, 383, 384, 385, 386, 387, 388, 389, 390, 391, 392, 393, 394, 395, 396, 397, 398, 399, 400, 401, 402, 403, 404, 405, 406, 407, 408, 409, 410, 411, 412, 413, 414, 415, 416, 417, 418, 419, 420, 421, 422, 423, 424, 425, 426, 427, 428, 429, 430, 431, 432, 433, 434, 435, 436, 437, 438, 439, 440, 441, 442, 443, 444, 445, 446, 447, 448, 449, 450, 451), taxon_name = c(\"Acacia implexa\", \"Acacia implexa\", \"Acacia implexa\", \"Acacia implexa\", \"Acacia implexa\", \"Acacia implexa\", \"Acacia implexa\", \"Acacia implexa\", \"Acacia implexa\", \"Acacia implexa\", \"Acacia implexa\", \"Acacia implexa\", \"Acacia implexa\", \"Acacia implexa\", \"Acacia implexa\", \"Acacia implexa\", \"Acacia implexa\", \"Acacia implexa\", \"Acacia implexa\", \"Acacia implexa\", \"Acacia implexa\", \"Acacia implexa\", \"Acacia implexa\", \"Acacia implexa\", \"Acacia implexa\", \"Acacia implexa\", \"Acacia implexa\", \"Acacia implexa\", \"Acacia implexa\", \"Acacia implexa\", \"Acacia implexa\", \"Acacia implexa\", \"Acacia implexa\", \"Acacia implexa\", \"Acacia implexa\", \"Acacia implexa\", \"Acacia implexa\", \"Acacia implexa\", \"Acacia implexa\", \"Acacia implexa\", \"Acacia implexa\", \"Acacia implexa\", \"Acacia implexa\", \"Acacia implexa\", \"Acacia implexa\", \"Acacia implexa\", \"Acacia implexa\", \"Acacia implexa\", \"Acacia implexa\", \"Acacia implexa\", \"Acacia implexa\", \"Acacia implexa\", \"Acacia implexa\", \"Acacia implexa\", \"Acacia implexa\", \"Acacia implexa\", \"Acacia implexa\", \"Acacia implexa\", \"Acacia implexa\", \"Acacia implexa\", \"Acacia implexa\", \"Acacia implexa\", \"Acacia implexa\", \"Acacia implexa\", \"Acacia implexa\", \"Acacia implexa\", \"Acacia implexa\", \"Acacia implexa\", \"Acacia implexa\", \"Acacia implexa\", \"Acacia implexa\", \"Acacia implexa\", \"Acacia implexa\", \"Acacia implexa\", \"Acacia implexa\", \"Acacia implexa\", \"Acacia implexa\", \"Acacia implexa\", \"Acacia implexa\", \"Acacia implexa\", \"Acacia implexa\", \"Acacia implexa\", \"Acacia implexa\", \"Acacia implexa\", \"Acacia implexa\", \"Acacia implexa\", \"Acacia implexa\", \"Acacia implexa\", \"Acacia implexa\", \"Acacia implexa\", \"Acacia implexa\", \"Acacia implexa\", \"Acacia implexa\", \"Acacia implexa\", \"Acacia implexa\", \"Acacia implexa\", \"Acacia implexa\", \"Acacia implexa\", \"Acacia implexa\", \"Acacia implexa\", \"Acacia implexa\", \"Acacia implexa\", \"Acacia implexa\", \"Acacia implexa\", \"Acacia implexa\", \"Acacia implexa\", \"Acacia implexa\", \"Acacia implexa\", \"Acacia implexa\", \"Acacia implexa\", \"Acacia implexa\", \"Acacia implexa\", \"Acacia implexa\", \"Acacia implexa\", \"Acacia implexa\", \"Acacia implexa\", \"Acacia implexa\", \"Acacia implexa\", \"Acacia implexa\", \"Acacia implexa\", \"Acacia implexa\", \"Acacia implexa\", \"Acacia implexa\", \"Acacia implexa\", \"Acacia implexa\", \"Casuarina cunninghamiana\", \"Casuarina cunninghamiana\", \"Casuarina cunninghamiana\", \"Casuarina cunninghamiana\", \"Casuarina cunninghamiana\", \"Casuarina cunninghamiana\", \"Casuarina cunninghamiana\", \"Casuarina cunninghamiana\", \"Casuarina cunninghamiana\", \"Casuarina cunninghamiana\", \"Casuarina cunninghamiana\", \"Casuarina cunninghamiana\", \"Casuarina cunninghamiana\", \"Casuarina cunninghamiana\", \"Casuarina cunninghamiana\", \"Casuarina cunninghamiana\", \"Casuarina cunninghamiana\", \"Casuarina cunninghamiana\", \"Casuarina cunninghamiana\", \"Casuarina cunninghamiana\", \"Casuarina cunninghamiana\", \"Casuarina cunninghamiana\", \"Casuarina cunninghamiana\", \"Casuarina cunninghamiana\", \"Casuarina cunninghamiana\", \"Casuarina cunninghamiana\", \"Casuarina cunninghamiana\", \"Casuarina cunninghamiana\", \"Casuarina cunninghamiana\", \"Casuarina cunninghamiana\", \"Casuarina cunninghamiana\", \"Casuarina cunninghamiana\", \"Casuarina cunninghamiana\", \"Casuarina cunninghamiana\", \"Casuarina cunninghamiana\", \"Casuarina cunninghamiana\", \"Casuarina cunninghamiana\", \"Casuarina cunninghamiana\", \"Casuarina cunninghamiana\", \"Casuarina cunninghamiana\", \"Casuarina cunninghamiana\", \"Casuarina cunninghamiana\", \"Casuarina cunninghamiana\", \"Casuarina cunninghamiana\", \"Casuarina cunninghamiana\", \"Casuarina cunninghamiana\", \"Casuarina cunninghamiana\", \"Casuarina cunninghamiana\", \"Casuarina cunninghamiana\", \"Casuarina cunninghamiana\", \"Casuarina cunninghamiana\", \"Casuarina cunninghamiana\", \"Casuarina cunninghamiana\", \"Casuarina cunninghamiana\", \"Casuarina cunninghamiana\", \"Casuarina cunninghamiana\", \"Casuarina cunninghamiana\", \"Casuarina cunninghamiana\", \"Casuarina cunninghamiana\", \"Casuarina cunninghamiana\", \"Casuarina cunninghamiana\", \"Casuarina cunninghamiana\", \"Casuarina cunninghamiana\", \"Casuarina cunninghamiana\", \"Casuarina cunninghamiana\", \"Casuarina cunninghamiana\", \"Casuarina cunninghamiana\", \"Casuarina cunninghamiana\", \"Casuarina cunninghamiana\", \"Casuarina cunninghamiana\", \"Casuarina cunninghamiana\", \"Casuarina cunninghamiana\", \"Casuarina cunninghamiana\", \"Casuarina cunninghamiana\", \"Casuarina cunninghamiana\", \"Casuarina cunninghamiana\", \"Casuarina cunninghamiana\", \"Casuarina cunninghamiana\", \"Casuarina cunninghamiana\", \"Casuarina cunninghamiana\", \"Casuarina cunninghamiana\", \"Casuarina cunninghamiana\", \"Casuarina cunninghamiana\", \"Casuarina cunninghamiana\", \"Casuarina cunninghamiana\", \"Casuarina cunninghamiana\", \"Casuarina cunninghamiana\", \"Casuarina cunninghamiana\", \"Casuarina cunninghamiana\", \"Casuarina cunninghamiana\", \"Casuarina cunninghamiana\", \"Casuarina cunninghamiana\", \"Casuarina cunninghamiana\", \"Casuarina cunninghamiana\", \"Casuarina cunninghamiana\", \"Casuarina cunninghamiana\", \"Casuarina cunninghamiana\", \"Casuarina cunninghamiana\", \"Casuarina cunninghamiana\", \"Casuarina cunninghamiana\", \"Casuarina cunninghamiana\", \"Casuarina cunninghamiana\", \"Casuarina cunninghamiana\", \"Casuarina cunninghamiana\", \"Casuarina cunninghamiana\", \"Casuarina cunninghamiana\", \"Casuarina cunninghamiana\", \"Casuarina cunninghamiana\", \"Casuarina cunninghamiana\", \"Casuarina cunninghamiana\", \"Casuarina cunninghamiana\", \"Casuarina cunninghamiana\", \"Casuarina cunninghamiana\", \"Casuarina cunninghamiana\", \"Casuarina cunninghamiana\", \"Casuarina cunninghamiana\", \"Casuarina cunninghamiana\", \"Casuarina cunninghamiana\", \"Casuarina cunninghamiana\", \"Casuarina cunninghamiana\", \"Casuarina cunninghamiana\", \"Eucalyptus viminalis\", \"Eucalyptus viminalis\", \"Eucalyptus viminalis\", \"Eucalyptus viminalis\", \"Eucalyptus viminalis\", \"Eucalyptus viminalis\", \"Eucalyptus viminalis\", \"Eucalyptus viminalis\", \"Eucalyptus viminalis\", \"Eucalyptus viminalis\", \"Eucalyptus viminalis\", \"Eucalyptus viminalis\", \"Eucalyptus viminalis\", \"Eucalyptus viminalis\", \"Eucalyptus viminalis\", \"Eucalyptus viminalis\", \"Eucalyptus viminalis\", \"Eucalyptus viminalis\", \"Eucalyptus viminalis\", \"Eucalyptus viminalis\", \"Eucalyptus viminalis\", \"Eucalyptus viminalis\", \"Eucalyptus viminalis\", \"Eucalyptus viminalis\", \"Eucalyptus viminalis\", \"Eucalyptus viminalis\", \"Eucalyptus viminalis\", \"Eucalyptus viminalis\", \"Hardenbergia violacea\", \"Hardenbergia violacea\", \"Hardenbergia violacea\", \"Hardenbergia violacea\", \"Hardenbergia violacea\", \"Hardenbergia violacea\", \"Hardenbergia violacea\", \"Hardenbergia violacea\", \"Hardenbergia violacea\", \"Hardenbergia violacea\", \"Hardenbergia violacea\", \"Hardenbergia violacea\", \"Hardenbergia violacea\", \"Hardenbergia violacea\", \"Hardenbergia violacea\", \"Hardenbergia violacea\", \"Hardenbergia violacea\", \"Hardenbergia violacea\", \"Hardenbergia violacea\", \"Hardenbergia violacea\", \"Hardenbergia violacea\", \"Hardenbergia violacea\", \"Hardenbergia violacea\", \"Hardenbergia violacea\", \"Hardenbergia violacea\", \"Hardenbergia violacea\", \"Hardenbergia violacea\", \"Hardenbergia violacea\", \"Hardenbergia violacea\", \"Hardenbergia violacea\", \"Hardenbergia violacea\", \"Hardenbergia violacea\", \"Hardenbergia violacea\", \"Hardenbergia violacea\", \"Hardenbergia violacea\", \"Hardenbergia violacea\", \"Hardenbergia violacea\", \"Hardenbergia violacea\", \"Hardenbergia violacea\", \"Hardenbergia violacea\", \"Hardenbergia violacea\", \"Hardenbergia violacea\", \"Hardenbergia violacea\", \"Hardenbergia violacea\", \"Hardenbergia violacea\", \"Hardenbergia violacea\", \"Hardenbergia violacea\", \"Hardenbergia violacea\", \"Hardenbergia violacea\", \"Hardenbergia violacea\", \"Hardenbergia violacea\", \"Hardenbergia violacea\", \"Hardenbergia violacea\", \"Hardenbergia violacea\", \"Hardenbergia violacea\", \"Hardenbergia violacea\", \"Hardenbergia violacea\", \"Hardenbergia violacea\", \"Hardenbergia violacea\", \"Hardenbergia violacea\", \"Hardenbergia violacea\", \"Hardenbergia violacea\", \"Hardenbergia violacea\", \"Hardenbergia violacea\", \"Hardenbergia violacea\", \"Hardenbergia violacea\", \"Hardenbergia violacea\", \"Hardenbergia violacea\", \"Hardenbergia violacea\", \"Hardenbergia violacea\", \"Hardenbergia violacea\", \"Hardenbergia violacea\", \"Hardenbergia violacea\", \"Hardenbergia violacea\", \"Hardenbergia violacea\", \"Hardenbergia violacea\", \"Hardenbergia violacea\", \"Hardenbergia violacea\", \"Hardenbergia violacea\", \"Hardenbergia violacea\", \"Hardenbergia violacea\", \"Hardenbergia violacea\", \"Hardenbergia violacea\", \"Hardenbergia violacea\", \"Hardenbergia violacea\", \"Hardenbergia violacea\", \"Hardenbergia violacea\", \"Hardenbergia violacea\", \"Hardenbergia violacea\", \"Hardenbergia violacea\", \"Hardenbergia violacea\", \"Hardenbergia violacea\", \"Hardenbergia violacea\", \"Hardenbergia violacea\", \"Hardenbergia violacea\", \"Hardenbergia violacea\", \"Hardenbergia violacea\", \"Hardenbergia violacea\", \"Hardenbergia violacea\", \"Hardenbergia violacea\", \"Hardenbergia violacea\", \"Hardenbergia violacea\", \"Hardenbergia violacea\", \"Hardenbergia violacea\", \"Hardenbergia violacea\", \"Hardenbergia violacea\", \"Hardenbergia violacea\", \"Hardenbergia violacea\", \"Hardenbergia violacea\", \"Hardenbergia violacea\", \"Hardenbergia violacea\", \"Hardenbergia violacea\", \"Hardenbergia violacea\", \"Hardenbergia violacea\", \"Hardenbergia violacea\", \"Hardenbergia violacea\", \"Hardenbergia violacea\", \"Hardenbergia violacea\", \"Hardenbergia violacea\", \"Hardenbergia violacea\", \"Hardenbergia violacea\", \"Hardenbergia violacea\", \"Hardenbergia violacea\", \"Themeda triandra\", \"Themeda triandra\", \"Themeda triandra\", \"Themeda triandra\", \"Themeda triandra\", \"Themeda triandra\", \"Themeda triandra\", \"Themeda triandra\", \"Themeda triandra\", \"Themeda triandra\", \"Themeda triandra\", \"Themeda triandra\", \"Themeda triandra\", \"Themeda triandra\", \"Themeda triandra\", \"Themeda triandra\", \"Themeda triandra\", \"Themeda triandra\", \"Themeda triandra\", \"Themeda triandra\", \"Themeda triandra\", \"Themeda triandra\", \"Themeda triandra\", \"Themeda triandra\", \"Themeda triandra\", \"Themeda triandra\", \"Themeda triandra\", \"Themeda triandra\", \"Themeda triandra\", \"Themeda triandra\", \"Themeda triandra\", \"Themeda triandra\", \"Themeda triandra\", \"Themeda triandra\", \"Themeda triandra\", \"Themeda triandra\", \"Themeda triandra\", \"Themeda triandra\", \"Themeda triandra\", \"Themeda triandra\", \"Themeda triandra\", \"Themeda triandra\", \"Themeda triandra\", \"Themeda triandra\", \"Themeda triandra\", \"Themeda triandra\", \"Themeda triandra\", \"Themeda triandra\", \"Themeda triandra\", \"Themeda triandra\", \"Themeda triandra\", \"Themeda triandra\", \"Themeda triandra\", \"Themeda triandra\"), plant_growth_form = c(\"tree\", \"shrub\", \"tree\", NA, NA, \"tree\", NA, NA, NA, NA, \"tree\", NA, NA, \"shrub tree\", NA, \"tree\", NA, \"tree\", \"tree\", NA, NA, NA, NA, NA, NA, NA, NA, NA, NA, NA, NA, NA, NA, NA, NA, NA, NA, NA, NA, NA, NA, NA, NA, NA, NA, NA, NA, NA, NA, NA, NA, NA, NA, NA, NA, NA, NA, NA, NA, NA, NA, NA, NA, NA, NA, NA, NA, NA, NA, NA, NA, NA, NA, NA, NA, NA, NA, NA, NA, NA, NA, NA, NA, NA, NA, NA, NA, NA, NA, NA, NA, NA, NA, NA, NA, NA, NA, NA, NA, NA, NA, NA, NA, NA, NA, NA, NA, NA, NA, NA, NA, NA, NA, NA, NA, NA, NA, NA, NA, NA, NA, \"shrub tree\", \"shrub tree\", \"tree\", \"tree\", \"tree\", \"tree\", \"tree\", \"tree\", \"tree\", \"tree\", NA, NA, NA, NA, \"tree\", NA, NA, \"tree\", \"tree\", \"tree\", NA, NA, NA, NA, NA, NA, NA, NA, NA, NA, NA, NA, NA, NA, NA, NA, NA, NA, NA, NA, NA, NA, NA, NA, NA, NA, NA, NA, NA, NA, NA, NA, NA, NA, NA, NA, NA, NA, NA, NA, NA, NA, NA, NA, NA, NA, NA, NA, NA, NA, NA, NA, NA, NA, NA, NA, NA, NA, NA, NA, NA, NA, NA, NA, NA, NA, NA, NA, NA, NA, NA, NA, NA, NA, NA, NA, NA, NA, NA, NA, NA, NA, NA, NA, NA, NA, NA, NA, NA, NA, NA, NA, NA, NA, NA, NA, NA, NA, NA, NA, NA, \"tree\", \"tree\", \"tree\", \"tree\", \"tree\", NA, \"tree\", \"tree\", NA, NA, NA, NA, NA, NA, NA, NA, NA, NA, NA, NA, NA, \"tree\", NA, \"tree\", \"tree\", \"tree\", \"tree\", \"tree\", \"tree\", \"tree\", \"tree\", \"tree\", NA, NA, \"climber_herbaceous\", \"climber\", \"climber\", \"climber_herbaceous\", \"climber\", NA, NA, NA, NA, NA, NA, NA, \"climber_herbaceous\", NA, NA, \"climber\", \"shrub\", NA, \"subshrub\", \"shrub\", \"shrub\", NA, NA, NA, NA, NA, NA, NA, NA, NA, NA, NA, NA, NA, NA, NA, NA, NA, NA, NA, NA, NA, NA, NA, NA, NA, NA, NA, NA, NA, NA, NA, NA, NA, NA, NA, NA, NA, NA, NA, NA, NA, NA, NA, NA, NA, NA, NA, NA, NA, NA, NA, NA, NA, NA, NA, NA, NA, NA, NA, NA, NA, NA, NA, NA, NA, NA, NA, NA, NA, NA, NA, NA, NA, NA, NA, NA, NA, NA, NA, NA, NA, NA, NA, NA, NA, NA, NA, NA, NA, NA, NA, NA, \"subshrub\", \"subshrub\", \"climber_woody\", \"climber_herbaceous herb subshrub\", \"climber\", \"climber\", NA, \"climber\", NA, NA, NA, NA, NA, NA, NA, NA, NA, \"tussock\", NA, NA, NA, NA, NA, NA, NA, NA, NA, NA, NA, NA, NA, NA, NA, NA, NA, NA, NA, NA, NA, NA, NA, NA, NA, NA, \"graminoid\", \"tussock\", NA, \"herb\", \"graminoid herb\", \"herb\", NA, \"graminoid herb\", \"graminoid herb\", \"graminoid\", \"herb\", \"graminoid\", \"graminoid\", \"graminoid herb\", \"tussock\", \"graminoid\", \"tussock\", \"tussock\"), seed_dormancy_class = c(NA, NA, NA, NA, NA, NA, NA, NA, NA, NA, NA, NA, NA, NA, NA, NA, NA, NA, NA, NA, NA, NA, NA, NA, NA, NA, NA, NA, NA, NA, NA, NA, NA, NA, NA, NA, NA, NA, NA, NA, NA, NA, NA, NA, NA, NA, NA, NA, NA, NA, NA, NA, NA, NA, NA, NA, NA, NA, NA, NA, NA, NA, NA, NA, NA, NA, NA, NA, NA, NA, NA, NA, NA, NA, NA, NA, NA, NA, NA, NA, NA, NA, NA, NA, NA, NA, NA, NA, NA, NA, NA, NA, NA, NA, NA, NA, NA, NA, NA, NA, NA, NA, NA, NA, NA, NA, NA, NA, NA, NA, NA, NA, NA, NA, NA, NA, NA, NA, NA, NA, \"physical_dormancy\", NA, NA, NA, NA, NA, NA, NA, NA, NA, NA, NA, NA, NA, NA, NA, NA, NA, NA, NA, NA, NA, NA, NA, NA, NA, NA, NA, NA, NA, NA, NA, NA, NA, NA, NA, NA, NA, NA, NA, NA, NA, NA, NA, NA, NA, NA, NA, NA, NA, NA, NA, NA, NA, NA, NA, NA, NA, NA, NA, NA, NA, NA, NA, NA, NA, NA, NA, NA, NA, NA, NA, NA, NA, NA, NA, NA, NA, NA, NA, NA, NA, NA, NA, NA, NA, NA, NA, NA, NA, NA, NA, NA, NA, NA, NA, NA, NA, NA, NA, NA, NA, NA, NA, NA, NA, NA, NA, NA, NA, NA, NA, NA, NA, NA, NA, NA, NA, NA, NA, NA, \"non_dormant\", NA, NA, NA, NA, NA, NA, NA, NA, NA, NA, NA, NA, NA, NA, NA, NA, NA, NA, NA, NA, NA, NA, NA, NA, NA, NA, NA, NA, NA, NA, NA, NA, NA, NA, NA, NA, NA, NA, NA, NA, NA, NA, NA, NA, NA, NA, NA, NA, NA, NA, NA, NA, NA, NA, NA, NA, NA, NA, NA, NA, NA, NA, NA, NA, NA, NA, NA, NA, NA, NA, NA, NA, NA, NA, NA, NA, NA, NA, NA, NA, NA, NA, NA, NA, NA, NA, NA, NA, NA, NA, NA, NA, NA, NA, NA, NA, NA, NA, NA, NA, NA, NA, NA, NA, NA, NA, NA, NA, NA, NA, NA, NA, NA, NA, NA, NA, NA, NA, NA, NA, NA, NA, NA, NA, NA, NA, NA, NA, NA, NA, NA, NA, NA, NA, NA, NA, NA, NA, NA, NA, NA, NA, NA, NA, NA, NA, \"physical_dormancy\", NA, NA, NA, NA, NA, NA, NA, NA, NA, NA, NA, NA, NA, NA, NA, NA, NA, NA, NA, NA, NA, NA, NA, NA, NA, NA, NA, NA, NA, NA, NA, NA, NA, NA, NA, NA, NA, NA, NA, NA, NA, NA, NA, NA, NA, NA, NA, NA, NA, NA, NA, NA, NA, NA, NA, NA, NA, NA, NA, NA, NA, NA), seed_dry_mass = c(NA, NA, NA, NA, NA, NA, 13.9712, 17.8, 19.84, 22.86, NA, NA, NA, NA, NA, NA, 28.39, NA, NA, NA, 11.14, 10.14, 11.12, 9.92, 9.78, 11.2, 8.816, 11.012, 8.72, 10.428, 6.088, 9.164, 10.14, 9.876, 8.632, 9.068, 9.86, 8.328, 8.196, 5, 9.36, 9.104, 9.504, 8.76, 9.152, 9.036, 8.276, 9.744, 9.296, 10.04, 10.232, 10.616, 8.712, 9.364, 8.608, 10.736, 6.164, 7.672, 7.98, 6.564, 7.644, 9.552, 10.344, 10.976, 7.376, 8.924, 8.484, 7.812, 7.172, 8.268, 7.012, 9.416, 5.904, 10.14, 7.66, 7.92, 9.688, 10.2, 6.008, 8.872, 7.788, 6.448, 7.416, 10.612, 6.808, 8.4, 7.716, 8.268, 10.12, 7.92, 7.84, 5.78, 8.956, 7.852, 9.644, 7.296, 7.484, 6.832, 5.752, 7.064, 10.268, 6.752, 9.276, 4.82, 7.284, 8.304, 7.944, 6.936, 7.148, 7.864, 8.172, 6.22, 8.372, 8.6, 8.932, 6.592, 6.54, 5.784, 5.88, 6.164, NA, NA, NA, NA, NA, NA, NA, NA, NA, NA, NA, 0.26, 0.631, 1.59, 3.81, NA, NA, NA, NA, NA, NA, 0.6698, 0.7136, 0.8638, 0.6398, 0.6592, 0.738, 0.5688, 0.89, 0.8054, 0.5736, 0.9084, 0.7104, 0.735, 0.7226, 0.6748, 0.742, 0.8002, 0.916, 0.7606, 0.5774, 0.595, 0.6756, 0.7222, 0.9476, 0.8242, 0.6502, 0.4944, 0.6392, 0.8068, 0.6578, 0.6546, 0.5928, 0.7562, 0.7618, 0.6378, 0.7154, 0.8028, 0.3886, 0.7974, 0.6492, 0.5052, 0.7518, 0.7036, 0.5704, 0.8062, 0.777, 0.7558, 0.6666, 0.6418, 0.848, 0.5736, 0.3088, 0.7134, 0.5522, 0.7382, 0.9686, 0.3278, 0.718, 0.5976, 0.5234, 0.4762, 0.456, 0.5732, 0.3338, 0.523, 0.8498, 0.3254, 0.4948, 0.514, 0.256, 0.5336, 0.3958, 0.5152, 0.4308, 0.409, 0.552, 0.466, 0.4842, 0.5292, 0.339, 0.2946, 0.4286, 0.2836, 0.3872, 0.2828, 0.5202, 0.3278, 0.4602, 0.349, 0.3206, 0.471, 0.2248, 0.3384, 0.49, 0.6982, 0.3084, 0.3388, 0.4416, 0.7154, 0.8142, NA, NA, NA, NA, NA, NA, NA, NA, NA, 0.55, 0.6036, 0.6352, 0.67, 0.7312, 1.06, 1.1, 2.79, 2.86, 7.83, 150, 173, 600, NA, 0.731, NA, NA, NA, NA, NA, NA, NA, NA, NA, 22.303, NA, NA, NA, NA, NA, NA, NA, 12.371, 12.728, 13.3904, 22, 26.3788, 29.6068, NA, NA, NA, NA, NA, 35.03, NA, NA, NA, NA, 25.4, 20, 20.6, 11.4, 24.8, 18.8, 25.8, 9, 18.2, 19.8, 15.4, 16.7, 17.1, 10.8, 22.6, 18.1, 15.1, 19.7, 9.5, 8.7, 11.7, 22.4, 15.5, 22.5, 18.4, 16.1, 15.7, 20.8, 19.7, 19.4, 24.2, 19.4, 23.8, 17, 14.5, 24.9, 14.2, 21.8, 9.9, 20.1, 20.1, 19.4, 23.6, 18.2, 14, 11.4, 18.7, 14.8, 10.7, 19.5, 18.6, 19.1, 21, 25, 24, 19, 17.8, 17.2, 22.9, 16.6, 17.9, 16.5, 13.9, 12.6, 20.6, 15.6, 18.3, 20.6, 18.1, 5, 5.7, 18.8, 19.9, 18, 19.9, 17.4, 18.1, 22.1, 12.4, 23.5, 18.9, 8.4, 16, 17.7, 16.2, 19.6, 23.5, 9.6, 10.9, 6.5, NA, NA, NA, NA, NA, NA, NA, 39.64, NA, 3.36, 39, 3.2, NA, 4.11, 4.5879, 2.1436, 3.79, 2.9, NA, 3.85, NA, 1.6, 1.8, 1.975, 2, 2.2, 2.4, 2.8, 3, 3.2, 3.4, 4, 5.6, 2.4, 2.5, 2.63625, 2.7, 3.136, 3.4544, 4.0384, 4.3856, 4.5108, 4.7688, 5.1824, 5.25, NA, NA, 2.9, NA, NA, NA, NA, NA, NA, NA, NA, NA, NA, NA, NA, NA, NA, NA), seed_germination_treatment = c(NA, NA, NA, NA, NA, NA, NA, NA, NA, NA, NA, NA, NA, NA, NA, NA, NA, NA, NA, \"heat scarify\", NA, NA, NA, NA, NA, NA, NA, NA, NA, NA, NA, NA, NA, NA, NA, NA, NA, NA, NA, NA, NA, NA, NA, NA, NA, NA, NA, NA, NA, NA, NA, NA, NA, NA, NA, NA, NA, NA, NA, NA, NA, NA, NA, NA, NA, NA, NA, NA, NA, NA, NA, NA, NA, NA, NA, NA, NA, NA, NA, NA, NA, NA, NA, NA, NA, NA, NA, NA, NA, NA, NA, NA, NA, NA, NA, NA, NA, NA, NA, NA, NA, NA, NA, NA, NA, NA, NA, NA, NA, NA, NA, NA, NA, NA, NA, NA, NA, NA, NA, NA, NA, NA, NA, NA, NA, NA, NA, NA, NA, NA, NA, NA, NA, NA, NA, NA, NA, NA, NA, NA, NA, NA, NA, NA, NA, NA, NA, NA, NA, NA, NA, NA, NA, NA, NA, NA, NA, NA, NA, NA, NA, NA, NA, NA, NA, NA, NA, NA, NA, NA, NA, NA, NA, NA, NA, NA, NA, NA, NA, NA, NA, NA, NA, NA, NA, NA, NA, NA, NA, NA, NA, NA, NA, NA, NA, NA, NA, NA, NA, NA, NA, NA, NA, NA, NA, NA, NA, NA, NA, NA, NA, NA, NA, NA, NA, NA, NA, NA, NA, NA, NA, NA, NA, NA, NA, NA, NA, NA, NA, NA, NA, NA, NA, NA, NA, NA, NA, NA, NA, NA, NA, NA, NA, NA, NA, NA, NA, NA, NA, NA, NA, NA, NA, NA, NA, NA, NA, NA, NA, NA, NA, NA, NA, NA, NA, NA, NA, NA, NA, NA, NA, NA, NA, NA, NA, NA, NA, NA, NA, NA, NA, NA, NA, NA, NA, NA, NA, NA, NA, NA, NA, NA, NA, NA, NA, NA, NA, \"heat\", NA, NA, NA, NA, NA, NA, NA, NA, NA, NA, NA, NA, NA, NA, NA, NA, NA, NA, NA, NA, NA, NA, NA, NA, NA, NA, NA, NA, NA, NA, NA, NA, NA, NA, NA, NA, NA, NA, NA, NA, NA, NA, NA, NA, NA, NA, NA, NA, NA, NA, NA, NA, NA, NA, NA, NA, NA, NA, NA, NA, NA, NA, NA, NA, NA, NA, NA, NA, NA, NA, NA, NA, NA, NA, NA, NA, NA, NA, NA, NA, NA, NA, NA, NA, NA, NA, NA, NA, NA, NA, NA, NA, NA, NA, NA, NA, NA, NA, NA, NA, NA, NA, NA, NA, NA, NA, NA, NA, NA, NA, NA, NA, NA, NA, NA, NA, NA, NA, NA, NA, NA, NA, NA, NA, NA, NA, NA, NA, NA, NA, NA, NA, NA, NA, NA, NA, NA, NA, NA, NA, NA, \"smoke\", NA, NA, NA, NA, NA, NA, NA, NA, NA, NA, NA), seed_length = c(NA, NA, NA, 4, 5, NA, NA, NA, NA, NA, NA, 4, 5, NA, 5, NA, NA, NA, NA, NA, NA, NA, NA, NA, NA, NA, NA, NA, NA, NA, NA, NA, NA, NA, NA, NA, NA, NA, NA, NA, NA, NA, NA, NA, NA, NA, NA, NA, NA, NA, NA, NA, NA, NA, NA, NA, NA, NA, NA, NA, NA, NA, NA, NA, NA, NA, NA, NA, NA, NA, NA, NA, NA, NA, NA, NA, NA, NA, NA, NA, NA, NA, NA, NA, NA, NA, NA, NA, NA, NA, NA, NA, NA, NA, NA, NA, NA, NA, NA, NA, NA, NA, NA, NA, NA, NA, NA, NA, NA, NA, NA, NA, NA, NA, NA, NA, NA, NA, NA, NA, NA, NA, NA, NA, NA, NA, NA, NA, NA, NA, NA, NA, NA, NA, NA, NA, 3, 4, NA, NA, NA, NA, NA, NA, NA, NA, NA, NA, NA, NA, NA, NA, NA, NA, NA, NA, NA, NA, NA, NA, NA, NA, NA, NA, NA, NA, NA, NA, NA, NA, NA, NA, NA, NA, NA, NA, NA, NA, NA, NA, NA, NA, NA, NA, NA, NA, NA, NA, NA, NA, NA, NA, NA, NA, NA, NA, NA, NA, NA, NA, NA, NA, NA, NA, NA, NA, NA, NA, NA, NA, NA, NA, NA, NA, NA, NA, NA, NA, NA, NA, NA, NA, NA, NA, NA, NA, NA, NA, NA, NA, NA, NA, NA, NA, NA, NA, NA, NA, NA, NA, NA, NA, NA, NA, NA, NA, NA, 1.97, NA, NA, NA, NA, NA, NA, NA, NA, NA, NA, NA, NA, NA, NA, NA, NA, NA, NA, NA, NA, NA, NA, NA, NA, NA, NA, NA, 5.15, NA, NA, NA, NA, NA, 4.71, NA, NA, NA, NA, NA, NA, NA, 4, 5, NA, NA, NA, NA, NA, NA, NA, NA, NA, NA, NA, NA, NA, NA, NA, NA, NA, NA, NA, NA, NA, NA, NA, NA, NA, NA, NA, NA, NA, NA, NA, NA, NA, NA, NA, NA, NA, NA, NA, NA, NA, NA, NA, NA, NA, NA, NA, NA, NA, NA, NA, NA, NA, NA, NA, NA, NA, NA, NA, NA, NA, NA, NA, NA, NA, NA, NA, NA, NA, NA, NA, NA, NA, NA, NA, NA, NA, NA, NA, NA, NA, NA, NA, NA, NA, NA, NA, NA, NA, NA, NA, NA, NA, NA, NA, NA, NA, NA, NA, NA, NA, NA, NA, NA, NA, NA, NA, NA, NA, 1.99, NA, NA, NA, NA, NA, NA, NA, 16, NA, NA, NA, NA, NA, NA, NA, NA, NA, NA, NA, NA, NA, NA, NA, NA, NA, NA, NA, NA, NA, NA, NA, NA, NA, NA, NA, NA, NA, NA, NA, NA, NA, NA, NA, NA, NA, NA, NA, NA, NA, NA)), row.names = c(NA, -451L), spec = structure(list(cols = list(    ...1 = structure(list(), class = c(\"collector_double\", \"collector\"    )), taxon_name = structure(list(), class = c(\"collector_character\",     \"collector\")), plant_growth_form = structure(list(), class = c(\"collector_character\",     \"collector\")), seed_dormancy_class = structure(list(), class = c(\"collector_character\",     \"collector\")), seed_dry_mass = structure(list(), class = c(\"collector_double\",     \"collector\")), seed_germination_treatment = structure(list(), class = c(\"collector_character\",     \"collector\")), seed_length = structure(list(), class = c(\"collector_double\",     \"collector\"))), default = structure(list(), class = c(\"collector_guess\", \"collector\")), delim = \",\"), class = \"col_spec\"), problems = <pointer: 0x136a0dac0>, class = c(\"spec_tbl_df\", \"tbl_df\", \"tbl\", \"data.frame\"))...\n",
            "Кластер 2: ближайший текст - I'm trying to update a couple of my games to support the latest Android version. I'm getting this error when building for Android:CommandInvokationFailure: Gradle build failed./Applications/Unity/Hub/Editor/2020.1.15f1/PlaybackEngines/AndroidPlayer/OpenJDK/bin/java -classpath \"/Applications/Unity/Hub/Editor/2020.1.15f1/PlaybackEngines/AndroidPlayer/Tools/gradle/lib/gradle-launcher-5.6.4.jar\" org.gradle.launcher.GradleMain \"-Dorg.gradle.jvmargs=-Xmx4096m\" \"bundleRelease\"stderr[Picked up JAVA_TOOL_OPTIONS: -Dfile.encoding=UTF-8An exception has occurred in the compiler (1.8.0-adoptopenjdk). Please file a bug against the Java compiler via the Java bug reporting page (http://bugreport.java.com) after checking the Bug Database (http://bugs.java.com) for duplicates. Include your program and the following diagnostic in your report. Thank you.java.lang.AssertionError: annotationType(): unrecognized Attribute name MODULE (class com.sun.tools.javac.util.UnsharedNameTable$NameImpl)    at com.sun.tools.javac.util.Assert.error(Assert.java:133)    at com.sun.tools.javac.code.TypeAnnotations.annotationType(TypeAnnotations.java:231)    at com.sun.tools.javac.code.TypeAnnotations$TypeAnnotationPositions.separateAnnotationsKinds(TypeAnnotations.java:294)    at com.sun.tools.javac.code.TypeAnnotations$TypeAnnotationPositions.visitVarDef(TypeAnnotations.java:1164)    at com.sun.tools.javac.tree.JCTree$JCVariableDecl.accept(JCTree.java:852)    at com.sun.tools.javac.tree.TreeScanner.scan(TreeScanner.java:49)    at com.sun.tools.javac.code.TypeAnnotations$TypeAnnotationPositions.scan(TypeAnnotations.java:275)    at com.sun.tools.javac.tree.TreeScanner.scan(TreeScanner.java:57)    at com.sun.tools.javac.code.TypeAnnotations$TypeAnnotationPositions.visitClassDef(TypeAnnotations.java:1042)    at com.sun.tools.javac.tree.JCTree$JCClassDecl.accept(JCTree.java:693)    at com.sun.tools.javac.tree.TreeScanner.scan(TreeScanner.java:49)    at com.sun.tools.javac.code.TypeAnnotations$TypeAnnotationPositions.scan(TypeAnnotations.java:275)    at com.sun.tools.javac.code.TypeAnnotations$1.run(TypeAnnotations.java:127)    at com.sun.tools.javac.comp.Annotate.flush(Annotate.java:152)    at com.sun.tools.javac.comp.Annotate.enterDone(Annotate.java:129)    at com.sun.tools.javac.comp.Enter.complete(Enter.java:512)    at com.sun.tools.javac.comp.Enter.main(Enter.java:471)    at com.sun.tools.javac.main.JavaCompiler.enterTrees(JavaCompiler.java:982)    at com.sun.tools.javac.main.JavaCompiler.compile(JavaCompiler.java:857)    at com.sun.tools.javac.main.Main.compile(Main.java:523)    at com.sun.tools.javac.api.JavacTaskImpl.doCall(JavacTaskImpl.java:129)    at com.sun.tools.javac.api.JavacTaskImpl.call(JavacTaskImpl.java:138)    at org.gradle.api.internal.tasks.compile.AnnotationProcessingCompileTask.call(AnnotationProcessingCompileTask.java:93)    at org.gradle.api.internal.tasks.compile.ResourceCleaningCompilationTask.call(ResourceCleaningCompilationTask.java:57)    at org.gradle.api.internal.tasks.compile.JdkJavaCompiler.execute(JdkJavaCompiler.java:54)    at org.gradle.api.internal.tasks.compile.JdkJavaCompiler.execute(JdkJavaCompiler.java:39)    at org.gradle.api.internal.tasks.compile.NormalizingJavaCompiler.delegateAndHandleErrors(NormalizingJavaCompiler.java:100)    at org.gradle.api.internal.tasks.compile.NormalizingJavaCompiler.execute(NormalizingJavaCompiler.java:52)    at org.gradle.api.internal.tasks.compile.NormalizingJavaCompiler.execute(NormalizingJavaCompiler.java:38)    at org.gradle.api.internal.tasks.compile.AnnotationProcessorDiscoveringCompiler.execute(AnnotationProcessorDiscoveringCompiler.java:51)    at org.gradle.api.internal.tasks.compile.AnnotationProcessorDiscoveringCompiler.execute(AnnotationProcessorDiscoveringCompiler.java:37)    at org.gradle.api.internal.tasks.compile.CleaningJavaCompilerSupport.execute(CleaningJavaCompilerSupport.java:39)    at org.gradle.api.internal.tasks.compile.incremental.IncrementalCompilerFactory$2.execute(IncrementalCompilerFactory.java:101)    at org.gradle.api.internal.tasks.compile.incremental.IncrementalCompilerFactory$2.execute(IncrementalCompilerFactory.java:97)    at org.gradle.api.internal.tasks.compile.incremental.IncrementalResultStoringCompiler.execute(IncrementalResultStoringCompiler.java:60)    at org.gradle.api.internal.tasks.compile.incremental.IncrementalResultStoringCompiler.execute(IncrementalResultStoringCompiler.java:44)    at org.gradle.api.internal.tasks.compile.CompileJavaBuildOperationReportingCompiler$2.call(CompileJavaBuildOperationReportingCompiler.java:59)    at org.gradle.api.internal.tasks.compile.CompileJavaBuildOperationReportingCompiler$2.call(CompileJavaBuildOperationReportingCompiler.java:51)    at org.gradle.internal.operations.DefaultBuildOperationExecutor$CallableBuildOperationWorker.execute(DefaultBuildOperationExecutor.java:416)    at org.gradle.internal.operations.DefaultBuildOperationExecutor$CallableBuildOperationWorker.execute(DefaultBuildOperationExecutor.java:406)    at org.gradle.internal.operations.DefaultBuildOperationExecutor$1.execute(DefaultBuildOperationExecutor.java:165)    at org.gradle.internal.operations.DefaultBuildOperationExecutor.execute(DefaultBuildOperationExecutor.java:250)    at org.gradle.internal.operations.DefaultBuildOperationExecutor.execute(DefaultBuildOperationExecutor.java:158)    at org.gradle.internal.operations.DefaultBuildOperationExecutor.call(DefaultBuildOperationExecutor.java:102)    at org.gradle.internal.operations.DelegatingBuildOperationExecutor.call(DelegatingBuildOperationExecutor.java:36)    at org.gradle.api.internal.tasks.compile.CompileJavaBuildOperationReportingCompiler.execute(CompileJavaBuildOperationReportingCompiler.java:51)    at org.gradle.api.tasks.compile.JavaCompile.performCompilation(JavaCompile.java:158)    at org.gradle.api.tasks.compile.JavaCompile.compile(JavaCompile.java:126)    at sun.reflect.NativeMethodAccessorImpl.invoke0(Native Method)    at sun.reflect.NativeMethodAccessorImpl.invoke(NativeMethodAccessorImpl.java:62)    at sun.reflect.DelegatingMethodAccessorImpl.invoke(DelegatingMethodAccessorImpl.java:43)    at java.lang.reflect.Method.invoke(Method.java:498)    at org.gradle.internal.reflect.JavaMethod.invoke(JavaMethod.java:103)    at org.gradle.api.internal.project.taskfactory.IncrementalTaskInputsTaskAction.doExecute(IncrementalTaskInputsTaskAction.java:47)    at org.gradle.api.internal.project.taskfactory.StandardTaskAction.execute(StandardTaskAction.java:42)    at org.gradle.api.internal.project.taskfactory.AbstractIncrementalTaskAction.execute(AbstractIncrementalTaskAction.java:25)    at org.gradle.api.internal.project.taskfactory.StandardTaskAction.execute(StandardTaskAction.java:28)    at org.gradle.api.internal.tasks.execution.ExecuteActionsTaskExecuter$5.run(ExecuteActionsTaskExecuter.java:476)    at org.gradle.internal.operations.DefaultBuildOperationExecutor$RunnableBuildOperationWorker.execute(DefaultBuildOperationExecutor.java:402)    at org.gradle.internal.operations.DefaultBuildOperationExecutor$RunnableBuildOperationWorker.execute(DefaultBuildOperationExecutor.java:394)    at org.gradle.internal.operations.DefaultBuildOperationExecutor$1.execute(DefaultBuildOperationExecutor.java:165)    at org.gradle.internal.operations.DefaultBuildOperationExecutor.execute(DefaultBuildOperationExecutor.java:250)    at org.gradle.internal.operations.DefaultBuildOperationExecutor.execute(DefaultBuildOperationExecutor.java:158)    at org.gradle.internal.operations.DefaultBuildOperationExecutor.run(DefaultBuildOperationExecutor.java:92)    at org.gradle.internal.operations.DelegatingBuildOperationExecutor.run(DelegatingBuildOperationExecutor.java:31)    at org.gradle.api.internal.tasks.execution.ExecuteActionsTaskExecuter.executeAction(ExecuteActionsTaskExecuter.java:461)    at org.gradle.api.internal.tasks.execution.ExecuteActionsTaskExecuter.executeActions(ExecuteActionsTaskExecuter.java:444)    at org.gradle.api.internal.tasks.execution.ExecuteActionsTaskExecuter.access$200(ExecuteActionsTaskExecuter.java:93)    at org.gradle.api.internal.tasks.execution.ExecuteActionsTaskExecuter$TaskExecution.execute(ExecuteActionsTaskExecuter.java:237)    at org.gradle.internal.execution.steps.ExecuteStep.lambda$execute$0(ExecuteStep.java:32)    at java.util.Optional.map(Optional.java:215)    at org.gradle.internal.execution.steps.ExecuteStep.execute(ExecuteStep.java:32)    at org.gradle.internal.execution.steps.ExecuteStep.execute(ExecuteStep.java:26)    at org.gradle.internal.execution.steps.CleanupOutputsStep.execute(CleanupOutputsStep.java:58)    at org.gradle.internal.execution.steps.CleanupOutputsStep.execute(CleanupOutputsStep.java:35)    at org.gradle.internal.execution.steps.ResolveInputChangesStep.execute(ResolveInputChangesStep.java:48)    at org.gradle.internal.execution.steps.ResolveInputChangesStep.execute(ResolveInputChangesStep.java:33)    at org.gradle.internal.execution.steps.CancelExecutionStep.execute(CancelExecutionStep.java:39)    at org.gradle.internal.execution.steps.TimeoutStep.executeWithoutTimeout(TimeoutStep.java:73)    at org.gradle.internal.execution.steps.TimeoutStep.execute(TimeoutStep.java:54)    at org.gradle.internal.execution.steps.CatchExceptionStep.execute(CatchExceptionStep.java:35)    at org.gradle.internal.execution.steps.CreateOutputsStep.execute(CreateOutputsStep.java:51)    at org.gradle.internal.execution.steps.SnapshotOutputsStep.execute(SnapshotOutputsStep.java:45)    at org.gradle.internal.execution.steps.SnapshotOutputsStep.execute(SnapshotOutputsStep.java:31)    at org.gradle.internal.execution.steps.CacheStep.executeWithoutCache(CacheStep.java:208)    at org.gradle.internal.execution.steps.CacheStep.execute(CacheStep.java:70)    at org.gradle.internal.execution.steps.CacheStep.execute(CacheStep.java:45)    at org.gradle.internal.execution.steps.BroadcastChangingOutputsStep.execute(BroadcastChangingOutputsStep.java:49)    at org.gradle.internal.execution.steps.StoreSnapshotsStep.execute(StoreSnapshotsStep.java:43)    at org.gradle.internal.execution.steps.StoreSnapshotsStep.execute(StoreSnapshotsStep.java:32)    at org.gradle.internal.execution.steps.RecordOutputsStep.execute(RecordOutputsStep.java:38)    at org.gradle.internal.execution.steps.RecordOutputsStep.execute(RecordOutputsStep.java:24)    at org.gradle.internal.execution.steps.SkipUpToDateStep.executeBecause(SkipUpToDateStep.java:96)    at org.gradle.internal.execution.steps.SkipUpToDateStep.lambda$execute$0(SkipUpToDateStep.java:89)    at java.util.Optional.map(Optional.java:215)    at org.gradle.internal.execution.steps.SkipUpToDateStep.execute(SkipUpToDateStep.java:54)    at org.gradle.internal.execution.steps.SkipUpToDateStep.execute(SkipUpToDateStep.java:38)    at org.gradle.internal.execution.steps.ResolveChangesStep.execute(ResolveChangesStep.java:76)    at org.gradle.internal.execution.steps.ResolveChangesStep.execute(ResolveChangesStep.java:37)    at org.gradle.internal.execution.steps.legacy.MarkSnapshottingInputsFinishedStep.execute(MarkSnapshottingInputsFinishedStep.java:36)    at org.gradle.internal.execution.steps.legacy.MarkSnapshottingInputsFinishedStep.execute(MarkSnapshottingInputsFinishedStep.java:26)    at org.gradle.internal.execution.steps.ResolveCachingStateStep.execute(ResolveCachingStateStep.java:90)    at org.gradle.internal.execution.steps.ResolveCachingStateStep.execute(ResolveCachingStateStep.java:48)    at org.gradle.internal.execution.steps.CaptureStateBeforeExecutionStep.execute(CaptureStateBeforeExecutionStep.java:69)    at org.gradle.internal.execution.steps.CaptureStateBeforeExecutionStep.execute(CaptureStateBeforeExecutionStep.java:47)    at org.gradle.internal.execution.impl.DefaultWorkExecutor.execute(DefaultWorkExecutor.java:33)    at org.gradle.api.internal.tasks.execution.ExecuteActionsTaskExecuter.execute(ExecuteActionsTaskExecuter.java:140)    at org.gradle.api.internal.tasks.execution.ValidatingTaskExecuter.execute(ValidatingTaskExecuter.java:62)    at org.gradle.api.internal.tasks.execution.SkipEmptySourceFilesTaskExecuter.execute(SkipEmptySourceFilesTaskExecuter.java:108)    at org.gradle.api.internal.tasks.execution.ResolveBeforeExecutionOutputsTaskExecuter.execute(ResolveBeforeExecutionOutputsTaskExecuter.java:67)    at org.gradle.api.internal.tasks.execution.ResolveAfterPreviousExecutionStateTaskExecuter.execute(ResolveAfterPreviousExecutionStateTaskExecuter.java:46)    at org.gradle.api.internal.tasks.execution.CleanupStaleOutputsExecuter.execute(CleanupStaleOutputsExecuter.java:94)    at org.gradle.api.internal.tasks.execution.FinalizePropertiesTaskExecuter.execute(FinalizePropertiesTaskExecuter.java:46)    at org.gradle.api.internal.tasks.execution.ResolveTaskExecutionModeExecuter.execute(ResolveTaskExecutionModeExecuter.java:95)    at org.gradle.api.internal.tasks.execution.SkipTaskWithNoActionsExecuter.execute(SkipTaskWithNoActionsExecuter.java:57)    at org.gradle.api.internal.tasks.execution.SkipOnlyIfTaskExecuter.execute(SkipOnlyIfTaskExecuter.java:56)    at org.gradle.api.internal.tasks.execution.CatchExceptionTaskExecuter.execute(CatchExceptionTaskExecuter.java:36)    at org.gradle.api.internal.tasks.execution.EventFiringTaskExecuter$1.executeTask(EventFiringTaskExecuter.java:77)    at org.gradle.api.internal.tasks.execution.EventFiringTaskExecuter$1.call(EventFiringTaskExecuter.java:55)    at org.gradle.api.internal.tasks.execution.EventFiringTaskExecuter$1.call(EventFiringTaskExecuter.java:52)    at org.gradle.internal.operations.DefaultBuildOperationExecutor$CallableBuildOperationWorker.execute(DefaultBuildOperationExecutor.java:416)    at org.gradle.internal.operations.DefaultBuildOperationExecutor$CallableBuildOperationWorker.execute(DefaultBuildOperationExecutor.java:406)    at org.gradle.internal.operations.DefaultBuildOperationExecutor$1.execute(DefaultBuildOperationExecutor.java:165)    at org.gradle.internal.operations.DefaultBuildOperationExecutor.execute(DefaultBuildOperationExecutor.java:250)    at org.gradle.internal.operations.DefaultBuildOperationExecutor.execute(DefaultBuildOperationExecutor.java:158)    at org.gradle.internal.operations.DefaultBuildOperationExecutor.call(DefaultBuildOperationExecutor.java:102)    at org.gradle.internal.operations.DelegatingBuildOperationExecutor.call(DelegatingBuildOperationExecutor.java:36)    at org.gradle.api.internal.tasks.execution.EventFiringTaskExecuter.execute(EventFiringTaskExecuter.java:52)    at org.gradle.execution.plan.LocalTaskNodeExecutor.execute(LocalTaskNodeExecutor.java:43)    at org.gradle.execution.taskgraph.DefaultTaskExecutionGraph$InvokeNodeExecutorsAction.execute(DefaultTaskExecutionGraph.java:355)    at org.gradle.execution.taskgraph.DefaultTaskExecutionGraph$InvokeNodeExecutorsAction.execute(DefaultTaskExecutionGraph.java:343)    at org.gradle.execution.taskgraph.DefaultTaskExecutionGraph$BuildOperationAwareExecutionAction.execute(DefaultTaskExecutionGraph.java:336)    at org.gradle.execution.taskgraph.DefaultTaskExecutionGraph$BuildOperationAwareExecutionAction.execute(DefaultTaskExecutionGraph.java:322)    at org.gradle.execution.plan.DefaultPlanExecutor$ExecutorWorker$1.execute(DefaultPlanExecutor.java:134)    at org.gradle.execution.plan.DefaultPlanExecutor$ExecutorWorker$1.execute(DefaultPlanExecutor.java:129)    at org.gradle.execution.plan.DefaultPlanExecutor$ExecutorWorker.execute(DefaultPlanExecutor.java:202)    at org.gradle.execution.plan.DefaultPlanExecutor$ExecutorWorker.executeNextNode(DefaultPlanExecutor.java:193)    at org.gradle.execution.plan.DefaultPlanExecutor$ExecutorWorker.run(DefaultPlanExecutor.java:129)    at org.gradle.internal.concurrent.ExecutorPolicy$CatchAndRecordFailures.onExecute(ExecutorPolicy.java:64)    at org.gradle.internal.concurrent.ManagedExecutorImpl$1.run(ManagedExecutorImpl.java:48)    at java.util.concurrent.ThreadPoolExecutor.runWorker(ThreadPoolExecutor.java:1149)    at java.util.concurrent.ThreadPoolExecutor$Worker.run(ThreadPoolExecutor.java:624)    at org.gradle.internal.concurrent.ThreadFactoryImpl$ManagedThreadRunnable.run(ThreadFactoryImpl.java:56)    at java.lang.Thread.run(Thread.java:748)FAILURE: Build failed with an exception.* What went wrong:Execution failed for task ':unityLibrary:compileReleaseJavaWithJavac'.> Compilation failed; see the compiler error output for details.* Try:Run with --stacktrace option to get the stack trace. Run with --info or --debug option to get more log output. Run with --scan to get full insights.* Get more help at https://help.gradle.orgBUILD FAILED in 11s]stdout[Starting a Gradle Daemon, 5 stopped Daemons could not be reused, u<message truncated>Using the following: Unity 2020.1.15f1 on macOS Android Target API Level 34Tried the following:Updating Android SDK using Android StudioUpdating Unity packagesSwitching between the Unity-provided Android tools and the actual Android SDK (in Preferences under External Tools)Disabling R8...\n"
          ]
        }
      ]
    },
    {
      "cell_type": "markdown",
      "source": [
        "## TF-IDF: K-means на предобработанных данных"
      ],
      "metadata": {
        "id": "aVsEV17lUG8w"
      }
    },
    {
      "cell_type": "code",
      "source": [
        "tfidf_vec = TfidfVectorizer(tokenizer=lambda x: x.split(),\n",
        "                            min_df=8)\n",
        "embeddings_tfidf = tfidf_vec.fit_transform(stckover_df.str_normalized)\n",
        "embeddings_tfidf.shape"
      ],
      "metadata": {
        "colab": {
          "base_uri": "https://localhost:8080/"
        },
        "id": "-vGNG79xUAx8",
        "outputId": "64ef3349-a765-4240-9872-5e6a25115170"
      },
      "execution_count": null,
      "outputs": [
        {
          "output_type": "stream",
          "name": "stderr",
          "text": [
            "/usr/local/lib/python3.11/dist-packages/sklearn/feature_extraction/text.py:517: UserWarning: The parameter 'token_pattern' will not be used since 'tokenizer' is not None'\n",
            "  warnings.warn(\n"
          ]
        },
        {
          "output_type": "execute_result",
          "data": {
            "text/plain": [
              "(22123, 11963)"
            ]
          },
          "metadata": {},
          "execution_count": 71
        }
      ]
    },
    {
      "cell_type": "code",
      "source": [
        "pca_3_result_tfidf_norm = get_pca_results(embeddings_cv, 3)\n",
        "pca_3_result_tfidf_norm.shape"
      ],
      "metadata": {
        "colab": {
          "base_uri": "https://localhost:8080/"
        },
        "id": "nFedNnUFUUQk",
        "outputId": "09036042-d62f-472f-9781-96c24176b6f8"
      },
      "execution_count": null,
      "outputs": [
        {
          "output_type": "execute_result",
          "data": {
            "text/plain": [
              "(22123, 3)"
            ]
          },
          "metadata": {},
          "execution_count": 72
        }
      ]
    },
    {
      "cell_type": "code",
      "source": [
        "inertia, silhouette = eval_clusters(pca_3_result_tfidf_norm)"
      ],
      "metadata": {
        "colab": {
          "base_uri": "https://localhost:8080/"
        },
        "id": "Y2FL2iyOUcHr",
        "outputId": "956998e5-19dc-4c52-bf2b-c4424559bf3b"
      },
      "execution_count": null,
      "outputs": [
        {
          "output_type": "stream",
          "name": "stderr",
          "text": [
            "100%|██████████| 18/18 [02:14<00:00,  7.46s/it]\n"
          ]
        }
      ]
    },
    {
      "cell_type": "code",
      "source": [
        "# визуализируем\n",
        "plot_metrics(inertia, silhouette)"
      ],
      "metadata": {
        "colab": {
          "base_uri": "https://localhost:8080/",
          "height": 419
        },
        "id": "QBU2KlMxUy5r",
        "outputId": "fb0f5722-0159-49d8-dc0b-ff500c5aa7a1"
      },
      "execution_count": null,
      "outputs": [
        {
          "output_type": "display_data",
          "data": {
            "text/plain": [
              "<Figure size 1000x400 with 2 Axes>"
            ],
            "image/png": "[encoded data removed]"
          },
          "metadata": {}
        }
      ]
    },
    {
      "cell_type": "code",
      "source": [
        "# я нас поздравляю, у нас больше силуэт, улучшение налицо! возьмем 3 кластера\n",
        "kmeans_tfidf_norm = cluster.KMeans(n_clusters=3,\n",
        "                           random_state=17,\n",
        "                           init='k-means++')\n",
        "\n",
        "kmeans_tfidf_norm_labels = kmeans_tfidf_norm.fit_predict(pca_3_result_tfidf_norm)\n",
        "\n",
        "display(pd.Series(kmeans_tfidf_norm_labels).value_counts())"
      ],
      "metadata": {
        "colab": {
          "base_uri": "https://localhost:8080/",
          "height": 178
        },
        "id": "pI39TDdqVChd",
        "outputId": "1fd4ff4d-3888-4812-b972-62d3ea50e46e"
      },
      "execution_count": null,
      "outputs": [
        {
          "output_type": "display_data",
          "data": {
            "text/plain": [
              "0    22100\n",
              "2       22\n",
              "1        1\n",
              "Name: count, dtype: int64"
            ],
            "text/html": [
              "<div>\n",
              "<style scoped>\n",
              "    .dataframe tbody tr th:only-of-type {\n",
              "        vertical-align: middle;\n",
              "    }\n",
              "\n",
              "    .dataframe tbody tr th {\n",
              "        vertical-align: top;\n",
              "    }\n",
              "\n",
              "    .dataframe thead th {\n",
              "        text-align: right;\n",
              "    }\n",
              "</style>\n",
              "<table border=\"1\" class=\"dataframe\">\n",
              "  <thead>\n",
              "    <tr style=\"text-align: right;\">\n",
              "      <th></th>\n",
              "      <th>count</th>\n",
              "    </tr>\n",
              "  </thead>\n",
              "  <tbody>\n",
              "    <tr>\n",
              "      <th>0</th>\n",
              "      <td>22100</td>\n",
              "    </tr>\n",
              "    <tr>\n",
              "      <th>2</th>\n",
              "      <td>22</td>\n",
              "    </tr>\n",
              "    <tr>\n",
              "      <th>1</th>\n",
              "      <td>1</td>\n",
              "    </tr>\n",
              "  </tbody>\n",
              "</table>\n",
              "</div><br><label><b>dtype:</b> int64</label>"
            ]
          },
          "metadata": {}
        }
      ]
    },
    {
      "cell_type": "code",
      "source": [
        "# богдан все понял, богдана никто не любит, богдан ищет центроиды\n",
        "get_nearest_texts(kmeans_tfidf_norm, pca_3_result_tfidf_norm, display=True)"
      ],
      "metadata": {
        "colab": {
          "base_uri": "https://localhost:8080/"
        },
        "id": "AqNmOIolVUj_",
        "outputId": "a15136ee-0af4-4ec1-c565-2e740149dbd5"
      },
      "execution_count": null,
      "outputs": [
        {
          "output_type": "stream",
          "name": "stdout",
          "text": [
            "Кластер 0: ближайший текст - I'm trying to modify this code so that the actions button has a little padding that does not highlight on hover below the button.I was trying to use my action-blank class by sandwiching the button between 2 blank lines but the blank lines were getting highlighted.Ideally, the ACTIONS button is present on all sections without needing to click them to appear.vertical-menu {  width: 100%;  height: 150px;  position: relative;}.trend-button:hover {  background: linear-gradient(to right, transparent 2.5%, #f0f0f0 2.5%, #f0f0f0 97.5%, transparent 97.5%);  align-items: center;}/* Exclude blank line and blank element from hover effect */.button-label-line>div:hover,.actions-container>.action-blank {  background: none;}/* Style for the blank element */.action-blank {  height: 0.5em;  /* Adjust height as needed */}.button-label-divider {  height: 5px;}.actions-container>.action-blank {  background: none;}/* Style for the blank element */.action-blank {  height: 0.5em;  /* Adjust height as needed */}.vertical-menu input[type=\"radio\"] {  position: absolute;  left: -9999px;}.vertical-menu label {  background-color: #eee;  color: black;  display: block;  padding: 12px;  height: 100%;  margin: 0;  text-decoration: none;  cursor: pointer;}.vertical-menu label:hover {  background-color: #ccc;}.vertical-menu input[type=\"radio\"]:checked+label {  background-color: #04AA6D;  color: white;}.vertical-menu .trend-button {  display: none;  background-color: #04AA6D;}.vertical-menu input[type=\"radio\"]:checked+label+.trend-button {  display: block;  text-align: center;  margin-top: -1px;  /* Adjust the margin to remove white space */}.vertical-menu input[type=\"radio\"]:checked+label+.trend-button button {  width: 100%;  background-color: #04AA6D;  color: white;  border: none;  padding: 5px 10px;  cursor: pointer;}<div class=\"vertical-menu\" id=\"menu\">  <input type=\"radio\" id=\"option1\" name=\"menu-option\" checked>  <label for=\"option1\">#H1#<div class=\"subtitle\">#S1#</div></label>  <div class=\"trend-button\">    #ACTIONS#  </div>  <input type=\"radio\" id=\"option2\" name=\"menu-option\">  <label for=\"option2\">#H2#<div class=\"subtitle\">#S2#</div></label>  <div class=\"trend-button\">    #ACTIONS#  </div>  <input type=\"radio\" id=\"option3\" name=\"menu-option\">  <label for=\"option3\">#H3#<div class=\"subtitle\">#S3#</div></label>  <div class=\"trend-button\">    #ACTIONS#  </div>  <input type=\"radio\" id=\"option4\" name=\"menu-option\">  <label for=\"option4\">#H4#<div class=\"subtitle\">#S4#</div></label>  <div class=\"trend-button\">    #ACTIONS#  </div></div>Run code snippetExpand snippetFor context something like thisWhen one section is selected: When hovering on button:...\n",
            "Кластер 1: ближайший текст - I want to find the mean (for numerical variables) and mode (for character variables) for each of the variables under column \"trait_name\" for each unique \"taxon_name\". I would then like to tabulate these values.This is what my dataframe looks like currently (I also have a wide version):This is my desired output:I've written code that manually calculates the mean and mode for each \"trait_name\" per \"taxon_name\" as follows:# create mode functionfind.mode <- function(x, na.rm = TRUE) {    if(na.rm){     x = x[!is.na(x)]  }    val <- unique(x)  return(val[which.max(tabulate(match(x, val)))])}# MEAN AND MODE OF TRAITS## Acacia implexa acacia_mass <- mean(species_traits_wide$seed_dry_mass[species_traits_wide$taxon_name == \"Acacia implexa\"], na.rm = TRUE)acacia_length <- mean(species_traits_wide$seed_length[species_traits_wide$taxon_name == \"Acacia implexa\"], na.rm = TRUE)acacia_form <- find.mode(species_traits_wide$plant_growth_form[species_traits_wide$taxon_name == \"Acacia implexa\"])acacia_dormancy <- find.mode(species_traits_wide$seed_dormancy_class[species_traits_wide$taxon_name == \"Acacia implexa\"])acacia_treatment <- find.mode(species_traits_wide$seed_germination_treatment[species_traits_wide$taxon_name == \"Acacia implexa\"])But I need to automate the process for all species in the dataframe/any new species I wish to adddf <- structure(list(...1 = c(1, 2, 3, 4, 5, 6, 7, 8, 9, 10, 11, 12, 13, 14, 15, 16, 17, 18, 19, 20, 21, 22, 23, 24, 25, 26, 27, 28, 29, 30, 31, 32, 33, 34, 35, 36, 37, 38, 39, 40, 41, 42, 43, 44, 45, 46, 47, 48, 49, 50, 51, 52, 53, 54, 55, 56, 57, 58, 59, 60, 61, 62, 63, 64, 65, 66, 67, 68, 69, 70, 71, 72, 73, 74, 75, 76, 77, 78, 79, 80, 81, 82, 83, 84, 85, 86, 87, 88, 89, 90, 91, 92, 93, 94, 95, 96, 97, 98, 99, 100, 101, 102, 103, 104, 105, 106, 107, 108, 109, 110, 111, 112, 113, 114, 115, 116, 117, 118, 119, 120, 121, 122, 123, 124, 125, 126, 127, 128, 129, 130, 131, 132, 133, 134, 135, 136, 137, 138, 139, 140, 141, 142, 143, 144, 145, 146, 147, 148, 149, 150, 151, 152, 153, 154, 155, 156, 157, 158, 159, 160, 161, 162, 163, 164, 165, 166, 167, 168, 169, 170, 171, 172, 173, 174, 175, 176, 177, 178, 179, 180, 181, 182, 183, 184, 185, 186, 187, 188, 189, 190, 191, 192, 193, 194, 195, 196, 197, 198, 199, 200, 201, 202, 203, 204, 205, 206, 207, 208, 209, 210, 211, 212, 213, 214, 215, 216, 217, 218, 219, 220, 221, 222, 223, 224, 225, 226, 227, 228, 229, 230, 231, 232, 233, 234, 235, 236, 237, 238, 239, 240, 241, 242, 243, 244, 245, 246, 247, 248, 249, 250, 251, 252, 253, 254, 255, 256, 257, 258, 259, 260, 261, 262, 263, 264, 265, 266, 267, 268, 269, 270, 271, 272, 273, 274, 275, 276, 277, 278, 279, 280, 281, 282, 283, 284, 285, 286, 287, 288, 289, 290, 291, 292, 293, 294, 295, 296, 297, 298, 299, 300, 301, 302, 303, 304, 305, 306, 307, 308, 309, 310, 311, 312, 313, 314, 315, 316, 317, 318, 319, 320, 321, 322, 323, 324, 325, 326, 327, 328, 329, 330, 331, 332, 333, 334, 335, 336, 337, 338, 339, 340, 341, 342, 343, 344, 345, 346, 347, 348, 349, 350, 351, 352, 353, 354, 355, 356, 357, 358, 359, 360, 361, 362, 363, 364, 365, 366, 367, 368, 369, 370, 371, 372, 373, 374, 375, 376, 377, 378, 379, 380, 381, 382, 383, 384, 385, 386, 387, 388, 389, 390, 391, 392, 393, 394, 395, 396, 397, 398, 399, 400, 401, 402, 403, 404, 405, 406, 407, 408, 409, 410, 411, 412, 413, 414, 415, 416, 417, 418, 419, 420, 421, 422, 423, 424, 425, 426, 427, 428, 429, 430, 431, 432, 433, 434, 435, 436, 437, 438, 439, 440, 441, 442, 443, 444, 445, 446, 447, 448, 449, 450, 451), taxon_name = c(\"Acacia implexa\", \"Acacia implexa\", \"Acacia implexa\", \"Acacia implexa\", \"Acacia implexa\", \"Acacia implexa\", \"Acacia implexa\", \"Acacia implexa\", \"Acacia implexa\", \"Acacia implexa\", \"Acacia implexa\", \"Acacia implexa\", \"Acacia implexa\", \"Acacia implexa\", \"Acacia implexa\", \"Acacia implexa\", \"Acacia implexa\", \"Acacia implexa\", \"Acacia implexa\", \"Acacia implexa\", \"Acacia implexa\", \"Acacia implexa\", \"Acacia implexa\", \"Acacia implexa\", \"Acacia implexa\", \"Acacia implexa\", \"Acacia implexa\", \"Acacia implexa\", \"Acacia implexa\", \"Acacia implexa\", \"Acacia implexa\", \"Acacia implexa\", \"Acacia implexa\", \"Acacia implexa\", \"Acacia implexa\", \"Acacia implexa\", \"Acacia implexa\", \"Acacia implexa\", \"Acacia implexa\", \"Acacia implexa\", \"Acacia implexa\", \"Acacia implexa\", \"Acacia implexa\", \"Acacia implexa\", \"Acacia implexa\", \"Acacia implexa\", \"Acacia implexa\", \"Acacia implexa\", \"Acacia implexa\", \"Acacia implexa\", \"Acacia implexa\", \"Acacia implexa\", \"Acacia implexa\", \"Acacia implexa\", \"Acacia implexa\", \"Acacia implexa\", \"Acacia implexa\", \"Acacia implexa\", \"Acacia implexa\", \"Acacia implexa\", \"Acacia implexa\", \"Acacia implexa\", \"Acacia implexa\", \"Acacia implexa\", \"Acacia implexa\", \"Acacia implexa\", \"Acacia implexa\", \"Acacia implexa\", \"Acacia implexa\", \"Acacia implexa\", \"Acacia implexa\", \"Acacia implexa\", \"Acacia implexa\", \"Acacia implexa\", \"Acacia implexa\", \"Acacia implexa\", \"Acacia implexa\", \"Acacia implexa\", \"Acacia implexa\", \"Acacia implexa\", \"Acacia implexa\", \"Acacia implexa\", \"Acacia implexa\", \"Acacia implexa\", \"Acacia implexa\", \"Acacia implexa\", \"Acacia implexa\", \"Acacia implexa\", \"Acacia implexa\", \"Acacia implexa\", \"Acacia implexa\", \"Acacia implexa\", \"Acacia implexa\", \"Acacia implexa\", \"Acacia implexa\", \"Acacia implexa\", \"Acacia implexa\", \"Acacia implexa\", \"Acacia implexa\", \"Acacia implexa\", \"Acacia implexa\", \"Acacia implexa\", \"Acacia implexa\", \"Acacia implexa\", \"Acacia implexa\", \"Acacia implexa\", \"Acacia implexa\", \"Acacia implexa\", \"Acacia implexa\", \"Acacia implexa\", \"Acacia implexa\", \"Acacia implexa\", \"Acacia implexa\", \"Acacia implexa\", \"Acacia implexa\", \"Acacia implexa\", \"Acacia implexa\", \"Acacia implexa\", \"Acacia implexa\", \"Acacia implexa\", \"Acacia implexa\", \"Acacia implexa\", \"Acacia implexa\", \"Acacia implexa\", \"Acacia implexa\", \"Casuarina cunninghamiana\", \"Casuarina cunninghamiana\", \"Casuarina cunninghamiana\", \"Casuarina cunninghamiana\", \"Casuarina cunninghamiana\", \"Casuarina cunninghamiana\", \"Casuarina cunninghamiana\", \"Casuarina cunninghamiana\", \"Casuarina cunninghamiana\", \"Casuarina cunninghamiana\", \"Casuarina cunninghamiana\", \"Casuarina cunninghamiana\", \"Casuarina cunninghamiana\", \"Casuarina cunninghamiana\", \"Casuarina cunninghamiana\", \"Casuarina cunninghamiana\", \"Casuarina cunninghamiana\", \"Casuarina cunninghamiana\", \"Casuarina cunninghamiana\", \"Casuarina cunninghamiana\", \"Casuarina cunninghamiana\", \"Casuarina cunninghamiana\", \"Casuarina cunninghamiana\", \"Casuarina cunninghamiana\", \"Casuarina cunninghamiana\", \"Casuarina cunninghamiana\", \"Casuarina cunninghamiana\", \"Casuarina cunninghamiana\", \"Casuarina cunninghamiana\", \"Casuarina cunninghamiana\", \"Casuarina cunninghamiana\", \"Casuarina cunninghamiana\", \"Casuarina cunninghamiana\", \"Casuarina cunninghamiana\", \"Casuarina cunninghamiana\", \"Casuarina cunninghamiana\", \"Casuarina cunninghamiana\", \"Casuarina cunninghamiana\", \"Casuarina cunninghamiana\", \"Casuarina cunninghamiana\", \"Casuarina cunninghamiana\", \"Casuarina cunninghamiana\", \"Casuarina cunninghamiana\", \"Casuarina cunninghamiana\", \"Casuarina cunninghamiana\", \"Casuarina cunninghamiana\", \"Casuarina cunninghamiana\", \"Casuarina cunninghamiana\", \"Casuarina cunninghamiana\", \"Casuarina cunninghamiana\", \"Casuarina cunninghamiana\", \"Casuarina cunninghamiana\", \"Casuarina cunninghamiana\", \"Casuarina cunninghamiana\", \"Casuarina cunninghamiana\", \"Casuarina cunninghamiana\", \"Casuarina cunninghamiana\", \"Casuarina cunninghamiana\", \"Casuarina cunninghamiana\", \"Casuarina cunninghamiana\", \"Casuarina cunninghamiana\", \"Casuarina cunninghamiana\", \"Casuarina cunninghamiana\", \"Casuarina cunninghamiana\", \"Casuarina cunninghamiana\", \"Casuarina cunninghamiana\", \"Casuarina cunninghamiana\", \"Casuarina cunninghamiana\", \"Casuarina cunninghamiana\", \"Casuarina cunninghamiana\", \"Casuarina cunninghamiana\", \"Casuarina cunninghamiana\", \"Casuarina cunninghamiana\", \"Casuarina cunninghamiana\", \"Casuarina cunninghamiana\", \"Casuarina cunninghamiana\", \"Casuarina cunninghamiana\", \"Casuarina cunninghamiana\", \"Casuarina cunninghamiana\", \"Casuarina cunninghamiana\", \"Casuarina cunninghamiana\", \"Casuarina cunninghamiana\", \"Casuarina cunninghamiana\", \"Casuarina cunninghamiana\", \"Casuarina cunninghamiana\", \"Casuarina cunninghamiana\", \"Casuarina cunninghamiana\", \"Casuarina cunninghamiana\", \"Casuarina cunninghamiana\", \"Casuarina cunninghamiana\", \"Casuarina cunninghamiana\", \"Casuarina cunninghamiana\", \"Casuarina cunninghamiana\", \"Casuarina cunninghamiana\", \"Casuarina cunninghamiana\", \"Casuarina cunninghamiana\", \"Casuarina cunninghamiana\", \"Casuarina cunninghamiana\", \"Casuarina cunninghamiana\", \"Casuarina cunninghamiana\", \"Casuarina cunninghamiana\", \"Casuarina cunninghamiana\", \"Casuarina cunninghamiana\", \"Casuarina cunninghamiana\", \"Casuarina cunninghamiana\", \"Casuarina cunninghamiana\", \"Casuarina cunninghamiana\", \"Casuarina cunninghamiana\", \"Casuarina cunninghamiana\", \"Casuarina cunninghamiana\", \"Casuarina cunninghamiana\", \"Casuarina cunninghamiana\", \"Casuarina cunninghamiana\", \"Casuarina cunninghamiana\", \"Casuarina cunninghamiana\", \"Casuarina cunninghamiana\", \"Casuarina cunninghamiana\", \"Casuarina cunninghamiana\", \"Casuarina cunninghamiana\", \"Casuarina cunninghamiana\", \"Casuarina cunninghamiana\", \"Eucalyptus viminalis\", \"Eucalyptus viminalis\", \"Eucalyptus viminalis\", \"Eucalyptus viminalis\", \"Eucalyptus viminalis\", \"Eucalyptus viminalis\", \"Eucalyptus viminalis\", \"Eucalyptus viminalis\", \"Eucalyptus viminalis\", \"Eucalyptus viminalis\", \"Eucalyptus viminalis\", \"Eucalyptus viminalis\", \"Eucalyptus viminalis\", \"Eucalyptus viminalis\", \"Eucalyptus viminalis\", \"Eucalyptus viminalis\", \"Eucalyptus viminalis\", \"Eucalyptus viminalis\", \"Eucalyptus viminalis\", \"Eucalyptus viminalis\", \"Eucalyptus viminalis\", \"Eucalyptus viminalis\", \"Eucalyptus viminalis\", \"Eucalyptus viminalis\", \"Eucalyptus viminalis\", \"Eucalyptus viminalis\", \"Eucalyptus viminalis\", \"Eucalyptus viminalis\", \"Hardenbergia violacea\", \"Hardenbergia violacea\", \"Hardenbergia violacea\", \"Hardenbergia violacea\", \"Hardenbergia violacea\", \"Hardenbergia violacea\", \"Hardenbergia violacea\", \"Hardenbergia violacea\", \"Hardenbergia violacea\", \"Hardenbergia violacea\", \"Hardenbergia violacea\", \"Hardenbergia violacea\", \"Hardenbergia violacea\", \"Hardenbergia violacea\", \"Hardenbergia violacea\", \"Hardenbergia violacea\", \"Hardenbergia violacea\", \"Hardenbergia violacea\", \"Hardenbergia violacea\", \"Hardenbergia violacea\", \"Hardenbergia violacea\", \"Hardenbergia violacea\", \"Hardenbergia violacea\", \"Hardenbergia violacea\", \"Hardenbergia violacea\", \"Hardenbergia violacea\", \"Hardenbergia violacea\", \"Hardenbergia violacea\", \"Hardenbergia violacea\", \"Hardenbergia violacea\", \"Hardenbergia violacea\", \"Hardenbergia violacea\", \"Hardenbergia violacea\", \"Hardenbergia violacea\", \"Hardenbergia violacea\", \"Hardenbergia violacea\", \"Hardenbergia violacea\", \"Hardenbergia violacea\", \"Hardenbergia violacea\", \"Hardenbergia violacea\", \"Hardenbergia violacea\", \"Hardenbergia violacea\", \"Hardenbergia violacea\", \"Hardenbergia violacea\", \"Hardenbergia violacea\", \"Hardenbergia violacea\", \"Hardenbergia violacea\", \"Hardenbergia violacea\", \"Hardenbergia violacea\", \"Hardenbergia violacea\", \"Hardenbergia violacea\", \"Hardenbergia violacea\", \"Hardenbergia violacea\", \"Hardenbergia violacea\", \"Hardenbergia violacea\", \"Hardenbergia violacea\", \"Hardenbergia violacea\", \"Hardenbergia violacea\", \"Hardenbergia violacea\", \"Hardenbergia violacea\", \"Hardenbergia violacea\", \"Hardenbergia violacea\", \"Hardenbergia violacea\", \"Hardenbergia violacea\", \"Hardenbergia violacea\", \"Hardenbergia violacea\", \"Hardenbergia violacea\", \"Hardenbergia violacea\", \"Hardenbergia violacea\", \"Hardenbergia violacea\", \"Hardenbergia violacea\", \"Hardenbergia violacea\", \"Hardenbergia violacea\", \"Hardenbergia violacea\", \"Hardenbergia violacea\", \"Hardenbergia violacea\", \"Hardenbergia violacea\", \"Hardenbergia violacea\", \"Hardenbergia violacea\", \"Hardenbergia violacea\", \"Hardenbergia violacea\", \"Hardenbergia violacea\", \"Hardenbergia violacea\", \"Hardenbergia violacea\", \"Hardenbergia violacea\", \"Hardenbergia violacea\", \"Hardenbergia violacea\", \"Hardenbergia violacea\", \"Hardenbergia violacea\", \"Hardenbergia violacea\", \"Hardenbergia violacea\", \"Hardenbergia violacea\", \"Hardenbergia violacea\", \"Hardenbergia violacea\", \"Hardenbergia violacea\", \"Hardenbergia violacea\", \"Hardenbergia violacea\", \"Hardenbergia violacea\", \"Hardenbergia violacea\", \"Hardenbergia violacea\", \"Hardenbergia violacea\", \"Hardenbergia violacea\", \"Hardenbergia violacea\", \"Hardenbergia violacea\", \"Hardenbergia violacea\", \"Hardenbergia violacea\", \"Hardenbergia violacea\", \"Hardenbergia violacea\", \"Hardenbergia violacea\", \"Hardenbergia violacea\", \"Hardenbergia violacea\", \"Hardenbergia violacea\", \"Hardenbergia violacea\", \"Hardenbergia violacea\", \"Hardenbergia violacea\", \"Hardenbergia violacea\", \"Hardenbergia violacea\", \"Hardenbergia violacea\", \"Hardenbergia violacea\", \"Hardenbergia violacea\", \"Hardenbergia violacea\", \"Hardenbergia violacea\", \"Hardenbergia violacea\", \"Themeda triandra\", \"Themeda triandra\", \"Themeda triandra\", \"Themeda triandra\", \"Themeda triandra\", \"Themeda triandra\", \"Themeda triandra\", \"Themeda triandra\", \"Themeda triandra\", \"Themeda triandra\", \"Themeda triandra\", \"Themeda triandra\", \"Themeda triandra\", \"Themeda triandra\", \"Themeda triandra\", \"Themeda triandra\", \"Themeda triandra\", \"Themeda triandra\", \"Themeda triandra\", \"Themeda triandra\", \"Themeda triandra\", \"Themeda triandra\", \"Themeda triandra\", \"Themeda triandra\", \"Themeda triandra\", \"Themeda triandra\", \"Themeda triandra\", \"Themeda triandra\", \"Themeda triandra\", \"Themeda triandra\", \"Themeda triandra\", \"Themeda triandra\", \"Themeda triandra\", \"Themeda triandra\", \"Themeda triandra\", \"Themeda triandra\", \"Themeda triandra\", \"Themeda triandra\", \"Themeda triandra\", \"Themeda triandra\", \"Themeda triandra\", \"Themeda triandra\", \"Themeda triandra\", \"Themeda triandra\", \"Themeda triandra\", \"Themeda triandra\", \"Themeda triandra\", \"Themeda triandra\", \"Themeda triandra\", \"Themeda triandra\", \"Themeda triandra\", \"Themeda triandra\", \"Themeda triandra\", \"Themeda triandra\"), plant_growth_form = c(\"tree\", \"shrub\", \"tree\", NA, NA, \"tree\", NA, NA, NA, NA, \"tree\", NA, NA, \"shrub tree\", NA, \"tree\", NA, \"tree\", \"tree\", NA, NA, NA, NA, NA, NA, NA, NA, NA, NA, NA, NA, NA, NA, NA, NA, NA, NA, NA, NA, NA, NA, NA, NA, NA, NA, NA, NA, NA, NA, NA, NA, NA, NA, NA, NA, NA, NA, NA, NA, NA, NA, NA, NA, NA, NA, NA, NA, NA, NA, NA, NA, NA, NA, NA, NA, NA, NA, NA, NA, NA, NA, NA, NA, NA, NA, NA, NA, NA, NA, NA, NA, NA, NA, NA, NA, NA, NA, NA, NA, NA, NA, NA, NA, NA, NA, NA, NA, NA, NA, NA, NA, NA, NA, NA, NA, NA, NA, NA, NA, NA, NA, \"shrub tree\", \"shrub tree\", \"tree\", \"tree\", \"tree\", \"tree\", \"tree\", \"tree\", \"tree\", \"tree\", NA, NA, NA, NA, \"tree\", NA, NA, \"tree\", \"tree\", \"tree\", NA, NA, NA, NA, NA, NA, NA, NA, NA, NA, NA, NA, NA, NA, NA, NA, NA, NA, NA, NA, NA, NA, NA, NA, NA, NA, NA, NA, NA, NA, NA, NA, NA, NA, NA, NA, NA, NA, NA, NA, NA, NA, NA, NA, NA, NA, NA, NA, NA, NA, NA, NA, NA, NA, NA, NA, NA, NA, NA, NA, NA, NA, NA, NA, NA, NA, NA, NA, NA, NA, NA, NA, NA, NA, NA, NA, NA, NA, NA, NA, NA, NA, NA, NA, NA, NA, NA, NA, NA, NA, NA, NA, NA, NA, NA, NA, NA, NA, NA, NA, NA, \"tree\", \"tree\", \"tree\", \"tree\", \"tree\", NA, \"tree\", \"tree\", NA, NA, NA, NA, NA, NA, NA, NA, NA, NA, NA, NA, NA, \"tree\", NA, \"tree\", \"tree\", \"tree\", \"tree\", \"tree\", \"tree\", \"tree\", \"tree\", \"tree\", NA, NA, \"climber_herbaceous\", \"climber\", \"climber\", \"climber_herbaceous\", \"climber\", NA, NA, NA, NA, NA, NA, NA, \"climber_herbaceous\", NA, NA, \"climber\", \"shrub\", NA, \"subshrub\", \"shrub\", \"shrub\", NA, NA, NA, NA, NA, NA, NA, NA, NA, NA, NA, NA, NA, NA, NA, NA, NA, NA, NA, NA, NA, NA, NA, NA, NA, NA, NA, NA, NA, NA, NA, NA, NA, NA, NA, NA, NA, NA, NA, NA, NA, NA, NA, NA, NA, NA, NA, NA, NA, NA, NA, NA, NA, NA, NA, NA, NA, NA, NA, NA, NA, NA, NA, NA, NA, NA, NA, NA, NA, NA, NA, NA, NA, NA, NA, NA, NA, NA, NA, NA, NA, NA, NA, NA, NA, NA, NA, NA, NA, NA, NA, NA, \"subshrub\", \"subshrub\", \"climber_woody\", \"climber_herbaceous herb subshrub\", \"climber\", \"climber\", NA, \"climber\", NA, NA, NA, NA, NA, NA, NA, NA, NA, \"tussock\", NA, NA, NA, NA, NA, NA, NA, NA, NA, NA, NA, NA, NA, NA, NA, NA, NA, NA, NA, NA, NA, NA, NA, NA, NA, NA, \"graminoid\", \"tussock\", NA, \"herb\", \"graminoid herb\", \"herb\", NA, \"graminoid herb\", \"graminoid herb\", \"graminoid\", \"herb\", \"graminoid\", \"graminoid\", \"graminoid herb\", \"tussock\", \"graminoid\", \"tussock\", \"tussock\"), seed_dormancy_class = c(NA, NA, NA, NA, NA, NA, NA, NA, NA, NA, NA, NA, NA, NA, NA, NA, NA, NA, NA, NA, NA, NA, NA, NA, NA, NA, NA, NA, NA, NA, NA, NA, NA, NA, NA, NA, NA, NA, NA, NA, NA, NA, NA, NA, NA, NA, NA, NA, NA, NA, NA, NA, NA, NA, NA, NA, NA, NA, NA, NA, NA, NA, NA, NA, NA, NA, NA, NA, NA, NA, NA, NA, NA, NA, NA, NA, NA, NA, NA, NA, NA, NA, NA, NA, NA, NA, NA, NA, NA, NA, NA, NA, NA, NA, NA, NA, NA, NA, NA, NA, NA, NA, NA, NA, NA, NA, NA, NA, NA, NA, NA, NA, NA, NA, NA, NA, NA, NA, NA, NA, \"physical_dormancy\", NA, NA, NA, NA, NA, NA, NA, NA, NA, NA, NA, NA, NA, NA, NA, NA, NA, NA, NA, NA, NA, NA, NA, NA, NA, NA, NA, NA, NA, NA, NA, NA, NA, NA, NA, NA, NA, NA, NA, NA, NA, NA, NA, NA, NA, NA, NA, NA, NA, NA, NA, NA, NA, NA, NA, NA, NA, NA, NA, NA, NA, NA, NA, NA, NA, NA, NA, NA, NA, NA, NA, NA, NA, NA, NA, NA, NA, NA, NA, NA, NA, NA, NA, NA, NA, NA, NA, NA, NA, NA, NA, NA, NA, NA, NA, NA, NA, NA, NA, NA, NA, NA, NA, NA, NA, NA, NA, NA, NA, NA, NA, NA, NA, NA, NA, NA, NA, NA, NA, NA, \"non_dormant\", NA, NA, NA, NA, NA, NA, NA, NA, NA, NA, NA, NA, NA, NA, NA, NA, NA, NA, NA, NA, NA, NA, NA, NA, NA, NA, NA, NA, NA, NA, NA, NA, NA, NA, NA, NA, NA, NA, NA, NA, NA, NA, NA, NA, NA, NA, NA, NA, NA, NA, NA, NA, NA, NA, NA, NA, NA, NA, NA, NA, NA, NA, NA, NA, NA, NA, NA, NA, NA, NA, NA, NA, NA, NA, NA, NA, NA, NA, NA, NA, NA, NA, NA, NA, NA, NA, NA, NA, NA, NA, NA, NA, NA, NA, NA, NA, NA, NA, NA, NA, NA, NA, NA, NA, NA, NA, NA, NA, NA, NA, NA, NA, NA, NA, NA, NA, NA, NA, NA, NA, NA, NA, NA, NA, NA, NA, NA, NA, NA, NA, NA, NA, NA, NA, NA, NA, NA, NA, NA, NA, NA, NA, NA, NA, NA, NA, \"physical_dormancy\", NA, NA, NA, NA, NA, NA, NA, NA, NA, NA, NA, NA, NA, NA, NA, NA, NA, NA, NA, NA, NA, NA, NA, NA, NA, NA, NA, NA, NA, NA, NA, NA, NA, NA, NA, NA, NA, NA, NA, NA, NA, NA, NA, NA, NA, NA, NA, NA, NA, NA, NA, NA, NA, NA, NA, NA, NA, NA, NA, NA, NA, NA), seed_dry_mass = c(NA, NA, NA, NA, NA, NA, 13.9712, 17.8, 19.84, 22.86, NA, NA, NA, NA, NA, NA, 28.39, NA, NA, NA, 11.14, 10.14, 11.12, 9.92, 9.78, 11.2, 8.816, 11.012, 8.72, 10.428, 6.088, 9.164, 10.14, 9.876, 8.632, 9.068, 9.86, 8.328, 8.196, 5, 9.36, 9.104, 9.504, 8.76, 9.152, 9.036, 8.276, 9.744, 9.296, 10.04, 10.232, 10.616, 8.712, 9.364, 8.608, 10.736, 6.164, 7.672, 7.98, 6.564, 7.644, 9.552, 10.344, 10.976, 7.376, 8.924, 8.484, 7.812, 7.172, 8.268, 7.012, 9.416, 5.904, 10.14, 7.66, 7.92, 9.688, 10.2, 6.008, 8.872, 7.788, 6.448, 7.416, 10.612, 6.808, 8.4, 7.716, 8.268, 10.12, 7.92, 7.84, 5.78, 8.956, 7.852, 9.644, 7.296, 7.484, 6.832, 5.752, 7.064, 10.268, 6.752, 9.276, 4.82, 7.284, 8.304, 7.944, 6.936, 7.148, 7.864, 8.172, 6.22, 8.372, 8.6, 8.932, 6.592, 6.54, 5.784, 5.88, 6.164, NA, NA, NA, NA, NA, NA, NA, NA, NA, NA, NA, 0.26, 0.631, 1.59, 3.81, NA, NA, NA, NA, NA, NA, 0.6698, 0.7136, 0.8638, 0.6398, 0.6592, 0.738, 0.5688, 0.89, 0.8054, 0.5736, 0.9084, 0.7104, 0.735, 0.7226, 0.6748, 0.742, 0.8002, 0.916, 0.7606, 0.5774, 0.595, 0.6756, 0.7222, 0.9476, 0.8242, 0.6502, 0.4944, 0.6392, 0.8068, 0.6578, 0.6546, 0.5928, 0.7562, 0.7618, 0.6378, 0.7154, 0.8028, 0.3886, 0.7974, 0.6492, 0.5052, 0.7518, 0.7036, 0.5704, 0.8062, 0.777, 0.7558, 0.6666, 0.6418, 0.848, 0.5736, 0.3088, 0.7134, 0.5522, 0.7382, 0.9686, 0.3278, 0.718, 0.5976, 0.5234, 0.4762, 0.456, 0.5732, 0.3338, 0.523, 0.8498, 0.3254, 0.4948, 0.514, 0.256, 0.5336, 0.3958, 0.5152, 0.4308, 0.409, 0.552, 0.466, 0.4842, 0.5292, 0.339, 0.2946, 0.4286, 0.2836, 0.3872, 0.2828, 0.5202, 0.3278, 0.4602, 0.349, 0.3206, 0.471, 0.2248, 0.3384, 0.49, 0.6982, 0.3084, 0.3388, 0.4416, 0.7154, 0.8142, NA, NA, NA, NA, NA, NA, NA, NA, NA, 0.55, 0.6036, 0.6352, 0.67, 0.7312, 1.06, 1.1, 2.79, 2.86, 7.83, 150, 173, 600, NA, 0.731, NA, NA, NA, NA, NA, NA, NA, NA, NA, 22.303, NA, NA, NA, NA, NA, NA, NA, 12.371, 12.728, 13.3904, 22, 26.3788, 29.6068, NA, NA, NA, NA, NA, 35.03, NA, NA, NA, NA, 25.4, 20, 20.6, 11.4, 24.8, 18.8, 25.8, 9, 18.2, 19.8, 15.4, 16.7, 17.1, 10.8, 22.6, 18.1, 15.1, 19.7, 9.5, 8.7, 11.7, 22.4, 15.5, 22.5, 18.4, 16.1, 15.7, 20.8, 19.7, 19.4, 24.2, 19.4, 23.8, 17, 14.5, 24.9, 14.2, 21.8, 9.9, 20.1, 20.1, 19.4, 23.6, 18.2, 14, 11.4, 18.7, 14.8, 10.7, 19.5, 18.6, 19.1, 21, 25, 24, 19, 17.8, 17.2, 22.9, 16.6, 17.9, 16.5, 13.9, 12.6, 20.6, 15.6, 18.3, 20.6, 18.1, 5, 5.7, 18.8, 19.9, 18, 19.9, 17.4, 18.1, 22.1, 12.4, 23.5, 18.9, 8.4, 16, 17.7, 16.2, 19.6, 23.5, 9.6, 10.9, 6.5, NA, NA, NA, NA, NA, NA, NA, 39.64, NA, 3.36, 39, 3.2, NA, 4.11, 4.5879, 2.1436, 3.79, 2.9, NA, 3.85, NA, 1.6, 1.8, 1.975, 2, 2.2, 2.4, 2.8, 3, 3.2, 3.4, 4, 5.6, 2.4, 2.5, 2.63625, 2.7, 3.136, 3.4544, 4.0384, 4.3856, 4.5108, 4.7688, 5.1824, 5.25, NA, NA, 2.9, NA, NA, NA, NA, NA, NA, NA, NA, NA, NA, NA, NA, NA, NA, NA), seed_germination_treatment = c(NA, NA, NA, NA, NA, NA, NA, NA, NA, NA, NA, NA, NA, NA, NA, NA, NA, NA, NA, \"heat scarify\", NA, NA, NA, NA, NA, NA, NA, NA, NA, NA, NA, NA, NA, NA, NA, NA, NA, NA, NA, NA, NA, NA, NA, NA, NA, NA, NA, NA, NA, NA, NA, NA, NA, NA, NA, NA, NA, NA, NA, NA, NA, NA, NA, NA, NA, NA, NA, NA, NA, NA, NA, NA, NA, NA, NA, NA, NA, NA, NA, NA, NA, NA, NA, NA, NA, NA, NA, NA, NA, NA, NA, NA, NA, NA, NA, NA, NA, NA, NA, NA, NA, NA, NA, NA, NA, NA, NA, NA, NA, NA, NA, NA, NA, NA, NA, NA, NA, NA, NA, NA, NA, NA, NA, NA, NA, NA, NA, NA, NA, NA, NA, NA, NA, NA, NA, NA, NA, NA, NA, NA, NA, NA, NA, NA, NA, NA, NA, NA, NA, NA, NA, NA, NA, NA, NA, NA, NA, NA, NA, NA, NA, NA, NA, NA, NA, NA, NA, NA, NA, NA, NA, NA, NA, NA, NA, NA, NA, NA, NA, NA, NA, NA, NA, NA, NA, NA, NA, NA, NA, NA, NA, NA, NA, NA, NA, NA, NA, NA, NA, NA, NA, NA, NA, NA, NA, NA, NA, NA, NA, NA, NA, NA, NA, NA, NA, NA, NA, NA, NA, NA, NA, NA, NA, NA, NA, NA, NA, NA, NA, NA, NA, NA, NA, NA, NA, NA, NA, NA, NA, NA, NA, NA, NA, NA, NA, NA, NA, NA, NA, NA, NA, NA, NA, NA, NA, NA, NA, NA, NA, NA, NA, NA, NA, NA, NA, NA, NA, NA, NA, NA, NA, NA, NA, NA, NA, NA, NA, NA, NA, NA, NA, NA, NA, NA, NA, NA, NA, NA, NA, NA, NA, NA, NA, NA, NA, NA, NA, \"heat\", NA, NA, NA, NA, NA, NA, NA, NA, NA, NA, NA, NA, NA, NA, NA, NA, NA, NA, NA, NA, NA, NA, NA, NA, NA, NA, NA, NA, NA, NA, NA, NA, NA, NA, NA, NA, NA, NA, NA, NA, NA, NA, NA, NA, NA, NA, NA, NA, NA, NA, NA, NA, NA, NA, NA, NA, NA, NA, NA, NA, NA, NA, NA, NA, NA, NA, NA, NA, NA, NA, NA, NA, NA, NA, NA, NA, NA, NA, NA, NA, NA, NA, NA, NA, NA, NA, NA, NA, NA, NA, NA, NA, NA, NA, NA, NA, NA, NA, NA, NA, NA, NA, NA, NA, NA, NA, NA, NA, NA, NA, NA, NA, NA, NA, NA, NA, NA, NA, NA, NA, NA, NA, NA, NA, NA, NA, NA, NA, NA, NA, NA, NA, NA, NA, NA, NA, NA, NA, NA, NA, NA, \"smoke\", NA, NA, NA, NA, NA, NA, NA, NA, NA, NA, NA), seed_length = c(NA, NA, NA, 4, 5, NA, NA, NA, NA, NA, NA, 4, 5, NA, 5, NA, NA, NA, NA, NA, NA, NA, NA, NA, NA, NA, NA, NA, NA, NA, NA, NA, NA, NA, NA, NA, NA, NA, NA, NA, NA, NA, NA, NA, NA, NA, NA, NA, NA, NA, NA, NA, NA, NA, NA, NA, NA, NA, NA, NA, NA, NA, NA, NA, NA, NA, NA, NA, NA, NA, NA, NA, NA, NA, NA, NA, NA, NA, NA, NA, NA, NA, NA, NA, NA, NA, NA, NA, NA, NA, NA, NA, NA, NA, NA, NA, NA, NA, NA, NA, NA, NA, NA, NA, NA, NA, NA, NA, NA, NA, NA, NA, NA, NA, NA, NA, NA, NA, NA, NA, NA, NA, NA, NA, NA, NA, NA, NA, NA, NA, NA, NA, NA, NA, NA, NA, 3, 4, NA, NA, NA, NA, NA, NA, NA, NA, NA, NA, NA, NA, NA, NA, NA, NA, NA, NA, NA, NA, NA, NA, NA, NA, NA, NA, NA, NA, NA, NA, NA, NA, NA, NA, NA, NA, NA, NA, NA, NA, NA, NA, NA, NA, NA, NA, NA, NA, NA, NA, NA, NA, NA, NA, NA, NA, NA, NA, NA, NA, NA, NA, NA, NA, NA, NA, NA, NA, NA, NA, NA, NA, NA, NA, NA, NA, NA, NA, NA, NA, NA, NA, NA, NA, NA, NA, NA, NA, NA, NA, NA, NA, NA, NA, NA, NA, NA, NA, NA, NA, NA, NA, NA, NA, NA, NA, NA, NA, NA, 1.97, NA, NA, NA, NA, NA, NA, NA, NA, NA, NA, NA, NA, NA, NA, NA, NA, NA, NA, NA, NA, NA, NA, NA, NA, NA, NA, NA, 5.15, NA, NA, NA, NA, NA, 4.71, NA, NA, NA, NA, NA, NA, NA, 4, 5, NA, NA, NA, NA, NA, NA, NA, NA, NA, NA, NA, NA, NA, NA, NA, NA, NA, NA, NA, NA, NA, NA, NA, NA, NA, NA, NA, NA, NA, NA, NA, NA, NA, NA, NA, NA, NA, NA, NA, NA, NA, NA, NA, NA, NA, NA, NA, NA, NA, NA, NA, NA, NA, NA, NA, NA, NA, NA, NA, NA, NA, NA, NA, NA, NA, NA, NA, NA, NA, NA, NA, NA, NA, NA, NA, NA, NA, NA, NA, NA, NA, NA, NA, NA, NA, NA, NA, NA, NA, NA, NA, NA, NA, NA, NA, NA, NA, NA, NA, NA, NA, NA, NA, NA, NA, NA, NA, NA, NA, 1.99, NA, NA, NA, NA, NA, NA, NA, 16, NA, NA, NA, NA, NA, NA, NA, NA, NA, NA, NA, NA, NA, NA, NA, NA, NA, NA, NA, NA, NA, NA, NA, NA, NA, NA, NA, NA, NA, NA, NA, NA, NA, NA, NA, NA, NA, NA, NA, NA, NA, NA)), row.names = c(NA, -451L), spec = structure(list(cols = list(    ...1 = structure(list(), class = c(\"collector_double\", \"collector\"    )), taxon_name = structure(list(), class = c(\"collector_character\",     \"collector\")), plant_growth_form = structure(list(), class = c(\"collector_character\",     \"collector\")), seed_dormancy_class = structure(list(), class = c(\"collector_character\",     \"collector\")), seed_dry_mass = structure(list(), class = c(\"collector_double\",     \"collector\")), seed_germination_treatment = structure(list(), class = c(\"collector_character\",     \"collector\")), seed_length = structure(list(), class = c(\"collector_double\",     \"collector\"))), default = structure(list(), class = c(\"collector_guess\", \"collector\")), delim = \",\"), class = \"col_spec\"), problems = <pointer: 0x136a0dac0>, class = c(\"spec_tbl_df\", \"tbl_df\", \"tbl\", \"data.frame\"))...\n",
            "Кластер 2: ближайший текст - I'm trying to update a couple of my games to support the latest Android version. I'm getting this error when building for Android:CommandInvokationFailure: Gradle build failed./Applications/Unity/Hub/Editor/2020.1.15f1/PlaybackEngines/AndroidPlayer/OpenJDK/bin/java -classpath \"/Applications/Unity/Hub/Editor/2020.1.15f1/PlaybackEngines/AndroidPlayer/Tools/gradle/lib/gradle-launcher-5.6.4.jar\" org.gradle.launcher.GradleMain \"-Dorg.gradle.jvmargs=-Xmx4096m\" \"bundleRelease\"stderr[Picked up JAVA_TOOL_OPTIONS: -Dfile.encoding=UTF-8An exception has occurred in the compiler (1.8.0-adoptopenjdk). Please file a bug against the Java compiler via the Java bug reporting page (http://bugreport.java.com) after checking the Bug Database (http://bugs.java.com) for duplicates. Include your program and the following diagnostic in your report. Thank you.java.lang.AssertionError: annotationType(): unrecognized Attribute name MODULE (class com.sun.tools.javac.util.UnsharedNameTable$NameImpl)    at com.sun.tools.javac.util.Assert.error(Assert.java:133)    at com.sun.tools.javac.code.TypeAnnotations.annotationType(TypeAnnotations.java:231)    at com.sun.tools.javac.code.TypeAnnotations$TypeAnnotationPositions.separateAnnotationsKinds(TypeAnnotations.java:294)    at com.sun.tools.javac.code.TypeAnnotations$TypeAnnotationPositions.visitVarDef(TypeAnnotations.java:1164)    at com.sun.tools.javac.tree.JCTree$JCVariableDecl.accept(JCTree.java:852)    at com.sun.tools.javac.tree.TreeScanner.scan(TreeScanner.java:49)    at com.sun.tools.javac.code.TypeAnnotations$TypeAnnotationPositions.scan(TypeAnnotations.java:275)    at com.sun.tools.javac.tree.TreeScanner.scan(TreeScanner.java:57)    at com.sun.tools.javac.code.TypeAnnotations$TypeAnnotationPositions.visitClassDef(TypeAnnotations.java:1042)    at com.sun.tools.javac.tree.JCTree$JCClassDecl.accept(JCTree.java:693)    at com.sun.tools.javac.tree.TreeScanner.scan(TreeScanner.java:49)    at com.sun.tools.javac.code.TypeAnnotations$TypeAnnotationPositions.scan(TypeAnnotations.java:275)    at com.sun.tools.javac.code.TypeAnnotations$1.run(TypeAnnotations.java:127)    at com.sun.tools.javac.comp.Annotate.flush(Annotate.java:152)    at com.sun.tools.javac.comp.Annotate.enterDone(Annotate.java:129)    at com.sun.tools.javac.comp.Enter.complete(Enter.java:512)    at com.sun.tools.javac.comp.Enter.main(Enter.java:471)    at com.sun.tools.javac.main.JavaCompiler.enterTrees(JavaCompiler.java:982)    at com.sun.tools.javac.main.JavaCompiler.compile(JavaCompiler.java:857)    at com.sun.tools.javac.main.Main.compile(Main.java:523)    at com.sun.tools.javac.api.JavacTaskImpl.doCall(JavacTaskImpl.java:129)    at com.sun.tools.javac.api.JavacTaskImpl.call(JavacTaskImpl.java:138)    at org.gradle.api.internal.tasks.compile.AnnotationProcessingCompileTask.call(AnnotationProcessingCompileTask.java:93)    at org.gradle.api.internal.tasks.compile.ResourceCleaningCompilationTask.call(ResourceCleaningCompilationTask.java:57)    at org.gradle.api.internal.tasks.compile.JdkJavaCompiler.execute(JdkJavaCompiler.java:54)    at org.gradle.api.internal.tasks.compile.JdkJavaCompiler.execute(JdkJavaCompiler.java:39)    at org.gradle.api.internal.tasks.compile.NormalizingJavaCompiler.delegateAndHandleErrors(NormalizingJavaCompiler.java:100)    at org.gradle.api.internal.tasks.compile.NormalizingJavaCompiler.execute(NormalizingJavaCompiler.java:52)    at org.gradle.api.internal.tasks.compile.NormalizingJavaCompiler.execute(NormalizingJavaCompiler.java:38)    at org.gradle.api.internal.tasks.compile.AnnotationProcessorDiscoveringCompiler.execute(AnnotationProcessorDiscoveringCompiler.java:51)    at org.gradle.api.internal.tasks.compile.AnnotationProcessorDiscoveringCompiler.execute(AnnotationProcessorDiscoveringCompiler.java:37)    at org.gradle.api.internal.tasks.compile.CleaningJavaCompilerSupport.execute(CleaningJavaCompilerSupport.java:39)    at org.gradle.api.internal.tasks.compile.incremental.IncrementalCompilerFactory$2.execute(IncrementalCompilerFactory.java:101)    at org.gradle.api.internal.tasks.compile.incremental.IncrementalCompilerFactory$2.execute(IncrementalCompilerFactory.java:97)    at org.gradle.api.internal.tasks.compile.incremental.IncrementalResultStoringCompiler.execute(IncrementalResultStoringCompiler.java:60)    at org.gradle.api.internal.tasks.compile.incremental.IncrementalResultStoringCompiler.execute(IncrementalResultStoringCompiler.java:44)    at org.gradle.api.internal.tasks.compile.CompileJavaBuildOperationReportingCompiler$2.call(CompileJavaBuildOperationReportingCompiler.java:59)    at org.gradle.api.internal.tasks.compile.CompileJavaBuildOperationReportingCompiler$2.call(CompileJavaBuildOperationReportingCompiler.java:51)    at org.gradle.internal.operations.DefaultBuildOperationExecutor$CallableBuildOperationWorker.execute(DefaultBuildOperationExecutor.java:416)    at org.gradle.internal.operations.DefaultBuildOperationExecutor$CallableBuildOperationWorker.execute(DefaultBuildOperationExecutor.java:406)    at org.gradle.internal.operations.DefaultBuildOperationExecutor$1.execute(DefaultBuildOperationExecutor.java:165)    at org.gradle.internal.operations.DefaultBuildOperationExecutor.execute(DefaultBuildOperationExecutor.java:250)    at org.gradle.internal.operations.DefaultBuildOperationExecutor.execute(DefaultBuildOperationExecutor.java:158)    at org.gradle.internal.operations.DefaultBuildOperationExecutor.call(DefaultBuildOperationExecutor.java:102)    at org.gradle.internal.operations.DelegatingBuildOperationExecutor.call(DelegatingBuildOperationExecutor.java:36)    at org.gradle.api.internal.tasks.compile.CompileJavaBuildOperationReportingCompiler.execute(CompileJavaBuildOperationReportingCompiler.java:51)    at org.gradle.api.tasks.compile.JavaCompile.performCompilation(JavaCompile.java:158)    at org.gradle.api.tasks.compile.JavaCompile.compile(JavaCompile.java:126)    at sun.reflect.NativeMethodAccessorImpl.invoke0(Native Method)    at sun.reflect.NativeMethodAccessorImpl.invoke(NativeMethodAccessorImpl.java:62)    at sun.reflect.DelegatingMethodAccessorImpl.invoke(DelegatingMethodAccessorImpl.java:43)    at java.lang.reflect.Method.invoke(Method.java:498)    at org.gradle.internal.reflect.JavaMethod.invoke(JavaMethod.java:103)    at org.gradle.api.internal.project.taskfactory.IncrementalTaskInputsTaskAction.doExecute(IncrementalTaskInputsTaskAction.java:47)    at org.gradle.api.internal.project.taskfactory.StandardTaskAction.execute(StandardTaskAction.java:42)    at org.gradle.api.internal.project.taskfactory.AbstractIncrementalTaskAction.execute(AbstractIncrementalTaskAction.java:25)    at org.gradle.api.internal.project.taskfactory.StandardTaskAction.execute(StandardTaskAction.java:28)    at org.gradle.api.internal.tasks.execution.ExecuteActionsTaskExecuter$5.run(ExecuteActionsTaskExecuter.java:476)    at org.gradle.internal.operations.DefaultBuildOperationExecutor$RunnableBuildOperationWorker.execute(DefaultBuildOperationExecutor.java:402)    at org.gradle.internal.operations.DefaultBuildOperationExecutor$RunnableBuildOperationWorker.execute(DefaultBuildOperationExecutor.java:394)    at org.gradle.internal.operations.DefaultBuildOperationExecutor$1.execute(DefaultBuildOperationExecutor.java:165)    at org.gradle.internal.operations.DefaultBuildOperationExecutor.execute(DefaultBuildOperationExecutor.java:250)    at org.gradle.internal.operations.DefaultBuildOperationExecutor.execute(DefaultBuildOperationExecutor.java:158)    at org.gradle.internal.operations.DefaultBuildOperationExecutor.run(DefaultBuildOperationExecutor.java:92)    at org.gradle.internal.operations.DelegatingBuildOperationExecutor.run(DelegatingBuildOperationExecutor.java:31)    at org.gradle.api.internal.tasks.execution.ExecuteActionsTaskExecuter.executeAction(ExecuteActionsTaskExecuter.java:461)    at org.gradle.api.internal.tasks.execution.ExecuteActionsTaskExecuter.executeActions(ExecuteActionsTaskExecuter.java:444)    at org.gradle.api.internal.tasks.execution.ExecuteActionsTaskExecuter.access$200(ExecuteActionsTaskExecuter.java:93)    at org.gradle.api.internal.tasks.execution.ExecuteActionsTaskExecuter$TaskExecution.execute(ExecuteActionsTaskExecuter.java:237)    at org.gradle.internal.execution.steps.ExecuteStep.lambda$execute$0(ExecuteStep.java:32)    at java.util.Optional.map(Optional.java:215)    at org.gradle.internal.execution.steps.ExecuteStep.execute(ExecuteStep.java:32)    at org.gradle.internal.execution.steps.ExecuteStep.execute(ExecuteStep.java:26)    at org.gradle.internal.execution.steps.CleanupOutputsStep.execute(CleanupOutputsStep.java:58)    at org.gradle.internal.execution.steps.CleanupOutputsStep.execute(CleanupOutputsStep.java:35)    at org.gradle.internal.execution.steps.ResolveInputChangesStep.execute(ResolveInputChangesStep.java:48)    at org.gradle.internal.execution.steps.ResolveInputChangesStep.execute(ResolveInputChangesStep.java:33)    at org.gradle.internal.execution.steps.CancelExecutionStep.execute(CancelExecutionStep.java:39)    at org.gradle.internal.execution.steps.TimeoutStep.executeWithoutTimeout(TimeoutStep.java:73)    at org.gradle.internal.execution.steps.TimeoutStep.execute(TimeoutStep.java:54)    at org.gradle.internal.execution.steps.CatchExceptionStep.execute(CatchExceptionStep.java:35)    at org.gradle.internal.execution.steps.CreateOutputsStep.execute(CreateOutputsStep.java:51)    at org.gradle.internal.execution.steps.SnapshotOutputsStep.execute(SnapshotOutputsStep.java:45)    at org.gradle.internal.execution.steps.SnapshotOutputsStep.execute(SnapshotOutputsStep.java:31)    at org.gradle.internal.execution.steps.CacheStep.executeWithoutCache(CacheStep.java:208)    at org.gradle.internal.execution.steps.CacheStep.execute(CacheStep.java:70)    at org.gradle.internal.execution.steps.CacheStep.execute(CacheStep.java:45)    at org.gradle.internal.execution.steps.BroadcastChangingOutputsStep.execute(BroadcastChangingOutputsStep.java:49)    at org.gradle.internal.execution.steps.StoreSnapshotsStep.execute(StoreSnapshotsStep.java:43)    at org.gradle.internal.execution.steps.StoreSnapshotsStep.execute(StoreSnapshotsStep.java:32)    at org.gradle.internal.execution.steps.RecordOutputsStep.execute(RecordOutputsStep.java:38)    at org.gradle.internal.execution.steps.RecordOutputsStep.execute(RecordOutputsStep.java:24)    at org.gradle.internal.execution.steps.SkipUpToDateStep.executeBecause(SkipUpToDateStep.java:96)    at org.gradle.internal.execution.steps.SkipUpToDateStep.lambda$execute$0(SkipUpToDateStep.java:89)    at java.util.Optional.map(Optional.java:215)    at org.gradle.internal.execution.steps.SkipUpToDateStep.execute(SkipUpToDateStep.java:54)    at org.gradle.internal.execution.steps.SkipUpToDateStep.execute(SkipUpToDateStep.java:38)    at org.gradle.internal.execution.steps.ResolveChangesStep.execute(ResolveChangesStep.java:76)    at org.gradle.internal.execution.steps.ResolveChangesStep.execute(ResolveChangesStep.java:37)    at org.gradle.internal.execution.steps.legacy.MarkSnapshottingInputsFinishedStep.execute(MarkSnapshottingInputsFinishedStep.java:36)    at org.gradle.internal.execution.steps.legacy.MarkSnapshottingInputsFinishedStep.execute(MarkSnapshottingInputsFinishedStep.java:26)    at org.gradle.internal.execution.steps.ResolveCachingStateStep.execute(ResolveCachingStateStep.java:90)    at org.gradle.internal.execution.steps.ResolveCachingStateStep.execute(ResolveCachingStateStep.java:48)    at org.gradle.internal.execution.steps.CaptureStateBeforeExecutionStep.execute(CaptureStateBeforeExecutionStep.java:69)    at org.gradle.internal.execution.steps.CaptureStateBeforeExecutionStep.execute(CaptureStateBeforeExecutionStep.java:47)    at org.gradle.internal.execution.impl.DefaultWorkExecutor.execute(DefaultWorkExecutor.java:33)    at org.gradle.api.internal.tasks.execution.ExecuteActionsTaskExecuter.execute(ExecuteActionsTaskExecuter.java:140)    at org.gradle.api.internal.tasks.execution.ValidatingTaskExecuter.execute(ValidatingTaskExecuter.java:62)    at org.gradle.api.internal.tasks.execution.SkipEmptySourceFilesTaskExecuter.execute(SkipEmptySourceFilesTaskExecuter.java:108)    at org.gradle.api.internal.tasks.execution.ResolveBeforeExecutionOutputsTaskExecuter.execute(ResolveBeforeExecutionOutputsTaskExecuter.java:67)    at org.gradle.api.internal.tasks.execution.ResolveAfterPreviousExecutionStateTaskExecuter.execute(ResolveAfterPreviousExecutionStateTaskExecuter.java:46)    at org.gradle.api.internal.tasks.execution.CleanupStaleOutputsExecuter.execute(CleanupStaleOutputsExecuter.java:94)    at org.gradle.api.internal.tasks.execution.FinalizePropertiesTaskExecuter.execute(FinalizePropertiesTaskExecuter.java:46)    at org.gradle.api.internal.tasks.execution.ResolveTaskExecutionModeExecuter.execute(ResolveTaskExecutionModeExecuter.java:95)    at org.gradle.api.internal.tasks.execution.SkipTaskWithNoActionsExecuter.execute(SkipTaskWithNoActionsExecuter.java:57)    at org.gradle.api.internal.tasks.execution.SkipOnlyIfTaskExecuter.execute(SkipOnlyIfTaskExecuter.java:56)    at org.gradle.api.internal.tasks.execution.CatchExceptionTaskExecuter.execute(CatchExceptionTaskExecuter.java:36)    at org.gradle.api.internal.tasks.execution.EventFiringTaskExecuter$1.executeTask(EventFiringTaskExecuter.java:77)    at org.gradle.api.internal.tasks.execution.EventFiringTaskExecuter$1.call(EventFiringTaskExecuter.java:55)    at org.gradle.api.internal.tasks.execution.EventFiringTaskExecuter$1.call(EventFiringTaskExecuter.java:52)    at org.gradle.internal.operations.DefaultBuildOperationExecutor$CallableBuildOperationWorker.execute(DefaultBuildOperationExecutor.java:416)    at org.gradle.internal.operations.DefaultBuildOperationExecutor$CallableBuildOperationWorker.execute(DefaultBuildOperationExecutor.java:406)    at org.gradle.internal.operations.DefaultBuildOperationExecutor$1.execute(DefaultBuildOperationExecutor.java:165)    at org.gradle.internal.operations.DefaultBuildOperationExecutor.execute(DefaultBuildOperationExecutor.java:250)    at org.gradle.internal.operations.DefaultBuildOperationExecutor.execute(DefaultBuildOperationExecutor.java:158)    at org.gradle.internal.operations.DefaultBuildOperationExecutor.call(DefaultBuildOperationExecutor.java:102)    at org.gradle.internal.operations.DelegatingBuildOperationExecutor.call(DelegatingBuildOperationExecutor.java:36)    at org.gradle.api.internal.tasks.execution.EventFiringTaskExecuter.execute(EventFiringTaskExecuter.java:52)    at org.gradle.execution.plan.LocalTaskNodeExecutor.execute(LocalTaskNodeExecutor.java:43)    at org.gradle.execution.taskgraph.DefaultTaskExecutionGraph$InvokeNodeExecutorsAction.execute(DefaultTaskExecutionGraph.java:355)    at org.gradle.execution.taskgraph.DefaultTaskExecutionGraph$InvokeNodeExecutorsAction.execute(DefaultTaskExecutionGraph.java:343)    at org.gradle.execution.taskgraph.DefaultTaskExecutionGraph$BuildOperationAwareExecutionAction.execute(DefaultTaskExecutionGraph.java:336)    at org.gradle.execution.taskgraph.DefaultTaskExecutionGraph$BuildOperationAwareExecutionAction.execute(DefaultTaskExecutionGraph.java:322)    at org.gradle.execution.plan.DefaultPlanExecutor$ExecutorWorker$1.execute(DefaultPlanExecutor.java:134)    at org.gradle.execution.plan.DefaultPlanExecutor$ExecutorWorker$1.execute(DefaultPlanExecutor.java:129)    at org.gradle.execution.plan.DefaultPlanExecutor$ExecutorWorker.execute(DefaultPlanExecutor.java:202)    at org.gradle.execution.plan.DefaultPlanExecutor$ExecutorWorker.executeNextNode(DefaultPlanExecutor.java:193)    at org.gradle.execution.plan.DefaultPlanExecutor$ExecutorWorker.run(DefaultPlanExecutor.java:129)    at org.gradle.internal.concurrent.ExecutorPolicy$CatchAndRecordFailures.onExecute(ExecutorPolicy.java:64)    at org.gradle.internal.concurrent.ManagedExecutorImpl$1.run(ManagedExecutorImpl.java:48)    at java.util.concurrent.ThreadPoolExecutor.runWorker(ThreadPoolExecutor.java:1149)    at java.util.concurrent.ThreadPoolExecutor$Worker.run(ThreadPoolExecutor.java:624)    at org.gradle.internal.concurrent.ThreadFactoryImpl$ManagedThreadRunnable.run(ThreadFactoryImpl.java:56)    at java.lang.Thread.run(Thread.java:748)FAILURE: Build failed with an exception.* What went wrong:Execution failed for task ':unityLibrary:compileReleaseJavaWithJavac'.> Compilation failed; see the compiler error output for details.* Try:Run with --stacktrace option to get the stack trace. Run with --info or --debug option to get more log output. Run with --scan to get full insights.* Get more help at https://help.gradle.orgBUILD FAILED in 11s]stdout[Starting a Gradle Daemon, 5 stopped Daemons could not be reused, u<message truncated>Using the following: Unity 2020.1.15f1 on macOS Android Target API Level 34Tried the following:Updating Android SDK using Android StudioUpdating Unity packagesSwitching between the Unity-provided Android tools and the actual Android SDK (in Preferences under External Tools)Disabling R8...\n"
          ]
        }
      ]
    },
    {
      "cell_type": "markdown",
      "source": [
        "## Glove: K-means на предобработанных данных"
      ],
      "metadata": {
        "id": "I2ZgD43QVhYS"
      }
    },
    {
      "cell_type": "code",
      "source": [
        "glove_vec_norm = np.array(list(stckover_df.normalized.apply(glove_vectorize)))"
      ],
      "metadata": {
        "id": "-a9Zec7gVoqn"
      },
      "execution_count": null,
      "outputs": []
    },
    {
      "cell_type": "code",
      "source": [
        "inertia, silhouette = eval_clusters(glove_vec_norm)"
      ],
      "metadata": {
        "colab": {
          "base_uri": "https://localhost:8080/"
        },
        "id": "w0uTJO21DNDh",
        "outputId": "375c6de1-f5d1-4643-f13c-1d4c77318011"
      },
      "execution_count": null,
      "outputs": [
        {
          "output_type": "stream",
          "name": "stderr",
          "text": [
            "100%|██████████| 18/18 [04:42<00:00, 15.68s/it]\n"
          ]
        }
      ]
    },
    {
      "cell_type": "code",
      "source": [
        "plot_metrics(inertia, silhouette)"
      ],
      "metadata": {
        "colab": {
          "base_uri": "https://localhost:8080/",
          "height": 419
        },
        "id": "YmzZ6JOnD0Ie",
        "outputId": "2a2c558b-fb5d-4a1f-d710-a1d7655743a2"
      },
      "execution_count": null,
      "outputs": [
        {
          "output_type": "display_data",
          "data": {
            "text/plain": [
              "<Figure size 1000x400 with 2 Axes>"
            ],
            "image/png": "[encoded data removed]"
          },
          "metadata": {}
        }
      ]
    },
    {
      "cell_type": "code",
      "source": [
        "# делаем на 2\n",
        "kmeans_glove_norm = cluster.KMeans(n_clusters=2,\n",
        "                           random_state=17,\n",
        "                           init='k-means++')\n",
        "\n",
        "kmeans_glove_norm_labels = kmeans_glove_norm.fit_predict(glove_vec_norm)\n",
        "\n",
        "display(pd.Series(kmeans_glove_norm_labels).value_counts())"
      ],
      "metadata": {
        "colab": {
          "base_uri": "https://localhost:8080/",
          "height": 146
        },
        "id": "a94enQ2fDDO-",
        "outputId": "9fcf2c5f-8e05-4269-f44b-e6e6011a6d7b"
      },
      "execution_count": null,
      "outputs": [
        {
          "output_type": "display_data",
          "data": {
            "text/plain": [
              "0    12052\n",
              "1    10071\n",
              "Name: count, dtype: int64"
            ],
            "text/html": [
              "<div>\n",
              "<style scoped>\n",
              "    .dataframe tbody tr th:only-of-type {\n",
              "        vertical-align: middle;\n",
              "    }\n",
              "\n",
              "    .dataframe tbody tr th {\n",
              "        vertical-align: top;\n",
              "    }\n",
              "\n",
              "    .dataframe thead th {\n",
              "        text-align: right;\n",
              "    }\n",
              "</style>\n",
              "<table border=\"1\" class=\"dataframe\">\n",
              "  <thead>\n",
              "    <tr style=\"text-align: right;\">\n",
              "      <th></th>\n",
              "      <th>count</th>\n",
              "    </tr>\n",
              "  </thead>\n",
              "  <tbody>\n",
              "    <tr>\n",
              "      <th>0</th>\n",
              "      <td>12052</td>\n",
              "    </tr>\n",
              "    <tr>\n",
              "      <th>1</th>\n",
              "      <td>10071</td>\n",
              "    </tr>\n",
              "  </tbody>\n",
              "</table>\n",
              "</div><br><label><b>dtype:</b> int64</label>"
            ]
          },
          "metadata": {}
        }
      ]
    },
    {
      "cell_type": "code",
      "source": [
        "get_nearest_texts(kmeans_glove_norm, glove_vec_norm)\n",
        "# получилось забавно :))"
      ],
      "metadata": {
        "colab": {
          "base_uri": "https://localhost:8080/"
        },
        "id": "JG1hBqDEFQ3I",
        "outputId": "afd95035-ed80-44bc-b39b-e8bdaa6b321b"
      },
      "execution_count": null,
      "outputs": [
        {
          "output_type": "stream",
          "name": "stdout",
          "text": [
            "Кластер 0: ближайший текст - Closed. This question is opinion-based. It is not currently accepting answers.Want to improve this question? Update the question so it can be answered with facts and citations by editing this post.Closed yesterday.Improve this questionI'm trying to pick up my very old programming skills by going through the exercises of the \"Advent of Code\" calendar (adventofcode.com). Now I'm stuck at day#7, part 1.Basically, what I'm asked to do is to parse the printouts from a fictive file system, which is traversed by using 'cd' and 'ls' commands.What I would like to do (probably there are other faster ways of finding the correct answer, but this is for learning), is to recreate that tree and then analyse it.I have started by creating a base class FileSystemElement, and two other classes, File and Directory, which inherit from it. A Directory should have the possibility of containing a tree of folders, while a File should not, and should only contain its size.My idea is to use a vector or a list as element to represent the tree, and then to use iterators to move through the list of Directory/File elements contained in the current Directory. But I get stuck whenever I have to jump out of the current Directory ('cd ..'). I don't know how I could do it with an iterator (or with another better solution). I'm starting to think that maybe vectors and lists are not the proper container to use here.Am I right? How could I implement a solution for this? (I don't want ready-made code, only guidelines)Thanks in advance :)...\n",
            "Кластер 1: ближайший текст - Closed. This question needs debugging details. It is not currently accepting answers.Edit the question to include desired behavior, a specific problem or error, and the shortest code necessary to reproduce the problem. This will help others answer the question.Closed 5 days ago.This post was edited and submitted for review 5 days ago.Improve this questionI have followed a tutorial about publishing temperature data on a website run by an NodeMCU Arduino. When I compile it in Arduino IDE it works just fine but I wanted to change to Visual Studio mostly because of aesthetics and I get an error I just can´t figure out. EDIT Im posting the whole code for you to analyze if you think it will help. It is for sure Microsoft Visual Studio Community 2022 (64-bit) - Current. And this is the error:SenasteWebstyrningMedKnapp.ino: 37:29: error: expected initializer before 'processor   37 |     float tempC = sensors.getTempCByIndex(0)   |                             ^~~~~~~~~float tempC = sensors.getTempCByIndex(0);// Import required libraries  #include <Arduino.h>  #include <ESP8266WiFi.h>  #include <Hash.h>  #include <ESPAsyncTCP.h>  #include <ESPAsyncWebServer.h>  #include <OneWire.h>  #include <DallasTemperature.h>// Data wire is connected to GPIO 4#define ONE_WIRE_BUS 4// Setup a oneWire instance to communicate with any OneWire devicesOneWire oneWire(ONE_WIRE_BUS);// Pass our oneWire reference to Dallas Temperature sensor DallasTemperature sensors(&oneWire);// Variables to store temperature valuesString temperatureF = \"\";String temperatureC = \"\";// Timer variablesunsigned long lastTime = 0;  unsigned long timerDelay = 10000;// Replace with your network credentialsconst char* ssid = \"*****\";const char* password = \"*****\";// Create AsyncWebServer object on port 80AsyncWebServer server(80);String readDSTemperatureC() {  // Call sensors.requestTemperatures() to issue a global temperature and Requests to all devices on the bus  sensors.requestTemperatures();   float tempC = sensors.getTempCByIndex(0);  if(tempC == -127.00) {    Serial.println(\"Failed to read from DS18B20 sensor\");    return \"--\";  } else {    Serial.print(\"Temperature Celsius: \");    Serial.println(tempC);   }  return String(tempC);}String readDSTemperatureF() {  // Call sensors.requestTemperatures() to issue a global temperature and Requests to all devices on the bus  sensors.requestTemperatures();   float tempF = sensors.getTempCByIndex(1);  if(int(tempF) == -127){    Serial.println(\"Failed to read from DS18B20 sensor\");    return \"--\";  } else {    Serial.print(\"Temperature C2: \");    Serial.println(tempF);  }  return String(tempF);}const char index_html[] PROGMEM = R\"rawliteral(<!DOCTYPE HTML><html><head>  <meta name=\"viewport\" content=\"width=device-width, initial-scale=1\">  <link rel=\"stylesheet\" href=\"https://use.fontawesome.com/releases/v5.7.2/css/all.css\" integrity=\"sha384-fnmOCqbTlWIlj8LyTjo7mOUStjsKC4pOpQbqyi7RrhN7udi9RwhKkMHpvLbHG9Sr\" crossorigin=\"anonymous\">  <style>    html {     font-family: Arial;     display: inline-block;     margin: 0px auto;     text-align: center;    }    h2 { font-size: 3.0rem; }    p { font-size: 3.0rem; }    .units { font-size: 1.2rem; }    .ds-labels{      font-size: 1.5rem;      vertical-align:middle;      padding-bottom: 15px;    }  </style></head><body>  <h2>ESP DS18B20 Server</h2>  <p>    <i class=\"fas fa-thermometer-half\" style=\"color:#059e8a;\"></i>     <span class=\"ds-labels\">Temperature Celsius</span>     <span id=\"temperaturec\">%TEMPERATUREC%</span>    <sup class=\"units\">&deg;C</sup>  </p>  <p>    <i class=\"fas fa-thermometer-half\" style=\"color:#059e8a;\"></i>     <span class=\"ds-labels\">Temperature C2</span>    <span id=\"temperaturef\">%TEMPERATUREF%</span>    <sup class=\"units\">&deg;F</sup>  </p></body><script>setInterval(function ( ) {  var xhttp = new XMLHttpRequest();  xhttp.onreadystatechange = function() {    if (this.readyState == 4 && this.status == 200) {      document.getElementById(\"temperaturec\").innerHTML = this.responseText;    }  };  xhttp.open(\"GET\", \"/temperaturec\", true);  xhttp.send();}, 10000) ;setInterval(function ( ) {  var xhttp = new XMLHttpRequest();  xhttp.onreadystatechange = function() {    if (this.readyState == 4 && this.status == 200) {      document.getElementById(\"temperaturef\").innerHTML = this.responseText;    }  };  xhttp.open(\"GET\", \"/temperaturef\", true);  xhttp.send();}, 10000) ;</script></html>)rawliteral\";// Replaces placeholder with DS18B20 valuesString processor(const String& var){  //Serial.println(var);  if(var == \"TEMPERATUREC\"){    return temperatureC;  }  else if(var == \"TEMPERATUREF\"){    return temperatureF;  }  return String();}void setup(){  // Serial port for debugging purposes  Serial.begin(115200);  Serial.println();    // Start up the DS18B20 library  sensors.begin();  temperatureC = readDSTemperatureC();  temperatureF = readDSTemperatureF();  // Connect to Wi-Fi  WiFi.begin(ssid, password);  Serial.println(\"Connecting to WiFi\");  while (WiFi.status() != WL_CONNECTED) {    delay(500);    Serial.print(\".\");  }  Serial.println();    // Print ESP Local IP Address  Serial.println(WiFi.localIP());  // Route for root / web page  server.on(\"/\", HTTP_GET, [](AsyncWebServerRequest *request){    request->send_P(200, \"text/html\", index_html, processor);  });  server.on(\"/temperaturec\", HTTP_GET, [](AsyncWebServerRequest *request){    request->send_P(200, \"text/plain\", temperatureC.c_str());  });  server.on(\"/temperaturef\", HTTP_GET, [](AsyncWebServerRequest *request){    request->send_P(200, \"text/plain\", temperatureF.c_str());  });  // Start server  server.begin();} void loop(){  if ((millis() - lastTime) > timerDelay) {    temperatureC = readDSTemperatureC();    temperatureF = readDSTemperatureF();    lastTime = millis();  }  }I simply copied the code from Arduino IDE and pasted it in Visual Studio latest version 17....\n"
          ]
        }
      ]
    },
    {
      "cell_type": "markdown",
      "source": [
        "Мои мысли в виде буллет-поинтов:\n",
        "- да, предпроцессинг сделал все это дело гораздо лучше; как минимум, мы теряли гораздо меньше информации при pca\n",
        "- самым сбалансированным оказался подход с glove-векторизацией:\n",
        " - возможно, потому что я не делала pca на 50 размерностей для других векторизаций, и, если бы сделала, получила бы примерно такой же результат, тем более, информации там терялось гораздо больше\n",
        " - возможно, это просто преимущество word2vec перед TF-IDF и  CountVec\n",
        " - силуэт в среднем меньше на кластеризациях с предобработанными моделями, что, конечно, может говорить об улучшении моделей\n",
        "\n",
        "В тематическом отношении мало что можно сказать о том, удалась ли кластеризация. Тем более, в виду ограничений памяти я брала достаточно маленькое количество кластеров, когда как оригинальных категорий в датасете около 10 тысяч. Возможно, стоило начать с более узкой кластеризации конкретно этих категорий, а потом идти к тексту"
      ],
      "metadata": {
        "id": "tMFQddZgEauR"
      }
    },
    {
      "cell_type": "markdown",
      "source": [
        "# DBSCAN"
      ],
      "metadata": {
        "id": "leT4HysNUiW8"
      }
    },
    {
      "cell_type": "code",
      "source": [
        "# заскейлим\n",
        "scaler = StandardScaler()\n",
        "scaled_glove = scaler.fit_transform(glove_vec_norm)"
      ],
      "metadata": {
        "id": "xNaWuypOUlRU"
      },
      "execution_count": null,
      "outputs": []
    },
    {
      "cell_type": "code",
      "source": [
        "dbscan = DBSCAN(eps=0.5, min_samples=5, metric='euclidean')\n",
        "clusters = dbscan.fit_predict(scaled_glove)\n",
        "\n",
        "if len(set(clusters)) > 1:\n",
        "    score = silhouette_score(scaled_glove, clusters)\n",
        "    print(f\"Силуэт: {score}\")"
      ],
      "metadata": {
        "colab": {
          "base_uri": "https://localhost:8080/"
        },
        "id": "n0i0In5hI7eJ",
        "outputId": "c2b0105d-96e5-4e8e-e904-ef0c5d463770"
      },
      "execution_count": null,
      "outputs": [
        {
          "output_type": "stream",
          "name": "stdout",
          "text": [
            "Силуэт: -0.03748277947306633\n"
          ]
        }
      ]
    },
    {
      "cell_type": "markdown",
      "source": [
        "Ну, судя по отрицательному значению силуэта, качество у нас получилось похуже, чем при k-means+glove+предобработке"
      ],
      "metadata": {
        "id": "TKvWU3o2Jcy_"
      }
    },
    {
      "cell_type": "markdown",
      "source": [
        "# Дополнительные задания"
      ],
      "metadata": {
        "id": "ucg2EIA8UkyE"
      }
    },
    {
      "cell_type": "markdown",
      "source": [
        "## Sentence-transformers\n",
        "\n",
        "Начиная с этого момента, я удалила среду выполнения, чтобы работать с актуальным библиотеками в numpy. Если вы запускаете тетрадку локально, то, возможно, вам нужна будет эта информация +_+"
      ],
      "metadata": {
        "id": "rKkDAfrOK4Dh"
      }
    },
    {
      "cell_type": "code",
      "source": [
        "# импорт необходимых библиотек\n",
        "import pandas as pd\n",
        "\n",
        "import sklearn.cluster as cluster\n",
        "from sklearn.cluster import KMeans\n",
        "from sklearn.feature_extraction.text import TfidfVectorizer, CountVectorizer\n",
        "from sklearn.decomposition import PCA\n",
        "from sklearn.metrics import silhouette_score\n",
        "from sklearn.metrics.pairwise import euclidean_distances\n",
        "from sklearn.preprocessing import StandardScaler\n",
        "from tqdm import tqdm\n",
        "\n",
        "from sentence_transformers import SentenceTransformer\n",
        "\n",
        "import numpy as np\n",
        "\n",
        "import matplotlib.pyplot as plt\n",
        "import seaborn as sns\n",
        "\n",
        "import ast\n",
        "from tqdm import tqdm\n",
        "import re\n",
        "from collections import Counter\n",
        "from itertools import chain\n",
        "from IPython.display import Image, display"
      ],
      "metadata": {
        "id": "Ax3dC9mgK8ta"
      },
      "execution_count": null,
      "outputs": []
    },
    {
      "cell_type": "code",
      "source": [
        "def link_download(sharing_url, sep='\\t', usecols=None, header=None):\n",
        "    download_url = \"https://drive.google.com/uc?id=\" + sharing_url.split(\"/\")[-2]\n",
        "    dataframe = pd.read_csv(download_url, sep=sep, usecols=usecols, header=header)\n",
        "    return dataframe\n",
        "\n",
        "stckover_df = link_download(\"https://drive.google.com/file/d/1zLs02TTxbt1Htk1RdIJM5AaBacs6Y39K/view?usp=sharing\",\n",
        "                           sep=None, header='infer')\n",
        "stckover_df.head(10)"
      ],
      "metadata": {
        "colab": {
          "base_uri": "https://localhost:8080/",
          "height": 609
        },
        "id": "xu5Qpp5oLiPN",
        "outputId": "9fa45199-6a5f-4a23-c796-dfcf4f285e71"
      },
      "execution_count": null,
      "outputs": [
        {
          "output_type": "stream",
          "name": "stderr",
          "text": [
            "<ipython-input-2-d7d8de746732>:3: ParserWarning: Falling back to the 'python' engine because the 'c' engine does not support sep=None with delim_whitespace=False; you can avoid this warning by specifying engine='python'.\n",
            "  dataframe = pd.read_csv(download_url, sep=sep, usecols=usecols, header=header)\n"
          ]
        },
        {
          "output_type": "execute_result",
          "data": {
            "text/plain": [
              "                                               Title  \\\n",
              "0  your browser version is not supported using sy...   \n",
              "1               how to get button text value in java   \n",
              "2  How to make sure communication is stable when ...   \n",
              "3                       Cubical Agda Inclusion Order   \n",
              "4  How to convert depth map to image(.png) format...   \n",
              "5  Spring Security for Mobile Application with 3r...   \n",
              "6  {C#, UNITY} Currently working on a flight scri...   \n",
              "7  Overlay a transparent button over each radio o...   \n",
              "8  Vue list scrolling will affect external scroll...   \n",
              "9       How to list all resource to secret mappings?   \n",
              "\n",
              "                                                 URL  \\\n",
              "0  https://stackoverflow.com/questions/76981459/y...   \n",
              "1  https://stackoverflow.com/questions/76981456/h...   \n",
              "2  https://stackoverflow.com/questions/76981455/h...   \n",
              "3  https://stackoverflow.com/questions/76981453/c...   \n",
              "4  https://stackoverflow.com/questions/76981450/h...   \n",
              "5  https://stackoverflow.com/questions/76981449/s...   \n",
              "6  https://stackoverflow.com/questions/76981448/c...   \n",
              "7  https://stackoverflow.com/questions/76981447/o...   \n",
              "8  https://stackoverflow.com/questions/76981446/v...   \n",
              "9  https://stackoverflow.com/questions/76981442/h...   \n",
              "\n",
              "                                            Question  \\\n",
              "0  I'm trying to automate some features and I nee...   \n",
              "1  I want to get button text value to do the on c...   \n",
              "2  This is my Node codeasync function runClient()...   \n",
              "3  I'm almost finished defining an Inclusion Orde...   \n",
              "4  I am using a depth camera which captures a 500...   \n",
              "5  I want to allow SSO (single sign-on) via Googl...   \n",
              "6  [EDIT ONE: THE FLIGHT CODE IS COMMENTED BECAUS...   \n",
              "7  I need to overlay a transparent button over ea...   \n",
              "8  By setting the height, the effect of scrolling...   \n",
              "9  I am looking for a kubectl command that will l...   \n",
              "\n",
              "                                          Categories  \n",
              "0                 ['php', 'symfony', 'web-scraping']  \n",
              "1                                 ['java', 'button']  \n",
              "2          ['javascript', 'node.js', 'go', 'zeromq']  \n",
              "3                                           ['agda']  \n",
              "4  ['3d', 'computer-vision', 'point-clouds', 'vis...  \n",
              "5  ['java', 'spring', 'spring-security', 'oauth-2...  \n",
              "6                                             ['c#']  \n",
              "7                      ['javascript', 'html', 'css']  \n",
              "8                                 ['html', 'vue.js']  \n",
              "9    ['kubernetes', 'kubectl', 'kubernetes-secrets']  "
            ],
            "text/html": [
              "\n",
              "  <div id=\"df-5e6397e3-9984-460b-b205-4636d264783e\" class=\"colab-df-container\">\n",
              "    <div>\n",
              "<style scoped>\n",
              "    .dataframe tbody tr th:only-of-type {\n",
              "        vertical-align: middle;\n",
              "    }\n",
              "\n",
              "    .dataframe tbody tr th {\n",
              "        vertical-align: top;\n",
              "    }\n",
              "\n",
              "    .dataframe thead th {\n",
              "        text-align: right;\n",
              "    }\n",
              "</style>\n",
              "<table border=\"1\" class=\"dataframe\">\n",
              "  <thead>\n",
              "    <tr style=\"text-align: right;\">\n",
              "      <th></th>\n",
              "      <th>Title</th>\n",
              "      <th>URL</th>\n",
              "      <th>Question</th>\n",
              "      <th>Categories</th>\n",
              "    </tr>\n",
              "  </thead>\n",
              "  <tbody>\n",
              "    <tr>\n",
              "      <th>0</th>\n",
              "      <td>your browser version is not supported using sy...</td>\n",
              "      <td>https://stackoverflow.com/questions/76981459/y...</td>\n",
              "      <td>I'm trying to automate some features and I nee...</td>\n",
              "      <td>['php', 'symfony', 'web-scraping']</td>\n",
              "    </tr>\n",
              "    <tr>\n",
              "      <th>1</th>\n",
              "      <td>how to get button text value in java</td>\n",
              "      <td>https://stackoverflow.com/questions/76981456/h...</td>\n",
              "      <td>I want to get button text value to do the on c...</td>\n",
              "      <td>['java', 'button']</td>\n",
              "    </tr>\n",
              "    <tr>\n",
              "      <th>2</th>\n",
              "      <td>How to make sure communication is stable when ...</td>\n",
              "      <td>https://stackoverflow.com/questions/76981455/h...</td>\n",
              "      <td>This is my Node codeasync function runClient()...</td>\n",
              "      <td>['javascript', 'node.js', 'go', 'zeromq']</td>\n",
              "    </tr>\n",
              "    <tr>\n",
              "      <th>3</th>\n",
              "      <td>Cubical Agda Inclusion Order</td>\n",
              "      <td>https://stackoverflow.com/questions/76981453/c...</td>\n",
              "      <td>I'm almost finished defining an Inclusion Orde...</td>\n",
              "      <td>['agda']</td>\n",
              "    </tr>\n",
              "    <tr>\n",
              "      <th>4</th>\n",
              "      <td>How to convert depth map to image(.png) format...</td>\n",
              "      <td>https://stackoverflow.com/questions/76981450/h...</td>\n",
              "      <td>I am using a depth camera which captures a 500...</td>\n",
              "      <td>['3d', 'computer-vision', 'point-clouds', 'vis...</td>\n",
              "    </tr>\n",
              "    <tr>\n",
              "      <th>5</th>\n",
              "      <td>Spring Security for Mobile Application with 3r...</td>\n",
              "      <td>https://stackoverflow.com/questions/76981449/s...</td>\n",
              "      <td>I want to allow SSO (single sign-on) via Googl...</td>\n",
              "      <td>['java', 'spring', 'spring-security', 'oauth-2...</td>\n",
              "    </tr>\n",
              "    <tr>\n",
              "      <th>6</th>\n",
              "      <td>{C#, UNITY} Currently working on a flight scri...</td>\n",
              "      <td>https://stackoverflow.com/questions/76981448/c...</td>\n",
              "      <td>[EDIT ONE: THE FLIGHT CODE IS COMMENTED BECAUS...</td>\n",
              "      <td>['c#']</td>\n",
              "    </tr>\n",
              "    <tr>\n",
              "      <th>7</th>\n",
              "      <td>Overlay a transparent button over each radio o...</td>\n",
              "      <td>https://stackoverflow.com/questions/76981447/o...</td>\n",
              "      <td>I need to overlay a transparent button over ea...</td>\n",
              "      <td>['javascript', 'html', 'css']</td>\n",
              "    </tr>\n",
              "    <tr>\n",
              "      <th>8</th>\n",
              "      <td>Vue list scrolling will affect external scroll...</td>\n",
              "      <td>https://stackoverflow.com/questions/76981446/v...</td>\n",
              "      <td>By setting the height, the effect of scrolling...</td>\n",
              "      <td>['html', 'vue.js']</td>\n",
              "    </tr>\n",
              "    <tr>\n",
              "      <th>9</th>\n",
              "      <td>How to list all resource to secret mappings?</td>\n",
              "      <td>https://stackoverflow.com/questions/76981442/h...</td>\n",
              "      <td>I am looking for a kubectl command that will l...</td>\n",
              "      <td>['kubernetes', 'kubectl', 'kubernetes-secrets']</td>\n",
              "    </tr>\n",
              "  </tbody>\n",
              "</table>\n",
              "</div>\n",
              "    <div class=\"colab-df-buttons\">\n",
              "\n",
              "  <div class=\"colab-df-container\">\n",
              "    <button class=\"colab-df-convert\" onclick=\"convertToInteractive('df-5e6397e3-9984-460b-b205-4636d264783e')\"\n",
              "            title=\"Convert this dataframe to an interactive table.\"\n",
              "            style=\"display:none;\">\n",
              "\n",
              "  <svg xmlns=\"http://www.w3.org/2000/svg\" height=\"24px\" viewBox=\"0 -960 960 960\">\n",
              "    <path d=\"M120-120v-720h720v720H120Zm60-500h600v-160H180v160Zm220 220h160v-160H400v160Zm0 220h160v-160H400v160ZM180-400h160v-160H180v160Zm440 0h160v-160H620v160ZM180-180h160v-160H180v160Zm440 0h160v-160H620v160Z\"/>\n",
              "  </svg>\n",
              "    </button>\n",
              "\n",
              "  <style>\n",
              "    .colab-df-container {\n",
              "      display:flex;\n",
              "      gap: 12px;\n",
              "    }\n",
              "\n",
              "    .colab-df-convert {\n",
              "      background-color: #E8F0FE;\n",
              "      border: none;\n",
              "      border-radius: 50%;\n",
              "      cursor: pointer;\n",
              "      display: none;\n",
              "      fill: #1967D2;\n",
              "      height: 32px;\n",
              "      padding: 0 0 0 0;\n",
              "      width: 32px;\n",
              "    }\n",
              "\n",
              "    .colab-df-convert:hover {\n",
              "      background-color: #E2EBFA;\n",
              "      box-shadow: 0px 1px 2px rgba(60, 64, 67, 0.3), 0px 1px 3px 1px rgba(60, 64, 67, 0.15);\n",
              "      fill: #174EA6;\n",
              "    }\n",
              "\n",
              "    .colab-df-buttons div {\n",
              "      margin-bottom: 4px;\n",
              "    }\n",
              "\n",
              "    [theme=dark] .colab-df-convert {\n",
              "      background-color: #3B4455;\n",
              "      fill: #D2E3FC;\n",
              "    }\n",
              "\n",
              "    [theme=dark] .colab-df-convert:hover {\n",
              "      background-color: #434B5C;\n",
              "      box-shadow: 0px 1px 3px 1px rgba(0, 0, 0, 0.15);\n",
              "      filter: drop-shadow(0px 1px 2px rgba(0, 0, 0, 0.3));\n",
              "      fill: #FFFFFF;\n",
              "    }\n",
              "  </style>\n",
              "\n",
              "    <script>\n",
              "      const buttonEl =\n",
              "        document.querySelector('#df-5e6397e3-9984-460b-b205-4636d264783e button.colab-df-convert');\n",
              "      buttonEl.style.display =\n",
              "        google.colab.kernel.accessAllowed ? 'block' : 'none';\n",
              "\n",
              "      async function convertToInteractive(key) {\n",
              "        const element = document.querySelector('#df-5e6397e3-9984-460b-b205-4636d264783e');\n",
              "        const dataTable =\n",
              "          await google.colab.kernel.invokeFunction('convertToInteractive',\n",
              "                                                    [key], {});\n",
              "        if (!dataTable) return;\n",
              "\n",
              "        const docLinkHtml = 'Like what you see? Visit the ' +\n",
              "          '<a target=\"_blank\" href=https://colab.research.google.com/notebooks/data_table.ipynb>data table notebook</a>'\n",
              "          + ' to learn more about interactive tables.';\n",
              "        element.innerHTML = '';\n",
              "        dataTable['output_type'] = 'display_data';\n",
              "        await google.colab.output.renderOutput(dataTable, element);\n",
              "        const docLink = document.createElement('div');\n",
              "        docLink.innerHTML = docLinkHtml;\n",
              "        element.appendChild(docLink);\n",
              "      }\n",
              "    </script>\n",
              "  </div>\n",
              "\n",
              "\n",
              "    <div id=\"df-dd117f5b-cb9f-41bd-9f99-ef35d3bbec82\">\n",
              "      <button class=\"colab-df-quickchart\" onclick=\"quickchart('df-dd117f5b-cb9f-41bd-9f99-ef35d3bbec82')\"\n",
              "                title=\"Suggest charts\"\n",
              "                style=\"display:none;\">\n",
              "\n",
              "<svg xmlns=\"http://www.w3.org/2000/svg\" height=\"24px\"viewBox=\"0 0 24 24\"\n",
              "     width=\"24px\">\n",
              "    <g>\n",
              "        <path d=\"M19 3H5c-1.1 0-2 .9-2 2v14c0 1.1.9 2 2 2h14c1.1 0 2-.9 2-2V5c0-1.1-.9-2-2-2zM9 17H7v-7h2v7zm4 0h-2V7h2v10zm4 0h-2v-4h2v4z\"/>\n",
              "    </g>\n",
              "</svg>\n",
              "      </button>\n",
              "\n",
              "<style>\n",
              "  .colab-df-quickchart {\n",
              "      --bg-color: #E8F0FE;\n",
              "      --fill-color: #1967D2;\n",
              "      --hover-bg-color: #E2EBFA;\n",
              "      --hover-fill-color: #174EA6;\n",
              "      --disabled-fill-color: #AAA;\n",
              "      --disabled-bg-color: #DDD;\n",
              "  }\n",
              "\n",
              "  [theme=dark] .colab-df-quickchart {\n",
              "      --bg-color: #3B4455;\n",
              "      --fill-color: #D2E3FC;\n",
              "      --hover-bg-color: #434B5C;\n",
              "      --hover-fill-color: #FFFFFF;\n",
              "      --disabled-bg-color: #3B4455;\n",
              "      --disabled-fill-color: #666;\n",
              "  }\n",
              "\n",
              "  .colab-df-quickchart {\n",
              "    background-color: var(--bg-color);\n",
              "    border: none;\n",
              "    border-radius: 50%;\n",
              "    cursor: pointer;\n",
              "    display: none;\n",
              "    fill: var(--fill-color);\n",
              "    height: 32px;\n",
              "    padding: 0;\n",
              "    width: 32px;\n",
              "  }\n",
              "\n",
              "  .colab-df-quickchart:hover {\n",
              "    background-color: var(--hover-bg-color);\n",
              "    box-shadow: 0 1px 2px rgba(60, 64, 67, 0.3), 0 1px 3px 1px rgba(60, 64, 67, 0.15);\n",
              "    fill: var(--button-hover-fill-color);\n",
              "  }\n",
              "\n",
              "  .colab-df-quickchart-complete:disabled,\n",
              "  .colab-df-quickchart-complete:disabled:hover {\n",
              "    background-color: var(--disabled-bg-color);\n",
              "    fill: var(--disabled-fill-color);\n",
              "    box-shadow: none;\n",
              "  }\n",
              "\n",
              "  .colab-df-spinner {\n",
              "    border: 2px solid var(--fill-color);\n",
              "    border-color: transparent;\n",
              "    border-bottom-color: var(--fill-color);\n",
              "    animation:\n",
              "      spin 1s steps(1) infinite;\n",
              "  }\n",
              "\n",
              "  @keyframes spin {\n",
              "    0% {\n",
              "      border-color: transparent;\n",
              "      border-bottom-color: var(--fill-color);\n",
              "      border-left-color: var(--fill-color);\n",
              "    }\n",
              "    20% {\n",
              "      border-color: transparent;\n",
              "      border-left-color: var(--fill-color);\n",
              "      border-top-color: var(--fill-color);\n",
              "    }\n",
              "    30% {\n",
              "      border-color: transparent;\n",
              "      border-left-color: var(--fill-color);\n",
              "      border-top-color: var(--fill-color);\n",
              "      border-right-color: var(--fill-color);\n",
              "    }\n",
              "    40% {\n",
              "      border-color: transparent;\n",
              "      border-right-color: var(--fill-color);\n",
              "      border-top-color: var(--fill-color);\n",
              "    }\n",
              "    60% {\n",
              "      border-color: transparent;\n",
              "      border-right-color: var(--fill-color);\n",
              "    }\n",
              "    80% {\n",
              "      border-color: transparent;\n",
              "      border-right-color: var(--fill-color);\n",
              "      border-bottom-color: var(--fill-color);\n",
              "    }\n",
              "    90% {\n",
              "      border-color: transparent;\n",
              "      border-bottom-color: var(--fill-color);\n",
              "    }\n",
              "  }\n",
              "</style>\n",
              "\n",
              "      <script>\n",
              "        async function quickchart(key) {\n",
              "          const quickchartButtonEl =\n",
              "            document.querySelector('#' + key + ' button');\n",
              "          quickchartButtonEl.disabled = true;  // To prevent multiple clicks.\n",
              "          quickchartButtonEl.classList.add('colab-df-spinner');\n",
              "          try {\n",
              "            const charts = await google.colab.kernel.invokeFunction(\n",
              "                'suggestCharts', [key], {});\n",
              "          } catch (error) {\n",
              "            console.error('Error during call to suggestCharts:', error);\n",
              "          }\n",
              "          quickchartButtonEl.classList.remove('colab-df-spinner');\n",
              "          quickchartButtonEl.classList.add('colab-df-quickchart-complete');\n",
              "        }\n",
              "        (() => {\n",
              "          let quickchartButtonEl =\n",
              "            document.querySelector('#df-dd117f5b-cb9f-41bd-9f99-ef35d3bbec82 button');\n",
              "          quickchartButtonEl.style.display =\n",
              "            google.colab.kernel.accessAllowed ? 'block' : 'none';\n",
              "        })();\n",
              "      </script>\n",
              "    </div>\n",
              "    </div>\n",
              "  </div>\n"
            ],
            "application/vnd.google.colaboratory.intrinsic+json": {
              "type": "dataframe",
              "variable_name": "stckover_df",
              "summary": "{\n  \"name\": \"stckover_df\",\n  \"rows\": 22123,\n  \"fields\": [\n    {\n      \"column\": \"Title\",\n      \"properties\": {\n        \"dtype\": \"string\",\n        \"num_unique_values\": 22122,\n        \"samples\": [\n          \"How can I record and replay MongoDB requests?\",\n          \"Dataflow Flex template while running throwing error for all default parameters\",\n          \"Trying to use multiple alias to create a new column [duplicate]\"\n        ],\n        \"semantic_type\": \"\",\n        \"description\": \"\"\n      }\n    },\n    {\n      \"column\": \"URL\",\n      \"properties\": {\n        \"dtype\": \"string\",\n        \"num_unique_values\": 22123,\n        \"samples\": [\n          \"https://stackoverflow.com/questions/76975806/how-can-i-record-and-replay-mongodb-requests\",\n          \"https://stackoverflow.com/questions/76940189/dataflow-flex-template-while-running-throwing-error-for-all-default-parameters\",\n          \"https://stackoverflow.com/questions/76950125/trying-to-use-multiple-alias-to-create-a-new-column\"\n        ],\n        \"semantic_type\": \"\",\n        \"description\": \"\"\n      }\n    },\n    {\n      \"column\": \"Question\",\n      \"properties\": {\n        \"dtype\": \"string\",\n        \"num_unique_values\": 22083,\n        \"samples\": [\n          \"I'm using QgsQuick in one of my development projects.I use QGIS Desktop to setup my map environment(.qgs file). When running my project using QgsQuick, it seems that the raster image layers are always rendered on top of the vector layers. Even though I've set the rendering order in QGIS Desktop so that the vector layers should show on top.Has anyone had this issue?I've seen this issue with qgis 3.4.4 and version 3.22. Same issue on Windows and Linux.Is the QgsQuick tool still being maintained by QGIS?Do anyone know if the QgsQuick qml tool is widely used?I've tried it on windows and Linux.When opening my development project without making use of the QgsQuick, It runs correctly.Any help would be appreciated.Pieter\",\n          \"I am working on an Orbeon form where the user needs to confirm the values of some input fields before being allowed to send in the form. The confirmation uses single checkboxes to allow different error messages.The number formatting throughout the form is with comma as decimal separator and point as thousands separator.Now, when I add the needed cell names as template parameters to a label to a single checkbox, the number from the cell is shown with point as decimal separator and no thousands separator, even though it is shown correctly in the original field and in the pdf?So, how can I change this formatting of the number in a template parameter?I tried format-number(//cell,\\\"99.999,00\\\") in the template parameter.I also tried converting the number to a string and replace the point with a comma. It just seems like there must be a simpler solution\",\n          \"Closed. This question is not written in English. It is not currently accepting answers.Stack Overflow is an English-only site. The author must be able to communicate in English to understand and engage with any comments and/or answers their question receives. Don't translate this post for the author; machine translations can be inaccurate, and even human translations can alter the intended meaning of the post.Closed 16 hours ago.Improve this questionSalut, j'utilise GPT-4 et depuis 4 jours voici le probl\\u00e8me que je rencontre:Erreur d'application : une exception c\\u00f4t\\u00e9 client s'est produite (voir la console du navigateur pour plus d'informations)en consultant la console de mon navigateur qui est google chrome, voici les premi\\u00e8res lignes d'erreur qui s'affichent :\\\"general.js:102 Only one LaunchDarklyClient can exist at a time, but another client already exists. This probably means something has gone wrong with our DI system, or we're using it incorrectly. d @ general.js:102 Show 1 more frame Show less 24_app-ddf4d3f1671bd1f5.js:28 DOMException: Failed to execute 'insertBefore' on 'Node': The node before which the new node is to be inserted is not a child of this node. at e (https://chat.openai.com/_next/static/chunks/framework-10a404587b40544b.js:9:89708)\\\"que faire dans ce cas?j'ai tout essay\\u00e9 rien a abouti. aidez moi \\u00e0 r\\u00e9soudre ce probl\\u00e8me\"\n        ],\n        \"semantic_type\": \"\",\n        \"description\": \"\"\n      }\n    },\n    {\n      \"column\": \"Categories\",\n      \"properties\": {\n        \"dtype\": \"string\",\n        \"num_unique_values\": 18106,\n        \"samples\": [\n          \"['java', 'elasticsearch']\",\n          \"['css', 'msbuild', 'blazor', 'isolation']\",\n          \"['powershell', 'go', 'exec']\"\n        ],\n        \"semantic_type\": \"\",\n        \"description\": \"\"\n      }\n    }\n  ]\n}"
            }
          },
          "metadata": {},
          "execution_count": 2
        }
      ]
    },
    {
      "cell_type": "code",
      "source": [
        "model = SentenceTransformer(\"all-MiniLM-L6-v2\")\n",
        "\n",
        "\n",
        "sentences = list(stckover_df.Question)\n",
        "\n",
        "embeddings = model.encode(sentences)\n",
        "embeddings.shape"
      ],
      "metadata": {
        "colab": {
          "base_uri": "https://localhost:8080/",
          "height": 550,
          "referenced_widgets": [
            "4a43a455075b4f30be91f1151d735c55",
            "30fbdb2a9fb24293bf592da53666cbed",
            "8c60b8d7e8cd4aab895914ae8122e82b",
            "6c5c2c6f060f4749adec904822fce6d7",
            "e98c1d294b374b35a8e0514307a90273",
            "013f0bb770ec4f87a9b2b0019580f0ab",
            "98c943dc8fc447a5a76ee611065b1da4",
            "ed51a3a245e540a2a8e1c6a13b1e9f2c",
            "e40d662af1bc410e8abd5a8c3604b0d9",
            "9207222ca7bf4a01bfd098d6b3f8f8da",
            "361e742a9d8a45d690644f2c5f1cbad6",
            "a46cd198faa540978411606c917d398f",
            "7e869952743c4e2fb2422ddf846aabe3",
            "93164e8092af425bbe1566322f040a3b",
            "125bc448602849ffaed79c64e1180a66",
            "a9128eb8c3dc4e9887b6dd99f0cf37d6",
            "8345dda67a9a425ba14f90c87f2b28ca",
            "fbaaa74e8fe54169bd844c2a320f7b1b",
            "5d875a8c053a4f89b25ae266e1d5d46d",
            "30d40b2fcd144b6e97e27ff439d7a174",
            "335807997f2549f79fb4cc4944b036e4",
            "c5a47bad01734a28b7f49ed93a0f2ee8",
            "db993d34b49e46f1ac0989bbf0e0e9ca",
            "94496269bb654e44a4869cb0f33d729f",
            "1d98b137e7fc4ca5ad67b9791d6fd485",
            "dbe0042decd84e3d9799c439d38f92f8",
            "cc021bc632e641359dd6eee799f1dde3",
            "167adf5b19944a648660f682d39d83d7",
            "4519dbd63cc7470aa102c25ed3a47528",
            "6e80d54845b94ffd82aa8477fc420504",
            "45efda4b57044352bfc681e51a2de860",
            "aa328b77821b4fe7a89a8379a15081b2",
            "5e1ab60d209e4935a97f0094212a23df",
            "3932a3a0304647f6a53088a1d372f01c",
            "85712003316c45b2a1083e99b4517afe",
            "d561927e0a364073ac39d67b52daba4d",
            "0398c3eaf071487fa9d694c3f51d521a",
            "cbb4ddb321ca480bbfccab76f0e46c9c",
            "8ce093f4662a463b9bfbf7ade978dc23",
            "ff4f753b20bd427184296acbd5d398f6",
            "b059ca2c2c30430c97e9fb90816e00f5",
            "5de8584c0bfb49ad8fd91e8068a80f49",
            "a5b02fdc41f5471b8c0902004d59739e",
            "03b59eb1714a496ba2d4a0b8d3ba6303",
            "200adbc99b9246149d0a06cf700fc806",
            "8e45c34d9a8545d4b5af2b7b17b7908e",
            "107b4fbc76cd4cd3bacef34845606fb2",
            "2e14097dd3384f668135ac2694454364",
            "59d7beda4f93465688bef48edce5da8c",
            "cb21621fc956402099fb497f0b2b9761",
            "f8eca568bb4747b68eec39bf1c38285d",
            "027a12a678d043a787a396cf54a07b7d",
            "bf833f9831724936a21587b242f7877e",
            "46905b62671d41919bbfa2f6d0b2f130",
            "face87172938460dac2508a9db8237b1",
            "31c792789d804edbb64f5647fe04d4e1",
            "84139d48bd21445e82a524d82cc59d52",
            "08f622d8fe134fb281c48191322b2d80",
            "aa91c74e6abd415c91bf3082636d321a",
            "e02f7566f5c34b83af5b792644acd803",
            "439caff7053e40fa8501d033d11e3770",
            "e1fa67f5a7f1470f874a9f25676a5b1c",
            "38dc61eb08a24f7fb076f4c4f3a769b1",
            "f76c95a5b5064e83af59e0c50954c39f",
            "84d8f95673a043b698a949b61aba1fad",
            "d27a1312b5b646169507cb27da26311a",
            "6e1c390b902b43d79b461e680e386cd0",
            "5b3f02afe02a41febc774fe5e47c3d71",
            "a0d77b46108e4403915ef2c5e102edc7",
            "635bbd703c0e4969b0683295d8ed3ad2",
            "0d42b97a950249bc8a9a431052638565",
            "a9370810633c4dab8cf95da7b12f7b45",
            "83cd0a3825f24d4eb6b0100d0b53b1bb",
            "82d0bf88231048eca19338b850784535",
            "cac1ae7fcf8f40a2b2511125c6d262ab",
            "7c6daa6db9b845c5877d16039656b0de",
            "b8ece5bbba064c20942ca7bc63277553",
            "85066427f46d489d8b53d9912faca98b",
            "2e20d24c88bc47ab9ac929f5398aec99",
            "cdd7e56f15c541fea4431d3cfdc9ba60",
            "011661e33e0345618076470e3d8bbae9",
            "fd5d0e3558354424a31d247e74df5395",
            "c6a8cee679c74dd4bf13f1bacc880d19",
            "841ed3e298e740d99859138c0ffc7e5c",
            "2319a38934744e84959458f5970882b2",
            "1f3cf0eea7d64f2791397671548d239d",
            "f2d491f7f4d44b75b91d6e6f27ee1ad4",
            "139d0517a66e45fb987481afc9a7d6f8",
            "0677e3eef3884e3e9f4a7345afb2fc8a",
            "c1cc9e32a9974441a2f4b5d0af72fe9a",
            "10bd8897fa08455f9db48ffa93860293",
            "e35ffd1b9bc2424cb600a1520dd39710",
            "8311356d6b554bcaab83453ad4524e84",
            "f79e795e87b844a694b887d3073d835e",
            "bffb7d748188477586e52a151642699e",
            "f9a401bf9e424255b5316bafe77905c5",
            "42dcfac214f74a4bb86dcc68aae27703",
            "16b1255f5d214e24be2dbe8de5464798",
            "2b0a53d672114956b9afeb8f1be3324e",
            "4c7a2f6c32fd41e598a280520f9fbfaa",
            "f2d3f5763e0249768ecbfe41f8941e72",
            "ba10e559053e43bb8240e715f30ac3ee",
            "68607ea1f29b40288fe399c800ef7397",
            "942267bf60ef425687d32ab6e4ca4974",
            "9b97245b703f4727bccd03a8aa675081",
            "8e97da05e85c4707871430bd9e656dd7",
            "898ce0afede44955ab0f4c7d483beb3d",
            "26b2d3fdbe0a4f6fb48f747fcea008b1",
            "34a68c69589e48bb9867938c0552ddf4",
            "91c28a563c324f6a95cefcc5d34c1dde",
            "e44a5cf6f8f140baa15169dbe09e6cb4",
            "c2c306e76e3247e095ca528932019f88",
            "bf7fa1d1a80b40bcaec0186b65854b04",
            "902122bd1a3f4ad194d872bd82b3fec1",
            "948c31faf01f41b6ab9c85d848f68dda",
            "2f5ed4bbe87843a3be061ec24dee3a25",
            "5bdb337dbe414993ae926e44abbbcea9",
            "2c7d32f82e4f4006b5e6b360119a3a2e",
            "1f230b0dd83f42ecb45a1e994d9c538f",
            "ae11642fd11d48e0b91e4d5c32259312",
            "a0b186f0d5bf400fa1e9f5523a4f73f3"
          ]
        },
        "id": "rG80LdcWLwu1",
        "outputId": "0586f075-2f36-4433-a194-c2c220d21b63"
      },
      "execution_count": null,
      "outputs": [
        {
          "output_type": "stream",
          "name": "stderr",
          "text": [
            "/usr/local/lib/python3.11/dist-packages/huggingface_hub/utils/_auth.py:94: UserWarning: \n",
            "The secret `HF_TOKEN` does not exist in your Colab secrets.\n",
            "To authenticate with the Hugging Face Hub, create a token in your settings tab (https://huggingface.co/settings/tokens), set it as secret in your Google Colab and restart your session.\n",
            "You will be able to reuse this secret in all of your notebooks.\n",
            "Please note that authentication is recommended but still optional to access public models or datasets.\n",
            "  warnings.warn(\n"
          ]
        },
        {
          "output_type": "display_data",
          "data": {
            "text/plain": [
              "modules.json:   0%|          | 0.00/349 [00:00<?, ?B/s]"
            ],
            "application/vnd.jupyter.widget-view+json": {
              "version_major": 2,
              "version_minor": 0,
              "model_id": "4a43a455075b4f30be91f1151d735c55"
            }
          },
          "metadata": {}
        },
        {
          "output_type": "display_data",
          "data": {
            "text/plain": [
              "config_sentence_transformers.json:   0%|          | 0.00/116 [00:00<?, ?B/s]"
            ],
            "application/vnd.jupyter.widget-view+json": {
              "version_major": 2,
              "version_minor": 0,
              "model_id": "a46cd198faa540978411606c917d398f"
            }
          },
          "metadata": {}
        },
        {
          "output_type": "display_data",
          "data": {
            "text/plain": [
              "README.md:   0%|          | 0.00/10.5k [00:00<?, ?B/s]"
            ],
            "application/vnd.jupyter.widget-view+json": {
              "version_major": 2,
              "version_minor": 0,
              "model_id": "db993d34b49e46f1ac0989bbf0e0e9ca"
            }
          },
          "metadata": {}
        },
        {
          "output_type": "display_data",
          "data": {
            "text/plain": [
              "sentence_bert_config.json:   0%|          | 0.00/53.0 [00:00<?, ?B/s]"
            ],
            "application/vnd.jupyter.widget-view+json": {
              "version_major": 2,
              "version_minor": 0,
              "model_id": "3932a3a0304647f6a53088a1d372f01c"
            }
          },
          "metadata": {}
        },
        {
          "output_type": "display_data",
          "data": {
            "text/plain": [
              "config.json:   0%|          | 0.00/612 [00:00<?, ?B/s]"
            ],
            "application/vnd.jupyter.widget-view+json": {
              "version_major": 2,
              "version_minor": 0,
              "model_id": "200adbc99b9246149d0a06cf700fc806"
            }
          },
          "metadata": {}
        },
        {
          "output_type": "stream",
          "name": "stderr",
          "text": [
            "Xet Storage is enabled for this repo, but the 'hf_xet' package is not installed. Falling back to regular HTTP download. For better performance, install the package with: `pip install huggingface_hub[hf_xet]` or `pip install hf_xet`\n",
            "WARNING:huggingface_hub.file_download:Xet Storage is enabled for this repo, but the 'hf_xet' package is not installed. Falling back to regular HTTP download. For better performance, install the package with: `pip install huggingface_hub[hf_xet]` or `pip install hf_xet`\n"
          ]
        },
        {
          "output_type": "display_data",
          "data": {
            "text/plain": [
              "model.safetensors:   0%|          | 0.00/90.9M [00:00<?, ?B/s]"
            ],
            "application/vnd.jupyter.widget-view+json": {
              "version_major": 2,
              "version_minor": 0,
              "model_id": "31c792789d804edbb64f5647fe04d4e1"
            }
          },
          "metadata": {}
        },
        {
          "output_type": "display_data",
          "data": {
            "text/plain": [
              "tokenizer_config.json:   0%|          | 0.00/350 [00:00<?, ?B/s]"
            ],
            "application/vnd.jupyter.widget-view+json": {
              "version_major": 2,
              "version_minor": 0,
              "model_id": "6e1c390b902b43d79b461e680e386cd0"
            }
          },
          "metadata": {}
        },
        {
          "output_type": "display_data",
          "data": {
            "text/plain": [
              "vocab.txt:   0%|          | 0.00/232k [00:00<?, ?B/s]"
            ],
            "application/vnd.jupyter.widget-view+json": {
              "version_major": 2,
              "version_minor": 0,
              "model_id": "85066427f46d489d8b53d9912faca98b"
            }
          },
          "metadata": {}
        },
        {
          "output_type": "display_data",
          "data": {
            "text/plain": [
              "tokenizer.json:   0%|          | 0.00/466k [00:00<?, ?B/s]"
            ],
            "application/vnd.jupyter.widget-view+json": {
              "version_major": 2,
              "version_minor": 0,
              "model_id": "0677e3eef3884e3e9f4a7345afb2fc8a"
            }
          },
          "metadata": {}
        },
        {
          "output_type": "display_data",
          "data": {
            "text/plain": [
              "special_tokens_map.json:   0%|          | 0.00/112 [00:00<?, ?B/s]"
            ],
            "application/vnd.jupyter.widget-view+json": {
              "version_major": 2,
              "version_minor": 0,
              "model_id": "4c7a2f6c32fd41e598a280520f9fbfaa"
            }
          },
          "metadata": {}
        },
        {
          "output_type": "display_data",
          "data": {
            "text/plain": [
              "config.json:   0%|          | 0.00/190 [00:00<?, ?B/s]"
            ],
            "application/vnd.jupyter.widget-view+json": {
              "version_major": 2,
              "version_minor": 0,
              "model_id": "e44a5cf6f8f140baa15169dbe09e6cb4"
            }
          },
          "metadata": {}
        },
        {
          "output_type": "execute_result",
          "data": {
            "text/plain": [
              "(22123, 384)"
            ]
          },
          "metadata": {},
          "execution_count": 3
        }
      ]
    },
    {
      "cell_type": "code",
      "source": [
        "# сделаем все равно pca\n",
        "pca_sent_trans = get_pca_results(embeddings, 50)"
      ],
      "metadata": {
        "id": "x-eakaThO_Qi"
      },
      "execution_count": null,
      "outputs": []
    },
    {
      "cell_type": "code",
      "source": [
        "inertia, silhouette = eval_clusters(pca_sent_trans)"
      ],
      "metadata": {
        "colab": {
          "base_uri": "https://localhost:8080/"
        },
        "id": "vB8qRPdMPYzD",
        "outputId": "5803d93d-f065-4eeb-8ce2-54d2dc31f595"
      },
      "execution_count": null,
      "outputs": [
        {
          "output_type": "stream",
          "name": "stderr",
          "text": [
            "100%|██████████| 18/18 [03:11<00:00, 10.65s/it]\n"
          ]
        }
      ]
    },
    {
      "cell_type": "code",
      "source": [
        "plot_metrics(inertia, silhouette)"
      ],
      "metadata": {
        "colab": {
          "base_uri": "https://localhost:8080/",
          "height": 419
        },
        "id": "6Avb-YynPykn",
        "outputId": "7f104d41-19d8-4e08-f786-dc4d0198d13f"
      },
      "execution_count": null,
      "outputs": [
        {
          "output_type": "display_data",
          "data": {
            "text/plain": [
              "<Figure size 1000x400 with 2 Axes>"
            ],
            "image/png": "[encoded data removed]"
          },
          "metadata": {}
        }
      ]
    },
    {
      "cell_type": "code",
      "source": [
        "# делаем на двух\n",
        "kmeans_st = cluster.KMeans(n_clusters=2,\n",
        "                           random_state=17,\n",
        "                           init='k-means++')\n",
        "\n",
        "kmeans_st_labels = kmeans_st.fit_predict(embeddings)\n",
        "\n",
        "display(pd.Series(kmeans_st_labels).value_counts())"
      ],
      "metadata": {
        "colab": {
          "base_uri": "https://localhost:8080/",
          "height": 146
        },
        "id": "tFPlm8dLRUnd",
        "outputId": "6001d423-bd0b-41ed-b9d5-540395aefa6b"
      },
      "execution_count": null,
      "outputs": [
        {
          "output_type": "display_data",
          "data": {
            "text/plain": [
              "1    11518\n",
              "0    10605\n",
              "Name: count, dtype: int64"
            ],
            "text/html": [
              "<div>\n",
              "<style scoped>\n",
              "    .dataframe tbody tr th:only-of-type {\n",
              "        vertical-align: middle;\n",
              "    }\n",
              "\n",
              "    .dataframe tbody tr th {\n",
              "        vertical-align: top;\n",
              "    }\n",
              "\n",
              "    .dataframe thead th {\n",
              "        text-align: right;\n",
              "    }\n",
              "</style>\n",
              "<table border=\"1\" class=\"dataframe\">\n",
              "  <thead>\n",
              "    <tr style=\"text-align: right;\">\n",
              "      <th></th>\n",
              "      <th>count</th>\n",
              "    </tr>\n",
              "  </thead>\n",
              "  <tbody>\n",
              "    <tr>\n",
              "      <th>1</th>\n",
              "      <td>11518</td>\n",
              "    </tr>\n",
              "    <tr>\n",
              "      <th>0</th>\n",
              "      <td>10605</td>\n",
              "    </tr>\n",
              "  </tbody>\n",
              "</table>\n",
              "</div><br><label><b>dtype:</b> int64</label>"
            ]
          },
          "metadata": {}
        }
      ]
    },
    {
      "cell_type": "markdown",
      "source": [
        "С каждым разом все лучше и лучше в плане сбалансированности!"
      ],
      "metadata": {
        "id": "C5sdBRZURrgj"
      }
    },
    {
      "cell_type": "code",
      "source": [
        "get_nearest_texts(kmeans_st, embeddings)"
      ],
      "metadata": {
        "colab": {
          "base_uri": "https://localhost:8080/"
        },
        "id": "gF7zRRRmRvs2",
        "outputId": "7fe8623b-236c-4f05-b7c0-3199f82d478b"
      },
      "execution_count": null,
      "outputs": [
        {
          "output_type": "stream",
          "name": "stdout",
          "text": [
            "Кластер 0: ближайший текст - I have a web app built using Next.js version 13.4.13, that's hosted on AWS amplify.My first deployment had no issues and my web app functioned correctly. But when I tried to make changes and re-deploy the app, I got the below error,[WARNING]: Error occurred prerendering page \"/500\". Read more: https://nextjs.org/docs/messages/prerender-error TypeError: Cannot read properties of null (reading 'useContext') I am using the latest app router and I do not have a custom error page.But I when I delete my AWS amplify app, and then create a new app and then perform a new deployment, then it works fine.I'm not using useContext in my code. I'm using only useState (which has no error reported).My app file directory is as follows,appgloball.csslayout.tsxpage.tsxAnd my page.tsx contents is as follows,import Company from \"@/sections/Company\";import {  Mission,  Services,  Team,  Hero,  Navbar,  Details,  Footer,} from \"../sections\";const Page = () => (  <div className=\"bg-primary-black overflow-hidden\">    <Navbar />    <Hero />    <div className=\"relative\">      <Mission />      <div className=\"gradient-03\"></div>      <Details />      <div className=\"gradient-04\"></div>      <Services />      <div className=\"gradient-06\"></div>    </div>    <div className=\"relative\">      <div className=\"gradient-left\"></div>      <Team />      <div className=\"gradient-right\"></div>      <Company />    </div>    <Footer />  </div>);export default Page;Anyone has any idea what's the issue?...\n",
            "Кластер 1: ближайший текст - Closed. This question needs to be more focused. It is not currently accepting answers.Want to improve this question? Update the question so it focuses on one problem only by editing this post.Closed 5 days ago.Improve this questionThe data looks as follows:> head(blup3,3)                                effect solution std.error   z.ratio1 loc_ICT0372B:vm(cloneid, Ainv)_G0010  0.44097    1.5849  0.2782362 loc_ICT0372B:vm(cloneid, Ainv)_G0015  0.10536    1.6684  0.0631493 loc_ICT0372B:vm(cloneid, Ainv)_G0035  0.34446    1.6490  0.208883Questions:I would like to keep the rows in the \"effect\" column that have the \"vm(cloneid, Ainv)\" string.Create a new variable that includes values between \"_\" and \":\" in the \"effect\" column. For example, keeping the text ICT0372BCreate another new variable that only includes the string after \")_\" in the \"effect\" column. For example, G0010.I tried the following code but...blup3 <- as.data.frame(summary(fit3,coef=TRUE)$coef.random) %>% tibble::rownames_to_column(var = \"effect\") %>% filter(grepl(\"vm(cloneid, Ainv)$\", effect))Unfortunately the \"filter()\" part did not work and I could not work on questions 2 and 3....\n"
          ]
        }
      ]
    },
    {
      "cell_type": "markdown",
      "source": [
        "## BERT-topic"
      ],
      "metadata": {
        "id": "gw7BAKO7HytJ"
      }
    },
    {
      "cell_type": "code",
      "source": [
        "!pip install bertopic"
      ],
      "metadata": {
        "id": "9J_-qB_jUofm",
        "colab": {
          "base_uri": "https://localhost:8080/",
          "height": 1000
        },
        "outputId": "432fde9c-ed70-45d7-8299-1894056c2750"
      },
      "execution_count": null,
      "outputs": [
        {
          "output_type": "stream",
          "name": "stdout",
          "text": [
            "Collecting bertopic\n",
            "  Downloading bertopic-0.17.0-py3-none-any.whl.metadata (23 kB)\n",
            "Requirement already satisfied: hdbscan>=0.8.29 in /usr/local/lib/python3.11/dist-packages (from bertopic) (0.8.40)\n",
            "Requirement already satisfied: numpy>=1.20.0 in /usr/local/lib/python3.11/dist-packages (from bertopic) (2.0.2)\n",
            "Requirement already satisfied: pandas>=1.1.5 in /usr/local/lib/python3.11/dist-packages (from bertopic) (2.2.2)\n",
            "Requirement already satisfied: plotly>=4.7.0 in /usr/local/lib/python3.11/dist-packages (from bertopic) (5.24.1)\n",
            "Requirement already satisfied: scikit-learn>=1.0 in /usr/local/lib/python3.11/dist-packages (from bertopic) (1.6.1)\n",
            "Requirement already satisfied: sentence-transformers>=0.4.1 in /usr/local/lib/python3.11/dist-packages (from bertopic) (4.1.0)\n",
            "Requirement already satisfied: tqdm>=4.41.1 in /usr/local/lib/python3.11/dist-packages (from bertopic) (4.67.1)\n",
            "Requirement already satisfied: umap-learn>=0.5.0 in /usr/local/lib/python3.11/dist-packages (from bertopic) (0.5.7)\n",
            "Requirement already satisfied: scipy>=1.0 in /usr/local/lib/python3.11/dist-packages (from hdbscan>=0.8.29->bertopic) (1.15.3)\n",
            "Requirement already satisfied: joblib>=1.0 in /usr/local/lib/python3.11/dist-packages (from hdbscan>=0.8.29->bertopic) (1.5.0)\n",
            "Requirement already satisfied: python-dateutil>=2.8.2 in /usr/local/lib/python3.11/dist-packages (from pandas>=1.1.5->bertopic) (2.9.0.post0)\n",
            "Requirement already satisfied: pytz>=2020.1 in /usr/local/lib/python3.11/dist-packages (from pandas>=1.1.5->bertopic) (2025.2)\n",
            "Requirement already satisfied: tzdata>=2022.7 in /usr/local/lib/python3.11/dist-packages (from pandas>=1.1.5->bertopic) (2025.2)\n",
            "Requirement already satisfied: tenacity>=6.2.0 in /usr/local/lib/python3.11/dist-packages (from plotly>=4.7.0->bertopic) (9.1.2)\n",
            "Requirement already satisfied: packaging in /usr/local/lib/python3.11/dist-packages (from plotly>=4.7.0->bertopic) (24.2)\n",
            "Requirement already satisfied: threadpoolctl>=3.1.0 in /usr/local/lib/python3.11/dist-packages (from scikit-learn>=1.0->bertopic) (3.6.0)\n",
            "Requirement already satisfied: transformers<5.0.0,>=4.41.0 in /usr/local/lib/python3.11/dist-packages (from sentence-transformers>=0.4.1->bertopic) (4.51.3)\n",
            "Requirement already satisfied: torch>=1.11.0 in /usr/local/lib/python3.11/dist-packages (from sentence-transformers>=0.4.1->bertopic) (2.6.0+cu124)\n",
            "Requirement already satisfied: huggingface-hub>=0.20.0 in /usr/local/lib/python3.11/dist-packages (from sentence-transformers>=0.4.1->bertopic) (0.31.2)\n",
            "Requirement already satisfied: Pillow in /usr/local/lib/python3.11/dist-packages (from sentence-transformers>=0.4.1->bertopic) (11.2.1)\n",
            "Requirement already satisfied: typing_extensions>=4.5.0 in /usr/local/lib/python3.11/dist-packages (from sentence-transformers>=0.4.1->bertopic) (4.13.2)\n",
            "Requirement already satisfied: numba>=0.51.2 in /usr/local/lib/python3.11/dist-packages (from umap-learn>=0.5.0->bertopic) (0.60.0)\n",
            "Requirement already satisfied: pynndescent>=0.5 in /usr/local/lib/python3.11/dist-packages (from umap-learn>=0.5.0->bertopic) (0.5.13)\n",
            "Requirement already satisfied: filelock in /usr/local/lib/python3.11/dist-packages (from huggingface-hub>=0.20.0->sentence-transformers>=0.4.1->bertopic) (3.18.0)\n",
            "Requirement already satisfied: fsspec>=2023.5.0 in /usr/local/lib/python3.11/dist-packages (from huggingface-hub>=0.20.0->sentence-transformers>=0.4.1->bertopic) (2025.3.2)\n",
            "Requirement already satisfied: pyyaml>=5.1 in /usr/local/lib/python3.11/dist-packages (from huggingface-hub>=0.20.0->sentence-transformers>=0.4.1->bertopic) (6.0.2)\n",
            "Requirement already satisfied: requests in /usr/local/lib/python3.11/dist-packages (from huggingface-hub>=0.20.0->sentence-transformers>=0.4.1->bertopic) (2.32.3)\n",
            "Requirement already satisfied: llvmlite<0.44,>=0.43.0dev0 in /usr/local/lib/python3.11/dist-packages (from numba>=0.51.2->umap-learn>=0.5.0->bertopic) (0.43.0)\n",
            "Requirement already satisfied: six>=1.5 in /usr/local/lib/python3.11/dist-packages (from python-dateutil>=2.8.2->pandas>=1.1.5->bertopic) (1.17.0)\n",
            "Requirement already satisfied: networkx in /usr/local/lib/python3.11/dist-packages (from torch>=1.11.0->sentence-transformers>=0.4.1->bertopic) (3.4.2)\n",
            "Requirement already satisfied: jinja2 in /usr/local/lib/python3.11/dist-packages (from torch>=1.11.0->sentence-transformers>=0.4.1->bertopic) (3.1.6)\n",
            "Collecting nvidia-cuda-nvrtc-cu12==12.4.127 (from torch>=1.11.0->sentence-transformers>=0.4.1->bertopic)\n",
            "  Downloading nvidia_cuda_nvrtc_cu12-12.4.127-py3-none-manylinux2014_x86_64.whl.metadata (1.5 kB)\n",
            "Collecting nvidia-cuda-runtime-cu12==12.4.127 (from torch>=1.11.0->sentence-transformers>=0.4.1->bertopic)\n",
            "  Downloading nvidia_cuda_runtime_cu12-12.4.127-py3-none-manylinux2014_x86_64.whl.metadata (1.5 kB)\n",
            "Collecting nvidia-cuda-cupti-cu12==12.4.127 (from torch>=1.11.0->sentence-transformers>=0.4.1->bertopic)\n",
            "  Downloading nvidia_cuda_cupti_cu12-12.4.127-py3-none-manylinux2014_x86_64.whl.metadata (1.6 kB)\n",
            "Collecting nvidia-cudnn-cu12==9.1.0.70 (from torch>=1.11.0->sentence-transformers>=0.4.1->bertopic)\n",
            "  Downloading nvidia_cudnn_cu12-9.1.0.70-py3-none-manylinux2014_x86_64.whl.metadata (1.6 kB)\n",
            "Collecting nvidia-cublas-cu12==12.4.5.8 (from torch>=1.11.0->sentence-transformers>=0.4.1->bertopic)\n",
            "  Downloading nvidia_cublas_cu12-12.4.5.8-py3-none-manylinux2014_x86_64.whl.metadata (1.5 kB)\n",
            "Collecting nvidia-cufft-cu12==11.2.1.3 (from torch>=1.11.0->sentence-transformers>=0.4.1->bertopic)\n",
            "  Downloading nvidia_cufft_cu12-11.2.1.3-py3-none-manylinux2014_x86_64.whl.metadata (1.5 kB)\n",
            "Collecting nvidia-curand-cu12==10.3.5.147 (from torch>=1.11.0->sentence-transformers>=0.4.1->bertopic)\n",
            "  Downloading nvidia_curand_cu12-10.3.5.147-py3-none-manylinux2014_x86_64.whl.metadata (1.5 kB)\n",
            "Collecting nvidia-cusolver-cu12==11.6.1.9 (from torch>=1.11.0->sentence-transformers>=0.4.1->bertopic)\n",
            "  Downloading nvidia_cusolver_cu12-11.6.1.9-py3-none-manylinux2014_x86_64.whl.metadata (1.6 kB)\n",
            "Collecting nvidia-cusparse-cu12==12.3.1.170 (from torch>=1.11.0->sentence-transformers>=0.4.1->bertopic)\n",
            "  Downloading nvidia_cusparse_cu12-12.3.1.170-py3-none-manylinux2014_x86_64.whl.metadata (1.6 kB)\n",
            "Requirement already satisfied: nvidia-cusparselt-cu12==0.6.2 in /usr/local/lib/python3.11/dist-packages (from torch>=1.11.0->sentence-transformers>=0.4.1->bertopic) (0.6.2)\n",
            "Requirement already satisfied: nvidia-nccl-cu12==2.21.5 in /usr/local/lib/python3.11/dist-packages (from torch>=1.11.0->sentence-transformers>=0.4.1->bertopic) (2.21.5)\n",
            "Requirement already satisfied: nvidia-nvtx-cu12==12.4.127 in /usr/local/lib/python3.11/dist-packages (from torch>=1.11.0->sentence-transformers>=0.4.1->bertopic) (12.4.127)\n",
            "Collecting nvidia-nvjitlink-cu12==12.4.127 (from torch>=1.11.0->sentence-transformers>=0.4.1->bertopic)\n",
            "  Downloading nvidia_nvjitlink_cu12-12.4.127-py3-none-manylinux2014_x86_64.whl.metadata (1.5 kB)\n",
            "Requirement already satisfied: triton==3.2.0 in /usr/local/lib/python3.11/dist-packages (from torch>=1.11.0->sentence-transformers>=0.4.1->bertopic) (3.2.0)\n",
            "Requirement already satisfied: sympy==1.13.1 in /usr/local/lib/python3.11/dist-packages (from torch>=1.11.0->sentence-transformers>=0.4.1->bertopic) (1.13.1)\n",
            "Requirement already satisfied: mpmath<1.4,>=1.1.0 in /usr/local/lib/python3.11/dist-packages (from sympy==1.13.1->torch>=1.11.0->sentence-transformers>=0.4.1->bertopic) (1.3.0)\n",
            "Requirement already satisfied: regex!=2019.12.17 in /usr/local/lib/python3.11/dist-packages (from transformers<5.0.0,>=4.41.0->sentence-transformers>=0.4.1->bertopic) (2024.11.6)\n",
            "Requirement already satisfied: tokenizers<0.22,>=0.21 in /usr/local/lib/python3.11/dist-packages (from transformers<5.0.0,>=4.41.0->sentence-transformers>=0.4.1->bertopic) (0.21.1)\n",
            "Requirement already satisfied: safetensors>=0.4.3 in /usr/local/lib/python3.11/dist-packages (from transformers<5.0.0,>=4.41.0->sentence-transformers>=0.4.1->bertopic) (0.5.3)\n",
            "Requirement already satisfied: MarkupSafe>=2.0 in /usr/local/lib/python3.11/dist-packages (from jinja2->torch>=1.11.0->sentence-transformers>=0.4.1->bertopic) (3.0.2)\n",
            "Requirement already satisfied: charset-normalizer<4,>=2 in /usr/local/lib/python3.11/dist-packages (from requests->huggingface-hub>=0.20.0->sentence-transformers>=0.4.1->bertopic) (3.4.2)\n",
            "Requirement already satisfied: idna<4,>=2.5 in /usr/local/lib/python3.11/dist-packages (from requests->huggingface-hub>=0.20.0->sentence-transformers>=0.4.1->bertopic) (3.10)\n",
            "Requirement already satisfied: urllib3<3,>=1.21.1 in /usr/local/lib/python3.11/dist-packages (from requests->huggingface-hub>=0.20.0->sentence-transformers>=0.4.1->bertopic) (2.4.0)\n",
            "Requirement already satisfied: certifi>=2017.4.17 in /usr/local/lib/python3.11/dist-packages (from requests->huggingface-hub>=0.20.0->sentence-transformers>=0.4.1->bertopic) (2025.4.26)\n",
            "Downloading bertopic-0.17.0-py3-none-any.whl (150 kB)\n",
            "\u001b[2K   \u001b[90m━━━━━━━━━━━━━━━━━━━━━━━━━━━━━━━━━━━━━━━━\u001b[0m \u001b[32m150.6/150.6 kB\u001b[0m \u001b[31m9.7 MB/s\u001b[0m eta \u001b[36m0:00:00\u001b[0m\n",
            "\u001b[?25hDownloading nvidia_cublas_cu12-12.4.5.8-py3-none-manylinux2014_x86_64.whl (363.4 MB)\n",
            "\u001b[2K   \u001b[90m━━━━━━━━━━━━━━━━━━━━━━━━━━━━━━━━━━━━━━━━\u001b[0m \u001b[32m363.4/363.4 MB\u001b[0m \u001b[31m1.5 MB/s\u001b[0m eta \u001b[36m0:00:00\u001b[0m\n",
            "\u001b[?25hDownloading nvidia_cuda_cupti_cu12-12.4.127-py3-none-manylinux2014_x86_64.whl (13.8 MB)\n",
            "\u001b[2K   \u001b[90m━━━━━━━━━━━━━━━━━━━━━━━━━━━━━━━━━━━━━━━━\u001b[0m \u001b[32m13.8/13.8 MB\u001b[0m \u001b[31m120.9 MB/s\u001b[0m eta \u001b[36m0:00:00\u001b[0m\n",
            "\u001b[?25hDownloading nvidia_cuda_nvrtc_cu12-12.4.127-py3-none-manylinux2014_x86_64.whl (24.6 MB)\n",
            "\u001b[2K   \u001b[90m━━━━━━━━━━━━━━━━━━━━━━━━━━━━━━━━━━━━━━━━\u001b[0m \u001b[32m24.6/24.6 MB\u001b[0m \u001b[31m85.9 MB/s\u001b[0m eta \u001b[36m0:00:00\u001b[0m\n",
            "\u001b[?25hDownloading nvidia_cuda_runtime_cu12-12.4.127-py3-none-manylinux2014_x86_64.whl (883 kB)\n",
            "\u001b[2K   \u001b[90m━━━━━━━━━━━━━━━━━━━━━━━━━━━━━━━━━━━━━━━━\u001b[0m \u001b[32m883.7/883.7 kB\u001b[0m \u001b[31m63.1 MB/s\u001b[0m eta \u001b[36m0:00:00\u001b[0m\n",
            "\u001b[?25hDownloading nvidia_cudnn_cu12-9.1.0.70-py3-none-manylinux2014_x86_64.whl (664.8 MB)\n",
            "\u001b[2K   \u001b[90m━━━━━━━━━━━━━━━━━━━━━━━━━━━━━━━━━━━━━━━━\u001b[0m \u001b[32m664.8/664.8 MB\u001b[0m \u001b[31m1.3 MB/s\u001b[0m eta \u001b[36m0:00:00\u001b[0m\n",
            "\u001b[?25hDownloading nvidia_cufft_cu12-11.2.1.3-py3-none-manylinux2014_x86_64.whl (211.5 MB)\n",
            "\u001b[2K   \u001b[90m━━━━━━━━━━━━━━━━━━━━━━━━━━━━━━━━━━━━━━━━\u001b[0m \u001b[32m211.5/211.5 MB\u001b[0m \u001b[31m6.1 MB/s\u001b[0m eta \u001b[36m0:00:00\u001b[0m\n",
            "\u001b[?25hDownloading nvidia_curand_cu12-10.3.5.147-py3-none-manylinux2014_x86_64.whl (56.3 MB)\n",
            "\u001b[2K   \u001b[90m━━━━━━━━━━━━━━━━━━━━━━━━━━━━━━━━━━━━━━━━\u001b[0m \u001b[32m56.3/56.3 MB\u001b[0m \u001b[31m14.6 MB/s\u001b[0m eta \u001b[36m0:00:00\u001b[0m\n",
            "\u001b[?25hDownloading nvidia_cusolver_cu12-11.6.1.9-py3-none-manylinux2014_x86_64.whl (127.9 MB)\n",
            "\u001b[2K   \u001b[90m━━━━━━━━━━━━━━━━━━━━━━━━━━━━━━━━━━━━━━━━\u001b[0m \u001b[32m127.9/127.9 MB\u001b[0m \u001b[31m8.9 MB/s\u001b[0m eta \u001b[36m0:00:00\u001b[0m\n",
            "\u001b[?25hDownloading nvidia_cusparse_cu12-12.3.1.170-py3-none-manylinux2014_x86_64.whl (207.5 MB)\n",
            "\u001b[2K   \u001b[90m━━━━━━━━━━━━━━━━━━━━━━━━━━━━━━━━━━━━━━━━\u001b[0m \u001b[32m207.5/207.5 MB\u001b[0m \u001b[31m6.5 MB/s\u001b[0m eta \u001b[36m0:00:00\u001b[0m\n",
            "\u001b[?25hDownloading nvidia_nvjitlink_cu12-12.4.127-py3-none-manylinux2014_x86_64.whl (21.1 MB)\n",
            "\u001b[2K   \u001b[90m━━━━━━━━━━━━━━━━━━━━━━━━━━━━━━━━━━━━━━━━\u001b[0m \u001b[32m21.1/21.1 MB\u001b[0m \u001b[31m82.6 MB/s\u001b[0m eta \u001b[36m0:00:00\u001b[0m\n",
            "\u001b[?25hInstalling collected packages: nvidia-nvjitlink-cu12, nvidia-curand-cu12, nvidia-cufft-cu12, nvidia-cuda-runtime-cu12, nvidia-cuda-nvrtc-cu12, nvidia-cuda-cupti-cu12, nvidia-cublas-cu12, nvidia-cusparse-cu12, nvidia-cudnn-cu12, nvidia-cusolver-cu12, bertopic\n",
            "  Attempting uninstall: nvidia-nvjitlink-cu12\n",
            "    Found existing installation: nvidia-nvjitlink-cu12 12.5.82\n",
            "    Uninstalling nvidia-nvjitlink-cu12-12.5.82:\n",
            "      Successfully uninstalled nvidia-nvjitlink-cu12-12.5.82\n",
            "  Attempting uninstall: nvidia-curand-cu12\n",
            "    Found existing installation: nvidia-curand-cu12 10.3.6.82\n",
            "    Uninstalling nvidia-curand-cu12-10.3.6.82:\n",
            "      Successfully uninstalled nvidia-curand-cu12-10.3.6.82\n",
            "  Attempting uninstall: nvidia-cufft-cu12\n",
            "    Found existing installation: nvidia-cufft-cu12 11.2.3.61\n",
            "    Uninstalling nvidia-cufft-cu12-11.2.3.61:\n",
            "      Successfully uninstalled nvidia-cufft-cu12-11.2.3.61\n",
            "  Attempting uninstall: nvidia-cuda-runtime-cu12\n",
            "    Found existing installation: nvidia-cuda-runtime-cu12 12.5.82\n",
            "    Uninstalling nvidia-cuda-runtime-cu12-12.5.82:\n",
            "      Successfully uninstalled nvidia-cuda-runtime-cu12-12.5.82\n",
            "  Attempting uninstall: nvidia-cuda-nvrtc-cu12\n",
            "    Found existing installation: nvidia-cuda-nvrtc-cu12 12.5.82\n",
            "    Uninstalling nvidia-cuda-nvrtc-cu12-12.5.82:\n",
            "      Successfully uninstalled nvidia-cuda-nvrtc-cu12-12.5.82\n",
            "  Attempting uninstall: nvidia-cuda-cupti-cu12\n",
            "    Found existing installation: nvidia-cuda-cupti-cu12 12.5.82\n",
            "    Uninstalling nvidia-cuda-cupti-cu12-12.5.82:\n",
            "      Successfully uninstalled nvidia-cuda-cupti-cu12-12.5.82\n",
            "  Attempting uninstall: nvidia-cublas-cu12\n",
            "    Found existing installation: nvidia-cublas-cu12 12.5.3.2\n",
            "    Uninstalling nvidia-cublas-cu12-12.5.3.2:\n",
            "      Successfully uninstalled nvidia-cublas-cu12-12.5.3.2\n",
            "  Attempting uninstall: nvidia-cusparse-cu12\n",
            "    Found existing installation: nvidia-cusparse-cu12 12.5.1.3\n",
            "    Uninstalling nvidia-cusparse-cu12-12.5.1.3:\n",
            "      Successfully uninstalled nvidia-cusparse-cu12-12.5.1.3\n",
            "  Attempting uninstall: nvidia-cudnn-cu12\n",
            "    Found existing installation: nvidia-cudnn-cu12 9.3.0.75\n",
            "    Uninstalling nvidia-cudnn-cu12-9.3.0.75:\n",
            "      Successfully uninstalled nvidia-cudnn-cu12-9.3.0.75\n",
            "  Attempting uninstall: nvidia-cusolver-cu12\n",
            "    Found existing installation: nvidia-cusolver-cu12 11.6.3.83\n",
            "    Uninstalling nvidia-cusolver-cu12-11.6.3.83:\n",
            "      Successfully uninstalled nvidia-cusolver-cu12-11.6.3.83\n",
            "Successfully installed bertopic-0.17.0 nvidia-cublas-cu12-12.4.5.8 nvidia-cuda-cupti-cu12-12.4.127 nvidia-cuda-nvrtc-cu12-12.4.127 nvidia-cuda-runtime-cu12-12.4.127 nvidia-cudnn-cu12-9.1.0.70 nvidia-cufft-cu12-11.2.1.3 nvidia-curand-cu12-10.3.5.147 nvidia-cusolver-cu12-11.6.1.9 nvidia-cusparse-cu12-12.3.1.170 nvidia-nvjitlink-cu12-12.4.127\n"
          ]
        },
        {
          "output_type": "display_data",
          "data": {
            "application/vnd.colab-display-data+json": {
              "pip_warning": {
                "packages": [
                  "nvidia"
                ]
              },
              "id": "c89990279ef64069a6113da9e8a26fe7"
            }
          },
          "metadata": {}
        }
      ]
    },
    {
      "cell_type": "code",
      "source": [
        "from bertopic import BERTopic\n",
        "\n",
        "docs = stckover_df.Question\n",
        "\n",
        "topic_model = BERTopic()\n",
        "\n",
        "topics, probs = topic_model.fit_transform(docs)"
      ],
      "metadata": {
        "id": "FTku3WIFKIQ0"
      },
      "execution_count": null,
      "outputs": []
    },
    {
      "cell_type": "code",
      "source": [
        "topic_info = topic_model.get_topic_info()\n",
        "print(topic_info)"
      ],
      "metadata": {
        "colab": {
          "base_uri": "https://localhost:8080/"
        },
        "id": "4omiFyTwNfZh",
        "outputId": "801f8590-4539-4a76-8e54-51c8dd7cee0d"
      },
      "execution_count": null,
      "outputs": [
        {
          "output_type": "stream",
          "name": "stdout",
          "text": [
            "     Topic  Count                                               Name  \\\n",
            "0       -1  10444                                   -1_the_to_is_and   \n",
            "1        0    360                  0_token_authentication_user_azure   \n",
            "2        1    326                              1_na_dataframe_2l_nan   \n",
            "3        2    319                    2_const_div_component_useeffect   \n",
            "4        3    279                          3_line_module_file_python   \n",
            "..     ...    ...                                                ...   \n",
            "231    230     10                 230_locale_mylocale_en_teststring1   \n",
            "232    231     10   231_configuration_tablea_tableb_pgcatalogdefault   \n",
            "233    232     10   232_querystring_contenttype_clientsecret_players   \n",
            "234    233     10  233_annotation_propertyvalue_variableelement_t...   \n",
            "235    234     10  234_glibrefptrgtklistitem_sigcmemfunthis_listi...   \n",
            "\n",
            "                                        Representation  \\\n",
            "0      [the, to, is, and, this, in, it, of, for, that]   \n",
            "1    [token, authentication, user, azure, access, c...   \n",
            "2     [na, dataframe, 2l, nan, 78, 77, 76, 0l, 79, 74]   \n",
            "3    [const, div, component, useeffect, usestate, s...   \n",
            "4    [line, module, file, python, import, pip, inst...   \n",
            "..                                                 ...   \n",
            "231  [locale, mylocale, en, teststring1, hong, kong...   \n",
            "232  [configuration, tablea, tableb, pgcatalogdefau...   \n",
            "233  [querystring, contenttype, clientsecret, playe...   \n",
            "234  [annotation, propertyvalue, variableelement, t...   \n",
            "235  [glibrefptrgtklistitem, sigcmemfunthis, listit...   \n",
            "\n",
            "                                   Representative_Docs  \n",
            "0    [Closed. This question needs to be more focuse...  \n",
            "1    [I have a general question about the authentic...  \n",
            "2    [Is there a good way to carry the last observa...  \n",
            "3    [We are developing a chatbot. Some steps shoul...  \n",
            "4    [I know very little about Python,.Upon running...  \n",
            "..                                                 ...  \n",
            "231  [I use WPML to create a bilingual website. The...  \n",
            "232  [I have a table of four columns: ID, ID_versio...  \n",
            "233  [I'm trying to access a binance api that requi...  \n",
            "234  [I'm trying to dynamically add arguments to an...  \n",
            "235  [I have been converting from gtkmm 4.8 to 4.10...  \n",
            "\n",
            "[236 rows x 5 columns]\n"
          ]
        }
      ]
    },
    {
      "cell_type": "markdown",
      "source": [
        "## LDA"
      ],
      "metadata": {
        "id": "xd3wjqQyM4YQ"
      }
    },
    {
      "cell_type": "code",
      "source": [
        "from sklearn.feature_extraction.text import CountVectorizer\n",
        "from sklearn.decomposition import LatentDirichletAllocation\n",
        "\n",
        "documents = stckover_df.Question\n",
        "vectorizer = CountVectorizer(max_features=1000, stop_words='english')\n",
        "X = vectorizer.fit_transform(documents)\n",
        "\n",
        "# Применение LDA\n",
        "num_topics = 5\n",
        "lda = LatentDirichletAllocation(n_components=num_topics, random_state=42)\n",
        "lda.fit(X)"
      ],
      "metadata": {
        "colab": {
          "base_uri": "https://localhost:8080/",
          "height": 79
        },
        "id": "30PKhhBBM6Xy",
        "outputId": "8f750f59-bd1e-4f2e-9dda-958e27fdeaf9"
      },
      "execution_count": null,
      "outputs": [
        {
          "output_type": "execute_result",
          "data": {
            "text/plain": [
              "LatentDirichletAllocation(n_components=5, random_state=42)"
            ],
            "text/html": [
              "<style>#sk-container-id-1 {\n",
              "  /* Definition of color scheme common for light and dark mode */\n",
              "  --sklearn-color-text: #000;\n",
              "  --sklearn-color-text-muted: #666;\n",
              "  --sklearn-color-line: gray;\n",
              "  /* Definition of color scheme for unfitted estimators */\n",
              "  --sklearn-color-unfitted-level-0: #fff5e6;\n",
              "  --sklearn-color-unfitted-level-1: #f6e4d2;\n",
              "  --sklearn-color-unfitted-level-2: #ffe0b3;\n",
              "  --sklearn-color-unfitted-level-3: chocolate;\n",
              "  /* Definition of color scheme for fitted estimators */\n",
              "  --sklearn-color-fitted-level-0: #f0f8ff;\n",
              "  --sklearn-color-fitted-level-1: #d4ebff;\n",
              "  --sklearn-color-fitted-level-2: #b3dbfd;\n",
              "  --sklearn-color-fitted-level-3: cornflowerblue;\n",
              "\n",
              "  /* Specific color for light theme */\n",
              "  --sklearn-color-text-on-default-background: var(--sg-text-color, var(--theme-code-foreground, var(--jp-content-font-color1, black)));\n",
              "  --sklearn-color-background: var(--sg-background-color, var(--theme-background, var(--jp-layout-color0, white)));\n",
              "  --sklearn-color-border-box: var(--sg-text-color, var(--theme-code-foreground, var(--jp-content-font-color1, black)));\n",
              "  --sklearn-color-icon: #696969;\n",
              "\n",
              "  @media (prefers-color-scheme: dark) {\n",
              "    /* Redefinition of color scheme for dark theme */\n",
              "    --sklearn-color-text-on-default-background: var(--sg-text-color, var(--theme-code-foreground, var(--jp-content-font-color1, white)));\n",
              "    --sklearn-color-background: var(--sg-background-color, var(--theme-background, var(--jp-layout-color0, #111)));\n",
              "    --sklearn-color-border-box: var(--sg-text-color, var(--theme-code-foreground, var(--jp-content-font-color1, white)));\n",
              "    --sklearn-color-icon: #878787;\n",
              "  }\n",
              "}\n",
              "\n",
              "#sk-container-id-1 {\n",
              "  color: var(--sklearn-color-text);\n",
              "}\n",
              "\n",
              "#sk-container-id-1 pre {\n",
              "  padding: 0;\n",
              "}\n",
              "\n",
              "#sk-container-id-1 input.sk-hidden--visually {\n",
              "  border: 0;\n",
              "  clip: rect(1px 1px 1px 1px);\n",
              "  clip: rect(1px, 1px, 1px, 1px);\n",
              "  height: 1px;\n",
              "  margin: -1px;\n",
              "  overflow: hidden;\n",
              "  padding: 0;\n",
              "  position: absolute;\n",
              "  width: 1px;\n",
              "}\n",
              "\n",
              "#sk-container-id-1 div.sk-dashed-wrapped {\n",
              "  border: 1px dashed var(--sklearn-color-line);\n",
              "  margin: 0 0.4em 0.5em 0.4em;\n",
              "  box-sizing: border-box;\n",
              "  padding-bottom: 0.4em;\n",
              "  background-color: var(--sklearn-color-background);\n",
              "}\n",
              "\n",
              "#sk-container-id-1 div.sk-container {\n",
              "  /* jupyter's `normalize.less` sets `[hidden] { display: none; }`\n",
              "     but bootstrap.min.css set `[hidden] { display: none !important; }`\n",
              "     so we also need the `!important` here to be able to override the\n",
              "     default hidden behavior on the sphinx rendered scikit-learn.org.\n",
              "     See: https://github.com/scikit-learn/scikit-learn/issues/21755 */\n",
              "  display: inline-block !important;\n",
              "  position: relative;\n",
              "}\n",
              "\n",
              "#sk-container-id-1 div.sk-text-repr-fallback {\n",
              "  display: none;\n",
              "}\n",
              "\n",
              "div.sk-parallel-item,\n",
              "div.sk-serial,\n",
              "div.sk-item {\n",
              "  /* draw centered vertical line to link estimators */\n",
              "  background-image: linear-gradient(var(--sklearn-color-text-on-default-background), var(--sklearn-color-text-on-default-background));\n",
              "  background-size: 2px 100%;\n",
              "  background-repeat: no-repeat;\n",
              "  background-position: center center;\n",
              "}\n",
              "\n",
              "/* Parallel-specific style estimator block */\n",
              "\n",
              "#sk-container-id-1 div.sk-parallel-item::after {\n",
              "  content: \"\";\n",
              "  width: 100%;\n",
              "  border-bottom: 2px solid var(--sklearn-color-text-on-default-background);\n",
              "  flex-grow: 1;\n",
              "}\n",
              "\n",
              "#sk-container-id-1 div.sk-parallel {\n",
              "  display: flex;\n",
              "  align-items: stretch;\n",
              "  justify-content: center;\n",
              "  background-color: var(--sklearn-color-background);\n",
              "  position: relative;\n",
              "}\n",
              "\n",
              "#sk-container-id-1 div.sk-parallel-item {\n",
              "  display: flex;\n",
              "  flex-direction: column;\n",
              "}\n",
              "\n",
              "#sk-container-id-1 div.sk-parallel-item:first-child::after {\n",
              "  align-self: flex-end;\n",
              "  width: 50%;\n",
              "}\n",
              "\n",
              "#sk-container-id-1 div.sk-parallel-item:last-child::after {\n",
              "  align-self: flex-start;\n",
              "  width: 50%;\n",
              "}\n",
              "\n",
              "#sk-container-id-1 div.sk-parallel-item:only-child::after {\n",
              "  width: 0;\n",
              "}\n",
              "\n",
              "/* Serial-specific style estimator block */\n",
              "\n",
              "#sk-container-id-1 div.sk-serial {\n",
              "  display: flex;\n",
              "  flex-direction: column;\n",
              "  align-items: center;\n",
              "  background-color: var(--sklearn-color-background);\n",
              "  padding-right: 1em;\n",
              "  padding-left: 1em;\n",
              "}\n",
              "\n",
              "\n",
              "/* Toggleable style: style used for estimator/Pipeline/ColumnTransformer box that is\n",
              "clickable and can be expanded/collapsed.\n",
              "- Pipeline and ColumnTransformer use this feature and define the default style\n",
              "- Estimators will overwrite some part of the style using the `sk-estimator` class\n",
              "*/\n",
              "\n",
              "/* Pipeline and ColumnTransformer style (default) */\n",
              "\n",
              "#sk-container-id-1 div.sk-toggleable {\n",
              "  /* Default theme specific background. It is overwritten whether we have a\n",
              "  specific estimator or a Pipeline/ColumnTransformer */\n",
              "  background-color: var(--sklearn-color-background);\n",
              "}\n",
              "\n",
              "/* Toggleable label */\n",
              "#sk-container-id-1 label.sk-toggleable__label {\n",
              "  cursor: pointer;\n",
              "  display: flex;\n",
              "  width: 100%;\n",
              "  margin-bottom: 0;\n",
              "  padding: 0.5em;\n",
              "  box-sizing: border-box;\n",
              "  text-align: center;\n",
              "  align-items: start;\n",
              "  justify-content: space-between;\n",
              "  gap: 0.5em;\n",
              "}\n",
              "\n",
              "#sk-container-id-1 label.sk-toggleable__label .caption {\n",
              "  font-size: 0.6rem;\n",
              "  font-weight: lighter;\n",
              "  color: var(--sklearn-color-text-muted);\n",
              "}\n",
              "\n",
              "#sk-container-id-1 label.sk-toggleable__label-arrow:before {\n",
              "  /* Arrow on the left of the label */\n",
              "  content: \"▸\";\n",
              "  float: left;\n",
              "  margin-right: 0.25em;\n",
              "  color: var(--sklearn-color-icon);\n",
              "}\n",
              "\n",
              "#sk-container-id-1 label.sk-toggleable__label-arrow:hover:before {\n",
              "  color: var(--sklearn-color-text);\n",
              "}\n",
              "\n",
              "/* Toggleable content - dropdown */\n",
              "\n",
              "#sk-container-id-1 div.sk-toggleable__content {\n",
              "  max-height: 0;\n",
              "  max-width: 0;\n",
              "  overflow: hidden;\n",
              "  text-align: left;\n",
              "  /* unfitted */\n",
              "  background-color: var(--sklearn-color-unfitted-level-0);\n",
              "}\n",
              "\n",
              "#sk-container-id-1 div.sk-toggleable__content.fitted {\n",
              "  /* fitted */\n",
              "  background-color: var(--sklearn-color-fitted-level-0);\n",
              "}\n",
              "\n",
              "#sk-container-id-1 div.sk-toggleable__content pre {\n",
              "  margin: 0.2em;\n",
              "  border-radius: 0.25em;\n",
              "  color: var(--sklearn-color-text);\n",
              "  /* unfitted */\n",
              "  background-color: var(--sklearn-color-unfitted-level-0);\n",
              "}\n",
              "\n",
              "#sk-container-id-1 div.sk-toggleable__content.fitted pre {\n",
              "  /* unfitted */\n",
              "  background-color: var(--sklearn-color-fitted-level-0);\n",
              "}\n",
              "\n",
              "#sk-container-id-1 input.sk-toggleable__control:checked~div.sk-toggleable__content {\n",
              "  /* Expand drop-down */\n",
              "  max-height: 200px;\n",
              "  max-width: 100%;\n",
              "  overflow: auto;\n",
              "}\n",
              "\n",
              "#sk-container-id-1 input.sk-toggleable__control:checked~label.sk-toggleable__label-arrow:before {\n",
              "  content: \"▾\";\n",
              "}\n",
              "\n",
              "/* Pipeline/ColumnTransformer-specific style */\n",
              "\n",
              "#sk-container-id-1 div.sk-label input.sk-toggleable__control:checked~label.sk-toggleable__label {\n",
              "  color: var(--sklearn-color-text);\n",
              "  background-color: var(--sklearn-color-unfitted-level-2);\n",
              "}\n",
              "\n",
              "#sk-container-id-1 div.sk-label.fitted input.sk-toggleable__control:checked~label.sk-toggleable__label {\n",
              "  background-color: var(--sklearn-color-fitted-level-2);\n",
              "}\n",
              "\n",
              "/* Estimator-specific style */\n",
              "\n",
              "/* Colorize estimator box */\n",
              "#sk-container-id-1 div.sk-estimator input.sk-toggleable__control:checked~label.sk-toggleable__label {\n",
              "  /* unfitted */\n",
              "  background-color: var(--sklearn-color-unfitted-level-2);\n",
              "}\n",
              "\n",
              "#sk-container-id-1 div.sk-estimator.fitted input.sk-toggleable__control:checked~label.sk-toggleable__label {\n",
              "  /* fitted */\n",
              "  background-color: var(--sklearn-color-fitted-level-2);\n",
              "}\n",
              "\n",
              "#sk-container-id-1 div.sk-label label.sk-toggleable__label,\n",
              "#sk-container-id-1 div.sk-label label {\n",
              "  /* The background is the default theme color */\n",
              "  color: var(--sklearn-color-text-on-default-background);\n",
              "}\n",
              "\n",
              "/* On hover, darken the color of the background */\n",
              "#sk-container-id-1 div.sk-label:hover label.sk-toggleable__label {\n",
              "  color: var(--sklearn-color-text);\n",
              "  background-color: var(--sklearn-color-unfitted-level-2);\n",
              "}\n",
              "\n",
              "/* Label box, darken color on hover, fitted */\n",
              "#sk-container-id-1 div.sk-label.fitted:hover label.sk-toggleable__label.fitted {\n",
              "  color: var(--sklearn-color-text);\n",
              "  background-color: var(--sklearn-color-fitted-level-2);\n",
              "}\n",
              "\n",
              "/* Estimator label */\n",
              "\n",
              "#sk-container-id-1 div.sk-label label {\n",
              "  font-family: monospace;\n",
              "  font-weight: bold;\n",
              "  display: inline-block;\n",
              "  line-height: 1.2em;\n",
              "}\n",
              "\n",
              "#sk-container-id-1 div.sk-label-container {\n",
              "  text-align: center;\n",
              "}\n",
              "\n",
              "/* Estimator-specific */\n",
              "#sk-container-id-1 div.sk-estimator {\n",
              "  font-family: monospace;\n",
              "  border: 1px dotted var(--sklearn-color-border-box);\n",
              "  border-radius: 0.25em;\n",
              "  box-sizing: border-box;\n",
              "  margin-bottom: 0.5em;\n",
              "  /* unfitted */\n",
              "  background-color: var(--sklearn-color-unfitted-level-0);\n",
              "}\n",
              "\n",
              "#sk-container-id-1 div.sk-estimator.fitted {\n",
              "  /* fitted */\n",
              "  background-color: var(--sklearn-color-fitted-level-0);\n",
              "}\n",
              "\n",
              "/* on hover */\n",
              "#sk-container-id-1 div.sk-estimator:hover {\n",
              "  /* unfitted */\n",
              "  background-color: var(--sklearn-color-unfitted-level-2);\n",
              "}\n",
              "\n",
              "#sk-container-id-1 div.sk-estimator.fitted:hover {\n",
              "  /* fitted */\n",
              "  background-color: var(--sklearn-color-fitted-level-2);\n",
              "}\n",
              "\n",
              "/* Specification for estimator info (e.g. \"i\" and \"?\") */\n",
              "\n",
              "/* Common style for \"i\" and \"?\" */\n",
              "\n",
              ".sk-estimator-doc-link,\n",
              "a:link.sk-estimator-doc-link,\n",
              "a:visited.sk-estimator-doc-link {\n",
              "  float: right;\n",
              "  font-size: smaller;\n",
              "  line-height: 1em;\n",
              "  font-family: monospace;\n",
              "  background-color: var(--sklearn-color-background);\n",
              "  border-radius: 1em;\n",
              "  height: 1em;\n",
              "  width: 1em;\n",
              "  text-decoration: none !important;\n",
              "  margin-left: 0.5em;\n",
              "  text-align: center;\n",
              "  /* unfitted */\n",
              "  border: var(--sklearn-color-unfitted-level-1) 1pt solid;\n",
              "  color: var(--sklearn-color-unfitted-level-1);\n",
              "}\n",
              "\n",
              ".sk-estimator-doc-link.fitted,\n",
              "a:link.sk-estimator-doc-link.fitted,\n",
              "a:visited.sk-estimator-doc-link.fitted {\n",
              "  /* fitted */\n",
              "  border: var(--sklearn-color-fitted-level-1) 1pt solid;\n",
              "  color: var(--sklearn-color-fitted-level-1);\n",
              "}\n",
              "\n",
              "/* On hover */\n",
              "div.sk-estimator:hover .sk-estimator-doc-link:hover,\n",
              ".sk-estimator-doc-link:hover,\n",
              "div.sk-label-container:hover .sk-estimator-doc-link:hover,\n",
              ".sk-estimator-doc-link:hover {\n",
              "  /* unfitted */\n",
              "  background-color: var(--sklearn-color-unfitted-level-3);\n",
              "  color: var(--sklearn-color-background);\n",
              "  text-decoration: none;\n",
              "}\n",
              "\n",
              "div.sk-estimator.fitted:hover .sk-estimator-doc-link.fitted:hover,\n",
              ".sk-estimator-doc-link.fitted:hover,\n",
              "div.sk-label-container:hover .sk-estimator-doc-link.fitted:hover,\n",
              ".sk-estimator-doc-link.fitted:hover {\n",
              "  /* fitted */\n",
              "  background-color: var(--sklearn-color-fitted-level-3);\n",
              "  color: var(--sklearn-color-background);\n",
              "  text-decoration: none;\n",
              "}\n",
              "\n",
              "/* Span, style for the box shown on hovering the info icon */\n",
              ".sk-estimator-doc-link span {\n",
              "  display: none;\n",
              "  z-index: 9999;\n",
              "  position: relative;\n",
              "  font-weight: normal;\n",
              "  right: .2ex;\n",
              "  padding: .5ex;\n",
              "  margin: .5ex;\n",
              "  width: min-content;\n",
              "  min-width: 20ex;\n",
              "  max-width: 50ex;\n",
              "  color: var(--sklearn-color-text);\n",
              "  box-shadow: 2pt 2pt 4pt #999;\n",
              "  /* unfitted */\n",
              "  background: var(--sklearn-color-unfitted-level-0);\n",
              "  border: .5pt solid var(--sklearn-color-unfitted-level-3);\n",
              "}\n",
              "\n",
              ".sk-estimator-doc-link.fitted span {\n",
              "  /* fitted */\n",
              "  background: var(--sklearn-color-fitted-level-0);\n",
              "  border: var(--sklearn-color-fitted-level-3);\n",
              "}\n",
              "\n",
              ".sk-estimator-doc-link:hover span {\n",
              "  display: block;\n",
              "}\n",
              "\n",
              "/* \"?\"-specific style due to the `<a>` HTML tag */\n",
              "\n",
              "#sk-container-id-1 a.estimator_doc_link {\n",
              "  float: right;\n",
              "  font-size: 1rem;\n",
              "  line-height: 1em;\n",
              "  font-family: monospace;\n",
              "  background-color: var(--sklearn-color-background);\n",
              "  border-radius: 1rem;\n",
              "  height: 1rem;\n",
              "  width: 1rem;\n",
              "  text-decoration: none;\n",
              "  /* unfitted */\n",
              "  color: var(--sklearn-color-unfitted-level-1);\n",
              "  border: var(--sklearn-color-unfitted-level-1) 1pt solid;\n",
              "}\n",
              "\n",
              "#sk-container-id-1 a.estimator_doc_link.fitted {\n",
              "  /* fitted */\n",
              "  border: var(--sklearn-color-fitted-level-1) 1pt solid;\n",
              "  color: var(--sklearn-color-fitted-level-1);\n",
              "}\n",
              "\n",
              "/* On hover */\n",
              "#sk-container-id-1 a.estimator_doc_link:hover {\n",
              "  /* unfitted */\n",
              "  background-color: var(--sklearn-color-unfitted-level-3);\n",
              "  color: var(--sklearn-color-background);\n",
              "  text-decoration: none;\n",
              "}\n",
              "\n",
              "#sk-container-id-1 a.estimator_doc_link.fitted:hover {\n",
              "  /* fitted */\n",
              "  background-color: var(--sklearn-color-fitted-level-3);\n",
              "}\n",
              "</style><div id=\"sk-container-id-1\" class=\"sk-top-container\"><div class=\"sk-text-repr-fallback\"><pre>LatentDirichletAllocation(n_components=5, random_state=42)</pre><b>In a Jupyter environment, please rerun this cell to show the HTML representation or trust the notebook. <br />On GitHub, the HTML representation is unable to render, please try loading this page with nbviewer.org.</b></div><div class=\"sk-container\" hidden><div class=\"sk-item\"><div class=\"sk-estimator fitted sk-toggleable\"><input class=\"sk-toggleable__control sk-hidden--visually\" id=\"sk-estimator-id-1\" type=\"checkbox\" checked><label for=\"sk-estimator-id-1\" class=\"sk-toggleable__label fitted sk-toggleable__label-arrow\"><div><div>LatentDirichletAllocation</div></div><div><a class=\"sk-estimator-doc-link fitted\" rel=\"noreferrer\" target=\"_blank\" href=\"https://scikit-learn.org/1.6/modules/generated/sklearn.decomposition.LatentDirichletAllocation.html\">?<span>Documentation for LatentDirichletAllocation</span></a><span class=\"sk-estimator-doc-link fitted\">i<span>Fitted</span></span></div></label><div class=\"sk-toggleable__content fitted\"><pre>LatentDirichletAllocation(n_components=5, random_state=42)</pre></div> </div></div></div></div>"
            ]
          },
          "metadata": {},
          "execution_count": 28
        }
      ]
    },
    {
      "cell_type": "code",
      "source": [
        "# Вывод тем и связанных с ними слов\n",
        "for topic_idx, topic_words in enumerate(lda.components_):\n",
        "    top_words_idx = topic_words.argsort()[-10:][::-1]\n",
        "    top_words = [vectorizer.get_feature_names_out()[i] for i in top_words_idx]\n",
        "    print(f\"Тема {topic_idx + 1}: {', '.join(top_words)}\")"
      ],
      "metadata": {
        "colab": {
          "base_uri": "https://localhost:8080/"
        },
        "id": "vkj8OMkLUf8M",
        "outputId": "c0c66ad4-6045-4f1c-d776-b0388866e639"
      },
      "execution_count": null,
      "outputs": [
        {
          "output_type": "stream",
          "name": "stdout",
          "text": [
            "Тема 1: java, org, com, android, app, http, version, api, https, server\n",
            "Тема 2: data, string, return, value, new, id, public, int, error, true\n",
            "Тема 3: question, using, code, file, problem, want, closed, like, tried, use\n",
            "Тема 4: const, div, class, text, self, import, button, react, color, id\n",
            "Тема 5: file, 2023, 10, 00, 08, lib, line, error, py, 11\n"
          ]
        }
      ]
    }
  ],
  "metadata": {
    "colab": {
      "provenance": [],
      "toc_visible": true,
      "gpuType": "T4",
      "authorship_tag": "ABX9TyM9rt9/Vb7rNoNhj7rCIQcv"
    },
    "kernelspec": {
      "display_name": "Python 3",
      "name": "python3"
    },
    "language_info": {
      "name": "python"
    },
    "accelerator": "GPU",
    "widgets": {
      "application/vnd.jupyter.widget-state+json": {
        "4a43a455075b4f30be91f1151d735c55": {
          "model_module": "@jupyter-widgets/controls",
          "model_name": "HBoxModel",
          "model_module_version": "1.5.0",
          "state": {
            "_dom_classes": [],
            "_model_module": "@jupyter-widgets/controls",
            "_model_module_version": "1.5.0",
            "_model_name": "HBoxModel",
            "_view_count": null,
            "_view_module": "@jupyter-widgets/controls",
            "_view_module_version": "1.5.0",
            "_view_name": "HBoxView",
            "box_style": "",
            "children": [
              "IPY_MODEL_30fbdb2a9fb24293bf592da53666cbed",
              "IPY_MODEL_8c60b8d7e8cd4aab895914ae8122e82b",
              "IPY_MODEL_6c5c2c6f060f4749adec904822fce6d7"
            ],
            "layout": "IPY_MODEL_e98c1d294b374b35a8e0514307a90273"
          }
        },
        "30fbdb2a9fb24293bf592da53666cbed": {
          "model_module": "@jupyter-widgets/controls",
          "model_name": "HTMLModel",
          "model_module_version": "1.5.0",
          "state": {
            "_dom_classes": [],
            "_model_module": "@jupyter-widgets/controls",
            "_model_module_version": "1.5.0",
            "_model_name": "HTMLModel",
            "_view_count": null,
            "_view_module": "@jupyter-widgets/controls",
            "_view_module_version": "1.5.0",
            "_view_name": "HTMLView",
            "description": "",
            "description_tooltip": null,
            "layout": "IPY_MODEL_013f0bb770ec4f87a9b2b0019580f0ab",
            "placeholder": "​",
            "style": "IPY_MODEL_98c943dc8fc447a5a76ee611065b1da4",
            "value": "modules.json: 100%"
          }
        },
        "8c60b8d7e8cd4aab895914ae8122e82b": {
          "model_module": "@jupyter-widgets/controls",
          "model_name": "FloatProgressModel",
          "model_module_version": "1.5.0",
          "state": {
            "_dom_classes": [],
            "_model_module": "@jupyter-widgets/controls",
            "_model_module_version": "1.5.0",
            "_model_name": "FloatProgressModel",
            "_view_count": null,
            "_view_module": "@jupyter-widgets/controls",
            "_view_module_version": "1.5.0",
            "_view_name": "ProgressView",
            "bar_style": "success",
            "description": "",
            "description_tooltip": null,
            "layout": "IPY_MODEL_ed51a3a245e540a2a8e1c6a13b1e9f2c",
            "max": 349,
            "min": 0,
            "orientation": "horizontal",
            "style": "IPY_MODEL_e40d662af1bc410e8abd5a8c3604b0d9",
            "value": 349
          }
        },
        "6c5c2c6f060f4749adec904822fce6d7": {
          "model_module": "@jupyter-widgets/controls",
          "model_name": "HTMLModel",
          "model_module_version": "1.5.0",
          "state": {
            "_dom_classes": [],
            "_model_module": "@jupyter-widgets/controls",
            "_model_module_version": "1.5.0",
            "_model_name": "HTMLModel",
            "_view_count": null,
            "_view_module": "@jupyter-widgets/controls",
            "_view_module_version": "1.5.0",
            "_view_name": "HTMLView",
            "description": "",
            "description_tooltip": null,
            "layout": "IPY_MODEL_9207222ca7bf4a01bfd098d6b3f8f8da",
            "placeholder": "​",
            "style": "IPY_MODEL_361e742a9d8a45d690644f2c5f1cbad6",
            "value": " 349/349 [00:00&lt;00:00, 24.5kB/s]"
          }
        },
        "e98c1d294b374b35a8e0514307a90273": {
          "model_module": "@jupyter-widgets/base",
          "model_name": "LayoutModel",
          "model_module_version": "1.2.0",
          "state": {
            "_model_module": "@jupyter-widgets/base",
            "_model_module_version": "1.2.0",
            "_model_name": "LayoutModel",
            "_view_count": null,
            "_view_module": "@jupyter-widgets/base",
            "_view_module_version": "1.2.0",
            "_view_name": "LayoutView",
            "align_content": null,
            "align_items": null,
            "align_self": null,
            "border": null,
            "bottom": null,
            "display": null,
            "flex": null,
            "flex_flow": null,
            "grid_area": null,
            "grid_auto_columns": null,
            "grid_auto_flow": null,
            "grid_auto_rows": null,
            "grid_column": null,
            "grid_gap": null,
            "grid_row": null,
            "grid_template_areas": null,
            "grid_template_columns": null,
            "grid_template_rows": null,
            "height": null,
            "justify_content": null,
            "justify_items": null,
            "left": null,
            "margin": null,
            "max_height": null,
            "max_width": null,
            "min_height": null,
            "min_width": null,
            "object_fit": null,
            "object_position": null,
            "order": null,
            "overflow": null,
            "overflow_x": null,
            "overflow_y": null,
            "padding": null,
            "right": null,
            "top": null,
            "visibility": null,
            "width": null
          }
        },
        "013f0bb770ec4f87a9b2b0019580f0ab": {
          "model_module": "@jupyter-widgets/base",
          "model_name": "LayoutModel",
          "model_module_version": "1.2.0",
          "state": {
            "_model_module": "@jupyter-widgets/base",
            "_model_module_version": "1.2.0",
            "_model_name": "LayoutModel",
            "_view_count": null,
            "_view_module": "@jupyter-widgets/base",
            "_view_module_version": "1.2.0",
            "_view_name": "LayoutView",
            "align_content": null,
            "align_items": null,
            "align_self": null,
            "border": null,
            "bottom": null,
            "display": null,
            "flex": null,
            "flex_flow": null,
            "grid_area": null,
            "grid_auto_columns": null,
            "grid_auto_flow": null,
            "grid_auto_rows": null,
            "grid_column": null,
            "grid_gap": null,
            "grid_row": null,
            "grid_template_areas": null,
            "grid_template_columns": null,
            "grid_template_rows": null,
            "height": null,
            "justify_content": null,
            "justify_items": null,
            "left": null,
            "margin": null,
            "max_height": null,
            "max_width": null,
            "min_height": null,
            "min_width": null,
            "object_fit": null,
            "object_position": null,
            "order": null,
            "overflow": null,
            "overflow_x": null,
            "overflow_y": null,
            "padding": null,
            "right": null,
            "top": null,
            "visibility": null,
            "width": null
          }
        },
        "98c943dc8fc447a5a76ee611065b1da4": {
          "model_module": "@jupyter-widgets/controls",
          "model_name": "DescriptionStyleModel",
          "model_module_version": "1.5.0",
          "state": {
            "_model_module": "@jupyter-widgets/controls",
            "_model_module_version": "1.5.0",
            "_model_name": "DescriptionStyleModel",
            "_view_count": null,
            "_view_module": "@jupyter-widgets/base",
            "_view_module_version": "1.2.0",
            "_view_name": "StyleView",
            "description_width": ""
          }
        },
        "ed51a3a245e540a2a8e1c6a13b1e9f2c": {
          "model_module": "@jupyter-widgets/base",
          "model_name": "LayoutModel",
          "model_module_version": "1.2.0",
          "state": {
            "_model_module": "@jupyter-widgets/base",
            "_model_module_version": "1.2.0",
            "_model_name": "LayoutModel",
            "_view_count": null,
            "_view_module": "@jupyter-widgets/base",
            "_view_module_version": "1.2.0",
            "_view_name": "LayoutView",
            "align_content": null,
            "align_items": null,
            "align_self": null,
            "border": null,
            "bottom": null,
            "display": null,
            "flex": null,
            "flex_flow": null,
            "grid_area": null,
            "grid_auto_columns": null,
            "grid_auto_flow": null,
            "grid_auto_rows": null,
            "grid_column": null,
            "grid_gap": null,
            "grid_row": null,
            "grid_template_areas": null,
            "grid_template_columns": null,
            "grid_template_rows": null,
            "height": null,
            "justify_content": null,
            "justify_items": null,
            "left": null,
            "margin": null,
            "max_height": null,
            "max_width": null,
            "min_height": null,
            "min_width": null,
            "object_fit": null,
            "object_position": null,
            "order": null,
            "overflow": null,
            "overflow_x": null,
            "overflow_y": null,
            "padding": null,
            "right": null,
            "top": null,
            "visibility": null,
            "width": null
          }
        },
        "e40d662af1bc410e8abd5a8c3604b0d9": {
          "model_module": "@jupyter-widgets/controls",
          "model_name": "ProgressStyleModel",
          "model_module_version": "1.5.0",
          "state": {
            "_model_module": "@jupyter-widgets/controls",
            "_model_module_version": "1.5.0",
            "_model_name": "ProgressStyleModel",
            "_view_count": null,
            "_view_module": "@jupyter-widgets/base",
            "_view_module_version": "1.2.0",
            "_view_name": "StyleView",
            "bar_color": null,
            "description_width": ""
          }
        },
        "9207222ca7bf4a01bfd098d6b3f8f8da": {
          "model_module": "@jupyter-widgets/base",
          "model_name": "LayoutModel",
          "model_module_version": "1.2.0",
          "state": {
            "_model_module": "@jupyter-widgets/base",
            "_model_module_version": "1.2.0",
            "_model_name": "LayoutModel",
            "_view_count": null,
            "_view_module": "@jupyter-widgets/base",
            "_view_module_version": "1.2.0",
            "_view_name": "LayoutView",
            "align_content": null,
            "align_items": null,
            "align_self": null,
            "border": null,
            "bottom": null,
            "display": null,
            "flex": null,
            "flex_flow": null,
            "grid_area": null,
            "grid_auto_columns": null,
            "grid_auto_flow": null,
            "grid_auto_rows": null,
            "grid_column": null,
            "grid_gap": null,
            "grid_row": null,
            "grid_template_areas": null,
            "grid_template_columns": null,
            "grid_template_rows": null,
            "height": null,
            "justify_content": null,
            "justify_items": null,
            "left": null,
            "margin": null,
            "max_height": null,
            "max_width": null,
            "min_height": null,
            "min_width": null,
            "object_fit": null,
            "object_position": null,
            "order": null,
            "overflow": null,
            "overflow_x": null,
            "overflow_y": null,
            "padding": null,
            "right": null,
            "top": null,
            "visibility": null,
            "width": null
          }
        },
        "361e742a9d8a45d690644f2c5f1cbad6": {
          "model_module": "@jupyter-widgets/controls",
          "model_name": "DescriptionStyleModel",
          "model_module_version": "1.5.0",
          "state": {
            "_model_module": "@jupyter-widgets/controls",
            "_model_module_version": "1.5.0",
            "_model_name": "DescriptionStyleModel",
            "_view_count": null,
            "_view_module": "@jupyter-widgets/base",
            "_view_module_version": "1.2.0",
            "_view_name": "StyleView",
            "description_width": ""
          }
        },
        "a46cd198faa540978411606c917d398f": {
          "model_module": "@jupyter-widgets/controls",
          "model_name": "HBoxModel",
          "model_module_version": "1.5.0",
          "state": {
            "_dom_classes": [],
            "_model_module": "@jupyter-widgets/controls",
            "_model_module_version": "1.5.0",
            "_model_name": "HBoxModel",
            "_view_count": null,
            "_view_module": "@jupyter-widgets/controls",
            "_view_module_version": "1.5.0",
            "_view_name": "HBoxView",
            "box_style": "",
            "children": [
              "IPY_MODEL_7e869952743c4e2fb2422ddf846aabe3",
              "IPY_MODEL_93164e8092af425bbe1566322f040a3b",
              "IPY_MODEL_125bc448602849ffaed79c64e1180a66"
            ],
            "layout": "IPY_MODEL_a9128eb8c3dc4e9887b6dd99f0cf37d6"
          }
        },
        "7e869952743c4e2fb2422ddf846aabe3": {
          "model_module": "@jupyter-widgets/controls",
          "model_name": "HTMLModel",
          "model_module_version": "1.5.0",
          "state": {
            "_dom_classes": [],
            "_model_module": "@jupyter-widgets/controls",
            "_model_module_version": "1.5.0",
            "_model_name": "HTMLModel",
            "_view_count": null,
            "_view_module": "@jupyter-widgets/controls",
            "_view_module_version": "1.5.0",
            "_view_name": "HTMLView",
            "description": "",
            "description_tooltip": null,
            "layout": "IPY_MODEL_8345dda67a9a425ba14f90c87f2b28ca",
            "placeholder": "​",
            "style": "IPY_MODEL_fbaaa74e8fe54169bd844c2a320f7b1b",
            "value": "config_sentence_transformers.json: 100%"
          }
        },
        "93164e8092af425bbe1566322f040a3b": {
          "model_module": "@jupyter-widgets/controls",
          "model_name": "FloatProgressModel",
          "model_module_version": "1.5.0",
          "state": {
            "_dom_classes": [],
            "_model_module": "@jupyter-widgets/controls",
            "_model_module_version": "1.5.0",
            "_model_name": "FloatProgressModel",
            "_view_count": null,
            "_view_module": "@jupyter-widgets/controls",
            "_view_module_version": "1.5.0",
            "_view_name": "ProgressView",
            "bar_style": "success",
            "description": "",
            "description_tooltip": null,
            "layout": "IPY_MODEL_5d875a8c053a4f89b25ae266e1d5d46d",
            "max": 116,
            "min": 0,
            "orientation": "horizontal",
            "style": "IPY_MODEL_30d40b2fcd144b6e97e27ff439d7a174",
            "value": 116
          }
        },
        "125bc448602849ffaed79c64e1180a66": {
          "model_module": "@jupyter-widgets/controls",
          "model_name": "HTMLModel",
          "model_module_version": "1.5.0",
          "state": {
            "_dom_classes": [],
            "_model_module": "@jupyter-widgets/controls",
            "_model_module_version": "1.5.0",
            "_model_name": "HTMLModel",
            "_view_count": null,
            "_view_module": "@jupyter-widgets/controls",
            "_view_module_version": "1.5.0",
            "_view_name": "HTMLView",
            "description": "",
            "description_tooltip": null,
            "layout": "IPY_MODEL_335807997f2549f79fb4cc4944b036e4",
            "placeholder": "​",
            "style": "IPY_MODEL_c5a47bad01734a28b7f49ed93a0f2ee8",
            "value": " 116/116 [00:00&lt;00:00, 12.6kB/s]"
          }
        },
        "a9128eb8c3dc4e9887b6dd99f0cf37d6": {
          "model_module": "@jupyter-widgets/base",
          "model_name": "LayoutModel",
          "model_module_version": "1.2.0",
          "state": {
            "_model_module": "@jupyter-widgets/base",
            "_model_module_version": "1.2.0",
            "_model_name": "LayoutModel",
            "_view_count": null,
            "_view_module": "@jupyter-widgets/base",
            "_view_module_version": "1.2.0",
            "_view_name": "LayoutView",
            "align_content": null,
            "align_items": null,
            "align_self": null,
            "border": null,
            "bottom": null,
            "display": null,
            "flex": null,
            "flex_flow": null,
            "grid_area": null,
            "grid_auto_columns": null,
            "grid_auto_flow": null,
            "grid_auto_rows": null,
            "grid_column": null,
            "grid_gap": null,
            "grid_row": null,
            "grid_template_areas": null,
            "grid_template_columns": null,
            "grid_template_rows": null,
            "height": null,
            "justify_content": null,
            "justify_items": null,
            "left": null,
            "margin": null,
            "max_height": null,
            "max_width": null,
            "min_height": null,
            "min_width": null,
            "object_fit": null,
            "object_position": null,
            "order": null,
            "overflow": null,
            "overflow_x": null,
            "overflow_y": null,
            "padding": null,
            "right": null,
            "top": null,
            "visibility": null,
            "width": null
          }
        },
        "8345dda67a9a425ba14f90c87f2b28ca": {
          "model_module": "@jupyter-widgets/base",
          "model_name": "LayoutModel",
          "model_module_version": "1.2.0",
          "state": {
            "_model_module": "@jupyter-widgets/base",
            "_model_module_version": "1.2.0",
            "_model_name": "LayoutModel",
            "_view_count": null,
            "_view_module": "@jupyter-widgets/base",
            "_view_module_version": "1.2.0",
            "_view_name": "LayoutView",
            "align_content": null,
            "align_items": null,
            "align_self": null,
            "border": null,
            "bottom": null,
            "display": null,
            "flex": null,
            "flex_flow": null,
            "grid_area": null,
            "grid_auto_columns": null,
            "grid_auto_flow": null,
            "grid_auto_rows": null,
            "grid_column": null,
            "grid_gap": null,
            "grid_row": null,
            "grid_template_areas": null,
            "grid_template_columns": null,
            "grid_template_rows": null,
            "height": null,
            "justify_content": null,
            "justify_items": null,
            "left": null,
            "margin": null,
            "max_height": null,
            "max_width": null,
            "min_height": null,
            "min_width": null,
            "object_fit": null,
            "object_position": null,
            "order": null,
            "overflow": null,
            "overflow_x": null,
            "overflow_y": null,
            "padding": null,
            "right": null,
            "top": null,
            "visibility": null,
            "width": null
          }
        },
        "fbaaa74e8fe54169bd844c2a320f7b1b": {
          "model_module": "@jupyter-widgets/controls",
          "model_name": "DescriptionStyleModel",
          "model_module_version": "1.5.0",
          "state": {
            "_model_module": "@jupyter-widgets/controls",
            "_model_module_version": "1.5.0",
            "_model_name": "DescriptionStyleModel",
            "_view_count": null,
            "_view_module": "@jupyter-widgets/base",
            "_view_module_version": "1.2.0",
            "_view_name": "StyleView",
            "description_width": ""
          }
        },
        "5d875a8c053a4f89b25ae266e1d5d46d": {
          "model_module": "@jupyter-widgets/base",
          "model_name": "LayoutModel",
          "model_module_version": "1.2.0",
          "state": {
            "_model_module": "@jupyter-widgets/base",
            "_model_module_version": "1.2.0",
            "_model_name": "LayoutModel",
            "_view_count": null,
            "_view_module": "@jupyter-widgets/base",
            "_view_module_version": "1.2.0",
            "_view_name": "LayoutView",
            "align_content": null,
            "align_items": null,
            "align_self": null,
            "border": null,
            "bottom": null,
            "display": null,
            "flex": null,
            "flex_flow": null,
            "grid_area": null,
            "grid_auto_columns": null,
            "grid_auto_flow": null,
            "grid_auto_rows": null,
            "grid_column": null,
            "grid_gap": null,
            "grid_row": null,
            "grid_template_areas": null,
            "grid_template_columns": null,
            "grid_template_rows": null,
            "height": null,
            "justify_content": null,
            "justify_items": null,
            "left": null,
            "margin": null,
            "max_height": null,
            "max_width": null,
            "min_height": null,
            "min_width": null,
            "object_fit": null,
            "object_position": null,
            "order": null,
            "overflow": null,
            "overflow_x": null,
            "overflow_y": null,
            "padding": null,
            "right": null,
            "top": null,
            "visibility": null,
            "width": null
          }
        },
        "30d40b2fcd144b6e97e27ff439d7a174": {
          "model_module": "@jupyter-widgets/controls",
          "model_name": "ProgressStyleModel",
          "model_module_version": "1.5.0",
          "state": {
            "_model_module": "@jupyter-widgets/controls",
            "_model_module_version": "1.5.0",
            "_model_name": "ProgressStyleModel",
            "_view_count": null,
            "_view_module": "@jupyter-widgets/base",
            "_view_module_version": "1.2.0",
            "_view_name": "StyleView",
            "bar_color": null,
            "description_width": ""
          }
        },
        "335807997f2549f79fb4cc4944b036e4": {
          "model_module": "@jupyter-widgets/base",
          "model_name": "LayoutModel",
          "model_module_version": "1.2.0",
          "state": {
            "_model_module": "@jupyter-widgets/base",
            "_model_module_version": "1.2.0",
            "_model_name": "LayoutModel",
            "_view_count": null,
            "_view_module": "@jupyter-widgets/base",
            "_view_module_version": "1.2.0",
            "_view_name": "LayoutView",
            "align_content": null,
            "align_items": null,
            "align_self": null,
            "border": null,
            "bottom": null,
            "display": null,
            "flex": null,
            "flex_flow": null,
            "grid_area": null,
            "grid_auto_columns": null,
            "grid_auto_flow": null,
            "grid_auto_rows": null,
            "grid_column": null,
            "grid_gap": null,
            "grid_row": null,
            "grid_template_areas": null,
            "grid_template_columns": null,
            "grid_template_rows": null,
            "height": null,
            "justify_content": null,
            "justify_items": null,
            "left": null,
            "margin": null,
            "max_height": null,
            "max_width": null,
            "min_height": null,
            "min_width": null,
            "object_fit": null,
            "object_position": null,
            "order": null,
            "overflow": null,
            "overflow_x": null,
            "overflow_y": null,
            "padding": null,
            "right": null,
            "top": null,
            "visibility": null,
            "width": null
          }
        },
        "c5a47bad01734a28b7f49ed93a0f2ee8": {
          "model_module": "@jupyter-widgets/controls",
          "model_name": "DescriptionStyleModel",
          "model_module_version": "1.5.0",
          "state": {
            "_model_module": "@jupyter-widgets/controls",
            "_model_module_version": "1.5.0",
            "_model_name": "DescriptionStyleModel",
            "_view_count": null,
            "_view_module": "@jupyter-widgets/base",
            "_view_module_version": "1.2.0",
            "_view_name": "StyleView",
            "description_width": ""
          }
        },
        "db993d34b49e46f1ac0989bbf0e0e9ca": {
          "model_module": "@jupyter-widgets/controls",
          "model_name": "HBoxModel",
          "model_module_version": "1.5.0",
          "state": {
            "_dom_classes": [],
            "_model_module": "@jupyter-widgets/controls",
            "_model_module_version": "1.5.0",
            "_model_name": "HBoxModel",
            "_view_count": null,
            "_view_module": "@jupyter-widgets/controls",
            "_view_module_version": "1.5.0",
            "_view_name": "HBoxView",
            "box_style": "",
            "children": [
              "IPY_MODEL_94496269bb654e44a4869cb0f33d729f",
              "IPY_MODEL_1d98b137e7fc4ca5ad67b9791d6fd485",
              "IPY_MODEL_dbe0042decd84e3d9799c439d38f92f8"
            ],
            "layout": "IPY_MODEL_cc021bc632e641359dd6eee799f1dde3"
          }
        },
        "94496269bb654e44a4869cb0f33d729f": {
          "model_module": "@jupyter-widgets/controls",
          "model_name": "HTMLModel",
          "model_module_version": "1.5.0",
          "state": {
            "_dom_classes": [],
            "_model_module": "@jupyter-widgets/controls",
            "_model_module_version": "1.5.0",
            "_model_name": "HTMLModel",
            "_view_count": null,
            "_view_module": "@jupyter-widgets/controls",
            "_view_module_version": "1.5.0",
            "_view_name": "HTMLView",
            "description": "",
            "description_tooltip": null,
            "layout": "IPY_MODEL_167adf5b19944a648660f682d39d83d7",
            "placeholder": "​",
            "style": "IPY_MODEL_4519dbd63cc7470aa102c25ed3a47528",
            "value": "README.md: 100%"
          }
        },
        "1d98b137e7fc4ca5ad67b9791d6fd485": {
          "model_module": "@jupyter-widgets/controls",
          "model_name": "FloatProgressModel",
          "model_module_version": "1.5.0",
          "state": {
            "_dom_classes": [],
            "_model_module": "@jupyter-widgets/controls",
            "_model_module_version": "1.5.0",
            "_model_name": "FloatProgressModel",
            "_view_count": null,
            "_view_module": "@jupyter-widgets/controls",
            "_view_module_version": "1.5.0",
            "_view_name": "ProgressView",
            "bar_style": "success",
            "description": "",
            "description_tooltip": null,
            "layout": "IPY_MODEL_6e80d54845b94ffd82aa8477fc420504",
            "max": 10454,
            "min": 0,
            "orientation": "horizontal",
            "style": "IPY_MODEL_45efda4b57044352bfc681e51a2de860",
            "value": 10454
          }
        },
        "dbe0042decd84e3d9799c439d38f92f8": {
          "model_module": "@jupyter-widgets/controls",
          "model_name": "HTMLModel",
          "model_module_version": "1.5.0",
          "state": {
            "_dom_classes": [],
            "_model_module": "@jupyter-widgets/controls",
            "_model_module_version": "1.5.0",
            "_model_name": "HTMLModel",
            "_view_count": null,
            "_view_module": "@jupyter-widgets/controls",
            "_view_module_version": "1.5.0",
            "_view_name": "HTMLView",
            "description": "",
            "description_tooltip": null,
            "layout": "IPY_MODEL_aa328b77821b4fe7a89a8379a15081b2",
            "placeholder": "​",
            "style": "IPY_MODEL_5e1ab60d209e4935a97f0094212a23df",
            "value": " 10.5k/10.5k [00:00&lt;00:00, 802kB/s]"
          }
        },
        "cc021bc632e641359dd6eee799f1dde3": {
          "model_module": "@jupyter-widgets/base",
          "model_name": "LayoutModel",
          "model_module_version": "1.2.0",
          "state": {
            "_model_module": "@jupyter-widgets/base",
            "_model_module_version": "1.2.0",
            "_model_name": "LayoutModel",
            "_view_count": null,
            "_view_module": "@jupyter-widgets/base",
            "_view_module_version": "1.2.0",
            "_view_name": "LayoutView",
            "align_content": null,
            "align_items": null,
            "align_self": null,
            "border": null,
            "bottom": null,
            "display": null,
            "flex": null,
            "flex_flow": null,
            "grid_area": null,
            "grid_auto_columns": null,
            "grid_auto_flow": null,
            "grid_auto_rows": null,
            "grid_column": null,
            "grid_gap": null,
            "grid_row": null,
            "grid_template_areas": null,
            "grid_template_columns": null,
            "grid_template_rows": null,
            "height": null,
            "justify_content": null,
            "justify_items": null,
            "left": null,
            "margin": null,
            "max_height": null,
            "max_width": null,
            "min_height": null,
            "min_width": null,
            "object_fit": null,
            "object_position": null,
            "order": null,
            "overflow": null,
            "overflow_x": null,
            "overflow_y": null,
            "padding": null,
            "right": null,
            "top": null,
            "visibility": null,
            "width": null
          }
        },
        "167adf5b19944a648660f682d39d83d7": {
          "model_module": "@jupyter-widgets/base",
          "model_name": "LayoutModel",
          "model_module_version": "1.2.0",
          "state": {
            "_model_module": "@jupyter-widgets/base",
            "_model_module_version": "1.2.0",
            "_model_name": "LayoutModel",
            "_view_count": null,
            "_view_module": "@jupyter-widgets/base",
            "_view_module_version": "1.2.0",
            "_view_name": "LayoutView",
            "align_content": null,
            "align_items": null,
            "align_self": null,
            "border": null,
            "bottom": null,
            "display": null,
            "flex": null,
            "flex_flow": null,
            "grid_area": null,
            "grid_auto_columns": null,
            "grid_auto_flow": null,
            "grid_auto_rows": null,
            "grid_column": null,
            "grid_gap": null,
            "grid_row": null,
            "grid_template_areas": null,
            "grid_template_columns": null,
            "grid_template_rows": null,
            "height": null,
            "justify_content": null,
            "justify_items": null,
            "left": null,
            "margin": null,
            "max_height": null,
            "max_width": null,
            "min_height": null,
            "min_width": null,
            "object_fit": null,
            "object_position": null,
            "order": null,
            "overflow": null,
            "overflow_x": null,
            "overflow_y": null,
            "padding": null,
            "right": null,
            "top": null,
            "visibility": null,
            "width": null
          }
        },
        "4519dbd63cc7470aa102c25ed3a47528": {
          "model_module": "@jupyter-widgets/controls",
          "model_name": "DescriptionStyleModel",
          "model_module_version": "1.5.0",
          "state": {
            "_model_module": "@jupyter-widgets/controls",
            "_model_module_version": "1.5.0",
            "_model_name": "DescriptionStyleModel",
            "_view_count": null,
            "_view_module": "@jupyter-widgets/base",
            "_view_module_version": "1.2.0",
            "_view_name": "StyleView",
            "description_width": ""
          }
        },
        "6e80d54845b94ffd82aa8477fc420504": {
          "model_module": "@jupyter-widgets/base",
          "model_name": "LayoutModel",
          "model_module_version": "1.2.0",
          "state": {
            "_model_module": "@jupyter-widgets/base",
            "_model_module_version": "1.2.0",
            "_model_name": "LayoutModel",
            "_view_count": null,
            "_view_module": "@jupyter-widgets/base",
            "_view_module_version": "1.2.0",
            "_view_name": "LayoutView",
            "align_content": null,
            "align_items": null,
            "align_self": null,
            "border": null,
            "bottom": null,
            "display": null,
            "flex": null,
            "flex_flow": null,
            "grid_area": null,
            "grid_auto_columns": null,
            "grid_auto_flow": null,
            "grid_auto_rows": null,
            "grid_column": null,
            "grid_gap": null,
            "grid_row": null,
            "grid_template_areas": null,
            "grid_template_columns": null,
            "grid_template_rows": null,
            "height": null,
            "justify_content": null,
            "justify_items": null,
            "left": null,
            "margin": null,
            "max_height": null,
            "max_width": null,
            "min_height": null,
            "min_width": null,
            "object_fit": null,
            "object_position": null,
            "order": null,
            "overflow": null,
            "overflow_x": null,
            "overflow_y": null,
            "padding": null,
            "right": null,
            "top": null,
            "visibility": null,
            "width": null
          }
        },
        "45efda4b57044352bfc681e51a2de860": {
          "model_module": "@jupyter-widgets/controls",
          "model_name": "ProgressStyleModel",
          "model_module_version": "1.5.0",
          "state": {
            "_model_module": "@jupyter-widgets/controls",
            "_model_module_version": "1.5.0",
            "_model_name": "ProgressStyleModel",
            "_view_count": null,
            "_view_module": "@jupyter-widgets/base",
            "_view_module_version": "1.2.0",
            "_view_name": "StyleView",
            "bar_color": null,
            "description_width": ""
          }
        },
        "aa328b77821b4fe7a89a8379a15081b2": {
          "model_module": "@jupyter-widgets/base",
          "model_name": "LayoutModel",
          "model_module_version": "1.2.0",
          "state": {
            "_model_module": "@jupyter-widgets/base",
            "_model_module_version": "1.2.0",
            "_model_name": "LayoutModel",
            "_view_count": null,
            "_view_module": "@jupyter-widgets/base",
            "_view_module_version": "1.2.0",
            "_view_name": "LayoutView",
            "align_content": null,
            "align_items": null,
            "align_self": null,
            "border": null,
            "bottom": null,
            "display": null,
            "flex": null,
            "flex_flow": null,
            "grid_area": null,
            "grid_auto_columns": null,
            "grid_auto_flow": null,
            "grid_auto_rows": null,
            "grid_column": null,
            "grid_gap": null,
            "grid_row": null,
            "grid_template_areas": null,
            "grid_template_columns": null,
            "grid_template_rows": null,
            "height": null,
            "justify_content": null,
            "justify_items": null,
            "left": null,
            "margin": null,
            "max_height": null,
            "max_width": null,
            "min_height": null,
            "min_width": null,
            "object_fit": null,
            "object_position": null,
            "order": null,
            "overflow": null,
            "overflow_x": null,
            "overflow_y": null,
            "padding": null,
            "right": null,
            "top": null,
            "visibility": null,
            "width": null
          }
        },
        "5e1ab60d209e4935a97f0094212a23df": {
          "model_module": "@jupyter-widgets/controls",
          "model_name": "DescriptionStyleModel",
          "model_module_version": "1.5.0",
          "state": {
            "_model_module": "@jupyter-widgets/controls",
            "_model_module_version": "1.5.0",
            "_model_name": "DescriptionStyleModel",
            "_view_count": null,
            "_view_module": "@jupyter-widgets/base",
            "_view_module_version": "1.2.0",
            "_view_name": "StyleView",
            "description_width": ""
          }
        },
        "3932a3a0304647f6a53088a1d372f01c": {
          "model_module": "@jupyter-widgets/controls",
          "model_name": "HBoxModel",
          "model_module_version": "1.5.0",
          "state": {
            "_dom_classes": [],
            "_model_module": "@jupyter-widgets/controls",
            "_model_module_version": "1.5.0",
            "_model_name": "HBoxModel",
            "_view_count": null,
            "_view_module": "@jupyter-widgets/controls",
            "_view_module_version": "1.5.0",
            "_view_name": "HBoxView",
            "box_style": "",
            "children": [
              "IPY_MODEL_85712003316c45b2a1083e99b4517afe",
              "IPY_MODEL_d561927e0a364073ac39d67b52daba4d",
              "IPY_MODEL_0398c3eaf071487fa9d694c3f51d521a"
            ],
            "layout": "IPY_MODEL_cbb4ddb321ca480bbfccab76f0e46c9c"
          }
        },
        "85712003316c45b2a1083e99b4517afe": {
          "model_module": "@jupyter-widgets/controls",
          "model_name": "HTMLModel",
          "model_module_version": "1.5.0",
          "state": {
            "_dom_classes": [],
            "_model_module": "@jupyter-widgets/controls",
            "_model_module_version": "1.5.0",
            "_model_name": "HTMLModel",
            "_view_count": null,
            "_view_module": "@jupyter-widgets/controls",
            "_view_module_version": "1.5.0",
            "_view_name": "HTMLView",
            "description": "",
            "description_tooltip": null,
            "layout": "IPY_MODEL_8ce093f4662a463b9bfbf7ade978dc23",
            "placeholder": "​",
            "style": "IPY_MODEL_ff4f753b20bd427184296acbd5d398f6",
            "value": "sentence_bert_config.json: 100%"
          }
        },
        "d561927e0a364073ac39d67b52daba4d": {
          "model_module": "@jupyter-widgets/controls",
          "model_name": "FloatProgressModel",
          "model_module_version": "1.5.0",
          "state": {
            "_dom_classes": [],
            "_model_module": "@jupyter-widgets/controls",
            "_model_module_version": "1.5.0",
            "_model_name": "FloatProgressModel",
            "_view_count": null,
            "_view_module": "@jupyter-widgets/controls",
            "_view_module_version": "1.5.0",
            "_view_name": "ProgressView",
            "bar_style": "success",
            "description": "",
            "description_tooltip": null,
            "layout": "IPY_MODEL_b059ca2c2c30430c97e9fb90816e00f5",
            "max": 53,
            "min": 0,
            "orientation": "horizontal",
            "style": "IPY_MODEL_5de8584c0bfb49ad8fd91e8068a80f49",
            "value": 53
          }
        },
        "0398c3eaf071487fa9d694c3f51d521a": {
          "model_module": "@jupyter-widgets/controls",
          "model_name": "HTMLModel",
          "model_module_version": "1.5.0",
          "state": {
            "_dom_classes": [],
            "_model_module": "@jupyter-widgets/controls",
            "_model_module_version": "1.5.0",
            "_model_name": "HTMLModel",
            "_view_count": null,
            "_view_module": "@jupyter-widgets/controls",
            "_view_module_version": "1.5.0",
            "_view_name": "HTMLView",
            "description": "",
            "description_tooltip": null,
            "layout": "IPY_MODEL_a5b02fdc41f5471b8c0902004d59739e",
            "placeholder": "​",
            "style": "IPY_MODEL_03b59eb1714a496ba2d4a0b8d3ba6303",
            "value": " 53.0/53.0 [00:00&lt;00:00, 5.93kB/s]"
          }
        },
        "cbb4ddb321ca480bbfccab76f0e46c9c": {
          "model_module": "@jupyter-widgets/base",
          "model_name": "LayoutModel",
          "model_module_version": "1.2.0",
          "state": {
            "_model_module": "@jupyter-widgets/base",
            "_model_module_version": "1.2.0",
            "_model_name": "LayoutModel",
            "_view_count": null,
            "_view_module": "@jupyter-widgets/base",
            "_view_module_version": "1.2.0",
            "_view_name": "LayoutView",
            "align_content": null,
            "align_items": null,
            "align_self": null,
            "border": null,
            "bottom": null,
            "display": null,
            "flex": null,
            "flex_flow": null,
            "grid_area": null,
            "grid_auto_columns": null,
            "grid_auto_flow": null,
            "grid_auto_rows": null,
            "grid_column": null,
            "grid_gap": null,
            "grid_row": null,
            "grid_template_areas": null,
            "grid_template_columns": null,
            "grid_template_rows": null,
            "height": null,
            "justify_content": null,
            "justify_items": null,
            "left": null,
            "margin": null,
            "max_height": null,
            "max_width": null,
            "min_height": null,
            "min_width": null,
            "object_fit": null,
            "object_position": null,
            "order": null,
            "overflow": null,
            "overflow_x": null,
            "overflow_y": null,
            "padding": null,
            "right": null,
            "top": null,
            "visibility": null,
            "width": null
          }
        },
        "8ce093f4662a463b9bfbf7ade978dc23": {
          "model_module": "@jupyter-widgets/base",
          "model_name": "LayoutModel",
          "model_module_version": "1.2.0",
          "state": {
            "_model_module": "@jupyter-widgets/base",
            "_model_module_version": "1.2.0",
            "_model_name": "LayoutModel",
            "_view_count": null,
            "_view_module": "@jupyter-widgets/base",
            "_view_module_version": "1.2.0",
            "_view_name": "LayoutView",
            "align_content": null,
            "align_items": null,
            "align_self": null,
            "border": null,
            "bottom": null,
            "display": null,
            "flex": null,
            "flex_flow": null,
            "grid_area": null,
            "grid_auto_columns": null,
            "grid_auto_flow": null,
            "grid_auto_rows": null,
            "grid_column": null,
            "grid_gap": null,
            "grid_row": null,
            "grid_template_areas": null,
            "grid_template_columns": null,
            "grid_template_rows": null,
            "height": null,
            "justify_content": null,
            "justify_items": null,
            "left": null,
            "margin": null,
            "max_height": null,
            "max_width": null,
            "min_height": null,
            "min_width": null,
            "object_fit": null,
            "object_position": null,
            "order": null,
            "overflow": null,
            "overflow_x": null,
            "overflow_y": null,
            "padding": null,
            "right": null,
            "top": null,
            "visibility": null,
            "width": null
          }
        },
        "ff4f753b20bd427184296acbd5d398f6": {
          "model_module": "@jupyter-widgets/controls",
          "model_name": "DescriptionStyleModel",
          "model_module_version": "1.5.0",
          "state": {
            "_model_module": "@jupyter-widgets/controls",
            "_model_module_version": "1.5.0",
            "_model_name": "DescriptionStyleModel",
            "_view_count": null,
            "_view_module": "@jupyter-widgets/base",
            "_view_module_version": "1.2.0",
            "_view_name": "StyleView",
            "description_width": ""
          }
        },
        "b059ca2c2c30430c97e9fb90816e00f5": {
          "model_module": "@jupyter-widgets/base",
          "model_name": "LayoutModel",
          "model_module_version": "1.2.0",
          "state": {
            "_model_module": "@jupyter-widgets/base",
            "_model_module_version": "1.2.0",
            "_model_name": "LayoutModel",
            "_view_count": null,
            "_view_module": "@jupyter-widgets/base",
            "_view_module_version": "1.2.0",
            "_view_name": "LayoutView",
            "align_content": null,
            "align_items": null,
            "align_self": null,
            "border": null,
            "bottom": null,
            "display": null,
            "flex": null,
            "flex_flow": null,
            "grid_area": null,
            "grid_auto_columns": null,
            "grid_auto_flow": null,
            "grid_auto_rows": null,
            "grid_column": null,
            "grid_gap": null,
            "grid_row": null,
            "grid_template_areas": null,
            "grid_template_columns": null,
            "grid_template_rows": null,
            "height": null,
            "justify_content": null,
            "justify_items": null,
            "left": null,
            "margin": null,
            "max_height": null,
            "max_width": null,
            "min_height": null,
            "min_width": null,
            "object_fit": null,
            "object_position": null,
            "order": null,
            "overflow": null,
            "overflow_x": null,
            "overflow_y": null,
            "padding": null,
            "right": null,
            "top": null,
            "visibility": null,
            "width": null
          }
        },
        "5de8584c0bfb49ad8fd91e8068a80f49": {
          "model_module": "@jupyter-widgets/controls",
          "model_name": "ProgressStyleModel",
          "model_module_version": "1.5.0",
          "state": {
            "_model_module": "@jupyter-widgets/controls",
            "_model_module_version": "1.5.0",
            "_model_name": "ProgressStyleModel",
            "_view_count": null,
            "_view_module": "@jupyter-widgets/base",
            "_view_module_version": "1.2.0",
            "_view_name": "StyleView",
            "bar_color": null,
            "description_width": ""
          }
        },
        "a5b02fdc41f5471b8c0902004d59739e": {
          "model_module": "@jupyter-widgets/base",
          "model_name": "LayoutModel",
          "model_module_version": "1.2.0",
          "state": {
            "_model_module": "@jupyter-widgets/base",
            "_model_module_version": "1.2.0",
            "_model_name": "LayoutModel",
            "_view_count": null,
            "_view_module": "@jupyter-widgets/base",
            "_view_module_version": "1.2.0",
            "_view_name": "LayoutView",
            "align_content": null,
            "align_items": null,
            "align_self": null,
            "border": null,
            "bottom": null,
            "display": null,
            "flex": null,
            "flex_flow": null,
            "grid_area": null,
            "grid_auto_columns": null,
            "grid_auto_flow": null,
            "grid_auto_rows": null,
            "grid_column": null,
            "grid_gap": null,
            "grid_row": null,
            "grid_template_areas": null,
            "grid_template_columns": null,
            "grid_template_rows": null,
            "height": null,
            "justify_content": null,
            "justify_items": null,
            "left": null,
            "margin": null,
            "max_height": null,
            "max_width": null,
            "min_height": null,
            "min_width": null,
            "object_fit": null,
            "object_position": null,
            "order": null,
            "overflow": null,
            "overflow_x": null,
            "overflow_y": null,
            "padding": null,
            "right": null,
            "top": null,
            "visibility": null,
            "width": null
          }
        },
        "03b59eb1714a496ba2d4a0b8d3ba6303": {
          "model_module": "@jupyter-widgets/controls",
          "model_name": "DescriptionStyleModel",
          "model_module_version": "1.5.0",
          "state": {
            "_model_module": "@jupyter-widgets/controls",
            "_model_module_version": "1.5.0",
            "_model_name": "DescriptionStyleModel",
            "_view_count": null,
            "_view_module": "@jupyter-widgets/base",
            "_view_module_version": "1.2.0",
            "_view_name": "StyleView",
            "description_width": ""
          }
        },
        "200adbc99b9246149d0a06cf700fc806": {
          "model_module": "@jupyter-widgets/controls",
          "model_name": "HBoxModel",
          "model_module_version": "1.5.0",
          "state": {
            "_dom_classes": [],
            "_model_module": "@jupyter-widgets/controls",
            "_model_module_version": "1.5.0",
            "_model_name": "HBoxModel",
            "_view_count": null,
            "_view_module": "@jupyter-widgets/controls",
            "_view_module_version": "1.5.0",
            "_view_name": "HBoxView",
            "box_style": "",
            "children": [
              "IPY_MODEL_8e45c34d9a8545d4b5af2b7b17b7908e",
              "IPY_MODEL_107b4fbc76cd4cd3bacef34845606fb2",
              "IPY_MODEL_2e14097dd3384f668135ac2694454364"
            ],
            "layout": "IPY_MODEL_59d7beda4f93465688bef48edce5da8c"
          }
        },
        "8e45c34d9a8545d4b5af2b7b17b7908e": {
          "model_module": "@jupyter-widgets/controls",
          "model_name": "HTMLModel",
          "model_module_version": "1.5.0",
          "state": {
            "_dom_classes": [],
            "_model_module": "@jupyter-widgets/controls",
            "_model_module_version": "1.5.0",
            "_model_name": "HTMLModel",
            "_view_count": null,
            "_view_module": "@jupyter-widgets/controls",
            "_view_module_version": "1.5.0",
            "_view_name": "HTMLView",
            "description": "",
            "description_tooltip": null,
            "layout": "IPY_MODEL_cb21621fc956402099fb497f0b2b9761",
            "placeholder": "​",
            "style": "IPY_MODEL_f8eca568bb4747b68eec39bf1c38285d",
            "value": "config.json: 100%"
          }
        },
        "107b4fbc76cd4cd3bacef34845606fb2": {
          "model_module": "@jupyter-widgets/controls",
          "model_name": "FloatProgressModel",
          "model_module_version": "1.5.0",
          "state": {
            "_dom_classes": [],
            "_model_module": "@jupyter-widgets/controls",
            "_model_module_version": "1.5.0",
            "_model_name": "FloatProgressModel",
            "_view_count": null,
            "_view_module": "@jupyter-widgets/controls",
            "_view_module_version": "1.5.0",
            "_view_name": "ProgressView",
            "bar_style": "success",
            "description": "",
            "description_tooltip": null,
            "layout": "IPY_MODEL_027a12a678d043a787a396cf54a07b7d",
            "max": 612,
            "min": 0,
            "orientation": "horizontal",
            "style": "IPY_MODEL_bf833f9831724936a21587b242f7877e",
            "value": 612
          }
        },
        "2e14097dd3384f668135ac2694454364": {
          "model_module": "@jupyter-widgets/controls",
          "model_name": "HTMLModel",
          "model_module_version": "1.5.0",
          "state": {
            "_dom_classes": [],
            "_model_module": "@jupyter-widgets/controls",
            "_model_module_version": "1.5.0",
            "_model_name": "HTMLModel",
            "_view_count": null,
            "_view_module": "@jupyter-widgets/controls",
            "_view_module_version": "1.5.0",
            "_view_name": "HTMLView",
            "description": "",
            "description_tooltip": null,
            "layout": "IPY_MODEL_46905b62671d41919bbfa2f6d0b2f130",
            "placeholder": "​",
            "style": "IPY_MODEL_face87172938460dac2508a9db8237b1",
            "value": " 612/612 [00:00&lt;00:00, 68.5kB/s]"
          }
        },
        "59d7beda4f93465688bef48edce5da8c": {
          "model_module": "@jupyter-widgets/base",
          "model_name": "LayoutModel",
          "model_module_version": "1.2.0",
          "state": {
            "_model_module": "@jupyter-widgets/base",
            "_model_module_version": "1.2.0",
            "_model_name": "LayoutModel",
            "_view_count": null,
            "_view_module": "@jupyter-widgets/base",
            "_view_module_version": "1.2.0",
            "_view_name": "LayoutView",
            "align_content": null,
            "align_items": null,
            "align_self": null,
            "border": null,
            "bottom": null,
            "display": null,
            "flex": null,
            "flex_flow": null,
            "grid_area": null,
            "grid_auto_columns": null,
            "grid_auto_flow": null,
            "grid_auto_rows": null,
            "grid_column": null,
            "grid_gap": null,
            "grid_row": null,
            "grid_template_areas": null,
            "grid_template_columns": null,
            "grid_template_rows": null,
            "height": null,
            "justify_content": null,
            "justify_items": null,
            "left": null,
            "margin": null,
            "max_height": null,
            "max_width": null,
            "min_height": null,
            "min_width": null,
            "object_fit": null,
            "object_position": null,
            "order": null,
            "overflow": null,
            "overflow_x": null,
            "overflow_y": null,
            "padding": null,
            "right": null,
            "top": null,
            "visibility": null,
            "width": null
          }
        },
        "cb21621fc956402099fb497f0b2b9761": {
          "model_module": "@jupyter-widgets/base",
          "model_name": "LayoutModel",
          "model_module_version": "1.2.0",
          "state": {
            "_model_module": "@jupyter-widgets/base",
            "_model_module_version": "1.2.0",
            "_model_name": "LayoutModel",
            "_view_count": null,
            "_view_module": "@jupyter-widgets/base",
            "_view_module_version": "1.2.0",
            "_view_name": "LayoutView",
            "align_content": null,
            "align_items": null,
            "align_self": null,
            "border": null,
            "bottom": null,
            "display": null,
            "flex": null,
            "flex_flow": null,
            "grid_area": null,
            "grid_auto_columns": null,
            "grid_auto_flow": null,
            "grid_auto_rows": null,
            "grid_column": null,
            "grid_gap": null,
            "grid_row": null,
            "grid_template_areas": null,
            "grid_template_columns": null,
            "grid_template_rows": null,
            "height": null,
            "justify_content": null,
            "justify_items": null,
            "left": null,
            "margin": null,
            "max_height": null,
            "max_width": null,
            "min_height": null,
            "min_width": null,
            "object_fit": null,
            "object_position": null,
            "order": null,
            "overflow": null,
            "overflow_x": null,
            "overflow_y": null,
            "padding": null,
            "right": null,
            "top": null,
            "visibility": null,
            "width": null
          }
        },
        "f8eca568bb4747b68eec39bf1c38285d": {
          "model_module": "@jupyter-widgets/controls",
          "model_name": "DescriptionStyleModel",
          "model_module_version": "1.5.0",
          "state": {
            "_model_module": "@jupyter-widgets/controls",
            "_model_module_version": "1.5.0",
            "_model_name": "DescriptionStyleModel",
            "_view_count": null,
            "_view_module": "@jupyter-widgets/base",
            "_view_module_version": "1.2.0",
            "_view_name": "StyleView",
            "description_width": ""
          }
        },
        "027a12a678d043a787a396cf54a07b7d": {
          "model_module": "@jupyter-widgets/base",
          "model_name": "LayoutModel",
          "model_module_version": "1.2.0",
          "state": {
            "_model_module": "@jupyter-widgets/base",
            "_model_module_version": "1.2.0",
            "_model_name": "LayoutModel",
            "_view_count": null,
            "_view_module": "@jupyter-widgets/base",
            "_view_module_version": "1.2.0",
            "_view_name": "LayoutView",
            "align_content": null,
            "align_items": null,
            "align_self": null,
            "border": null,
            "bottom": null,
            "display": null,
            "flex": null,
            "flex_flow": null,
            "grid_area": null,
            "grid_auto_columns": null,
            "grid_auto_flow": null,
            "grid_auto_rows": null,
            "grid_column": null,
            "grid_gap": null,
            "grid_row": null,
            "grid_template_areas": null,
            "grid_template_columns": null,
            "grid_template_rows": null,
            "height": null,
            "justify_content": null,
            "justify_items": null,
            "left": null,
            "margin": null,
            "max_height": null,
            "max_width": null,
            "min_height": null,
            "min_width": null,
            "object_fit": null,
            "object_position": null,
            "order": null,
            "overflow": null,
            "overflow_x": null,
            "overflow_y": null,
            "padding": null,
            "right": null,
            "top": null,
            "visibility": null,
            "width": null
          }
        },
        "bf833f9831724936a21587b242f7877e": {
          "model_module": "@jupyter-widgets/controls",
          "model_name": "ProgressStyleModel",
          "model_module_version": "1.5.0",
          "state": {
            "_model_module": "@jupyter-widgets/controls",
            "_model_module_version": "1.5.0",
            "_model_name": "ProgressStyleModel",
            "_view_count": null,
            "_view_module": "@jupyter-widgets/base",
            "_view_module_version": "1.2.0",
            "_view_name": "StyleView",
            "bar_color": null,
            "description_width": ""
          }
        },
        "46905b62671d41919bbfa2f6d0b2f130": {
          "model_module": "@jupyter-widgets/base",
          "model_name": "LayoutModel",
          "model_module_version": "1.2.0",
          "state": {
            "_model_module": "@jupyter-widgets/base",
            "_model_module_version": "1.2.0",
            "_model_name": "LayoutModel",
            "_view_count": null,
            "_view_module": "@jupyter-widgets/base",
            "_view_module_version": "1.2.0",
            "_view_name": "LayoutView",
            "align_content": null,
            "align_items": null,
            "align_self": null,
            "border": null,
            "bottom": null,
            "display": null,
            "flex": null,
            "flex_flow": null,
            "grid_area": null,
            "grid_auto_columns": null,
            "grid_auto_flow": null,
            "grid_auto_rows": null,
            "grid_column": null,
            "grid_gap": null,
            "grid_row": null,
            "grid_template_areas": null,
            "grid_template_columns": null,
            "grid_template_rows": null,
            "height": null,
            "justify_content": null,
            "justify_items": null,
            "left": null,
            "margin": null,
            "max_height": null,
            "max_width": null,
            "min_height": null,
            "min_width": null,
            "object_fit": null,
            "object_position": null,
            "order": null,
            "overflow": null,
            "overflow_x": null,
            "overflow_y": null,
            "padding": null,
            "right": null,
            "top": null,
            "visibility": null,
            "width": null
          }
        },
        "face87172938460dac2508a9db8237b1": {
          "model_module": "@jupyter-widgets/controls",
          "model_name": "DescriptionStyleModel",
          "model_module_version": "1.5.0",
          "state": {
            "_model_module": "@jupyter-widgets/controls",
            "_model_module_version": "1.5.0",
            "_model_name": "DescriptionStyleModel",
            "_view_count": null,
            "_view_module": "@jupyter-widgets/base",
            "_view_module_version": "1.2.0",
            "_view_name": "StyleView",
            "description_width": ""
          }
        },
        "31c792789d804edbb64f5647fe04d4e1": {
          "model_module": "@jupyter-widgets/controls",
          "model_name": "HBoxModel",
          "model_module_version": "1.5.0",
          "state": {
            "_dom_classes": [],
            "_model_module": "@jupyter-widgets/controls",
            "_model_module_version": "1.5.0",
            "_model_name": "HBoxModel",
            "_view_count": null,
            "_view_module": "@jupyter-widgets/controls",
            "_view_module_version": "1.5.0",
            "_view_name": "HBoxView",
            "box_style": "",
            "children": [
              "IPY_MODEL_84139d48bd21445e82a524d82cc59d52",
              "IPY_MODEL_08f622d8fe134fb281c48191322b2d80",
              "IPY_MODEL_aa91c74e6abd415c91bf3082636d321a"
            ],
            "layout": "IPY_MODEL_e02f7566f5c34b83af5b792644acd803"
          }
        },
        "84139d48bd21445e82a524d82cc59d52": {
          "model_module": "@jupyter-widgets/controls",
          "model_name": "HTMLModel",
          "model_module_version": "1.5.0",
          "state": {
            "_dom_classes": [],
            "_model_module": "@jupyter-widgets/controls",
            "_model_module_version": "1.5.0",
            "_model_name": "HTMLModel",
            "_view_count": null,
            "_view_module": "@jupyter-widgets/controls",
            "_view_module_version": "1.5.0",
            "_view_name": "HTMLView",
            "description": "",
            "description_tooltip": null,
            "layout": "IPY_MODEL_439caff7053e40fa8501d033d11e3770",
            "placeholder": "​",
            "style": "IPY_MODEL_e1fa67f5a7f1470f874a9f25676a5b1c",
            "value": "model.safetensors: 100%"
          }
        },
        "08f622d8fe134fb281c48191322b2d80": {
          "model_module": "@jupyter-widgets/controls",
          "model_name": "FloatProgressModel",
          "model_module_version": "1.5.0",
          "state": {
            "_dom_classes": [],
            "_model_module": "@jupyter-widgets/controls",
            "_model_module_version": "1.5.0",
            "_model_name": "FloatProgressModel",
            "_view_count": null,
            "_view_module": "@jupyter-widgets/controls",
            "_view_module_version": "1.5.0",
            "_view_name": "ProgressView",
            "bar_style": "success",
            "description": "",
            "description_tooltip": null,
            "layout": "IPY_MODEL_38dc61eb08a24f7fb076f4c4f3a769b1",
            "max": 90868376,
            "min": 0,
            "orientation": "horizontal",
            "style": "IPY_MODEL_f76c95a5b5064e83af59e0c50954c39f",
            "value": 90868376
          }
        },
        "aa91c74e6abd415c91bf3082636d321a": {
          "model_module": "@jupyter-widgets/controls",
          "model_name": "HTMLModel",
          "model_module_version": "1.5.0",
          "state": {
            "_dom_classes": [],
            "_model_module": "@jupyter-widgets/controls",
            "_model_module_version": "1.5.0",
            "_model_name": "HTMLModel",
            "_view_count": null,
            "_view_module": "@jupyter-widgets/controls",
            "_view_module_version": "1.5.0",
            "_view_name": "HTMLView",
            "description": "",
            "description_tooltip": null,
            "layout": "IPY_MODEL_84d8f95673a043b698a949b61aba1fad",
            "placeholder": "​",
            "style": "IPY_MODEL_d27a1312b5b646169507cb27da26311a",
            "value": " 90.9M/90.9M [00:00&lt;00:00, 173MB/s]"
          }
        },
        "e02f7566f5c34b83af5b792644acd803": {
          "model_module": "@jupyter-widgets/base",
          "model_name": "LayoutModel",
          "model_module_version": "1.2.0",
          "state": {
            "_model_module": "@jupyter-widgets/base",
            "_model_module_version": "1.2.0",
            "_model_name": "LayoutModel",
            "_view_count": null,
            "_view_module": "@jupyter-widgets/base",
            "_view_module_version": "1.2.0",
            "_view_name": "LayoutView",
            "align_content": null,
            "align_items": null,
            "align_self": null,
            "border": null,
            "bottom": null,
            "display": null,
            "flex": null,
            "flex_flow": null,
            "grid_area": null,
            "grid_auto_columns": null,
            "grid_auto_flow": null,
            "grid_auto_rows": null,
            "grid_column": null,
            "grid_gap": null,
            "grid_row": null,
            "grid_template_areas": null,
            "grid_template_columns": null,
            "grid_template_rows": null,
            "height": null,
            "justify_content": null,
            "justify_items": null,
            "left": null,
            "margin": null,
            "max_height": null,
            "max_width": null,
            "min_height": null,
            "min_width": null,
            "object_fit": null,
            "object_position": null,
            "order": null,
            "overflow": null,
            "overflow_x": null,
            "overflow_y": null,
            "padding": null,
            "right": null,
            "top": null,
            "visibility": null,
            "width": null
          }
        },
        "439caff7053e40fa8501d033d11e3770": {
          "model_module": "@jupyter-widgets/base",
          "model_name": "LayoutModel",
          "model_module_version": "1.2.0",
          "state": {
            "_model_module": "@jupyter-widgets/base",
            "_model_module_version": "1.2.0",
            "_model_name": "LayoutModel",
            "_view_count": null,
            "_view_module": "@jupyter-widgets/base",
            "_view_module_version": "1.2.0",
            "_view_name": "LayoutView",
            "align_content": null,
            "align_items": null,
            "align_self": null,
            "border": null,
            "bottom": null,
            "display": null,
            "flex": null,
            "flex_flow": null,
            "grid_area": null,
            "grid_auto_columns": null,
            "grid_auto_flow": null,
            "grid_auto_rows": null,
            "grid_column": null,
            "grid_gap": null,
            "grid_row": null,
            "grid_template_areas": null,
            "grid_template_columns": null,
            "grid_template_rows": null,
            "height": null,
            "justify_content": null,
            "justify_items": null,
            "left": null,
            "margin": null,
            "max_height": null,
            "max_width": null,
            "min_height": null,
            "min_width": null,
            "object_fit": null,
            "object_position": null,
            "order": null,
            "overflow": null,
            "overflow_x": null,
            "overflow_y": null,
            "padding": null,
            "right": null,
            "top": null,
            "visibility": null,
            "width": null
          }
        },
        "e1fa67f5a7f1470f874a9f25676a5b1c": {
          "model_module": "@jupyter-widgets/controls",
          "model_name": "DescriptionStyleModel",
          "model_module_version": "1.5.0",
          "state": {
            "_model_module": "@jupyter-widgets/controls",
            "_model_module_version": "1.5.0",
            "_model_name": "DescriptionStyleModel",
            "_view_count": null,
            "_view_module": "@jupyter-widgets/base",
            "_view_module_version": "1.2.0",
            "_view_name": "StyleView",
            "description_width": ""
          }
        },
        "38dc61eb08a24f7fb076f4c4f3a769b1": {
          "model_module": "@jupyter-widgets/base",
          "model_name": "LayoutModel",
          "model_module_version": "1.2.0",
          "state": {
            "_model_module": "@jupyter-widgets/base",
            "_model_module_version": "1.2.0",
            "_model_name": "LayoutModel",
            "_view_count": null,
            "_view_module": "@jupyter-widgets/base",
            "_view_module_version": "1.2.0",
            "_view_name": "LayoutView",
            "align_content": null,
            "align_items": null,
            "align_self": null,
            "border": null,
            "bottom": null,
            "display": null,
            "flex": null,
            "flex_flow": null,
            "grid_area": null,
            "grid_auto_columns": null,
            "grid_auto_flow": null,
            "grid_auto_rows": null,
            "grid_column": null,
            "grid_gap": null,
            "grid_row": null,
            "grid_template_areas": null,
            "grid_template_columns": null,
            "grid_template_rows": null,
            "height": null,
            "justify_content": null,
            "justify_items": null,
            "left": null,
            "margin": null,
            "max_height": null,
            "max_width": null,
            "min_height": null,
            "min_width": null,
            "object_fit": null,
            "object_position": null,
            "order": null,
            "overflow": null,
            "overflow_x": null,
            "overflow_y": null,
            "padding": null,
            "right": null,
            "top": null,
            "visibility": null,
            "width": null
          }
        },
        "f76c95a5b5064e83af59e0c50954c39f": {
          "model_module": "@jupyter-widgets/controls",
          "model_name": "ProgressStyleModel",
          "model_module_version": "1.5.0",
          "state": {
            "_model_module": "@jupyter-widgets/controls",
            "_model_module_version": "1.5.0",
            "_model_name": "ProgressStyleModel",
            "_view_count": null,
            "_view_module": "@jupyter-widgets/base",
            "_view_module_version": "1.2.0",
            "_view_name": "StyleView",
            "bar_color": null,
            "description_width": ""
          }
        },
        "84d8f95673a043b698a949b61aba1fad": {
          "model_module": "@jupyter-widgets/base",
          "model_name": "LayoutModel",
          "model_module_version": "1.2.0",
          "state": {
            "_model_module": "@jupyter-widgets/base",
            "_model_module_version": "1.2.0",
            "_model_name": "LayoutModel",
            "_view_count": null,
            "_view_module": "@jupyter-widgets/base",
            "_view_module_version": "1.2.0",
            "_view_name": "LayoutView",
            "align_content": null,
            "align_items": null,
            "align_self": null,
            "border": null,
            "bottom": null,
            "display": null,
            "flex": null,
            "flex_flow": null,
            "grid_area": null,
            "grid_auto_columns": null,
            "grid_auto_flow": null,
            "grid_auto_rows": null,
            "grid_column": null,
            "grid_gap": null,
            "grid_row": null,
            "grid_template_areas": null,
            "grid_template_columns": null,
            "grid_template_rows": null,
            "height": null,
            "justify_content": null,
            "justify_items": null,
            "left": null,
            "margin": null,
            "max_height": null,
            "max_width": null,
            "min_height": null,
            "min_width": null,
            "object_fit": null,
            "object_position": null,
            "order": null,
            "overflow": null,
            "overflow_x": null,
            "overflow_y": null,
            "padding": null,
            "right": null,
            "top": null,
            "visibility": null,
            "width": null
          }
        },
        "d27a1312b5b646169507cb27da26311a": {
          "model_module": "@jupyter-widgets/controls",
          "model_name": "DescriptionStyleModel",
          "model_module_version": "1.5.0",
          "state": {
            "_model_module": "@jupyter-widgets/controls",
            "_model_module_version": "1.5.0",
            "_model_name": "DescriptionStyleModel",
            "_view_count": null,
            "_view_module": "@jupyter-widgets/base",
            "_view_module_version": "1.2.0",
            "_view_name": "StyleView",
            "description_width": ""
          }
        },
        "6e1c390b902b43d79b461e680e386cd0": {
          "model_module": "@jupyter-widgets/controls",
          "model_name": "HBoxModel",
          "model_module_version": "1.5.0",
          "state": {
            "_dom_classes": [],
            "_model_module": "@jupyter-widgets/controls",
            "_model_module_version": "1.5.0",
            "_model_name": "HBoxModel",
            "_view_count": null,
            "_view_module": "@jupyter-widgets/controls",
            "_view_module_version": "1.5.0",
            "_view_name": "HBoxView",
            "box_style": "",
            "children": [
              "IPY_MODEL_5b3f02afe02a41febc774fe5e47c3d71",
              "IPY_MODEL_a0d77b46108e4403915ef2c5e102edc7",
              "IPY_MODEL_635bbd703c0e4969b0683295d8ed3ad2"
            ],
            "layout": "IPY_MODEL_0d42b97a950249bc8a9a431052638565"
          }
        },
        "5b3f02afe02a41febc774fe5e47c3d71": {
          "model_module": "@jupyter-widgets/controls",
          "model_name": "HTMLModel",
          "model_module_version": "1.5.0",
          "state": {
            "_dom_classes": [],
            "_model_module": "@jupyter-widgets/controls",
            "_model_module_version": "1.5.0",
            "_model_name": "HTMLModel",
            "_view_count": null,
            "_view_module": "@jupyter-widgets/controls",
            "_view_module_version": "1.5.0",
            "_view_name": "HTMLView",
            "description": "",
            "description_tooltip": null,
            "layout": "IPY_MODEL_a9370810633c4dab8cf95da7b12f7b45",
            "placeholder": "​",
            "style": "IPY_MODEL_83cd0a3825f24d4eb6b0100d0b53b1bb",
            "value": "tokenizer_config.json: 100%"
          }
        },
        "a0d77b46108e4403915ef2c5e102edc7": {
          "model_module": "@jupyter-widgets/controls",
          "model_name": "FloatProgressModel",
          "model_module_version": "1.5.0",
          "state": {
            "_dom_classes": [],
            "_model_module": "@jupyter-widgets/controls",
            "_model_module_version": "1.5.0",
            "_model_name": "FloatProgressModel",
            "_view_count": null,
            "_view_module": "@jupyter-widgets/controls",
            "_view_module_version": "1.5.0",
            "_view_name": "ProgressView",
            "bar_style": "success",
            "description": "",
            "description_tooltip": null,
            "layout": "IPY_MODEL_82d0bf88231048eca19338b850784535",
            "max": 350,
            "min": 0,
            "orientation": "horizontal",
            "style": "IPY_MODEL_cac1ae7fcf8f40a2b2511125c6d262ab",
            "value": 350
          }
        },
        "635bbd703c0e4969b0683295d8ed3ad2": {
          "model_module": "@jupyter-widgets/controls",
          "model_name": "HTMLModel",
          "model_module_version": "1.5.0",
          "state": {
            "_dom_classes": [],
            "_model_module": "@jupyter-widgets/controls",
            "_model_module_version": "1.5.0",
            "_model_name": "HTMLModel",
            "_view_count": null,
            "_view_module": "@jupyter-widgets/controls",
            "_view_module_version": "1.5.0",
            "_view_name": "HTMLView",
            "description": "",
            "description_tooltip": null,
            "layout": "IPY_MODEL_7c6daa6db9b845c5877d16039656b0de",
            "placeholder": "​",
            "style": "IPY_MODEL_b8ece5bbba064c20942ca7bc63277553",
            "value": " 350/350 [00:00&lt;00:00, 39.5kB/s]"
          }
        },
        "0d42b97a950249bc8a9a431052638565": {
          "model_module": "@jupyter-widgets/base",
          "model_name": "LayoutModel",
          "model_module_version": "1.2.0",
          "state": {
            "_model_module": "@jupyter-widgets/base",
            "_model_module_version": "1.2.0",
            "_model_name": "LayoutModel",
            "_view_count": null,
            "_view_module": "@jupyter-widgets/base",
            "_view_module_version": "1.2.0",
            "_view_name": "LayoutView",
            "align_content": null,
            "align_items": null,
            "align_self": null,
            "border": null,
            "bottom": null,
            "display": null,
            "flex": null,
            "flex_flow": null,
            "grid_area": null,
            "grid_auto_columns": null,
            "grid_auto_flow": null,
            "grid_auto_rows": null,
            "grid_column": null,
            "grid_gap": null,
            "grid_row": null,
            "grid_template_areas": null,
            "grid_template_columns": null,
            "grid_template_rows": null,
            "height": null,
            "justify_content": null,
            "justify_items": null,
            "left": null,
            "margin": null,
            "max_height": null,
            "max_width": null,
            "min_height": null,
            "min_width": null,
            "object_fit": null,
            "object_position": null,
            "order": null,
            "overflow": null,
            "overflow_x": null,
            "overflow_y": null,
            "padding": null,
            "right": null,
            "top": null,
            "visibility": null,
            "width": null
          }
        },
        "a9370810633c4dab8cf95da7b12f7b45": {
          "model_module": "@jupyter-widgets/base",
          "model_name": "LayoutModel",
          "model_module_version": "1.2.0",
          "state": {
            "_model_module": "@jupyter-widgets/base",
            "_model_module_version": "1.2.0",
            "_model_name": "LayoutModel",
            "_view_count": null,
            "_view_module": "@jupyter-widgets/base",
            "_view_module_version": "1.2.0",
            "_view_name": "LayoutView",
            "align_content": null,
            "align_items": null,
            "align_self": null,
            "border": null,
            "bottom": null,
            "display": null,
            "flex": null,
            "flex_flow": null,
            "grid_area": null,
            "grid_auto_columns": null,
            "grid_auto_flow": null,
            "grid_auto_rows": null,
            "grid_column": null,
            "grid_gap": null,
            "grid_row": null,
            "grid_template_areas": null,
            "grid_template_columns": null,
            "grid_template_rows": null,
            "height": null,
            "justify_content": null,
            "justify_items": null,
            "left": null,
            "margin": null,
            "max_height": null,
            "max_width": null,
            "min_height": null,
            "min_width": null,
            "object_fit": null,
            "object_position": null,
            "order": null,
            "overflow": null,
            "overflow_x": null,
            "overflow_y": null,
            "padding": null,
            "right": null,
            "top": null,
            "visibility": null,
            "width": null
          }
        },
        "83cd0a3825f24d4eb6b0100d0b53b1bb": {
          "model_module": "@jupyter-widgets/controls",
          "model_name": "DescriptionStyleModel",
          "model_module_version": "1.5.0",
          "state": {
            "_model_module": "@jupyter-widgets/controls",
            "_model_module_version": "1.5.0",
            "_model_name": "DescriptionStyleModel",
            "_view_count": null,
            "_view_module": "@jupyter-widgets/base",
            "_view_module_version": "1.2.0",
            "_view_name": "StyleView",
            "description_width": ""
          }
        },
        "82d0bf88231048eca19338b850784535": {
          "model_module": "@jupyter-widgets/base",
          "model_name": "LayoutModel",
          "model_module_version": "1.2.0",
          "state": {
            "_model_module": "@jupyter-widgets/base",
            "_model_module_version": "1.2.0",
            "_model_name": "LayoutModel",
            "_view_count": null,
            "_view_module": "@jupyter-widgets/base",
            "_view_module_version": "1.2.0",
            "_view_name": "LayoutView",
            "align_content": null,
            "align_items": null,
            "align_self": null,
            "border": null,
            "bottom": null,
            "display": null,
            "flex": null,
            "flex_flow": null,
            "grid_area": null,
            "grid_auto_columns": null,
            "grid_auto_flow": null,
            "grid_auto_rows": null,
            "grid_column": null,
            "grid_gap": null,
            "grid_row": null,
            "grid_template_areas": null,
            "grid_template_columns": null,
            "grid_template_rows": null,
            "height": null,
            "justify_content": null,
            "justify_items": null,
            "left": null,
            "margin": null,
            "max_height": null,
            "max_width": null,
            "min_height": null,
            "min_width": null,
            "object_fit": null,
            "object_position": null,
            "order": null,
            "overflow": null,
            "overflow_x": null,
            "overflow_y": null,
            "padding": null,
            "right": null,
            "top": null,
            "visibility": null,
            "width": null
          }
        },
        "cac1ae7fcf8f40a2b2511125c6d262ab": {
          "model_module": "@jupyter-widgets/controls",
          "model_name": "ProgressStyleModel",
          "model_module_version": "1.5.0",
          "state": {
            "_model_module": "@jupyter-widgets/controls",
            "_model_module_version": "1.5.0",
            "_model_name": "ProgressStyleModel",
            "_view_count": null,
            "_view_module": "@jupyter-widgets/base",
            "_view_module_version": "1.2.0",
            "_view_name": "StyleView",
            "bar_color": null,
            "description_width": ""
          }
        },
        "7c6daa6db9b845c5877d16039656b0de": {
          "model_module": "@jupyter-widgets/base",
          "model_name": "LayoutModel",
          "model_module_version": "1.2.0",
          "state": {
            "_model_module": "@jupyter-widgets/base",
            "_model_module_version": "1.2.0",
            "_model_name": "LayoutModel",
            "_view_count": null,
            "_view_module": "@jupyter-widgets/base",
            "_view_module_version": "1.2.0",
            "_view_name": "LayoutView",
            "align_content": null,
            "align_items": null,
            "align_self": null,
            "border": null,
            "bottom": null,
            "display": null,
            "flex": null,
            "flex_flow": null,
            "grid_area": null,
            "grid_auto_columns": null,
            "grid_auto_flow": null,
            "grid_auto_rows": null,
            "grid_column": null,
            "grid_gap": null,
            "grid_row": null,
            "grid_template_areas": null,
            "grid_template_columns": null,
            "grid_template_rows": null,
            "height": null,
            "justify_content": null,
            "justify_items": null,
            "left": null,
            "margin": null,
            "max_height": null,
            "max_width": null,
            "min_height": null,
            "min_width": null,
            "object_fit": null,
            "object_position": null,
            "order": null,
            "overflow": null,
            "overflow_x": null,
            "overflow_y": null,
            "padding": null,
            "right": null,
            "top": null,
            "visibility": null,
            "width": null
          }
        },
        "b8ece5bbba064c20942ca7bc63277553": {
          "model_module": "@jupyter-widgets/controls",
          "model_name": "DescriptionStyleModel",
          "model_module_version": "1.5.0",
          "state": {
            "_model_module": "@jupyter-widgets/controls",
            "_model_module_version": "1.5.0",
            "_model_name": "DescriptionStyleModel",
            "_view_count": null,
            "_view_module": "@jupyter-widgets/base",
            "_view_module_version": "1.2.0",
            "_view_name": "StyleView",
            "description_width": ""
          }
        },
        "85066427f46d489d8b53d9912faca98b": {
          "model_module": "@jupyter-widgets/controls",
          "model_name": "HBoxModel",
          "model_module_version": "1.5.0",
          "state": {
            "_dom_classes": [],
            "_model_module": "@jupyter-widgets/controls",
            "_model_module_version": "1.5.0",
            "_model_name": "HBoxModel",
            "_view_count": null,
            "_view_module": "@jupyter-widgets/controls",
            "_view_module_version": "1.5.0",
            "_view_name": "HBoxView",
            "box_style": "",
            "children": [
              "IPY_MODEL_2e20d24c88bc47ab9ac929f5398aec99",
              "IPY_MODEL_cdd7e56f15c541fea4431d3cfdc9ba60",
              "IPY_MODEL_011661e33e0345618076470e3d8bbae9"
            ],
            "layout": "IPY_MODEL_fd5d0e3558354424a31d247e74df5395"
          }
        },
        "2e20d24c88bc47ab9ac929f5398aec99": {
          "model_module": "@jupyter-widgets/controls",
          "model_name": "HTMLModel",
          "model_module_version": "1.5.0",
          "state": {
            "_dom_classes": [],
            "_model_module": "@jupyter-widgets/controls",
            "_model_module_version": "1.5.0",
            "_model_name": "HTMLModel",
            "_view_count": null,
            "_view_module": "@jupyter-widgets/controls",
            "_view_module_version": "1.5.0",
            "_view_name": "HTMLView",
            "description": "",
            "description_tooltip": null,
            "layout": "IPY_MODEL_c6a8cee679c74dd4bf13f1bacc880d19",
            "placeholder": "​",
            "style": "IPY_MODEL_841ed3e298e740d99859138c0ffc7e5c",
            "value": "vocab.txt: 100%"
          }
        },
        "cdd7e56f15c541fea4431d3cfdc9ba60": {
          "model_module": "@jupyter-widgets/controls",
          "model_name": "FloatProgressModel",
          "model_module_version": "1.5.0",
          "state": {
            "_dom_classes": [],
            "_model_module": "@jupyter-widgets/controls",
            "_model_module_version": "1.5.0",
            "_model_name": "FloatProgressModel",
            "_view_count": null,
            "_view_module": "@jupyter-widgets/controls",
            "_view_module_version": "1.5.0",
            "_view_name": "ProgressView",
            "bar_style": "success",
            "description": "",
            "description_tooltip": null,
            "layout": "IPY_MODEL_2319a38934744e84959458f5970882b2",
            "max": 231508,
            "min": 0,
            "orientation": "horizontal",
            "style": "IPY_MODEL_1f3cf0eea7d64f2791397671548d239d",
            "value": 231508
          }
        },
        "011661e33e0345618076470e3d8bbae9": {
          "model_module": "@jupyter-widgets/controls",
          "model_name": "HTMLModel",
          "model_module_version": "1.5.0",
          "state": {
            "_dom_classes": [],
            "_model_module": "@jupyter-widgets/controls",
            "_model_module_version": "1.5.0",
            "_model_name": "HTMLModel",
            "_view_count": null,
            "_view_module": "@jupyter-widgets/controls",
            "_view_module_version": "1.5.0",
            "_view_name": "HTMLView",
            "description": "",
            "description_tooltip": null,
            "layout": "IPY_MODEL_f2d491f7f4d44b75b91d6e6f27ee1ad4",
            "placeholder": "​",
            "style": "IPY_MODEL_139d0517a66e45fb987481afc9a7d6f8",
            "value": " 232k/232k [00:00&lt;00:00, 13.8MB/s]"
          }
        },
        "fd5d0e3558354424a31d247e74df5395": {
          "model_module": "@jupyter-widgets/base",
          "model_name": "LayoutModel",
          "model_module_version": "1.2.0",
          "state": {
            "_model_module": "@jupyter-widgets/base",
            "_model_module_version": "1.2.0",
            "_model_name": "LayoutModel",
            "_view_count": null,
            "_view_module": "@jupyter-widgets/base",
            "_view_module_version": "1.2.0",
            "_view_name": "LayoutView",
            "align_content": null,
            "align_items": null,
            "align_self": null,
            "border": null,
            "bottom": null,
            "display": null,
            "flex": null,
            "flex_flow": null,
            "grid_area": null,
            "grid_auto_columns": null,
            "grid_auto_flow": null,
            "grid_auto_rows": null,
            "grid_column": null,
            "grid_gap": null,
            "grid_row": null,
            "grid_template_areas": null,
            "grid_template_columns": null,
            "grid_template_rows": null,
            "height": null,
            "justify_content": null,
            "justify_items": null,
            "left": null,
            "margin": null,
            "max_height": null,
            "max_width": null,
            "min_height": null,
            "min_width": null,
            "object_fit": null,
            "object_position": null,
            "order": null,
            "overflow": null,
            "overflow_x": null,
            "overflow_y": null,
            "padding": null,
            "right": null,
            "top": null,
            "visibility": null,
            "width": null
          }
        },
        "c6a8cee679c74dd4bf13f1bacc880d19": {
          "model_module": "@jupyter-widgets/base",
          "model_name": "LayoutModel",
          "model_module_version": "1.2.0",
          "state": {
            "_model_module": "@jupyter-widgets/base",
            "_model_module_version": "1.2.0",
            "_model_name": "LayoutModel",
            "_view_count": null,
            "_view_module": "@jupyter-widgets/base",
            "_view_module_version": "1.2.0",
            "_view_name": "LayoutView",
            "align_content": null,
            "align_items": null,
            "align_self": null,
            "border": null,
            "bottom": null,
            "display": null,
            "flex": null,
            "flex_flow": null,
            "grid_area": null,
            "grid_auto_columns": null,
            "grid_auto_flow": null,
            "grid_auto_rows": null,
            "grid_column": null,
            "grid_gap": null,
            "grid_row": null,
            "grid_template_areas": null,
            "grid_template_columns": null,
            "grid_template_rows": null,
            "height": null,
            "justify_content": null,
            "justify_items": null,
            "left": null,
            "margin": null,
            "max_height": null,
            "max_width": null,
            "min_height": null,
            "min_width": null,
            "object_fit": null,
            "object_position": null,
            "order": null,
            "overflow": null,
            "overflow_x": null,
            "overflow_y": null,
            "padding": null,
            "right": null,
            "top": null,
            "visibility": null,
            "width": null
          }
        },
        "841ed3e298e740d99859138c0ffc7e5c": {
          "model_module": "@jupyter-widgets/controls",
          "model_name": "DescriptionStyleModel",
          "model_module_version": "1.5.0",
          "state": {
            "_model_module": "@jupyter-widgets/controls",
            "_model_module_version": "1.5.0",
            "_model_name": "DescriptionStyleModel",
            "_view_count": null,
            "_view_module": "@jupyter-widgets/base",
            "_view_module_version": "1.2.0",
            "_view_name": "StyleView",
            "description_width": ""
          }
        },
        "2319a38934744e84959458f5970882b2": {
          "model_module": "@jupyter-widgets/base",
          "model_name": "LayoutModel",
          "model_module_version": "1.2.0",
          "state": {
            "_model_module": "@jupyter-widgets/base",
            "_model_module_version": "1.2.0",
            "_model_name": "LayoutModel",
            "_view_count": null,
            "_view_module": "@jupyter-widgets/base",
            "_view_module_version": "1.2.0",
            "_view_name": "LayoutView",
            "align_content": null,
            "align_items": null,
            "align_self": null,
            "border": null,
            "bottom": null,
            "display": null,
            "flex": null,
            "flex_flow": null,
            "grid_area": null,
            "grid_auto_columns": null,
            "grid_auto_flow": null,
            "grid_auto_rows": null,
            "grid_column": null,
            "grid_gap": null,
            "grid_row": null,
            "grid_template_areas": null,
            "grid_template_columns": null,
            "grid_template_rows": null,
            "height": null,
            "justify_content": null,
            "justify_items": null,
            "left": null,
            "margin": null,
            "max_height": null,
            "max_width": null,
            "min_height": null,
            "min_width": null,
            "object_fit": null,
            "object_position": null,
            "order": null,
            "overflow": null,
            "overflow_x": null,
            "overflow_y": null,
            "padding": null,
            "right": null,
            "top": null,
            "visibility": null,
            "width": null
          }
        },
        "1f3cf0eea7d64f2791397671548d239d": {
          "model_module": "@jupyter-widgets/controls",
          "model_name": "ProgressStyleModel",
          "model_module_version": "1.5.0",
          "state": {
            "_model_module": "@jupyter-widgets/controls",
            "_model_module_version": "1.5.0",
            "_model_name": "ProgressStyleModel",
            "_view_count": null,
            "_view_module": "@jupyter-widgets/base",
            "_view_module_version": "1.2.0",
            "_view_name": "StyleView",
            "bar_color": null,
            "description_width": ""
          }
        },
        "f2d491f7f4d44b75b91d6e6f27ee1ad4": {
          "model_module": "@jupyter-widgets/base",
          "model_name": "LayoutModel",
          "model_module_version": "1.2.0",
          "state": {
            "_model_module": "@jupyter-widgets/base",
            "_model_module_version": "1.2.0",
            "_model_name": "LayoutModel",
            "_view_count": null,
            "_view_module": "@jupyter-widgets/base",
            "_view_module_version": "1.2.0",
            "_view_name": "LayoutView",
            "align_content": null,
            "align_items": null,
            "align_self": null,
            "border": null,
            "bottom": null,
            "display": null,
            "flex": null,
            "flex_flow": null,
            "grid_area": null,
            "grid_auto_columns": null,
            "grid_auto_flow": null,
            "grid_auto_rows": null,
            "grid_column": null,
            "grid_gap": null,
            "grid_row": null,
            "grid_template_areas": null,
            "grid_template_columns": null,
            "grid_template_rows": null,
            "height": null,
            "justify_content": null,
            "justify_items": null,
            "left": null,
            "margin": null,
            "max_height": null,
            "max_width": null,
            "min_height": null,
            "min_width": null,
            "object_fit": null,
            "object_position": null,
            "order": null,
            "overflow": null,
            "overflow_x": null,
            "overflow_y": null,
            "padding": null,
            "right": null,
            "top": null,
            "visibility": null,
            "width": null
          }
        },
        "139d0517a66e45fb987481afc9a7d6f8": {
          "model_module": "@jupyter-widgets/controls",
          "model_name": "DescriptionStyleModel",
          "model_module_version": "1.5.0",
          "state": {
            "_model_module": "@jupyter-widgets/controls",
            "_model_module_version": "1.5.0",
            "_model_name": "DescriptionStyleModel",
            "_view_count": null,
            "_view_module": "@jupyter-widgets/base",
            "_view_module_version": "1.2.0",
            "_view_name": "StyleView",
            "description_width": ""
          }
        },
        "0677e3eef3884e3e9f4a7345afb2fc8a": {
          "model_module": "@jupyter-widgets/controls",
          "model_name": "HBoxModel",
          "model_module_version": "1.5.0",
          "state": {
            "_dom_classes": [],
            "_model_module": "@jupyter-widgets/controls",
            "_model_module_version": "1.5.0",
            "_model_name": "HBoxModel",
            "_view_count": null,
            "_view_module": "@jupyter-widgets/controls",
            "_view_module_version": "1.5.0",
            "_view_name": "HBoxView",
            "box_style": "",
            "children": [
              "IPY_MODEL_c1cc9e32a9974441a2f4b5d0af72fe9a",
              "IPY_MODEL_10bd8897fa08455f9db48ffa93860293",
              "IPY_MODEL_e35ffd1b9bc2424cb600a1520dd39710"
            ],
            "layout": "IPY_MODEL_8311356d6b554bcaab83453ad4524e84"
          }
        },
        "c1cc9e32a9974441a2f4b5d0af72fe9a": {
          "model_module": "@jupyter-widgets/controls",
          "model_name": "HTMLModel",
          "model_module_version": "1.5.0",
          "state": {
            "_dom_classes": [],
            "_model_module": "@jupyter-widgets/controls",
            "_model_module_version": "1.5.0",
            "_model_name": "HTMLModel",
            "_view_count": null,
            "_view_module": "@jupyter-widgets/controls",
            "_view_module_version": "1.5.0",
            "_view_name": "HTMLView",
            "description": "",
            "description_tooltip": null,
            "layout": "IPY_MODEL_f79e795e87b844a694b887d3073d835e",
            "placeholder": "​",
            "style": "IPY_MODEL_bffb7d748188477586e52a151642699e",
            "value": "tokenizer.json: 100%"
          }
        },
        "10bd8897fa08455f9db48ffa93860293": {
          "model_module": "@jupyter-widgets/controls",
          "model_name": "FloatProgressModel",
          "model_module_version": "1.5.0",
          "state": {
            "_dom_classes": [],
            "_model_module": "@jupyter-widgets/controls",
            "_model_module_version": "1.5.0",
            "_model_name": "FloatProgressModel",
            "_view_count": null,
            "_view_module": "@jupyter-widgets/controls",
            "_view_module_version": "1.5.0",
            "_view_name": "ProgressView",
            "bar_style": "success",
            "description": "",
            "description_tooltip": null,
            "layout": "IPY_MODEL_f9a401bf9e424255b5316bafe77905c5",
            "max": 466247,
            "min": 0,
            "orientation": "horizontal",
            "style": "IPY_MODEL_42dcfac214f74a4bb86dcc68aae27703",
            "value": 466247
          }
        },
        "e35ffd1b9bc2424cb600a1520dd39710": {
          "model_module": "@jupyter-widgets/controls",
          "model_name": "HTMLModel",
          "model_module_version": "1.5.0",
          "state": {
            "_dom_classes": [],
            "_model_module": "@jupyter-widgets/controls",
            "_model_module_version": "1.5.0",
            "_model_name": "HTMLModel",
            "_view_count": null,
            "_view_module": "@jupyter-widgets/controls",
            "_view_module_version": "1.5.0",
            "_view_name": "HTMLView",
            "description": "",
            "description_tooltip": null,
            "layout": "IPY_MODEL_16b1255f5d214e24be2dbe8de5464798",
            "placeholder": "​",
            "style": "IPY_MODEL_2b0a53d672114956b9afeb8f1be3324e",
            "value": " 466k/466k [00:00&lt;00:00, 3.48MB/s]"
          }
        },
        "8311356d6b554bcaab83453ad4524e84": {
          "model_module": "@jupyter-widgets/base",
          "model_name": "LayoutModel",
          "model_module_version": "1.2.0",
          "state": {
            "_model_module": "@jupyter-widgets/base",
            "_model_module_version": "1.2.0",
            "_model_name": "LayoutModel",
            "_view_count": null,
            "_view_module": "@jupyter-widgets/base",
            "_view_module_version": "1.2.0",
            "_view_name": "LayoutView",
            "align_content": null,
            "align_items": null,
            "align_self": null,
            "border": null,
            "bottom": null,
            "display": null,
            "flex": null,
            "flex_flow": null,
            "grid_area": null,
            "grid_auto_columns": null,
            "grid_auto_flow": null,
            "grid_auto_rows": null,
            "grid_column": null,
            "grid_gap": null,
            "grid_row": null,
            "grid_template_areas": null,
            "grid_template_columns": null,
            "grid_template_rows": null,
            "height": null,
            "justify_content": null,
            "justify_items": null,
            "left": null,
            "margin": null,
            "max_height": null,
            "max_width": null,
            "min_height": null,
            "min_width": null,
            "object_fit": null,
            "object_position": null,
            "order": null,
            "overflow": null,
            "overflow_x": null,
            "overflow_y": null,
            "padding": null,
            "right": null,
            "top": null,
            "visibility": null,
            "width": null
          }
        },
        "f79e795e87b844a694b887d3073d835e": {
          "model_module": "@jupyter-widgets/base",
          "model_name": "LayoutModel",
          "model_module_version": "1.2.0",
          "state": {
            "_model_module": "@jupyter-widgets/base",
            "_model_module_version": "1.2.0",
            "_model_name": "LayoutModel",
            "_view_count": null,
            "_view_module": "@jupyter-widgets/base",
            "_view_module_version": "1.2.0",
            "_view_name": "LayoutView",
            "align_content": null,
            "align_items": null,
            "align_self": null,
            "border": null,
            "bottom": null,
            "display": null,
            "flex": null,
            "flex_flow": null,
            "grid_area": null,
            "grid_auto_columns": null,
            "grid_auto_flow": null,
            "grid_auto_rows": null,
            "grid_column": null,
            "grid_gap": null,
            "grid_row": null,
            "grid_template_areas": null,
            "grid_template_columns": null,
            "grid_template_rows": null,
            "height": null,
            "justify_content": null,
            "justify_items": null,
            "left": null,
            "margin": null,
            "max_height": null,
            "max_width": null,
            "min_height": null,
            "min_width": null,
            "object_fit": null,
            "object_position": null,
            "order": null,
            "overflow": null,
            "overflow_x": null,
            "overflow_y": null,
            "padding": null,
            "right": null,
            "top": null,
            "visibility": null,
            "width": null
          }
        },
        "bffb7d748188477586e52a151642699e": {
          "model_module": "@jupyter-widgets/controls",
          "model_name": "DescriptionStyleModel",
          "model_module_version": "1.5.0",
          "state": {
            "_model_module": "@jupyter-widgets/controls",
            "_model_module_version": "1.5.0",
            "_model_name": "DescriptionStyleModel",
            "_view_count": null,
            "_view_module": "@jupyter-widgets/base",
            "_view_module_version": "1.2.0",
            "_view_name": "StyleView",
            "description_width": ""
          }
        },
        "f9a401bf9e424255b5316bafe77905c5": {
          "model_module": "@jupyter-widgets/base",
          "model_name": "LayoutModel",
          "model_module_version": "1.2.0",
          "state": {
            "_model_module": "@jupyter-widgets/base",
            "_model_module_version": "1.2.0",
            "_model_name": "LayoutModel",
            "_view_count": null,
            "_view_module": "@jupyter-widgets/base",
            "_view_module_version": "1.2.0",
            "_view_name": "LayoutView",
            "align_content": null,
            "align_items": null,
            "align_self": null,
            "border": null,
            "bottom": null,
            "display": null,
            "flex": null,
            "flex_flow": null,
            "grid_area": null,
            "grid_auto_columns": null,
            "grid_auto_flow": null,
            "grid_auto_rows": null,
            "grid_column": null,
            "grid_gap": null,
            "grid_row": null,
            "grid_template_areas": null,
            "grid_template_columns": null,
            "grid_template_rows": null,
            "height": null,
            "justify_content": null,
            "justify_items": null,
            "left": null,
            "margin": null,
            "max_height": null,
            "max_width": null,
            "min_height": null,
            "min_width": null,
            "object_fit": null,
            "object_position": null,
            "order": null,
            "overflow": null,
            "overflow_x": null,
            "overflow_y": null,
            "padding": null,
            "right": null,
            "top": null,
            "visibility": null,
            "width": null
          }
        },
        "42dcfac214f74a4bb86dcc68aae27703": {
          "model_module": "@jupyter-widgets/controls",
          "model_name": "ProgressStyleModel",
          "model_module_version": "1.5.0",
          "state": {
            "_model_module": "@jupyter-widgets/controls",
            "_model_module_version": "1.5.0",
            "_model_name": "ProgressStyleModel",
            "_view_count": null,
            "_view_module": "@jupyter-widgets/base",
            "_view_module_version": "1.2.0",
            "_view_name": "StyleView",
            "bar_color": null,
            "description_width": ""
          }
        },
        "16b1255f5d214e24be2dbe8de5464798": {
          "model_module": "@jupyter-widgets/base",
          "model_name": "LayoutModel",
          "model_module_version": "1.2.0",
          "state": {
            "_model_module": "@jupyter-widgets/base",
            "_model_module_version": "1.2.0",
            "_model_name": "LayoutModel",
            "_view_count": null,
            "_view_module": "@jupyter-widgets/base",
            "_view_module_version": "1.2.0",
            "_view_name": "LayoutView",
            "align_content": null,
            "align_items": null,
            "align_self": null,
            "border": null,
            "bottom": null,
            "display": null,
            "flex": null,
            "flex_flow": null,
            "grid_area": null,
            "grid_auto_columns": null,
            "grid_auto_flow": null,
            "grid_auto_rows": null,
            "grid_column": null,
            "grid_gap": null,
            "grid_row": null,
            "grid_template_areas": null,
            "grid_template_columns": null,
            "grid_template_rows": null,
            "height": null,
            "justify_content": null,
            "justify_items": null,
            "left": null,
            "margin": null,
            "max_height": null,
            "max_width": null,
            "min_height": null,
            "min_width": null,
            "object_fit": null,
            "object_position": null,
            "order": null,
            "overflow": null,
            "overflow_x": null,
            "overflow_y": null,
            "padding": null,
            "right": null,
            "top": null,
            "visibility": null,
            "width": null
          }
        },
        "2b0a53d672114956b9afeb8f1be3324e": {
          "model_module": "@jupyter-widgets/controls",
          "model_name": "DescriptionStyleModel",
          "model_module_version": "1.5.0",
          "state": {
            "_model_module": "@jupyter-widgets/controls",
            "_model_module_version": "1.5.0",
            "_model_name": "DescriptionStyleModel",
            "_view_count": null,
            "_view_module": "@jupyter-widgets/base",
            "_view_module_version": "1.2.0",
            "_view_name": "StyleView",
            "description_width": ""
          }
        },
        "4c7a2f6c32fd41e598a280520f9fbfaa": {
          "model_module": "@jupyter-widgets/controls",
          "model_name": "HBoxModel",
          "model_module_version": "1.5.0",
          "state": {
            "_dom_classes": [],
            "_model_module": "@jupyter-widgets/controls",
            "_model_module_version": "1.5.0",
            "_model_name": "HBoxModel",
            "_view_count": null,
            "_view_module": "@jupyter-widgets/controls",
            "_view_module_version": "1.5.0",
            "_view_name": "HBoxView",
            "box_style": "",
            "children": [
              "IPY_MODEL_f2d3f5763e0249768ecbfe41f8941e72",
              "IPY_MODEL_ba10e559053e43bb8240e715f30ac3ee",
              "IPY_MODEL_68607ea1f29b40288fe399c800ef7397"
            ],
            "layout": "IPY_MODEL_942267bf60ef425687d32ab6e4ca4974"
          }
        },
        "f2d3f5763e0249768ecbfe41f8941e72": {
          "model_module": "@jupyter-widgets/controls",
          "model_name": "HTMLModel",
          "model_module_version": "1.5.0",
          "state": {
            "_dom_classes": [],
            "_model_module": "@jupyter-widgets/controls",
            "_model_module_version": "1.5.0",
            "_model_name": "HTMLModel",
            "_view_count": null,
            "_view_module": "@jupyter-widgets/controls",
            "_view_module_version": "1.5.0",
            "_view_name": "HTMLView",
            "description": "",
            "description_tooltip": null,
            "layout": "IPY_MODEL_9b97245b703f4727bccd03a8aa675081",
            "placeholder": "​",
            "style": "IPY_MODEL_8e97da05e85c4707871430bd9e656dd7",
            "value": "special_tokens_map.json: 100%"
          }
        },
        "ba10e559053e43bb8240e715f30ac3ee": {
          "model_module": "@jupyter-widgets/controls",
          "model_name": "FloatProgressModel",
          "model_module_version": "1.5.0",
          "state": {
            "_dom_classes": [],
            "_model_module": "@jupyter-widgets/controls",
            "_model_module_version": "1.5.0",
            "_model_name": "FloatProgressModel",
            "_view_count": null,
            "_view_module": "@jupyter-widgets/controls",
            "_view_module_version": "1.5.0",
            "_view_name": "ProgressView",
            "bar_style": "success",
            "description": "",
            "description_tooltip": null,
            "layout": "IPY_MODEL_898ce0afede44955ab0f4c7d483beb3d",
            "max": 112,
            "min": 0,
            "orientation": "horizontal",
            "style": "IPY_MODEL_26b2d3fdbe0a4f6fb48f747fcea008b1",
            "value": 112
          }
        },
        "68607ea1f29b40288fe399c800ef7397": {
          "model_module": "@jupyter-widgets/controls",
          "model_name": "HTMLModel",
          "model_module_version": "1.5.0",
          "state": {
            "_dom_classes": [],
            "_model_module": "@jupyter-widgets/controls",
            "_model_module_version": "1.5.0",
            "_model_name": "HTMLModel",
            "_view_count": null,
            "_view_module": "@jupyter-widgets/controls",
            "_view_module_version": "1.5.0",
            "_view_name": "HTMLView",
            "description": "",
            "description_tooltip": null,
            "layout": "IPY_MODEL_34a68c69589e48bb9867938c0552ddf4",
            "placeholder": "​",
            "style": "IPY_MODEL_91c28a563c324f6a95cefcc5d34c1dde",
            "value": " 112/112 [00:00&lt;00:00, 9.93kB/s]"
          }
        },
        "942267bf60ef425687d32ab6e4ca4974": {
          "model_module": "@jupyter-widgets/base",
          "model_name": "LayoutModel",
          "model_module_version": "1.2.0",
          "state": {
            "_model_module": "@jupyter-widgets/base",
            "_model_module_version": "1.2.0",
            "_model_name": "LayoutModel",
            "_view_count": null,
            "_view_module": "@jupyter-widgets/base",
            "_view_module_version": "1.2.0",
            "_view_name": "LayoutView",
            "align_content": null,
            "align_items": null,
            "align_self": null,
            "border": null,
            "bottom": null,
            "display": null,
            "flex": null,
            "flex_flow": null,
            "grid_area": null,
            "grid_auto_columns": null,
            "grid_auto_flow": null,
            "grid_auto_rows": null,
            "grid_column": null,
            "grid_gap": null,
            "grid_row": null,
            "grid_template_areas": null,
            "grid_template_columns": null,
            "grid_template_rows": null,
            "height": null,
            "justify_content": null,
            "justify_items": null,
            "left": null,
            "margin": null,
            "max_height": null,
            "max_width": null,
            "min_height": null,
            "min_width": null,
            "object_fit": null,
            "object_position": null,
            "order": null,
            "overflow": null,
            "overflow_x": null,
            "overflow_y": null,
            "padding": null,
            "right": null,
            "top": null,
            "visibility": null,
            "width": null
          }
        },
        "9b97245b703f4727bccd03a8aa675081": {
          "model_module": "@jupyter-widgets/base",
          "model_name": "LayoutModel",
          "model_module_version": "1.2.0",
          "state": {
            "_model_module": "@jupyter-widgets/base",
            "_model_module_version": "1.2.0",
            "_model_name": "LayoutModel",
            "_view_count": null,
            "_view_module": "@jupyter-widgets/base",
            "_view_module_version": "1.2.0",
            "_view_name": "LayoutView",
            "align_content": null,
            "align_items": null,
            "align_self": null,
            "border": null,
            "bottom": null,
            "display": null,
            "flex": null,
            "flex_flow": null,
            "grid_area": null,
            "grid_auto_columns": null,
            "grid_auto_flow": null,
            "grid_auto_rows": null,
            "grid_column": null,
            "grid_gap": null,
            "grid_row": null,
            "grid_template_areas": null,
            "grid_template_columns": null,
            "grid_template_rows": null,
            "height": null,
            "justify_content": null,
            "justify_items": null,
            "left": null,
            "margin": null,
            "max_height": null,
            "max_width": null,
            "min_height": null,
            "min_width": null,
            "object_fit": null,
            "object_position": null,
            "order": null,
            "overflow": null,
            "overflow_x": null,
            "overflow_y": null,
            "padding": null,
            "right": null,
            "top": null,
            "visibility": null,
            "width": null
          }
        },
        "8e97da05e85c4707871430bd9e656dd7": {
          "model_module": "@jupyter-widgets/controls",
          "model_name": "DescriptionStyleModel",
          "model_module_version": "1.5.0",
          "state": {
            "_model_module": "@jupyter-widgets/controls",
            "_model_module_version": "1.5.0",
            "_model_name": "DescriptionStyleModel",
            "_view_count": null,
            "_view_module": "@jupyter-widgets/base",
            "_view_module_version": "1.2.0",
            "_view_name": "StyleView",
            "description_width": ""
          }
        },
        "898ce0afede44955ab0f4c7d483beb3d": {
          "model_module": "@jupyter-widgets/base",
          "model_name": "LayoutModel",
          "model_module_version": "1.2.0",
          "state": {
            "_model_module": "@jupyter-widgets/base",
            "_model_module_version": "1.2.0",
            "_model_name": "LayoutModel",
            "_view_count": null,
            "_view_module": "@jupyter-widgets/base",
            "_view_module_version": "1.2.0",
            "_view_name": "LayoutView",
            "align_content": null,
            "align_items": null,
            "align_self": null,
            "border": null,
            "bottom": null,
            "display": null,
            "flex": null,
            "flex_flow": null,
            "grid_area": null,
            "grid_auto_columns": null,
            "grid_auto_flow": null,
            "grid_auto_rows": null,
            "grid_column": null,
            "grid_gap": null,
            "grid_row": null,
            "grid_template_areas": null,
            "grid_template_columns": null,
            "grid_template_rows": null,
            "height": null,
            "justify_content": null,
            "justify_items": null,
            "left": null,
            "margin": null,
            "max_height": null,
            "max_width": null,
            "min_height": null,
            "min_width": null,
            "object_fit": null,
            "object_position": null,
            "order": null,
            "overflow": null,
            "overflow_x": null,
            "overflow_y": null,
            "padding": null,
            "right": null,
            "top": null,
            "visibility": null,
            "width": null
          }
        },
        "26b2d3fdbe0a4f6fb48f747fcea008b1": {
          "model_module": "@jupyter-widgets/controls",
          "model_name": "ProgressStyleModel",
          "model_module_version": "1.5.0",
          "state": {
            "_model_module": "@jupyter-widgets/controls",
            "_model_module_version": "1.5.0",
            "_model_name": "ProgressStyleModel",
            "_view_count": null,
            "_view_module": "@jupyter-widgets/base",
            "_view_module_version": "1.2.0",
            "_view_name": "StyleView",
            "bar_color": null,
            "description_width": ""
          }
        },
        "34a68c69589e48bb9867938c0552ddf4": {
          "model_module": "@jupyter-widgets/base",
          "model_name": "LayoutModel",
          "model_module_version": "1.2.0",
          "state": {
            "_model_module": "@jupyter-widgets/base",
            "_model_module_version": "1.2.0",
            "_model_name": "LayoutModel",
            "_view_count": null,
            "_view_module": "@jupyter-widgets/base",
            "_view_module_version": "1.2.0",
            "_view_name": "LayoutView",
            "align_content": null,
            "align_items": null,
            "align_self": null,
            "border": null,
            "bottom": null,
            "display": null,
            "flex": null,
            "flex_flow": null,
            "grid_area": null,
            "grid_auto_columns": null,
            "grid_auto_flow": null,
            "grid_auto_rows": null,
            "grid_column": null,
            "grid_gap": null,
            "grid_row": null,
            "grid_template_areas": null,
            "grid_template_columns": null,
            "grid_template_rows": null,
            "height": null,
            "justify_content": null,
            "justify_items": null,
            "left": null,
            "margin": null,
            "max_height": null,
            "max_width": null,
            "min_height": null,
            "min_width": null,
            "object_fit": null,
            "object_position": null,
            "order": null,
            "overflow": null,
            "overflow_x": null,
            "overflow_y": null,
            "padding": null,
            "right": null,
            "top": null,
            "visibility": null,
            "width": null
          }
        },
        "91c28a563c324f6a95cefcc5d34c1dde": {
          "model_module": "@jupyter-widgets/controls",
          "model_name": "DescriptionStyleModel",
          "model_module_version": "1.5.0",
          "state": {
            "_model_module": "@jupyter-widgets/controls",
            "_model_module_version": "1.5.0",
            "_model_name": "DescriptionStyleModel",
            "_view_count": null,
            "_view_module": "@jupyter-widgets/base",
            "_view_module_version": "1.2.0",
            "_view_name": "StyleView",
            "description_width": ""
          }
        },
        "e44a5cf6f8f140baa15169dbe09e6cb4": {
          "model_module": "@jupyter-widgets/controls",
          "model_name": "HBoxModel",
          "model_module_version": "1.5.0",
          "state": {
            "_dom_classes": [],
            "_model_module": "@jupyter-widgets/controls",
            "_model_module_version": "1.5.0",
            "_model_name": "HBoxModel",
            "_view_count": null,
            "_view_module": "@jupyter-widgets/controls",
            "_view_module_version": "1.5.0",
            "_view_name": "HBoxView",
            "box_style": "",
            "children": [
              "IPY_MODEL_c2c306e76e3247e095ca528932019f88",
              "IPY_MODEL_bf7fa1d1a80b40bcaec0186b65854b04",
              "IPY_MODEL_902122bd1a3f4ad194d872bd82b3fec1"
            ],
            "layout": "IPY_MODEL_948c31faf01f41b6ab9c85d848f68dda"
          }
        },
        "c2c306e76e3247e095ca528932019f88": {
          "model_module": "@jupyter-widgets/controls",
          "model_name": "HTMLModel",
          "model_module_version": "1.5.0",
          "state": {
            "_dom_classes": [],
            "_model_module": "@jupyter-widgets/controls",
            "_model_module_version": "1.5.0",
            "_model_name": "HTMLModel",
            "_view_count": null,
            "_view_module": "@jupyter-widgets/controls",
            "_view_module_version": "1.5.0",
            "_view_name": "HTMLView",
            "description": "",
            "description_tooltip": null,
            "layout": "IPY_MODEL_2f5ed4bbe87843a3be061ec24dee3a25",
            "placeholder": "​",
            "style": "IPY_MODEL_5bdb337dbe414993ae926e44abbbcea9",
            "value": "config.json: 100%"
          }
        },
        "bf7fa1d1a80b40bcaec0186b65854b04": {
          "model_module": "@jupyter-widgets/controls",
          "model_name": "FloatProgressModel",
          "model_module_version": "1.5.0",
          "state": {
            "_dom_classes": [],
            "_model_module": "@jupyter-widgets/controls",
            "_model_module_version": "1.5.0",
            "_model_name": "FloatProgressModel",
            "_view_count": null,
            "_view_module": "@jupyter-widgets/controls",
            "_view_module_version": "1.5.0",
            "_view_name": "ProgressView",
            "bar_style": "success",
            "description": "",
            "description_tooltip": null,
            "layout": "IPY_MODEL_2c7d32f82e4f4006b5e6b360119a3a2e",
            "max": 190,
            "min": 0,
            "orientation": "horizontal",
            "style": "IPY_MODEL_1f230b0dd83f42ecb45a1e994d9c538f",
            "value": 190
          }
        },
        "902122bd1a3f4ad194d872bd82b3fec1": {
          "model_module": "@jupyter-widgets/controls",
          "model_name": "HTMLModel",
          "model_module_version": "1.5.0",
          "state": {
            "_dom_classes": [],
            "_model_module": "@jupyter-widgets/controls",
            "_model_module_version": "1.5.0",
            "_model_name": "HTMLModel",
            "_view_count": null,
            "_view_module": "@jupyter-widgets/controls",
            "_view_module_version": "1.5.0",
            "_view_name": "HTMLView",
            "description": "",
            "description_tooltip": null,
            "layout": "IPY_MODEL_ae11642fd11d48e0b91e4d5c32259312",
            "placeholder": "​",
            "style": "IPY_MODEL_a0b186f0d5bf400fa1e9f5523a4f73f3",
            "value": " 190/190 [00:00&lt;00:00, 19.7kB/s]"
          }
        },
        "948c31faf01f41b6ab9c85d848f68dda": {
          "model_module": "@jupyter-widgets/base",
          "model_name": "LayoutModel",
          "model_module_version": "1.2.0",
          "state": {
            "_model_module": "@jupyter-widgets/base",
            "_model_module_version": "1.2.0",
            "_model_name": "LayoutModel",
            "_view_count": null,
            "_view_module": "@jupyter-widgets/base",
            "_view_module_version": "1.2.0",
            "_view_name": "LayoutView",
            "align_content": null,
            "align_items": null,
            "align_self": null,
            "border": null,
            "bottom": null,
            "display": null,
            "flex": null,
            "flex_flow": null,
            "grid_area": null,
            "grid_auto_columns": null,
            "grid_auto_flow": null,
            "grid_auto_rows": null,
            "grid_column": null,
            "grid_gap": null,
            "grid_row": null,
            "grid_template_areas": null,
            "grid_template_columns": null,
            "grid_template_rows": null,
            "height": null,
            "justify_content": null,
            "justify_items": null,
            "left": null,
            "margin": null,
            "max_height": null,
            "max_width": null,
            "min_height": null,
            "min_width": null,
            "object_fit": null,
            "object_position": null,
            "order": null,
            "overflow": null,
            "overflow_x": null,
            "overflow_y": null,
            "padding": null,
            "right": null,
            "top": null,
            "visibility": null,
            "width": null
          }
        },
        "2f5ed4bbe87843a3be061ec24dee3a25": {
          "model_module": "@jupyter-widgets/base",
          "model_name": "LayoutModel",
          "model_module_version": "1.2.0",
          "state": {
            "_model_module": "@jupyter-widgets/base",
            "_model_module_version": "1.2.0",
            "_model_name": "LayoutModel",
            "_view_count": null,
            "_view_module": "@jupyter-widgets/base",
            "_view_module_version": "1.2.0",
            "_view_name": "LayoutView",
            "align_content": null,
            "align_items": null,
            "align_self": null,
            "border": null,
            "bottom": null,
            "display": null,
            "flex": null,
            "flex_flow": null,
            "grid_area": null,
            "grid_auto_columns": null,
            "grid_auto_flow": null,
            "grid_auto_rows": null,
            "grid_column": null,
            "grid_gap": null,
            "grid_row": null,
            "grid_template_areas": null,
            "grid_template_columns": null,
            "grid_template_rows": null,
            "height": null,
            "justify_content": null,
            "justify_items": null,
            "left": null,
            "margin": null,
            "max_height": null,
            "max_width": null,
            "min_height": null,
            "min_width": null,
            "object_fit": null,
            "object_position": null,
            "order": null,
            "overflow": null,
            "overflow_x": null,
            "overflow_y": null,
            "padding": null,
            "right": null,
            "top": null,
            "visibility": null,
            "width": null
          }
        },
        "5bdb337dbe414993ae926e44abbbcea9": {
          "model_module": "@jupyter-widgets/controls",
          "model_name": "DescriptionStyleModel",
          "model_module_version": "1.5.0",
          "state": {
            "_model_module": "@jupyter-widgets/controls",
            "_model_module_version": "1.5.0",
            "_model_name": "DescriptionStyleModel",
            "_view_count": null,
            "_view_module": "@jupyter-widgets/base",
            "_view_module_version": "1.2.0",
            "_view_name": "StyleView",
            "description_width": ""
          }
        },
        "2c7d32f82e4f4006b5e6b360119a3a2e": {
          "model_module": "@jupyter-widgets/base",
          "model_name": "LayoutModel",
          "model_module_version": "1.2.0",
          "state": {
            "_model_module": "@jupyter-widgets/base",
            "_model_module_version": "1.2.0",
            "_model_name": "LayoutModel",
            "_view_count": null,
            "_view_module": "@jupyter-widgets/base",
            "_view_module_version": "1.2.0",
            "_view_name": "LayoutView",
            "align_content": null,
            "align_items": null,
            "align_self": null,
            "border": null,
            "bottom": null,
            "display": null,
            "flex": null,
            "flex_flow": null,
            "grid_area": null,
            "grid_auto_columns": null,
            "grid_auto_flow": null,
            "grid_auto_rows": null,
            "grid_column": null,
            "grid_gap": null,
            "grid_row": null,
            "grid_template_areas": null,
            "grid_template_columns": null,
            "grid_template_rows": null,
            "height": null,
            "justify_content": null,
            "justify_items": null,
            "left": null,
            "margin": null,
            "max_height": null,
            "max_width": null,
            "min_height": null,
            "min_width": null,
            "object_fit": null,
            "object_position": null,
            "order": null,
            "overflow": null,
            "overflow_x": null,
            "overflow_y": null,
            "padding": null,
            "right": null,
            "top": null,
            "visibility": null,
            "width": null
          }
        },
        "1f230b0dd83f42ecb45a1e994d9c538f": {
          "model_module": "@jupyter-widgets/controls",
          "model_name": "ProgressStyleModel",
          "model_module_version": "1.5.0",
          "state": {
            "_model_module": "@jupyter-widgets/controls",
            "_model_module_version": "1.5.0",
            "_model_name": "ProgressStyleModel",
            "_view_count": null,
            "_view_module": "@jupyter-widgets/base",
            "_view_module_version": "1.2.0",
            "_view_name": "StyleView",
            "bar_color": null,
            "description_width": ""
          }
        },
        "ae11642fd11d48e0b91e4d5c32259312": {
          "model_module": "@jupyter-widgets/base",
          "model_name": "LayoutModel",
          "model_module_version": "1.2.0",
          "state": {
            "_model_module": "@jupyter-widgets/base",
            "_model_module_version": "1.2.0",
            "_model_name": "LayoutModel",
            "_view_count": null,
            "_view_module": "@jupyter-widgets/base",
            "_view_module_version": "1.2.0",
            "_view_name": "LayoutView",
            "align_content": null,
            "align_items": null,
            "align_self": null,
            "border": null,
            "bottom": null,
            "display": null,
            "flex": null,
            "flex_flow": null,
            "grid_area": null,
            "grid_auto_columns": null,
            "grid_auto_flow": null,
            "grid_auto_rows": null,
            "grid_column": null,
            "grid_gap": null,
            "grid_row": null,
            "grid_template_areas": null,
            "grid_template_columns": null,
            "grid_template_rows": null,
            "height": null,
            "justify_content": null,
            "justify_items": null,
            "left": null,
            "margin": null,
            "max_height": null,
            "max_width": null,
            "min_height": null,
            "min_width": null,
            "object_fit": null,
            "object_position": null,
            "order": null,
            "overflow": null,
            "overflow_x": null,
            "overflow_y": null,
            "padding": null,
            "right": null,
            "top": null,
            "visibility": null,
            "width": null
          }
        },
        "a0b186f0d5bf400fa1e9f5523a4f73f3": {
          "model_module": "@jupyter-widgets/controls",
          "model_name": "DescriptionStyleModel",
          "model_module_version": "1.5.0",
          "state": {
            "_model_module": "@jupyter-widgets/controls",
            "_model_module_version": "1.5.0",
            "_model_name": "DescriptionStyleModel",
            "_view_count": null,
            "_view_module": "@jupyter-widgets/base",
            "_view_module_version": "1.2.0",
            "_view_name": "StyleView",
            "description_width": ""
          }
        }
      }
    }
  },
  "nbformat": 4,
  "nbformat_minor": 0
}